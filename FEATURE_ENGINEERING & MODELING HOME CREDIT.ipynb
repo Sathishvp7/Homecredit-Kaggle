{
 "cells": [
  {
   "cell_type": "markdown",
   "metadata": {
    "id": "bQt6KdrzysRw"
   },
   "source": [
    "## Overview"
   ]
  },
  {
   "cell_type": "code",
   "execution_count": 2,
   "metadata": {
    "colab": {
     "base_uri": "https://localhost:8080/"
    },
    "executionInfo": {
     "elapsed": 26101,
     "status": "ok",
     "timestamp": 1611715723611,
     "user": {
      "displayName": "sathish anantha",
      "photoUrl": "https://lh3.googleusercontent.com/a-/AOh14Ghdw5Sh92a17sXj4ePDAB2diHt3YItsnu17FEdHoBI=s64",
      "userId": "06917965946637727718"
     },
     "user_tz": -330
    },
    "id": "Hr7A6HA4y0J_",
    "outputId": "14fd5f21-cf53-4f6a-ce0b-9db4f12de1e7"
   },
   "outputs": [
    {
     "name": "stdout",
     "output_type": "stream",
     "text": [
      "Mounted at /gdrive\n",
      "/gdrive\n"
     ]
    }
   ],
   "source": [
    "from google.colab import drive\n",
    "drive.mount('/gdrive')\n",
    "%cd /gdrive"
   ]
  },
  {
   "cell_type": "code",
   "execution_count": null,
   "metadata": {
    "colab": {
     "base_uri": "https://localhost:8080/"
    },
    "executionInfo": {
     "elapsed": 68666,
     "status": "ok",
     "timestamp": 1611381974853,
     "user": {
      "displayName": "sathish anantha",
      "photoUrl": "https://lh3.googleusercontent.com/a-/AOh14Ghdw5Sh92a17sXj4ePDAB2diHt3YItsnu17FEdHoBI=s64",
      "userId": "06917965946637727718"
     },
     "user_tz": -330
    },
    "id": "CvxoeRgYzKY1",
    "outputId": "b46537c2-4c22-4ad9-f0b5-3d170a8d9b4a"
   },
   "outputs": [
    {
     "name": "stdout",
     "output_type": "stream",
     "text": [
      "Archive:  /gdrive/MyDrive/CaseStudy_HomeCredit/home-credit-default-risk.zip\n",
      "  inflating: /gdrive/MyDrive/CaseStudy_HomeCredit/HomeCredit_columns_description.csv  \n",
      "  inflating: /gdrive/MyDrive/CaseStudy_HomeCredit/POS_CASH_balance.csv  \n",
      "  inflating: /gdrive/MyDrive/CaseStudy_HomeCredit/application_test.csv  \n",
      "  inflating: /gdrive/MyDrive/CaseStudy_HomeCredit/application_train.csv  \n",
      "  inflating: /gdrive/MyDrive/CaseStudy_HomeCredit/bureau.csv  \n",
      "  inflating: /gdrive/MyDrive/CaseStudy_HomeCredit/bureau_balance.csv  \n",
      "  inflating: /gdrive/MyDrive/CaseStudy_HomeCredit/credit_card_balance.csv  \n",
      "  inflating: /gdrive/MyDrive/CaseStudy_HomeCredit/installments_payments.csv  \n",
      "  inflating: /gdrive/MyDrive/CaseStudy_HomeCredit/previous_application.csv  \n",
      "  inflating: /gdrive/MyDrive/CaseStudy_HomeCredit/sample_submission.csv  \n"
     ]
    }
   ],
   "source": [
    "#!unzip  \"/gdrive/MyDrive/CaseStudy_HomeCredit/home-credit-default-risk.zip\"  -d \"/gdrive/MyDrive/CaseStudy_HomeCredit/\""
   ]
  },
  {
   "cell_type": "markdown",
   "metadata": {
    "id": "p7_xWQwpysR6"
   },
   "source": [
    "<pre>\n",
    "Serious complication for loan providers(Banking) is to find out the Loan applicants who are very likely to repay the loan.If the loan provider predicted the faithful customer, they will gain more profit and  more imporatanly they will avoid losses.\n",
    "In kaggle, Home Credit Default Risk is currently using various statistical and machine learning methods to make these predictions, they're challenging. Kagglers to help them unlock the full potential of their data. Doing so will ensure that clients capable of repayment are not rejected and that loans are given with a principal, maturity, and repayment calendar that will empower their clients to be successful.\n",
    "\n",
    "Here we have two classes in the target label, we will conclude this problem as a <strong> Binary classification </strong> problem.\n",
    "\n",
    "<strong>Problem Statement</strong>\n",
    "We need to Build the model,which will say by giving the customer information whether this applicant will repay a loan or not\n",
    " \n",
    "<strong>Data Description</strong>\n",
    "They are 7 different source of table for this problem, combining all the tables is 221 features.\n",
    "two main tables are <strong>application_train.csv</strong> and <strong>application_test.csv</strong>, which contain the current applications of the clients who have applied for loan. All the other tables are referenced with this table using the unique ID, i.e. SK_ID_CURR.\n",
    "For more information, visit - https://www.kaggle.com/c/home-credit-default-risk/data\n",
    "\n",
    "</pre>"
   ]
  },
  {
   "cell_type": "code",
   "execution_count": 11,
   "metadata": {
    "colab": {
     "base_uri": "https://localhost:8080/",
     "height": 17
    },
    "executionInfo": {
     "elapsed": 1261,
     "status": "ok",
     "timestamp": 1611715971320,
     "user": {
      "displayName": "sathish anantha",
      "photoUrl": "https://lh3.googleusercontent.com/a-/AOh14Ghdw5Sh92a17sXj4ePDAB2diHt3YItsnu17FEdHoBI=s64",
      "userId": "06917965946637727718"
     },
     "user_tz": -330
    },
    "id": "iW4qRadPysR8",
    "outputId": "1f52c6f8-cd3f-4f71-a7d9-3bc1009b2480"
   },
   "outputs": [
    {
     "data": {
      "text/html": [
       "        <script type=\"text/javascript\">\n",
       "        window.PlotlyConfig = {MathJaxConfig: 'local'};\n",
       "        if (window.MathJax) {MathJax.Hub.Config({SVG: {font: \"STIX-Web\"}});}\n",
       "        if (typeof require !== 'undefined') {\n",
       "        require.undef(\"plotly\");\n",
       "        requirejs.config({\n",
       "            paths: {\n",
       "                'plotly': ['https://cdn.plot.ly/plotly-latest.min']\n",
       "            }\n",
       "        });\n",
       "        require(['plotly'], function(Plotly) {\n",
       "            window._Plotly = Plotly;\n",
       "        });\n",
       "        }\n",
       "        </script>\n",
       "        "
      ]
     },
     "metadata": {
      "tags": []
     },
     "output_type": "display_data"
    }
   ],
   "source": [
    "# Import all required package for this problem\n",
    "import pandas as pd\n",
    "import numpy as np\n",
    "import matplotlib.pyplot as plt\n",
    "import seaborn as sns\n",
    "import os\n",
    "from plotly.offline import iplot\n",
    "from matplotlib.pyplot import figure\n",
    "import warnings\n",
    "warnings.filterwarnings('ignore') \n",
    "from sklearn.preprocessing import MinMaxScaler, OrdinalEncoder, LabelEncoder,OneHotEncoder\n",
    "from sklearn.impute import SimpleImputer as Imputer\n",
    "from tqdm import tqdm\n",
    "\n",
    "import plotly.offline as py\n",
    "import plotly.graph_objs as go\n",
    "from sklearn.model_selection import train_test_split\n",
    "import cufflinks as cf\n",
    "cf.go_offline()\n",
    "import pickle\n",
    "import gc\n",
    "import lightgbm as lgb\n",
    "from sklearn.linear_model import SGDClassifier\n",
    "from sklearn.svm import LinearSVC\n",
    "from sklearn.metrics import roc_auc_score\n",
    "from sklearn.linear_model import LogisticRegression\n",
    "from sklearn.metrics import roc_auc_score\n",
    "from sklearn.calibration import CalibratedClassifierCV\n",
    "from sklearn.ensemble import RandomForestClassifier\n",
    "from sklearn.metrics import accuracy_score,confusion_matrix,roc_auc_score,roc_curve\n"
   ]
  },
  {
   "cell_type": "markdown",
   "metadata": {
    "id": "t8nAFpmZysR9"
   },
   "source": [
    "### Exploratory Data Analysis\n",
    "\n",
    "Exploratory Data Analysis refers to the critical process of performing initial investigations on data"
   ]
  },
  {
   "cell_type": "markdown",
   "metadata": {
    "id": "3VXtwr5lysR9"
   },
   "source": [
    "#### Load Data from given CSV"
   ]
  },
  {
   "cell_type": "code",
   "execution_count": 10,
   "metadata": {
    "executionInfo": {
     "elapsed": 1353,
     "status": "ok",
     "timestamp": 1611715968758,
     "user": {
      "displayName": "sathish anantha",
      "photoUrl": "https://lh3.googleusercontent.com/a-/AOh14Ghdw5Sh92a17sXj4ePDAB2diHt3YItsnu17FEdHoBI=s64",
      "userId": "06917965946637727718"
     },
     "user_tz": -330
    },
    "id": "PcSL6EYnysR-"
   },
   "outputs": [],
   "source": [
    "# Select the directory \n",
    "os.chdir('/gdrive/My Drive/CaseStudy_HomeCredit')"
   ]
  },
  {
   "cell_type": "markdown",
   "metadata": {
    "id": "OMkrt__MysSJ"
   },
   "source": [
    "### Missing values\n",
    "\n",
    "<pre>\n",
    "Missing values in a Dataset will affect model performances, to avoid that need to handle this problem for that we have various method , important method is <strong>Imputer</strong> for that first we need to check missing values deatils in all tables.\n",
    "\n",
    "</pre>"
   ]
  },
  {
   "cell_type": "code",
   "execution_count": 5,
   "metadata": {
    "executionInfo": {
     "elapsed": 1196,
     "status": "ok",
     "timestamp": 1611715742533,
     "user": {
      "displayName": "sathish anantha",
      "photoUrl": "https://lh3.googleusercontent.com/a-/AOh14Ghdw5Sh92a17sXj4ePDAB2diHt3YItsnu17FEdHoBI=s64",
      "userId": "06917965946637727718"
     },
     "user_tz": -330
    },
    "id": "O_gFXWqTysSJ"
   },
   "outputs": [],
   "source": [
    "def missing_value(dataframe = 'df', df_name ='TRAIN', visualizse = True, head_count = 5):\n",
    "    '''\n",
    "    dataframe - Pass the dataframe to the find missing value of each row.\n",
    "    df_name  -  Dataframe name\n",
    "    Visualizse - Boolean, True- Visalizse or False - skip the visualizse part\n",
    "    head_count - print top five missing column in descending column.\n",
    "    '''\n",
    "    total = dataframe.isnull().sum().sort_values(ascending=False)\n",
    "    percent = (dataframe.isnull().sum()/dataframe.isnull().count()).sort_values(ascending=False)\n",
    "    missing_data = pd.concat([total, percent], axis=1, keys=['Total', 'Percent'])\n",
    "    print(missing_data.head(head_count))\n",
    "    \n",
    "    if visualizse:\n",
    "        # visualizse\n",
    "        figure(figsize=(50,50), facecolor='w', edgecolor='r')\n",
    "        '''\n",
    "        edge color - Border color\n",
    "        dpi - dots-per-inch\n",
    "        '''\n",
    "        if len(missing_data.index) >20 :\n",
    "            sns.set(font_scale = 3)\n",
    "            sns.barplot(y= missing_data.index, x= missing_data['Percent'])\n",
    "        else: \n",
    "            sns.set(font_scale = 6)\n",
    "            sns.barplot(y= missing_data.index, x= missing_data['Percent'])\n",
    "        plt.tight_layout()\n",
    "        plt.title(str(df_name))\n",
    "        plt.show()"
   ]
  },
  {
   "cell_type": "markdown",
   "metadata": {
    "id": "og9eiunwysTb"
   },
   "source": [
    "\n",
    "# <font color='green'> FEATURE ENGINEERING </font>"
   ]
  },
  {
   "cell_type": "markdown",
   "metadata": {
    "id": "j6SGqtvFysTc"
   },
   "source": [
    "![image.png](attachment:image.png)"
   ]
  },
  {
   "cell_type": "markdown",
   "metadata": {
    "id": "Dik4iwzjysTc"
   },
   "source": [
    "<pre>\n",
    "From the Exploratory Data Analysis(EDA) we understand the Insight of all tables, major role of feature engineering is selecting best column , best feature selection gives better model. suppose if we have noisy data, model wont give better result. if feature is having missing value either we remove or feature engineering, feature engineering is best because removing noisy features which leads to lack of data.\n",
    "\n",
    "</pre>"
   ]
  },
  {
   "cell_type": "markdown",
   "metadata": {
    "id": "MMwMRicZysTc"
   },
   "source": [
    "# Reduce memory usage\n",
    "\n",
    "<pre>\n",
    "\n",
    "We handling 7 tables, System required a lot of memory intensive computation or data-set size that was large enough to hang my system. so to avoid memory usage problem we going to change the datatype eg - Object to Category, int64 to int32,16,8 deponds on limit of numeric column\n",
    "\n",
    "</pre>"
   ]
  },
  {
   "cell_type": "code",
   "execution_count": 6,
   "metadata": {
    "executionInfo": {
     "elapsed": 1223,
     "status": "ok",
     "timestamp": 1611666663318,
     "user": {
      "displayName": "sathish anantha",
      "photoUrl": "https://lh3.googleusercontent.com/a-/AOh14Ghdw5Sh92a17sXj4ePDAB2diHt3YItsnu17FEdHoBI=s64",
      "userId": "06917965946637727718"
     },
     "user_tz": -330
    },
    "id": "QdBgDEtrysTj"
   },
   "outputs": [],
   "source": [
    "def reduce_mem_usage(data, verbose = True):\n",
    "    # refer - https://medium.com/@aakashgoel12/avoid-memory-error-techniques-to-reduce-dataframe-memory-usage-fcf53b2318a2\n",
    "    #refer: https://www.kaggle.com/gemartin/load-data-reduce-memory-usage\n",
    "    '''\n",
    "    This function is used to reduce the memory usage by converting the datatypes of a pandas\n",
    "    DataFrame withing required limits.\n",
    "    '''\n",
    "    \n",
    "    start_mem = data.memory_usage().sum() / 1024**2\n",
    "    if verbose:\n",
    "        print('-'*100)\n",
    "        print('Memory usage of dataframe: {:.2f} MB'.format(start_mem))\n",
    "    \n",
    "    for col in data.columns:\n",
    "        col_type = data[col].dtype\n",
    "        \n",
    "        if col_type != object:\n",
    "            c_min = data[col].min()\n",
    "            c_max = data[col].max()\n",
    "            if str(col_type)[:3] == 'int':\n",
    "                if c_min > np.iinfo(np.int8).min and c_max < np.iinfo(np.int8).max:\n",
    "                    data[col] = data[col].astype(np.int8)\n",
    "                elif c_min > np.iinfo(np.int16).min and c_max < np.iinfo(np.int16).max:\n",
    "                    data[col] = data[col].astype(np.int16)\n",
    "                elif c_min > np.iinfo(np.int32).min and c_max < np.iinfo(np.int32).max:\n",
    "                    data[col] = data[col].astype(np.int32)\n",
    "                elif c_min > np.iinfo(np.int64).min and c_max < np.iinfo(np.int64).max:\n",
    "                    data[col] = data[col].astype(np.int64)  \n",
    "            else:\n",
    "                if c_min > np.finfo(np.float16).min and c_max < np.finfo(np.float16).max:\n",
    "                    data[col] = data[col].astype(np.float16)\n",
    "                elif c_min > np.finfo(np.float32).min and c_max < np.finfo(np.float32).max:\n",
    "                    data[col] = data[col].astype(np.float32)\n",
    "                else:\n",
    "                    data[col] = data[col].astype(np.float64)\n",
    "\n",
    "    end_mem = data.memory_usage().sum() / 1024**2\n",
    "    if verbose:\n",
    "        print('Memory usage after optimization: {:.2f} MB'.format(end_mem))\n",
    "        print('Decreased by {:.1f}%'.format(100 * (start_mem - end_mem) / start_mem))\n",
    "        print('-'*100)\n",
    "    \n",
    "    return data"
   ]
  },
  {
   "cell_type": "markdown",
   "metadata": {
    "id": "0PCwPTbIysTj"
   },
   "source": [
    "# Read all the tables "
   ]
  },
  {
   "cell_type": "code",
   "execution_count": 6,
   "metadata": {
    "executionInfo": {
     "elapsed": 756,
     "status": "ok",
     "timestamp": 1611652382241,
     "user": {
      "displayName": "sathish anantha",
      "photoUrl": "https://lh3.googleusercontent.com/a-/AOh14Ghdw5Sh92a17sXj4ePDAB2diHt3YItsnu17FEdHoBI=s64",
      "userId": "06917965946637727718"
     },
     "user_tz": -330
    },
    "id": "Wjl2gl5BysTk"
   },
   "outputs": [],
   "source": [
    "# Read all madatory files for this task\n",
    "def read_mandatory_files():\n",
    "    df = pd.read_csv('application_train.csv')\n",
    "    df = reduce_mem_usage(df)\n",
    "    df_test = pd.read_csv('application_test.csv')\n",
    "    df_test = reduce_mem_usage(df_test)\n",
    "    df_bureau = pd.read_csv('bureau.csv')\n",
    "    df_bureau = reduce_mem_usage(df_bureau)\n",
    "    df_bureau_bal = pd.read_csv('bureau_balance.csv')\n",
    "    df_bureau_bal = reduce_mem_usage(df_bureau_bal)\n",
    "    df_prev_app = pd.read_csv('previous_application.csv')\n",
    "    df_prev_app = reduce_mem_usage(df_prev_app)\n",
    "    df_pos = pd.read_csv('POS_CASH_balance.csv')\n",
    "    df_pos = reduce_mem_usage(df_pos)\n",
    "    df_credit_bal = pd.read_csv('credit_card_balance.csv')\n",
    "    df_credit_bal = reduce_mem_usage(df_credit_bal)\n",
    "    df_inst_pay = pd.read_csv('installments_payments.csv')\n",
    "    df_inst_pay = reduce_mem_usage(df_inst_pay)\n",
    "    \n",
    "    return df, df_test, df_bureau,df_bureau_bal,df_prev_app,df_pos, df_credit_bal,df_inst_pay"
   ]
  },
  {
   "cell_type": "markdown",
   "metadata": {
    "id": "rw_RZe0lysTk"
   },
   "source": [
    "# Data Cleaning\n",
    "<pre>\n",
    "Erroness value in application train and application test tables, to handling we using below function\n",
    "\n",
    "</pre>"
   ]
  },
  {
   "cell_type": "code",
   "execution_count": 7,
   "metadata": {
    "executionInfo": {
     "elapsed": 866,
     "status": "ok",
     "timestamp": 1611652383589,
     "user": {
      "displayName": "sathish anantha",
      "photoUrl": "https://lh3.googleusercontent.com/a-/AOh14Ghdw5Sh92a17sXj4ePDAB2diHt3YItsnu17FEdHoBI=s64",
      "userId": "06917965946637727718"
     },
     "user_tz": -330
    },
    "id": "qVRdS1yVysTk"
   },
   "outputs": [],
   "source": [
    "# Data Cleaning and preprocessing for train and test\n",
    "def data_cleaning(df='dataframe'):\n",
    "    df['DAYS_BIRTH'] = round(df['DAYS_BIRTH'] *-1/ 365)\n",
    "\n",
    "    # abs - convert all value in to postive\n",
    "    df['DAYS_EMPLOYED']  = abs(df['DAYS_EMPLOYED'])\n",
    "    df['DAYS_EMPLOYED'].head(2)\n",
    "\n",
    "    # Replace the anomalous values(Errorness value) with nan\n",
    "    df['DAYS_EMPLOYED'] = df['DAYS_EMPLOYED'].replace({365243: np.nan})\n",
    "\n",
    "    # Convert days in to years\n",
    "    df['DAYS_EMPLOYED'] = df['DAYS_EMPLOYED'] /365\n",
    "    \n",
    "    # Create an anomalous flag column\n",
    "    df['Year_Empolyed_ANOM'] = df[\"DAYS_EMPLOYED\"] == 365243\n",
    "\n",
    "    #Invalid Gender code, we have limited entry so we removing\n",
    "    df = df[df['CODE_GENDER'] != 'XNA']\n",
    "\n",
    "    df.loc[df['OBS_30_CNT_SOCIAL_CIRCLE'] > 30, 'OBS_30_CNT_SOCIAL_CIRCLE'] = np.nan\n",
    "    df.loc[df['OBS_60_CNT_SOCIAL_CIRCLE'] > 30, 'OBS_60_CNT_SOCIAL_CIRCLE'] = np.nan\n",
    "    \n",
    "    return df"
   ]
  },
  {
   "cell_type": "markdown",
   "metadata": {
    "id": "RCM8YIrRysTk"
   },
   "source": [
    "# Replcaing missing value category with XNS (Unknow)"
   ]
  },
  {
   "cell_type": "code",
   "execution_count": 8,
   "metadata": {
    "executionInfo": {
     "elapsed": 1628,
     "status": "ok",
     "timestamp": 1611652385359,
     "user": {
      "displayName": "sathish anantha",
      "photoUrl": "https://lh3.googleusercontent.com/a-/AOh14Ghdw5Sh92a17sXj4ePDAB2diHt3YItsnu17FEdHoBI=s64",
      "userId": "06917965946637727718"
     },
     "user_tz": -330
    },
    "id": "fJqtzKKBysTl"
   },
   "outputs": [],
   "source": [
    "# replacing Null with XNS -  Unknow category\n",
    "def replacing_missing_category(df = 'dataframe'):\n",
    "    # replacing Null with XNS -  Unknow category\n",
    "    categorical_columns_train = df.dtypes[df.dtypes == 'object'].index.tolist()\n",
    "    df[categorical_columns_train] = df[categorical_columns_train].fillna('XNA')\n",
    "    \n",
    "    # From EDA REGION_RATING_CLIENT and REGION_RATING_CLIENT_W_CITY have discret value, \n",
    "    #so we changing this column data type from Int to Object\n",
    "    \n",
    "    df['REGION_RATING_CLIENT'] = df['REGION_RATING_CLIENT'].astype('object')\n",
    "    df['REGION_RATING_CLIENT_W_CITY'] = df['REGION_RATING_CLIENT_W_CITY'].astype('object')\n",
    "    \n",
    "    return df"
   ]
  },
  {
   "cell_type": "markdown",
   "metadata": {
    "id": "MAuf3lzzysTl"
   },
   "source": [
    "# OneHotEncoding and Label encoder"
   ]
  },
  {
   "cell_type": "code",
   "execution_count": 9,
   "metadata": {
    "executionInfo": {
     "elapsed": 965,
     "status": "ok",
     "timestamp": 1611652385880,
     "user": {
      "displayName": "sathish anantha",
      "photoUrl": "https://lh3.googleusercontent.com/a-/AOh14Ghdw5Sh92a17sXj4ePDAB2diHt3YItsnu17FEdHoBI=s64",
      "userId": "06917965946637727718"
     },
     "user_tz": -330
    },
    "id": "QnwrSIWkysTl"
   },
   "outputs": [],
   "source": [
    "## Converting Category in to Numerical representation using Onehot encoder and label encoder\n",
    "'''\n",
    "OneHotEncoder -  handle_unknown='ignore'\n",
    "    unknown category is encountered during\n",
    "    transform, the resulting one-hot encoded columns for this feature\n",
    "    will be all zeros.\n",
    "'''\n",
    "def category_to_numeric(df = 'dataframe',df_test = 'dataframe2'):\n",
    "    print('Shape of application train before Encoding ', df.shape)\n",
    "    print('Shape of application test before Encoding ', df_test.shape)\n",
    "    cat_df = df.dtypes[df.dtypes == 'object'].index.tolist()\n",
    "    enc = OneHotEncoder(handle_unknown='ignore')\n",
    "    for i in tqdm(cat_df):\n",
    "\n",
    "        enc_df = pd.DataFrame(enc.fit_transform(df[[i]]).toarray().astype('int'),columns=enc.get_feature_names([i]))\n",
    "        enc_df_test = pd.DataFrame(enc.transform(df_test[[i]]).toarray().astype('int'),columns=enc.get_feature_names([i]))\n",
    "        df = df.drop(i,axis=1).join(enc_df)\n",
    "        df_test = df_test.drop(i,axis=1).join(enc_df_test)\n",
    "\n",
    "    print('Shape of application train after Encoding ', df.shape)\n",
    "    print('Shape of application test after Encoding ', df_test.shape)  \n",
    "    \n",
    "    return df, df_test"
   ]
  },
  {
   "cell_type": "markdown",
   "metadata": {
    "id": "xl-S7OdcysTl"
   },
   "source": [
    "# Replacing missing value - dtype Numeric"
   ]
  },
  {
   "cell_type": "code",
   "execution_count": 10,
   "metadata": {
    "executionInfo": {
     "elapsed": 954,
     "status": "ok",
     "timestamp": 1611652387031,
     "user": {
      "displayName": "sathish anantha",
      "photoUrl": "https://lh3.googleusercontent.com/a-/AOh14Ghdw5Sh92a17sXj4ePDAB2diHt3YItsnu17FEdHoBI=s64",
      "userId": "06917965946637727718"
     },
     "user_tz": -330
    },
    "id": "6nLEFcBhysTm"
   },
   "outputs": [],
   "source": [
    "# replacing ,missing value with Median\n",
    "def replacing_missing_numeric(df = 'dataframe', df_test='dataframe2'):\n",
    "    # Train missing values\n",
    "    missing_value(df,df_name='TRAIN',visualizse=False,head_count=5)\n",
    "    # Test missing values\n",
    "    missing_value(df_test,df_name='TEST',visualizse=False,head_count=10)\n",
    "    \n",
    "    ## Fill in missing values\n",
    "\n",
    "    #Strategy = Median, variances is high so better to use Median\n",
    "    imputer = Imputer(strategy = 'median')\n",
    "    scaler = MinMaxScaler(feature_range = [0,1])\n",
    "    train = df.drop(columns = ['TARGET'])\n",
    "    train_col = train.columns\n",
    "\n",
    "    imputer.fit(train)\n",
    "    train = imputer.transform(train)\n",
    "    test = imputer.transform(df_test)\n",
    "    scaler.fit(train)\n",
    "    train = scaler.transform(train)\n",
    "    test = scaler.transform(test)\n",
    "    print('Training data shape: ', train.shape)\n",
    "    print('Testing data shape: ', test.shape)\n",
    "    new_df_train = pd.DataFrame(train,columns=train_col)\n",
    "    new_df_train['SK_ID_CURR'] = df['SK_ID_CURR'].values\n",
    "    new_df_train['TARGET'] = df['TARGET'].values\n",
    "    \n",
    "    new_df_test = pd.DataFrame(test,columns=train_col)\n",
    "    new_df_test['SK_ID_CURR'] = df_test['SK_ID_CURR'].values\n",
    "    \n",
    "    print('Missing value_count after Imputation \\n')\n",
    "    missing_value(new_df_train,df_name='TRAIN',visualizse=False,head_count=5)\n",
    "    # Test missing values\n",
    "    missing_value(new_df_test,df_name='TEST',visualizse=False,head_count=5)\n",
    "\n",
    "    print(' Observation : \\n 1.Now there is no missing value in Train and test')\n",
    "    \n",
    "    \n",
    "    return new_df_train, new_df_test"
   ]
  },
  {
   "cell_type": "markdown",
   "metadata": {
    "id": "N_6cs3RyysTm"
   },
   "source": [
    "# Create new Custom features - application train and test"
   ]
  },
  {
   "cell_type": "markdown",
   "metadata": {
    "id": "slpmJctUysTm"
   },
   "source": [
    "<pre>\n",
    "\n",
    "refer - https://www.wellsfargo.com/financial-education/credit-management/five-c/\n",
    "\n",
    "<strong> <font color = 'blue'>Capacity</font> </strong> : Lenders need to determine whether you can comfortably afford your payments. Your income and employment history are good indicators of your ability to repay outstanding debt. Income amount, stability, and type of income may all be considered. The ratio of your current and any new debt as compared to your before-tax income, known as debt-to-income ratio (DTI), may be evaluated.\n",
    "\n",
    "<strong> <font color = 'blue'>Collateral</font> </strong>  (when applying for secured loans): Loans, lines of credit, or credit cards you apply for may be secured or unsecured. With a secured product, such as an auto or home equity loan, you pledge something you own as collateral. The value of your collateral will be evaluated, and any existing debt secured by that collateral will be subtracted from the value. The remaining equity will play a factor in the lending decision.\n",
    "\n",
    "<strong> <font color = 'blue'>Capital</font> </strong>: While your household income is expected to be the primary source of repayment, capital represents the savings, investments, and other assets that can help repay the loan. This can be helpful if you lose your job or experience other setbacks.\n",
    "\n",
    "<strong> <font color = 'blue'>Conditions</font> </strong>: Lenders may want to know how you plan to use the money and will consider the loan’s purpose, such as whether the loan will be used to purchase a vehicle or other property. Other factors, such as environmental and economic conditions, may also be considered.\n",
    "</pre>"
   ]
  },
  {
   "cell_type": "code",
   "execution_count": 11,
   "metadata": {
    "executionInfo": {
     "elapsed": 1002,
     "status": "ok",
     "timestamp": 1611652389106,
     "user": {
      "displayName": "sathish anantha",
      "photoUrl": "https://lh3.googleusercontent.com/a-/AOh14Ghdw5Sh92a17sXj4ePDAB2diHt3YItsnu17FEdHoBI=s64",
      "userId": "06917965946637727718"
     },
     "user_tz": -330
    },
    "id": "opy9VmUmysTm"
   },
   "outputs": [],
   "source": [
    "def create_custom_features_main_table(df='dataframe1', df_test='dataframe2'):\n",
    "    ################ Application_ train.csv ###########\n",
    "    # Flag to represent when Total income is greater than Credit\n",
    "    df['INCOME_GT_CREDIT_FLAG'] = df['AMT_INCOME_TOTAL'] > df['AMT_CREDIT']\n",
    "\n",
    "    # Column to represent Credit Income Percent\n",
    "    df['DIR'] = df['AMT_CREDIT']/(df['AMT_INCOME_TOTAL']+1)\n",
    "\n",
    "    # Column to represent Annuity Income percent\n",
    "    df['AIR'] = df['AMT_ANNUITY']/(df['AMT_INCOME_TOTAL']+1)\n",
    "\n",
    "    # Column to represent Credit Term\n",
    "    df['ACR'] = (df['AMT_CREDIT']/(df['AMT_ANNUITY']+1))\n",
    "    \n",
    "\n",
    "    # Column to represent Days Employed percent in his life\n",
    "    df['DAR'] = df['DAYS_EMPLOYED']/df['DAYS_BIRTH']\n",
    "\n",
    "    ################ Application_ test.csv ###########\n",
    "\n",
    "    df_test['INCOME_GT_CREDIT_FLAG'] = df_test['AMT_INCOME_TOTAL'] > df_test['AMT_CREDIT']\n",
    "    df_test['DIR'] = df_test['AMT_CREDIT']/(df_test['AMT_INCOME_TOTAL']+ 1)\n",
    "    df_test['AIR'] = df_test['AMT_ANNUITY']/(df_test['AMT_INCOME_TOTAL'] +1)\n",
    "    df_test['ACR'] = df_test['AMT_CREDIT']/(df_test['AMT_CREDIT']+1)\n",
    "    df_test['DAR'] = df_test['DAYS_EMPLOYED']/df_test['DAYS_BIRTH']\n",
    "    \n",
    "    return df, df_test\n"
   ]
  },
  {
   "cell_type": "markdown",
   "metadata": {
    "id": "SEdqDQxdysTn"
   },
   "source": [
    "# Create unique Column"
   ]
  },
  {
   "cell_type": "code",
   "execution_count": 12,
   "metadata": {
    "executionInfo": {
     "elapsed": 1695,
     "status": "ok",
     "timestamp": 1611652390916,
     "user": {
      "displayName": "sathish anantha",
      "photoUrl": "https://lh3.googleusercontent.com/a-/AOh14Ghdw5Sh92a17sXj4ePDAB2diHt3YItsnu17FEdHoBI=s64",
      "userId": "06917965946637727718"
     },
     "user_tz": -330
    },
    "id": "Fvg4SGOtysTn"
   },
   "outputs": [],
   "source": [
    "# when merging two table, chance o having same column name in both table, to avoid we settiing new feature name\n",
    "# Note , pd.Dummies we have prefix attribute, but for numerical field better to use this function\n",
    "def create_unique_col(table= 'Bureau',data='df', ID ='SK_ID_CURR' ):\n",
    "    '''\n",
    "    table - Dataframe name\n",
    "    data  = Dataframe\n",
    "    ID    = Foreign key\n",
    "    return Column name wit prefix table name\n",
    "    '''\n",
    "    \n",
    "    unique_col_bureau = [] \n",
    "    for i in data.columns:\n",
    "        if i != ID:\n",
    "            col_name = table+str('_')+str(i)\n",
    "            unique_col_bureau.append(col_name)\n",
    "        else:\n",
    "            unique_col_bureau.append(i)\n",
    "    print('New Column names  - \\n'+str(unique_col_bureau))   \n",
    "    return unique_col_bureau  "
   ]
  },
  {
   "cell_type": "markdown",
   "metadata": {
    "id": "tF6zmaWMysTn"
   },
   "source": [
    "# Create Custom feature - Bureau.csv"
   ]
  },
  {
   "cell_type": "code",
   "execution_count": 12,
   "metadata": {
    "executionInfo": {
     "elapsed": 1189,
     "status": "ok",
     "timestamp": 1611652391442,
     "user": {
      "displayName": "sathish anantha",
      "photoUrl": "https://lh3.googleusercontent.com/a-/AOh14Ghdw5Sh92a17sXj4ePDAB2diHt3YItsnu17FEdHoBI=s64",
      "userId": "06917965946637727718"
     },
     "user_tz": -330
    },
    "id": "ZvZNN8iQysTn"
   },
   "outputs": [],
   "source": []
  },
  {
   "cell_type": "code",
   "execution_count": 13,
   "metadata": {
    "executionInfo": {
     "elapsed": 1243,
     "status": "ok",
     "timestamp": 1611652391974,
     "user": {
      "displayName": "sathish anantha",
      "photoUrl": "https://lh3.googleusercontent.com/a-/AOh14Ghdw5Sh92a17sXj4ePDAB2diHt3YItsnu17FEdHoBI=s64",
      "userId": "06917965946637727718"
     },
     "user_tz": -330
    },
    "id": "ShDcUmblysTo"
   },
   "outputs": [],
   "source": [
    "def create_custom_bureau_feature(df_bureau='bureau_table'):\n",
    "    # Create a new column , using existing information from Bureau\n",
    "    # Number of past loans per customer\n",
    "    past_loan = df_bureau.groupby(by = ['SK_ID_CURR'])['SK_ID_BUREAU'].count().reset_index().rename(columns = {'SK_ID_BUREAU': 'LOAN_COUNT_BUREAU'})\n",
    "    print('Past loan details',past_loan.shape )\n",
    "\n",
    "\n",
    "    # Number of type of credit loan type per customer\n",
    "    credit_type = df_bureau[['SK_ID_CURR', 'CREDIT_TYPE']].groupby('SK_ID_CURR')['CREDIT_TYPE'].nunique().reset_index().rename(columns={'CREDIT_TYPE': 'LOAN_TYPES_BUREAU'})\n",
    "    print('credit_type details',credit_type.shape)\n",
    "\n",
    "\n",
    "    # total_loan amount still date\n",
    "    sum_total_count = df_bureau[['SK_ID_CURR', 'AMT_CREDIT_SUM']].groupby('SK_ID_CURR')['AMT_CREDIT_SUM'].sum().reset_index().rename(columns={'AMT_CREDIT_SUM': 'TOTAL_LOAN_AMT_SUM'})\n",
    "    print('sum_total_count details',sum_total_count.shape )\n",
    "\n",
    "\n",
    "    # total_loan amount debt still date\n",
    "    sum_total_count_debt = df_bureau[['SK_ID_CURR', 'AMT_CREDIT_SUM_DEBT']].groupby('SK_ID_CURR')['AMT_CREDIT_SUM_DEBT'].sum().reset_index().rename(columns={'AMT_CREDIT_SUM_DEBT': 'TOTAL_LOAN_AMT_SUM_DEBT'})\n",
    "    print('sum_total_count_debt details',sum_total_count_debt.shape)\n",
    "\n",
    "\n",
    "    #merge sum_total_count and sum_total_count_debt\n",
    "    debt_credit_df  =  sum_total_count.merge(sum_total_count_debt,on='SK_ID_CURR')\n",
    "    debt_credit_df['debt_credit_ratio'] = debt_credit_df['TOTAL_LOAN_AMT_SUM_DEBT'] / (debt_credit_df['TOTAL_LOAN_AMT_SUM'] +1)\n",
    "    print('Merge of sum_total_count and sum_total_count_debt',debt_credit_df.shape)\n",
    "\n",
    "\n",
    "    # Sum of AMT_CREDIT_SUM_OVERDUE\n",
    "    Total_customer_overdue  = df_bureau[['SK_ID_CURR', 'AMT_CREDIT_SUM_OVERDUE']].groupby('SK_ID_CURR')['AMT_CREDIT_SUM_OVERDUE'].sum().reset_index().rename(columns={'AMT_CREDIT_SUM_OVERDUE': 'SUM_AMT_CREDIT_SUM_OVERDUE'})\n",
    "    print('Sum of over due amount',Total_customer_overdue.shape)\n",
    "    # sum AMT_CREDIT_SUM_DEBT\n",
    "    Total_customer_debt =  df_bureau[['SK_ID_CURR','AMT_CREDIT_SUM_DEBT']].groupby(by=['SK_ID_CURR'])['AMT_CREDIT_SUM_DEBT'].sum().reset_index().rename(columns={'AMT_CREDIT_SUM_DEBT':'TOTAL_CUSTOMER_DEBT'})\n",
    "    print('Sum of total debt amount ',Total_customer_debt.shape)\n",
    "\n",
    "\n",
    "    sum_overdue_credit_sum  = Total_customer_overdue.merge(Total_customer_debt,on='SK_ID_CURR')\n",
    "    sum_overdue_credit_sum['overdue_debt_ratio'] = sum_overdue_credit_sum['SUM_AMT_CREDIT_SUM_OVERDUE'] / (sum_overdue_credit_sum['TOTAL_CUSTOMER_DEBT']+1)\n",
    "    sum_overdue_credit_sum['overdue_debt_ratio'] = sum_overdue_credit_sum['overdue_debt_ratio'].fillna(0)\n",
    "    sum_overdue_credit_sum['overdue_debt_ratio'] = sum_overdue_credit_sum.replace([np.inf,-np.inf],0)\n",
    "    sum_overdue_credit_sum['overdue_debt_ratio'] = pd.to_numeric(sum_overdue_credit_sum['overdue_debt_ratio'],downcast='float')\n",
    "    print('Ratio of Overdue and credit debt amount',sum_overdue_credit_sum.shape)\n",
    "    \n",
    "    df_bureau = df_bureau.merge(past_loan,on='SK_ID_CURR',how='left')\n",
    "    df_bureau =df_bureau.merge(credit_type,on='SK_ID_CURR',how='left')\n",
    "    df_bureau =df_bureau.merge(debt_credit_df,on='SK_ID_CURR',how='left')\n",
    "    df_bureau =df_bureau.merge(sum_overdue_credit_sum,on='SK_ID_CURR',how='left')\n",
    "    \n",
    "    return df_bureau\n",
    "\n"
   ]
  },
  {
   "cell_type": "markdown",
   "metadata": {
    "id": "QnE8rWAMysTo"
   },
   "source": [
    "# Join application train and bureau.csv"
   ]
  },
  {
   "cell_type": "code",
   "execution_count": 14,
   "metadata": {
    "executionInfo": {
     "elapsed": 1313,
     "status": "ok",
     "timestamp": 1611652393089,
     "user": {
      "displayName": "sathish anantha",
      "photoUrl": "https://lh3.googleusercontent.com/a-/AOh14Ghdw5Sh92a17sXj4ePDAB2diHt3YItsnu17FEdHoBI=s64",
      "userId": "06917965946637727718"
     },
     "user_tz": -330
    },
    "id": "yW-8ff4kysTo"
   },
   "outputs": [],
   "source": [
    "# Joining application_train and BUREAU.csv\n",
    "def join_application_bureau(df ='table1', df_bureau = 'table2'):\n",
    "    # Categorical feature - merging\n",
    "    # Converting all categorical in to onehot encoding\n",
    "    categorical_bureau = pd.get_dummies(df_bureau.select_dtypes('object'), prefix='Bureau')\n",
    "    categorical_bureau['SK_ID_CURR'] = df_bureau['SK_ID_CURR']\n",
    "\n",
    "    grp_bureau = categorical_bureau.groupby(by = ['SK_ID_CURR']).mean().reset_index()\n",
    "    print('Column_names_Categorical', grp_bureau.columns)\n",
    "    \n",
    "    # Merge train and bureau_categorical\n",
    "    df_main = df.merge(grp_bureau, on='SK_ID_CURR',how='left')\n",
    "    df_main.update(df_main[grp_bureau.columns].fillna(0))\n",
    "    \n",
    "    # Combining Numerical features\n",
    "\n",
    "    Numerical_bureau_col = df_bureau.select_dtypes(include=[np.number]).columns\n",
    "    Numerical_bureau = df_bureau[Numerical_bureau_col]\n",
    "\n",
    "\n",
    "    grp_bureau_num = Numerical_bureau.drop(['SK_ID_BUREAU'], axis = 1).groupby(by=['SK_ID_CURR']).mean().reset_index()\n",
    "    print('Column_names_Numeric', grp_bureau_num.columns)\n",
    "\n",
    "    #There may be some column name for both application and bureau.csv, inorder to avoid we giving unique column name\n",
    "    grp_bureau_num.columns = create_unique_col(table='Bureau',data=grp_bureau_num,ID='SK_ID_CURR')\n",
    "\n",
    "    # Merge train and bureau_categorical\n",
    "    df_main = df_main.merge(grp_bureau_num, on='SK_ID_CURR',how='left')\n",
    "    df_main.update(df_main[grp_bureau_num.columns].fillna(0))\n",
    "    \n",
    "    return df_main\n",
    "\n",
    "\n"
   ]
  },
  {
   "cell_type": "markdown",
   "metadata": {
    "id": "Fz7MVr6cysTo"
   },
   "source": [
    "# Join application, bureau and bureau_balance"
   ]
  },
  {
   "cell_type": "code",
   "execution_count": 15,
   "metadata": {
    "executionInfo": {
     "elapsed": 783,
     "status": "ok",
     "timestamp": 1611652393573,
     "user": {
      "displayName": "sathish anantha",
      "photoUrl": "https://lh3.googleusercontent.com/a-/AOh14Ghdw5Sh92a17sXj4ePDAB2diHt3YItsnu17FEdHoBI=s64",
      "userId": "06917965946637727718"
     },
     "user_tz": -330
    },
    "id": "L-_nhtoVysTp"
   },
   "outputs": [],
   "source": [
    "# Joining Bureau_Balance data to merge of Application and Bureau(df_main)\n",
    "\n",
    "def data_cleaning_bureau_bal(df_bureau_bal= 'dataframe'):\n",
    "    # C - Close , so we giving weight to 0, remaining incremental, thing is X - Unknow so benefit of doubt we giving middle value(4) \n",
    "    status_label_encoding = { 'C': 0, '0': 1, '1': 2, '2': 3, 'X': 4, '3': 5, '4': 6, '5': 7}\n",
    "    df_bureau_bal['STATUS'] = df_bureau_bal['STATUS'].map(status_label_encoding)\n",
    "\n",
    "    # Monthly Balance is in Negative , easy interpreatation we changing to postive\n",
    "    df_bureau_bal['MONTHS_BALANCE'] = abs(df_bureau_bal['MONTHS_BALANCE'])\n",
    "\n",
    "    # Creating new features 'Weightage_balance' = divide Status by Months_balance \n",
    "    df_bureau_bal['WEIGHT_status'] = df_bureau_bal['STATUS'] / (df_bureau_bal['MONTHS_BALANCE'] +1)\n",
    "    \n",
    "    return df_bureau_bal\n",
    "\n",
    "def merge_application_BureauBal(df_main='dataframe1', df_bureau='dataframe2', df_bureau_bal='dataframe3'):\n",
    "    df_bureau_bal = data_cleaning_bureau_bal(df_bureau_bal= df_bureau_bal)\n",
    "    Bureau_merge_Bureau_bal =  df_bureau.merge(df_bureau_bal, on='SK_ID_BUREAU')\n",
    "    Bureau_merge_Bureau_bal = Bureau_merge_Bureau_bal[['SK_ID_CURR', 'MONTHS_BALANCE','STATUS','WEIGHT_status']].groupby('SK_ID_CURR')['MONTHS_BALANCE','STATUS','WEIGHT_status'].sum().reset_index()\n",
    "    Bureau_merge_Bureau_bal.columns = create_unique_col(table='Bureau_bal',data=Bureau_merge_Bureau_bal,ID='SK_ID_CURR')\n",
    "    df_main = df_main.merge(Bureau_merge_Bureau_bal, on='SK_ID_CURR',how='left')\n",
    "    df_main.update(df_main[['Bureau_bal_MONTHS_BALANCE','Bureau_bal_STATUS','Bureau_bal_WEIGHT_status']].fillna(0))\n",
    "    print('Shape of main table after merge Application, Bureau and Bureau_balance', df_main.shape)\n",
    "    \n",
    "    return df_main"
   ]
  },
  {
   "cell_type": "markdown",
   "metadata": {
    "id": "PNM61svfysTp"
   },
   "source": [
    "# Join application, bureau ,bureau_balance and previous application"
   ]
  },
  {
   "cell_type": "code",
   "execution_count": 16,
   "metadata": {
    "executionInfo": {
     "elapsed": 1174,
     "status": "ok",
     "timestamp": 1611652394990,
     "user": {
      "displayName": "sathish anantha",
      "photoUrl": "https://lh3.googleusercontent.com/a-/AOh14Ghdw5Sh92a17sXj4ePDAB2diHt3YItsnu17FEdHoBI=s64",
      "userId": "06917965946637727718"
     },
     "user_tz": -330
    },
    "id": "Dh0MI-ju4ws1"
   },
   "outputs": [],
   "source": [
    "def create_custom_prevapp_feature(previous_application='bureau_table'):\n",
    "    # Create a new column , using existing information from Previous applications\n",
    "    #https://www.kaggle.com/c/home-credit-default-risk/discussion/64598\n",
    "    previous_application['AMT_INTEREST'] = previous_application['CNT_PAYMENT'] * previous_application[\n",
    "                                            'AMT_ANNUITY'] - previous_application['AMT_CREDIT'] \n",
    "    previous_application['INTEREST_SHARE'] = previous_application['AMT_INTEREST'] / (previous_application[\n",
    "                                                                                            'AMT_CREDIT'] + 0.00001)\n",
    "    previous_application['INTEREST_RATE'] = 2 * 12 * previous_application['AMT_INTEREST'] / (previous_application[\n",
    "                                        'AMT_CREDIT'] * (previous_application['CNT_PAYMENT'] + 1))\n",
    "    \n",
    "\n",
    "    previous_application['AMT_DECLINED'] = previous_application['AMT_APPLICATION'] - previous_application['AMT_CREDIT']\n",
    "\n",
    "    previous_application['AMT_CREDIT_GOODS_RATIO'] = previous_application['AMT_CREDIT'] / (previous_application['AMT_GOODS_PRICE'] + 0.00001)\n",
    "    previous_application['AMT_CREDIT_GOODS_DIFF'] = previous_application['AMT_CREDIT'] - previous_application['AMT_GOODS_PRICE']\n",
    "\n",
    "    previous_application['ANNUITY'] = previous_application['AMT_CREDIT'] / (previous_application['CNT_PAYMENT'] + 0.00001)\n",
    "    previous_application['ANNUITY_GOODS'] = previous_application['AMT_GOODS_PRICE'] / (previous_application['CNT_PAYMENT'] + 0.00001)\n",
    "   \n",
    "    print('After creating custom feature ', previous_application.shape)\n",
    "    return previous_application\n",
    "\n"
   ]
  },
  {
   "cell_type": "code",
   "execution_count": 17,
   "metadata": {
    "executionInfo": {
     "elapsed": 1184,
     "status": "ok",
     "timestamp": 1611652395478,
     "user": {
      "displayName": "sathish anantha",
      "photoUrl": "https://lh3.googleusercontent.com/a-/AOh14Ghdw5Sh92a17sXj4ePDAB2diHt3YItsnu17FEdHoBI=s64",
      "userId": "06917965946637727718"
     },
     "user_tz": -330
    },
    "id": "m8Rv3LHfysTq"
   },
   "outputs": [],
   "source": [
    "def merge_application_prev_app(df_main = 'dataframe1',df_prev_app ='dataframe2'):\n",
    "    Pre_app_count= df_prev_app[['SK_ID_CURR','SK_ID_PREV']].groupby(by=['SK_ID_CURR'])['SK_ID_PREV'].count().reset_index().rename(columns={'SK_ID_PREV':'PREV_APP_COUNT'}).fillna(0)\n",
    "\n",
    "    # Combining categorical features\n",
    "    pre_app_categorical = pd.get_dummies(df_prev_app.select_dtypes('object'))\n",
    "    pre_app_categorical['SK_ID_CURR'] = df_prev_app['SK_ID_CURR']\n",
    "\n",
    "    grp_PrevApp = pre_app_categorical.groupby('SK_ID_CURR').mean().reset_index()\n",
    "    grp_PrevApp.columns = create_unique_col(table='PREV_APP',data=grp_PrevApp,ID='SK_ID_CURR')\n",
    "\n",
    "    # Combine final Previous_Application to df_main\n",
    "    df_main = df_main.merge(grp_PrevApp,on='SK_ID_CURR',how='left')\n",
    "    df_main.update(df_main[grp_PrevApp.columns].fillna(0))\n",
    "\n",
    "    # Combining numerical features\n",
    "    grp_PrevApp_numeric = df_prev_app.drop('SK_ID_PREV', axis =1).groupby(by=['SK_ID_CURR']).mean().reset_index()\n",
    "    grp_PrevApp_numeric.columns = create_unique_col(table='PREV_APP',data=grp_PrevApp_numeric,ID='SK_ID_CURR')\n",
    "    df_main = df_main.merge(grp_PrevApp_numeric, on =['SK_ID_CURR'], how = 'left')\n",
    "    df_main.update(df_main[grp_PrevApp_numeric.columns].fillna(0))\n",
    "\n",
    "    print('Shape after merge Application, Bureau, Bureau_Balance and Previous_Application ', df_main.shape)\n",
    "    return df_main\n",
    "    \n",
    "    "
   ]
  },
  {
   "cell_type": "markdown",
   "metadata": {
    "id": "gCL3CfOSysTq"
   },
   "source": [
    "## Join application, bureau ,bureau_balance , previous application and point of sale"
   ]
  },
  {
   "cell_type": "code",
   "execution_count": 37,
   "metadata": {
    "executionInfo": {
     "elapsed": 1369,
     "status": "ok",
     "timestamp": 1611652764406,
     "user": {
      "displayName": "sathish anantha",
      "photoUrl": "https://lh3.googleusercontent.com/a-/AOh14Ghdw5Sh92a17sXj4ePDAB2diHt3YItsnu17FEdHoBI=s64",
      "userId": "06917965946637727718"
     },
     "user_tz": -330
    },
    "id": "bkb3sxF_7Jr3"
   },
   "outputs": [],
   "source": [
    "def create_custom_pos_feature(pos_cash='dataframe1'):\n",
    "\n",
    "  #creating new features based on Domain Knowledge\n",
    "  pos_cash['SK_DPD_RATIO'] = pos_cash['SK_DPD'] / (pos_cash['SK_DPD_DEF'] + 0.00001)\n",
    "  pos_cash['TOTAL_TERM'] = pos_cash['CNT_INSTALMENT'] + pos_cash['CNT_INSTALMENT_FUTURE']\n",
    "\n",
    "  print('Shape of POS after feature engineering', pos_cash.shape)\n",
    "\n",
    "  return pos_cash\n"
   ]
  },
  {
   "cell_type": "code",
   "execution_count": 19,
   "metadata": {
    "executionInfo": {
     "elapsed": 908,
     "status": "ok",
     "timestamp": 1611652396997,
     "user": {
      "displayName": "sathish anantha",
      "photoUrl": "https://lh3.googleusercontent.com/a-/AOh14Ghdw5Sh92a17sXj4ePDAB2diHt3YItsnu17FEdHoBI=s64",
      "userId": "06917965946637727718"
     },
     "user_tz": -330
    },
    "id": "1EsUFXBMysTq"
   },
   "outputs": [],
   "source": [
    "def merge_application_pos(df_main = 'dataframe1',df_pos ='dataframe2'):\n",
    "    Pre_app_count= df_prev_app[['SK_ID_CURR','SK_ID_PREV']].groupby(by=['SK_ID_CURR'])['SK_ID_PREV'].count().reset_index().rename(columns={'SK_ID_PREV':'PREV_APP_COUNT'}).fillna(0)\n",
    "\n",
    "    POS_count= df_pos[['SK_ID_CURR','SK_ID_PREV']].groupby(by=['SK_ID_CURR'])['SK_ID_PREV'].count().reset_index().rename(columns={'SK_ID_PREV':'POS_COUNT'}).fillna(0)\n",
    "\n",
    "    # Combining categorical features\n",
    "    POS_categorical = pd.get_dummies(df_pos.select_dtypes('object'))\n",
    "    POS_categorical['SK_ID_CURR'] = df_pos['SK_ID_CURR']\n",
    "\n",
    "    grp_POS = POS_categorical.groupby('SK_ID_CURR').mean().reset_index()\n",
    "    grp_POS.columns = create_unique_col(table='POS',data=grp_POS,ID='SK_ID_CURR')\n",
    "\n",
    "    # Combine final Previous_Application to df_main\n",
    "    df_main = df_main.merge(grp_POS,on='SK_ID_CURR',how='left')\n",
    "    df_main.update(df_main[grp_POS.columns].fillna(0))\n",
    "\n",
    "    # Combining numerical features\n",
    "    POS_numeric = df_pos.drop('SK_ID_PREV', axis =1).groupby(by=['SK_ID_CURR']).mean().reset_index()\n",
    "    POS_numeric.columns = create_unique_col(table='POS',data=POS_numeric,ID='SK_ID_CURR')\n",
    "    df_main = df_main.merge(POS_numeric, on =['SK_ID_CURR'], how = 'left')\n",
    "    df_main.update(df_main[POS_numeric.columns].fillna(0))\n",
    "\n",
    "    print('Shape after merge Application, Bureau, Bureau_Balance , Previous_Application and POS ', df_main.shape)\n",
    "    \n",
    "    return df_main\n",
    "    \n",
    "    "
   ]
  },
  {
   "cell_type": "markdown",
   "metadata": {
    "id": "ksi41oymysTr"
   },
   "source": [
    "### Join application, bureau ,bureau_balance , previous application,POS and Installment payment"
   ]
  },
  {
   "cell_type": "code",
   "execution_count": 20,
   "metadata": {
    "executionInfo": {
     "elapsed": 1185,
     "status": "ok",
     "timestamp": 1611652398276,
     "user": {
      "displayName": "sathish anantha",
      "photoUrl": "https://lh3.googleusercontent.com/a-/AOh14Ghdw5Sh92a17sXj4ePDAB2diHt3YItsnu17FEdHoBI=s64",
      "userId": "06917965946637727718"
     },
     "user_tz": -330
    },
    "id": "A0sVrDW95o78"
   },
   "outputs": [],
   "source": [
    "def create_custom_Inspay_feature(installments_payments='bureau_table'):\n",
    "    # Create a new column , using existing information from Install payment applications\n",
    "    installments_payments['AMT_PAYMENT_DIFF'] = installments_payments['AMT_INSTALMENT'] - installments_payments['AMT_PAYMENT']\n",
    "    installments_payments['AMT_PAYMENT_RATIO'] = installments_payments['AMT_PAYMENT'] / (installments_payments['AMT_INSTALMENT'] + 0.00001)\n",
    "    installments_payments['DAYS_PAYMENT_RATIO'] = installments_payments['DAYS_INSTALMENT'] / (installments_payments['DAYS_ENTRY_PAYMENT'] + 0.00001)\n",
    "    installments_payments['DAYS_PAYMENT_DIFF'] = installments_payments['DAYS_INSTALMENT'] - installments_payments['DAYS_ENTRY_PAYMENT']\n",
    "\n",
    "    print('Shape of InstallPayment after feature engineering', installments_payments.shape)\n",
    "\n",
    "    return installments_payments\n",
    "   \n",
    "\n"
   ]
  },
  {
   "cell_type": "code",
   "execution_count": 21,
   "metadata": {
    "executionInfo": {
     "elapsed": 1222,
     "status": "ok",
     "timestamp": 1611652398793,
     "user": {
      "displayName": "sathish anantha",
      "photoUrl": "https://lh3.googleusercontent.com/a-/AOh14Ghdw5Sh92a17sXj4ePDAB2diHt3YItsnu17FEdHoBI=s64",
      "userId": "06917965946637727718"
     },
     "user_tz": -330
    },
    "id": "klwvM6fYysTr"
   },
   "outputs": [],
   "source": [
    "def merge_application_Inspay(df_main = 'dataframe1',df_inst_pay ='dataframe2'):\n",
    "    INSPAY_numeric = df_inst_pay.drop('SK_ID_PREV', axis =1).groupby(by=['SK_ID_CURR']).mean().reset_index()\n",
    "    INSPAY_numeric.columns = create_unique_col(table='INSTPAY',data=INSPAY_numeric,ID='SK_ID_CURR')\n",
    "    df_main = df_main.merge(INSPAY_numeric, on =['SK_ID_CURR'], how = 'left')\n",
    "    df_main.update(df_main[INSPAY_numeric.columns].fillna(0))\n",
    "\n",
    "    print('Shape after merge Application, Bureau, Bureau_Balance , Previous_Application, POS and InstantPay ', df_main.shape)\n",
    "    return df_main"
   ]
  },
  {
   "cell_type": "markdown",
   "metadata": {
    "id": "SM17EUQhysTr"
   },
   "source": [
    "### Join application, bureau ,bureau_balance , previous application,POS , Installment payment and credit balance"
   ]
  },
  {
   "cell_type": "code",
   "execution_count": 22,
   "metadata": {
    "executionInfo": {
     "elapsed": 1225,
     "status": "ok",
     "timestamp": 1611652399825,
     "user": {
      "displayName": "sathish anantha",
      "photoUrl": "https://lh3.googleusercontent.com/a-/AOh14Ghdw5Sh92a17sXj4ePDAB2diHt3YItsnu17FEdHoBI=s64",
      "userId": "06917965946637727718"
     },
     "user_tz": -330
    },
    "id": "8uXGFTk18vD8"
   },
   "outputs": [],
   "source": [
    "def create_custom_Credit_bal_feature(cc_balance='CCB_table'):\n",
    "\n",
    "     #Creating new features\n",
    "        cc_balance['AMT_DRAWING_SUM'] = cc_balance['AMT_DRAWINGS_ATM_CURRENT'] + cc_balance['AMT_DRAWINGS_CURRENT'] + cc_balance[\n",
    "                                    'AMT_DRAWINGS_OTHER_CURRENT'] + cc_balance['AMT_DRAWINGS_POS_CURRENT']\n",
    "        cc_balance['BALANCE_LIMIT_RATIO'] = cc_balance['AMT_BALANCE'] / (cc_balance['AMT_CREDIT_LIMIT_ACTUAL'] + 0.00001)\n",
    "        cc_balance['CNT_DRAWING_SUM'] = cc_balance['CNT_DRAWINGS_ATM_CURRENT'] + cc_balance['CNT_DRAWINGS_CURRENT'] + cc_balance[\n",
    "                                            'CNT_DRAWINGS_OTHER_CURRENT'] + cc_balance['CNT_DRAWINGS_POS_CURRENT'] + cc_balance['CNT_INSTALMENT_MATURE_CUM']\n",
    "        cc_balance['MIN_PAYMENT_RATIO'] = cc_balance['AMT_PAYMENT_CURRENT'] / (cc_balance['AMT_INST_MIN_REGULARITY'] + 0.0001)\n",
    "        cc_balance['PAYMENT_MIN_DIFF'] = cc_balance['AMT_PAYMENT_CURRENT'] - cc_balance['AMT_INST_MIN_REGULARITY']\n",
    "        cc_balance['MIN_PAYMENT_TOTAL_RATIO'] = cc_balance['AMT_PAYMENT_TOTAL_CURRENT'] / (cc_balance['AMT_INST_MIN_REGULARITY'] +0.00001)\n",
    "        cc_balance['PAYMENT_MIN_DIFF'] = cc_balance['AMT_PAYMENT_TOTAL_CURRENT'] - cc_balance['AMT_INST_MIN_REGULARITY']\n",
    "        cc_balance['AMT_INTEREST_RECEIVABLE'] = cc_balance['AMT_TOTAL_RECEIVABLE'] - cc_balance['AMT_RECEIVABLE_PRINCIPAL']\n",
    "        cc_balance['SK_DPD_RATIO'] = cc_balance['SK_DPD'] / (cc_balance['SK_DPD_DEF'] + 0.00001)\n",
    "\n",
    "        print('Shape of Credit Card balance after feature engineering', cc_balance.shape)\n",
    "\n",
    "        return cc_balance"
   ]
  },
  {
   "cell_type": "code",
   "execution_count": 23,
   "metadata": {
    "executionInfo": {
     "elapsed": 1270,
     "status": "ok",
     "timestamp": 1611652400364,
     "user": {
      "displayName": "sathish anantha",
      "photoUrl": "https://lh3.googleusercontent.com/a-/AOh14Ghdw5Sh92a17sXj4ePDAB2diHt3YItsnu17FEdHoBI=s64",
      "userId": "06917965946637727718"
     },
     "user_tz": -330
    },
    "id": "NtNwpmBpysTs"
   },
   "outputs": [],
   "source": [
    "def merge_application_credit_bal(df_main = 'dataframe1',df_credit_bal ='dataframe2'):\n",
    "    # Combining categorical features\n",
    "    CREBAL_categorical = pd.get_dummies(df_credit_bal.select_dtypes('object'))\n",
    "    CREBAL_categorical['SK_ID_CURR'] = df_credit_bal['SK_ID_CURR']\n",
    "\n",
    "    grp_CREDBAL = CREBAL_categorical.groupby('SK_ID_CURR').mean().reset_index()\n",
    "    grp_CREDBAL.columns = create_unique_col(table='CREDITBAL',data=grp_CREDBAL,ID='SK_ID_CURR')\n",
    "\n",
    "    # Combine final Previous_Application to df_main\n",
    "    df_main = df_main.merge(grp_CREDBAL,on='SK_ID_CURR',how='left')\n",
    "    df_main.update(df_main[grp_CREDBAL.columns].fillna(0))\n",
    "\n",
    "    # Combining numerical features\n",
    "    CREDBAL_numeric = df_credit_bal.drop('SK_ID_PREV', axis =1).groupby(by=['SK_ID_CURR']).mean().reset_index()\n",
    "    CREDBAL_numeric.columns = create_unique_col(table='CREDITBAL',data=CREDBAL_numeric,ID='SK_ID_CURR')\n",
    "    df_main = df_main.merge(CREDBAL_numeric, on =['SK_ID_CURR'], how = 'left')\n",
    "    df_main.update(df_main[CREDBAL_numeric.columns].fillna(0))\n",
    "\n",
    "    print('Shape after merge Application, Bureau, Bureau_Balance , Previous_Application, POS, INSTALLMENT PAYMENT and CREDIt BAL ', df_main.shape)\n",
    "    \n",
    "    return df_main\n"
   ]
  },
  {
   "cell_type": "markdown",
   "metadata": {
    "id": "yKx31b46ysTs"
   },
   "source": []
  },
  {
   "cell_type": "code",
   "execution_count": 24,
   "metadata": {
    "colab": {
     "base_uri": "https://localhost:8080/"
    },
    "executionInfo": {
     "elapsed": 78260,
     "status": "ok",
     "timestamp": 1611652478425,
     "user": {
      "displayName": "sathish anantha",
      "photoUrl": "https://lh3.googleusercontent.com/a-/AOh14Ghdw5Sh92a17sXj4ePDAB2diHt3YItsnu17FEdHoBI=s64",
      "userId": "06917965946637727718"
     },
     "user_tz": -330
    },
    "id": "YLje08f9ysTs",
    "outputId": "0681c658-253f-4d97-c870-c75919a16c13"
   },
   "outputs": [
    {
     "name": "stdout",
     "output_type": "stream",
     "text": [
      "----------------------------------------------------------------------------------------------------\n",
      "Memory usage of dataframe: 286.23 MB\n",
      "Memory usage after optimization: 92.38 MB\n",
      "Decreased by 67.7%\n",
      "----------------------------------------------------------------------------------------------------\n",
      "----------------------------------------------------------------------------------------------------\n",
      "Memory usage of dataframe: 45.00 MB\n",
      "Memory usage after optimization: 14.60 MB\n",
      "Decreased by 67.6%\n",
      "----------------------------------------------------------------------------------------------------\n",
      "----------------------------------------------------------------------------------------------------\n",
      "Memory usage of dataframe: 222.62 MB\n",
      "Memory usage after optimization: 112.95 MB\n",
      "Decreased by 49.3%\n",
      "----------------------------------------------------------------------------------------------------\n",
      "----------------------------------------------------------------------------------------------------\n",
      "Memory usage of dataframe: 624.85 MB\n",
      "Memory usage after optimization: 338.46 MB\n",
      "Decreased by 45.8%\n",
      "----------------------------------------------------------------------------------------------------\n",
      "----------------------------------------------------------------------------------------------------\n",
      "Memory usage of dataframe: 471.48 MB\n",
      "Memory usage after optimization: 309.01 MB\n",
      "Decreased by 34.5%\n",
      "----------------------------------------------------------------------------------------------------\n",
      "----------------------------------------------------------------------------------------------------\n",
      "Memory usage of dataframe: 610.43 MB\n",
      "Memory usage after optimization: 238.45 MB\n",
      "Decreased by 60.9%\n",
      "----------------------------------------------------------------------------------------------------\n",
      "----------------------------------------------------------------------------------------------------\n",
      "Memory usage of dataframe: 673.88 MB\n",
      "Memory usage after optimization: 289.33 MB\n",
      "Decreased by 57.1%\n",
      "----------------------------------------------------------------------------------------------------\n",
      "----------------------------------------------------------------------------------------------------\n",
      "Memory usage of dataframe: 830.41 MB\n",
      "Memory usage after optimization: 311.40 MB\n",
      "Decreased by 62.5%\n",
      "----------------------------------------------------------------------------------------------------\n"
     ]
    }
   ],
   "source": [
    "df, df_test, df_bureau,df_bureau_bal,df_prev_app,df_pos, df_credit_bal,df_inst_pay = read_mandatory_files()"
   ]
  },
  {
   "cell_type": "code",
   "execution_count": 25,
   "metadata": {
    "executionInfo": {
     "elapsed": 1438,
     "status": "ok",
     "timestamp": 1611652482241,
     "user": {
      "displayName": "sathish anantha",
      "photoUrl": "https://lh3.googleusercontent.com/a-/AOh14Ghdw5Sh92a17sXj4ePDAB2diHt3YItsnu17FEdHoBI=s64",
      "userId": "06917965946637727718"
     },
     "user_tz": -330
    },
    "id": "4XK-KP4YysTt"
   },
   "outputs": [],
   "source": [
    "# Data Cleaning\n",
    "df =  data_cleaning(df = df)\n",
    "df_test =  data_cleaning(df = df_test)"
   ]
  },
  {
   "cell_type": "code",
   "execution_count": 26,
   "metadata": {
    "executionInfo": {
     "elapsed": 1362,
     "status": "ok",
     "timestamp": 1611652484632,
     "user": {
      "displayName": "sathish anantha",
      "photoUrl": "https://lh3.googleusercontent.com/a-/AOh14Ghdw5Sh92a17sXj4ePDAB2diHt3YItsnu17FEdHoBI=s64",
      "userId": "06917965946637727718"
     },
     "user_tz": -330
    },
    "id": "2SCa1nRmysTt"
   },
   "outputs": [],
   "source": [
    "# Handling missing value-  Category\n",
    "df =  replacing_missing_category(df = df)\n",
    "df_test =  replacing_missing_category(df = df_test)"
   ]
  },
  {
   "cell_type": "code",
   "execution_count": 27,
   "metadata": {
    "colab": {
     "base_uri": "https://localhost:8080/"
    },
    "executionInfo": {
     "elapsed": 14306,
     "status": "ok",
     "timestamp": 1611652499589,
     "user": {
      "displayName": "sathish anantha",
      "photoUrl": "https://lh3.googleusercontent.com/a-/AOh14Ghdw5Sh92a17sXj4ePDAB2diHt3YItsnu17FEdHoBI=s64",
      "userId": "06917965946637727718"
     },
     "user_tz": -330
    },
    "id": "Qs_qtnEPysTt",
    "outputId": "4c02f36f-1853-4aaa-d537-383083fb2d49"
   },
   "outputs": [
    {
     "name": "stderr",
     "output_type": "stream",
     "text": [
      "\r",
      "  0%|          | 0/18 [00:00<?, ?it/s]"
     ]
    },
    {
     "name": "stdout",
     "output_type": "stream",
     "text": [
      "Shape of application train before Encoding  (307507, 123)\n",
      "Shape of application test before Encoding  (48744, 122)\n"
     ]
    },
    {
     "name": "stderr",
     "output_type": "stream",
     "text": [
      "100%|██████████| 18/18 [00:12<00:00,  1.39it/s]"
     ]
    },
    {
     "name": "stdout",
     "output_type": "stream",
     "text": [
      "Shape of application train after Encoding  (307507, 256)\n",
      "Shape of application test after Encoding  (48744, 255)\n"
     ]
    },
    {
     "name": "stderr",
     "output_type": "stream",
     "text": [
      "\n"
     ]
    }
   ],
   "source": [
    "# OneHot encoding and Label encoding\n",
    "df, df_test =  category_to_numeric(df = df, df_test=df_test) "
   ]
  },
  {
   "cell_type": "code",
   "execution_count": 29,
   "metadata": {
    "colab": {
     "base_uri": "https://localhost:8080/"
    },
    "executionInfo": {
     "elapsed": 1144,
     "status": "ok",
     "timestamp": 1611652503375,
     "user": {
      "displayName": "sathish anantha",
      "photoUrl": "https://lh3.googleusercontent.com/a-/AOh14Ghdw5Sh92a17sXj4ePDAB2diHt3YItsnu17FEdHoBI=s64",
      "userId": "06917965946637727718"
     },
     "user_tz": -330
    },
    "id": "pDKLRqHlysTu",
    "outputId": "da473907-2ff5-4b99-e174-8476cdb98a1f"
   },
   "outputs": [
    {
     "name": "stdout",
     "output_type": "stream",
     "text": [
      "Shape of application train  (307507, 261)\n",
      "Shape of application test  (48744, 260)\n"
     ]
    }
   ],
   "source": [
    "# create custome features for train and test application\n",
    "df, df_test = create_custom_features_main_table(df=df, df_test=df_test)\n",
    "print('Shape of application train ', df.shape)\n",
    "print('Shape of application test ', df_test.shape)"
   ]
  },
  {
   "cell_type": "code",
   "execution_count": 30,
   "metadata": {
    "colab": {
     "base_uri": "https://localhost:8080/"
    },
    "executionInfo": {
     "elapsed": 36332,
     "status": "ok",
     "timestamp": 1611652543934,
     "user": {
      "displayName": "sathish anantha",
      "photoUrl": "https://lh3.googleusercontent.com/a-/AOh14Ghdw5Sh92a17sXj4ePDAB2diHt3YItsnu17FEdHoBI=s64",
      "userId": "06917965946637727718"
     },
     "user_tz": -330
    },
    "id": "sJoXpM5-s3E2",
    "outputId": "1d9abc77-3104-4b5d-c1bc-6e687e6c96b5"
   },
   "outputs": [
    {
     "name": "stdout",
     "output_type": "stream",
     "text": [
      "                           Total   Percent\n",
      "COMMONAREA_MODE           214862  0.698722\n",
      "COMMONAREA_MEDI           214862  0.698722\n",
      "COMMONAREA_AVG            214862  0.698722\n",
      "NONLIVINGAPARTMENTS_AVG   213512  0.694332\n",
      "NONLIVINGAPARTMENTS_MEDI  213512  0.694332\n",
      "                          Total   Percent\n",
      "COMMONAREA_MEDI           33495  0.687161\n",
      "COMMONAREA_AVG            33495  0.687161\n",
      "COMMONAREA_MODE           33495  0.687161\n",
      "NONLIVINGAPARTMENTS_AVG   33347  0.684125\n",
      "NONLIVINGAPARTMENTS_MEDI  33347  0.684125\n",
      "NONLIVINGAPARTMENTS_MODE  33347  0.684125\n",
      "LIVINGAPARTMENTS_AVG      32780  0.672493\n",
      "LIVINGAPARTMENTS_MODE     32780  0.672493\n",
      "LIVINGAPARTMENTS_MEDI     32780  0.672493\n",
      "FLOORSMIN_MODE            32466  0.666051\n",
      "Training data shape:  (307507, 260)\n",
      "Testing data shape:  (48744, 260)\n",
      "Missing value_count after Imputation \n",
      "\n",
      "                  Total  Percent\n",
      "TARGET                0      0.0\n",
      "FLAG_DOCUMENT_21      0      0.0\n",
      "FLAG_DOCUMENT_19      0      0.0\n",
      "FLAG_DOCUMENT_18      0      0.0\n",
      "FLAG_DOCUMENT_17      0      0.0\n",
      "                  Total  Percent\n",
      "DAR                   0      0.0\n",
      "FLAG_DOCUMENT_21      0      0.0\n",
      "FLAG_DOCUMENT_19      0      0.0\n",
      "FLAG_DOCUMENT_18      0      0.0\n",
      "FLAG_DOCUMENT_17      0      0.0\n",
      " Observation : \n",
      " 1.Now there is no missing value in Train and test\n"
     ]
    }
   ],
   "source": [
    "# Handling missing value-  Category\n",
    "df ,df_test=  replacing_missing_numeric(df = df,df_test = df_test)\n"
   ]
  },
  {
   "cell_type": "code",
   "execution_count": 31,
   "metadata": {
    "colab": {
     "base_uri": "https://localhost:8080/"
    },
    "executionInfo": {
     "elapsed": 5215,
     "status": "ok",
     "timestamp": 1611652554349,
     "user": {
      "displayName": "sathish anantha",
      "photoUrl": "https://lh3.googleusercontent.com/a-/AOh14Ghdw5Sh92a17sXj4ePDAB2diHt3YItsnu17FEdHoBI=s64",
      "userId": "06917965946637727718"
     },
     "user_tz": -330
    },
    "id": "LIhV0vgNysTu",
    "outputId": "b196bddd-f594-4417-e659-0cbbf19a2023"
   },
   "outputs": [
    {
     "name": "stdout",
     "output_type": "stream",
     "text": [
      "Past loan details (305811, 2)\n",
      "credit_type details (305811, 2)\n",
      "sum_total_count details (305811, 2)\n",
      "sum_total_count_debt details (305811, 2)\n",
      "Merge of sum_total_count and sum_total_count_debt (305811, 4)\n",
      "Sum of over due amount (305811, 2)\n",
      "Sum of total debt amount  (305811, 2)\n",
      "Ratio of Overdue and credit debt amount (305811, 4)\n"
     ]
    }
   ],
   "source": [
    "# Bureau table custom features\n",
    "df_bureau = create_custom_bureau_feature(df_bureau=df_bureau)"
   ]
  },
  {
   "cell_type": "code",
   "execution_count": 32,
   "metadata": {
    "colab": {
     "base_uri": "https://localhost:8080/"
    },
    "executionInfo": {
     "elapsed": 10285,
     "status": "ok",
     "timestamp": 1611652565207,
     "user": {
      "displayName": "sathish anantha",
      "photoUrl": "https://lh3.googleusercontent.com/a-/AOh14Ghdw5Sh92a17sXj4ePDAB2diHt3YItsnu17FEdHoBI=s64",
      "userId": "06917965946637727718"
     },
     "user_tz": -330
    },
    "id": "CAqB4y44ysTv",
    "outputId": "f1589665-2dfc-4d81-b0e6-f060796f81e8"
   },
   "outputs": [
    {
     "name": "stdout",
     "output_type": "stream",
     "text": [
      "Column_names_Categorical Index(['SK_ID_CURR', 'Bureau_Active', 'Bureau_Bad debt', 'Bureau_Closed',\n",
      "       'Bureau_Sold', 'Bureau_currency 1', 'Bureau_currency 2',\n",
      "       'Bureau_currency 3', 'Bureau_currency 4', 'Bureau_Another type of loan',\n",
      "       'Bureau_Car loan', 'Bureau_Cash loan (non-earmarked)',\n",
      "       'Bureau_Consumer credit', 'Bureau_Credit card',\n",
      "       'Bureau_Interbank credit', 'Bureau_Loan for business development',\n",
      "       'Bureau_Loan for purchase of shares (margin lending)',\n",
      "       'Bureau_Loan for the purchase of equipment',\n",
      "       'Bureau_Loan for working capital replenishment', 'Bureau_Microloan',\n",
      "       'Bureau_Mobile operator loan', 'Bureau_Mortgage',\n",
      "       'Bureau_Real estate loan', 'Bureau_Unknown type of loan'],\n",
      "      dtype='object')\n",
      "Column_names_Numeric Index(['SK_ID_CURR', 'DAYS_CREDIT', 'CREDIT_DAY_OVERDUE',\n",
      "       'DAYS_CREDIT_ENDDATE', 'DAYS_ENDDATE_FACT', 'AMT_CREDIT_MAX_OVERDUE',\n",
      "       'CNT_CREDIT_PROLONG', 'AMT_CREDIT_SUM', 'AMT_CREDIT_SUM_DEBT',\n",
      "       'AMT_CREDIT_SUM_LIMIT', 'AMT_CREDIT_SUM_OVERDUE', 'DAYS_CREDIT_UPDATE',\n",
      "       'AMT_ANNUITY', 'LOAN_COUNT_BUREAU', 'LOAN_TYPES_BUREAU',\n",
      "       'TOTAL_LOAN_AMT_SUM', 'TOTAL_LOAN_AMT_SUM_DEBT', 'debt_credit_ratio',\n",
      "       'SUM_AMT_CREDIT_SUM_OVERDUE', 'TOTAL_CUSTOMER_DEBT',\n",
      "       'overdue_debt_ratio'],\n",
      "      dtype='object')\n",
      "New Column names  - \n",
      "['SK_ID_CURR', 'Bureau_DAYS_CREDIT', 'Bureau_CREDIT_DAY_OVERDUE', 'Bureau_DAYS_CREDIT_ENDDATE', 'Bureau_DAYS_ENDDATE_FACT', 'Bureau_AMT_CREDIT_MAX_OVERDUE', 'Bureau_CNT_CREDIT_PROLONG', 'Bureau_AMT_CREDIT_SUM', 'Bureau_AMT_CREDIT_SUM_DEBT', 'Bureau_AMT_CREDIT_SUM_LIMIT', 'Bureau_AMT_CREDIT_SUM_OVERDUE', 'Bureau_DAYS_CREDIT_UPDATE', 'Bureau_AMT_ANNUITY', 'Bureau_LOAN_COUNT_BUREAU', 'Bureau_LOAN_TYPES_BUREAU', 'Bureau_TOTAL_LOAN_AMT_SUM', 'Bureau_TOTAL_LOAN_AMT_SUM_DEBT', 'Bureau_debt_credit_ratio', 'Bureau_SUM_AMT_CREDIT_SUM_OVERDUE', 'Bureau_TOTAL_CUSTOMER_DEBT', 'Bureau_overdue_debt_ratio']\n",
      "Column_names_Categorical Index(['SK_ID_CURR', 'Bureau_Active', 'Bureau_Bad debt', 'Bureau_Closed',\n",
      "       'Bureau_Sold', 'Bureau_currency 1', 'Bureau_currency 2',\n",
      "       'Bureau_currency 3', 'Bureau_currency 4', 'Bureau_Another type of loan',\n",
      "       'Bureau_Car loan', 'Bureau_Cash loan (non-earmarked)',\n",
      "       'Bureau_Consumer credit', 'Bureau_Credit card',\n",
      "       'Bureau_Interbank credit', 'Bureau_Loan for business development',\n",
      "       'Bureau_Loan for purchase of shares (margin lending)',\n",
      "       'Bureau_Loan for the purchase of equipment',\n",
      "       'Bureau_Loan for working capital replenishment', 'Bureau_Microloan',\n",
      "       'Bureau_Mobile operator loan', 'Bureau_Mortgage',\n",
      "       'Bureau_Real estate loan', 'Bureau_Unknown type of loan'],\n",
      "      dtype='object')\n",
      "Column_names_Numeric Index(['SK_ID_CURR', 'DAYS_CREDIT', 'CREDIT_DAY_OVERDUE',\n",
      "       'DAYS_CREDIT_ENDDATE', 'DAYS_ENDDATE_FACT', 'AMT_CREDIT_MAX_OVERDUE',\n",
      "       'CNT_CREDIT_PROLONG', 'AMT_CREDIT_SUM', 'AMT_CREDIT_SUM_DEBT',\n",
      "       'AMT_CREDIT_SUM_LIMIT', 'AMT_CREDIT_SUM_OVERDUE', 'DAYS_CREDIT_UPDATE',\n",
      "       'AMT_ANNUITY', 'LOAN_COUNT_BUREAU', 'LOAN_TYPES_BUREAU',\n",
      "       'TOTAL_LOAN_AMT_SUM', 'TOTAL_LOAN_AMT_SUM_DEBT', 'debt_credit_ratio',\n",
      "       'SUM_AMT_CREDIT_SUM_OVERDUE', 'TOTAL_CUSTOMER_DEBT',\n",
      "       'overdue_debt_ratio'],\n",
      "      dtype='object')\n",
      "New Column names  - \n",
      "['SK_ID_CURR', 'Bureau_DAYS_CREDIT', 'Bureau_CREDIT_DAY_OVERDUE', 'Bureau_DAYS_CREDIT_ENDDATE', 'Bureau_DAYS_ENDDATE_FACT', 'Bureau_AMT_CREDIT_MAX_OVERDUE', 'Bureau_CNT_CREDIT_PROLONG', 'Bureau_AMT_CREDIT_SUM', 'Bureau_AMT_CREDIT_SUM_DEBT', 'Bureau_AMT_CREDIT_SUM_LIMIT', 'Bureau_AMT_CREDIT_SUM_OVERDUE', 'Bureau_DAYS_CREDIT_UPDATE', 'Bureau_AMT_ANNUITY', 'Bureau_LOAN_COUNT_BUREAU', 'Bureau_LOAN_TYPES_BUREAU', 'Bureau_TOTAL_LOAN_AMT_SUM', 'Bureau_TOTAL_LOAN_AMT_SUM_DEBT', 'Bureau_debt_credit_ratio', 'Bureau_SUM_AMT_CREDIT_SUM_OVERDUE', 'Bureau_TOTAL_CUSTOMER_DEBT', 'Bureau_overdue_debt_ratio']\n"
     ]
    }
   ],
   "source": [
    "# Join application and bureau table\n",
    "df_main = join_application_bureau(df = df, df_bureau=df_bureau)\n",
    "\n",
    "df_main_test = join_application_bureau(df = df_test, df_bureau=df_bureau)"
   ]
  },
  {
   "cell_type": "code",
   "execution_count": 33,
   "metadata": {
    "colab": {
     "base_uri": "https://localhost:8080/"
    },
    "executionInfo": {
     "elapsed": 38718,
     "status": "ok",
     "timestamp": 1611652607253,
     "user": {
      "displayName": "sathish anantha",
      "photoUrl": "https://lh3.googleusercontent.com/a-/AOh14Ghdw5Sh92a17sXj4ePDAB2diHt3YItsnu17FEdHoBI=s64",
      "userId": "06917965946637727718"
     },
     "user_tz": -330
    },
    "id": "pdyE27UmysTv",
    "outputId": "d8507234-fc2b-4782-b281-580502eefb3e"
   },
   "outputs": [
    {
     "name": "stdout",
     "output_type": "stream",
     "text": [
      "New Column names  - \n",
      "['SK_ID_CURR', 'Bureau_bal_MONTHS_BALANCE', 'Bureau_bal_STATUS', 'Bureau_bal_WEIGHT_status']\n",
      "Shape of main table after merge Application, Bureau and Bureau_balance (307507, 307)\n",
      "New Column names  - \n",
      "['SK_ID_CURR', 'Bureau_bal_MONTHS_BALANCE', 'Bureau_bal_STATUS', 'Bureau_bal_WEIGHT_status']\n",
      "Shape of main table after merge Application, Bureau and Bureau_balance (48744, 306)\n"
     ]
    }
   ],
   "source": [
    "# Join application, bureau and Bureau_balance\n",
    "df_main = merge_application_BureauBal(df_main=df_main, df_bureau=df_bureau, df_bureau_bal=df_bureau_bal)\n",
    "\n",
    "df_main_test = merge_application_BureauBal(df_main=df_main_test, df_bureau=df_bureau, df_bureau_bal=df_bureau_bal)\n"
   ]
  },
  {
   "cell_type": "code",
   "execution_count": 34,
   "metadata": {
    "colab": {
     "base_uri": "https://localhost:8080/"
    },
    "executionInfo": {
     "elapsed": 1345,
     "status": "ok",
     "timestamp": 1611652611413,
     "user": {
      "displayName": "sathish anantha",
      "photoUrl": "https://lh3.googleusercontent.com/a-/AOh14Ghdw5Sh92a17sXj4ePDAB2diHt3YItsnu17FEdHoBI=s64",
      "userId": "06917965946637727718"
     },
     "user_tz": -330
    },
    "id": "OO2iuFpV4eJJ",
    "outputId": "4dd412b3-e693-444b-9642-7cb6c8a7d093"
   },
   "outputs": [
    {
     "name": "stdout",
     "output_type": "stream",
     "text": [
      "After creating custom feature  (1670214, 45)\n"
     ]
    }
   ],
   "source": [
    "#Creating custom features for previous applications\n",
    "df_prev_app = create_custom_prevapp_feature(previous_application=df_prev_app)"
   ]
  },
  {
   "cell_type": "code",
   "execution_count": 35,
   "metadata": {
    "colab": {
     "base_uri": "https://localhost:8080/"
    },
    "executionInfo": {
     "elapsed": 38055,
     "status": "ok",
     "timestamp": 1611652654151,
     "user": {
      "displayName": "sathish anantha",
      "photoUrl": "https://lh3.googleusercontent.com/a-/AOh14Ghdw5Sh92a17sXj4ePDAB2diHt3YItsnu17FEdHoBI=s64",
      "userId": "06917965946637727718"
     },
     "user_tz": -330
    },
    "id": "7bQVRJyJysTv",
    "outputId": "5e837cae-fb5b-4eb7-c472-de82842d1ff3"
   },
   "outputs": [
    {
     "name": "stdout",
     "output_type": "stream",
     "text": [
      "New Column names  - \n",
      "['SK_ID_CURR', 'PREV_APP_NAME_CONTRACT_TYPE_Cash loans', 'PREV_APP_NAME_CONTRACT_TYPE_Consumer loans', 'PREV_APP_NAME_CONTRACT_TYPE_Revolving loans', 'PREV_APP_NAME_CONTRACT_TYPE_XNA', 'PREV_APP_WEEKDAY_APPR_PROCESS_START_FRIDAY', 'PREV_APP_WEEKDAY_APPR_PROCESS_START_MONDAY', 'PREV_APP_WEEKDAY_APPR_PROCESS_START_SATURDAY', 'PREV_APP_WEEKDAY_APPR_PROCESS_START_SUNDAY', 'PREV_APP_WEEKDAY_APPR_PROCESS_START_THURSDAY', 'PREV_APP_WEEKDAY_APPR_PROCESS_START_TUESDAY', 'PREV_APP_WEEKDAY_APPR_PROCESS_START_WEDNESDAY', 'PREV_APP_FLAG_LAST_APPL_PER_CONTRACT_N', 'PREV_APP_FLAG_LAST_APPL_PER_CONTRACT_Y', 'PREV_APP_NAME_CASH_LOAN_PURPOSE_Building a house or an annex', 'PREV_APP_NAME_CASH_LOAN_PURPOSE_Business development', 'PREV_APP_NAME_CASH_LOAN_PURPOSE_Buying a garage', 'PREV_APP_NAME_CASH_LOAN_PURPOSE_Buying a holiday home / land', 'PREV_APP_NAME_CASH_LOAN_PURPOSE_Buying a home', 'PREV_APP_NAME_CASH_LOAN_PURPOSE_Buying a new car', 'PREV_APP_NAME_CASH_LOAN_PURPOSE_Buying a used car', 'PREV_APP_NAME_CASH_LOAN_PURPOSE_Car repairs', 'PREV_APP_NAME_CASH_LOAN_PURPOSE_Education', 'PREV_APP_NAME_CASH_LOAN_PURPOSE_Everyday expenses', 'PREV_APP_NAME_CASH_LOAN_PURPOSE_Furniture', 'PREV_APP_NAME_CASH_LOAN_PURPOSE_Gasification / water supply', 'PREV_APP_NAME_CASH_LOAN_PURPOSE_Hobby', 'PREV_APP_NAME_CASH_LOAN_PURPOSE_Journey', 'PREV_APP_NAME_CASH_LOAN_PURPOSE_Medicine', 'PREV_APP_NAME_CASH_LOAN_PURPOSE_Money for a third person', 'PREV_APP_NAME_CASH_LOAN_PURPOSE_Other', 'PREV_APP_NAME_CASH_LOAN_PURPOSE_Payments on other loans', 'PREV_APP_NAME_CASH_LOAN_PURPOSE_Purchase of electronic equipment', 'PREV_APP_NAME_CASH_LOAN_PURPOSE_Refusal to name the goal', 'PREV_APP_NAME_CASH_LOAN_PURPOSE_Repairs', 'PREV_APP_NAME_CASH_LOAN_PURPOSE_Urgent needs', 'PREV_APP_NAME_CASH_LOAN_PURPOSE_Wedding / gift / holiday', 'PREV_APP_NAME_CASH_LOAN_PURPOSE_XAP', 'PREV_APP_NAME_CASH_LOAN_PURPOSE_XNA', 'PREV_APP_NAME_CONTRACT_STATUS_Approved', 'PREV_APP_NAME_CONTRACT_STATUS_Canceled', 'PREV_APP_NAME_CONTRACT_STATUS_Refused', 'PREV_APP_NAME_CONTRACT_STATUS_Unused offer', 'PREV_APP_NAME_PAYMENT_TYPE_Cash through the bank', 'PREV_APP_NAME_PAYMENT_TYPE_Cashless from the account of the employer', 'PREV_APP_NAME_PAYMENT_TYPE_Non-cash from your account', 'PREV_APP_NAME_PAYMENT_TYPE_XNA', 'PREV_APP_CODE_REJECT_REASON_CLIENT', 'PREV_APP_CODE_REJECT_REASON_HC', 'PREV_APP_CODE_REJECT_REASON_LIMIT', 'PREV_APP_CODE_REJECT_REASON_SCO', 'PREV_APP_CODE_REJECT_REASON_SCOFR', 'PREV_APP_CODE_REJECT_REASON_SYSTEM', 'PREV_APP_CODE_REJECT_REASON_VERIF', 'PREV_APP_CODE_REJECT_REASON_XAP', 'PREV_APP_CODE_REJECT_REASON_XNA', 'PREV_APP_NAME_TYPE_SUITE_Children', 'PREV_APP_NAME_TYPE_SUITE_Family', 'PREV_APP_NAME_TYPE_SUITE_Group of people', 'PREV_APP_NAME_TYPE_SUITE_Other_A', 'PREV_APP_NAME_TYPE_SUITE_Other_B', 'PREV_APP_NAME_TYPE_SUITE_Spouse, partner', 'PREV_APP_NAME_TYPE_SUITE_Unaccompanied', 'PREV_APP_NAME_CLIENT_TYPE_New', 'PREV_APP_NAME_CLIENT_TYPE_Refreshed', 'PREV_APP_NAME_CLIENT_TYPE_Repeater', 'PREV_APP_NAME_CLIENT_TYPE_XNA', 'PREV_APP_NAME_GOODS_CATEGORY_Additional Service', 'PREV_APP_NAME_GOODS_CATEGORY_Animals', 'PREV_APP_NAME_GOODS_CATEGORY_Audio/Video', 'PREV_APP_NAME_GOODS_CATEGORY_Auto Accessories', 'PREV_APP_NAME_GOODS_CATEGORY_Clothing and Accessories', 'PREV_APP_NAME_GOODS_CATEGORY_Computers', 'PREV_APP_NAME_GOODS_CATEGORY_Construction Materials', 'PREV_APP_NAME_GOODS_CATEGORY_Consumer Electronics', 'PREV_APP_NAME_GOODS_CATEGORY_Direct Sales', 'PREV_APP_NAME_GOODS_CATEGORY_Education', 'PREV_APP_NAME_GOODS_CATEGORY_Fitness', 'PREV_APP_NAME_GOODS_CATEGORY_Furniture', 'PREV_APP_NAME_GOODS_CATEGORY_Gardening', 'PREV_APP_NAME_GOODS_CATEGORY_Homewares', 'PREV_APP_NAME_GOODS_CATEGORY_House Construction', 'PREV_APP_NAME_GOODS_CATEGORY_Insurance', 'PREV_APP_NAME_GOODS_CATEGORY_Jewelry', 'PREV_APP_NAME_GOODS_CATEGORY_Medical Supplies', 'PREV_APP_NAME_GOODS_CATEGORY_Medicine', 'PREV_APP_NAME_GOODS_CATEGORY_Mobile', 'PREV_APP_NAME_GOODS_CATEGORY_Office Appliances', 'PREV_APP_NAME_GOODS_CATEGORY_Other', 'PREV_APP_NAME_GOODS_CATEGORY_Photo / Cinema Equipment', 'PREV_APP_NAME_GOODS_CATEGORY_Sport and Leisure', 'PREV_APP_NAME_GOODS_CATEGORY_Tourism', 'PREV_APP_NAME_GOODS_CATEGORY_Vehicles', 'PREV_APP_NAME_GOODS_CATEGORY_Weapon', 'PREV_APP_NAME_GOODS_CATEGORY_XNA', 'PREV_APP_NAME_PORTFOLIO_Cards', 'PREV_APP_NAME_PORTFOLIO_Cars', 'PREV_APP_NAME_PORTFOLIO_Cash', 'PREV_APP_NAME_PORTFOLIO_POS', 'PREV_APP_NAME_PORTFOLIO_XNA', 'PREV_APP_NAME_PRODUCT_TYPE_XNA', 'PREV_APP_NAME_PRODUCT_TYPE_walk-in', 'PREV_APP_NAME_PRODUCT_TYPE_x-sell', 'PREV_APP_CHANNEL_TYPE_AP+ (Cash loan)', 'PREV_APP_CHANNEL_TYPE_Car dealer', 'PREV_APP_CHANNEL_TYPE_Channel of corporate sales', 'PREV_APP_CHANNEL_TYPE_Contact center', 'PREV_APP_CHANNEL_TYPE_Country-wide', 'PREV_APP_CHANNEL_TYPE_Credit and cash offices', 'PREV_APP_CHANNEL_TYPE_Regional / Local', 'PREV_APP_CHANNEL_TYPE_Stone', 'PREV_APP_NAME_SELLER_INDUSTRY_Auto technology', 'PREV_APP_NAME_SELLER_INDUSTRY_Clothing', 'PREV_APP_NAME_SELLER_INDUSTRY_Connectivity', 'PREV_APP_NAME_SELLER_INDUSTRY_Construction', 'PREV_APP_NAME_SELLER_INDUSTRY_Consumer electronics', 'PREV_APP_NAME_SELLER_INDUSTRY_Furniture', 'PREV_APP_NAME_SELLER_INDUSTRY_Industry', 'PREV_APP_NAME_SELLER_INDUSTRY_Jewelry', 'PREV_APP_NAME_SELLER_INDUSTRY_MLM partners', 'PREV_APP_NAME_SELLER_INDUSTRY_Tourism', 'PREV_APP_NAME_SELLER_INDUSTRY_XNA', 'PREV_APP_NAME_YIELD_GROUP_XNA', 'PREV_APP_NAME_YIELD_GROUP_high', 'PREV_APP_NAME_YIELD_GROUP_low_action', 'PREV_APP_NAME_YIELD_GROUP_low_normal', 'PREV_APP_NAME_YIELD_GROUP_middle', 'PREV_APP_PRODUCT_COMBINATION_Card Street', 'PREV_APP_PRODUCT_COMBINATION_Card X-Sell', 'PREV_APP_PRODUCT_COMBINATION_Cash', 'PREV_APP_PRODUCT_COMBINATION_Cash Street: high', 'PREV_APP_PRODUCT_COMBINATION_Cash Street: low', 'PREV_APP_PRODUCT_COMBINATION_Cash Street: middle', 'PREV_APP_PRODUCT_COMBINATION_Cash X-Sell: high', 'PREV_APP_PRODUCT_COMBINATION_Cash X-Sell: low', 'PREV_APP_PRODUCT_COMBINATION_Cash X-Sell: middle', 'PREV_APP_PRODUCT_COMBINATION_POS household with interest', 'PREV_APP_PRODUCT_COMBINATION_POS household without interest', 'PREV_APP_PRODUCT_COMBINATION_POS industry with interest', 'PREV_APP_PRODUCT_COMBINATION_POS industry without interest', 'PREV_APP_PRODUCT_COMBINATION_POS mobile with interest', 'PREV_APP_PRODUCT_COMBINATION_POS mobile without interest', 'PREV_APP_PRODUCT_COMBINATION_POS other with interest', 'PREV_APP_PRODUCT_COMBINATION_POS others without interest']\n",
      "New Column names  - \n",
      "['SK_ID_CURR', 'PREV_APP_AMT_ANNUITY', 'PREV_APP_AMT_APPLICATION', 'PREV_APP_AMT_CREDIT', 'PREV_APP_AMT_DOWN_PAYMENT', 'PREV_APP_AMT_GOODS_PRICE', 'PREV_APP_HOUR_APPR_PROCESS_START', 'PREV_APP_NFLAG_LAST_APPL_IN_DAY', 'PREV_APP_RATE_DOWN_PAYMENT', 'PREV_APP_RATE_INTEREST_PRIMARY', 'PREV_APP_RATE_INTEREST_PRIVILEGED', 'PREV_APP_DAYS_DECISION', 'PREV_APP_SELLERPLACE_AREA', 'PREV_APP_CNT_PAYMENT', 'PREV_APP_DAYS_FIRST_DRAWING', 'PREV_APP_DAYS_FIRST_DUE', 'PREV_APP_DAYS_LAST_DUE_1ST_VERSION', 'PREV_APP_DAYS_LAST_DUE', 'PREV_APP_DAYS_TERMINATION', 'PREV_APP_NFLAG_INSURED_ON_APPROVAL', 'PREV_APP_AMT_INTEREST', 'PREV_APP_INTEREST_SHARE', 'PREV_APP_INTEREST_RATE', 'PREV_APP_AMT_DECLINED', 'PREV_APP_AMT_CREDIT_GOODS_RATIO', 'PREV_APP_AMT_CREDIT_GOODS_DIFF', 'PREV_APP_ANNUITY', 'PREV_APP_ANNUITY_GOODS']\n",
      "Shape after merge Application, Bureau, Bureau_Balance and Previous_Application  (307507, 477)\n",
      "New Column names  - \n",
      "['SK_ID_CURR', 'PREV_APP_NAME_CONTRACT_TYPE_Cash loans', 'PREV_APP_NAME_CONTRACT_TYPE_Consumer loans', 'PREV_APP_NAME_CONTRACT_TYPE_Revolving loans', 'PREV_APP_NAME_CONTRACT_TYPE_XNA', 'PREV_APP_WEEKDAY_APPR_PROCESS_START_FRIDAY', 'PREV_APP_WEEKDAY_APPR_PROCESS_START_MONDAY', 'PREV_APP_WEEKDAY_APPR_PROCESS_START_SATURDAY', 'PREV_APP_WEEKDAY_APPR_PROCESS_START_SUNDAY', 'PREV_APP_WEEKDAY_APPR_PROCESS_START_THURSDAY', 'PREV_APP_WEEKDAY_APPR_PROCESS_START_TUESDAY', 'PREV_APP_WEEKDAY_APPR_PROCESS_START_WEDNESDAY', 'PREV_APP_FLAG_LAST_APPL_PER_CONTRACT_N', 'PREV_APP_FLAG_LAST_APPL_PER_CONTRACT_Y', 'PREV_APP_NAME_CASH_LOAN_PURPOSE_Building a house or an annex', 'PREV_APP_NAME_CASH_LOAN_PURPOSE_Business development', 'PREV_APP_NAME_CASH_LOAN_PURPOSE_Buying a garage', 'PREV_APP_NAME_CASH_LOAN_PURPOSE_Buying a holiday home / land', 'PREV_APP_NAME_CASH_LOAN_PURPOSE_Buying a home', 'PREV_APP_NAME_CASH_LOAN_PURPOSE_Buying a new car', 'PREV_APP_NAME_CASH_LOAN_PURPOSE_Buying a used car', 'PREV_APP_NAME_CASH_LOAN_PURPOSE_Car repairs', 'PREV_APP_NAME_CASH_LOAN_PURPOSE_Education', 'PREV_APP_NAME_CASH_LOAN_PURPOSE_Everyday expenses', 'PREV_APP_NAME_CASH_LOAN_PURPOSE_Furniture', 'PREV_APP_NAME_CASH_LOAN_PURPOSE_Gasification / water supply', 'PREV_APP_NAME_CASH_LOAN_PURPOSE_Hobby', 'PREV_APP_NAME_CASH_LOAN_PURPOSE_Journey', 'PREV_APP_NAME_CASH_LOAN_PURPOSE_Medicine', 'PREV_APP_NAME_CASH_LOAN_PURPOSE_Money for a third person', 'PREV_APP_NAME_CASH_LOAN_PURPOSE_Other', 'PREV_APP_NAME_CASH_LOAN_PURPOSE_Payments on other loans', 'PREV_APP_NAME_CASH_LOAN_PURPOSE_Purchase of electronic equipment', 'PREV_APP_NAME_CASH_LOAN_PURPOSE_Refusal to name the goal', 'PREV_APP_NAME_CASH_LOAN_PURPOSE_Repairs', 'PREV_APP_NAME_CASH_LOAN_PURPOSE_Urgent needs', 'PREV_APP_NAME_CASH_LOAN_PURPOSE_Wedding / gift / holiday', 'PREV_APP_NAME_CASH_LOAN_PURPOSE_XAP', 'PREV_APP_NAME_CASH_LOAN_PURPOSE_XNA', 'PREV_APP_NAME_CONTRACT_STATUS_Approved', 'PREV_APP_NAME_CONTRACT_STATUS_Canceled', 'PREV_APP_NAME_CONTRACT_STATUS_Refused', 'PREV_APP_NAME_CONTRACT_STATUS_Unused offer', 'PREV_APP_NAME_PAYMENT_TYPE_Cash through the bank', 'PREV_APP_NAME_PAYMENT_TYPE_Cashless from the account of the employer', 'PREV_APP_NAME_PAYMENT_TYPE_Non-cash from your account', 'PREV_APP_NAME_PAYMENT_TYPE_XNA', 'PREV_APP_CODE_REJECT_REASON_CLIENT', 'PREV_APP_CODE_REJECT_REASON_HC', 'PREV_APP_CODE_REJECT_REASON_LIMIT', 'PREV_APP_CODE_REJECT_REASON_SCO', 'PREV_APP_CODE_REJECT_REASON_SCOFR', 'PREV_APP_CODE_REJECT_REASON_SYSTEM', 'PREV_APP_CODE_REJECT_REASON_VERIF', 'PREV_APP_CODE_REJECT_REASON_XAP', 'PREV_APP_CODE_REJECT_REASON_XNA', 'PREV_APP_NAME_TYPE_SUITE_Children', 'PREV_APP_NAME_TYPE_SUITE_Family', 'PREV_APP_NAME_TYPE_SUITE_Group of people', 'PREV_APP_NAME_TYPE_SUITE_Other_A', 'PREV_APP_NAME_TYPE_SUITE_Other_B', 'PREV_APP_NAME_TYPE_SUITE_Spouse, partner', 'PREV_APP_NAME_TYPE_SUITE_Unaccompanied', 'PREV_APP_NAME_CLIENT_TYPE_New', 'PREV_APP_NAME_CLIENT_TYPE_Refreshed', 'PREV_APP_NAME_CLIENT_TYPE_Repeater', 'PREV_APP_NAME_CLIENT_TYPE_XNA', 'PREV_APP_NAME_GOODS_CATEGORY_Additional Service', 'PREV_APP_NAME_GOODS_CATEGORY_Animals', 'PREV_APP_NAME_GOODS_CATEGORY_Audio/Video', 'PREV_APP_NAME_GOODS_CATEGORY_Auto Accessories', 'PREV_APP_NAME_GOODS_CATEGORY_Clothing and Accessories', 'PREV_APP_NAME_GOODS_CATEGORY_Computers', 'PREV_APP_NAME_GOODS_CATEGORY_Construction Materials', 'PREV_APP_NAME_GOODS_CATEGORY_Consumer Electronics', 'PREV_APP_NAME_GOODS_CATEGORY_Direct Sales', 'PREV_APP_NAME_GOODS_CATEGORY_Education', 'PREV_APP_NAME_GOODS_CATEGORY_Fitness', 'PREV_APP_NAME_GOODS_CATEGORY_Furniture', 'PREV_APP_NAME_GOODS_CATEGORY_Gardening', 'PREV_APP_NAME_GOODS_CATEGORY_Homewares', 'PREV_APP_NAME_GOODS_CATEGORY_House Construction', 'PREV_APP_NAME_GOODS_CATEGORY_Insurance', 'PREV_APP_NAME_GOODS_CATEGORY_Jewelry', 'PREV_APP_NAME_GOODS_CATEGORY_Medical Supplies', 'PREV_APP_NAME_GOODS_CATEGORY_Medicine', 'PREV_APP_NAME_GOODS_CATEGORY_Mobile', 'PREV_APP_NAME_GOODS_CATEGORY_Office Appliances', 'PREV_APP_NAME_GOODS_CATEGORY_Other', 'PREV_APP_NAME_GOODS_CATEGORY_Photo / Cinema Equipment', 'PREV_APP_NAME_GOODS_CATEGORY_Sport and Leisure', 'PREV_APP_NAME_GOODS_CATEGORY_Tourism', 'PREV_APP_NAME_GOODS_CATEGORY_Vehicles', 'PREV_APP_NAME_GOODS_CATEGORY_Weapon', 'PREV_APP_NAME_GOODS_CATEGORY_XNA', 'PREV_APP_NAME_PORTFOLIO_Cards', 'PREV_APP_NAME_PORTFOLIO_Cars', 'PREV_APP_NAME_PORTFOLIO_Cash', 'PREV_APP_NAME_PORTFOLIO_POS', 'PREV_APP_NAME_PORTFOLIO_XNA', 'PREV_APP_NAME_PRODUCT_TYPE_XNA', 'PREV_APP_NAME_PRODUCT_TYPE_walk-in', 'PREV_APP_NAME_PRODUCT_TYPE_x-sell', 'PREV_APP_CHANNEL_TYPE_AP+ (Cash loan)', 'PREV_APP_CHANNEL_TYPE_Car dealer', 'PREV_APP_CHANNEL_TYPE_Channel of corporate sales', 'PREV_APP_CHANNEL_TYPE_Contact center', 'PREV_APP_CHANNEL_TYPE_Country-wide', 'PREV_APP_CHANNEL_TYPE_Credit and cash offices', 'PREV_APP_CHANNEL_TYPE_Regional / Local', 'PREV_APP_CHANNEL_TYPE_Stone', 'PREV_APP_NAME_SELLER_INDUSTRY_Auto technology', 'PREV_APP_NAME_SELLER_INDUSTRY_Clothing', 'PREV_APP_NAME_SELLER_INDUSTRY_Connectivity', 'PREV_APP_NAME_SELLER_INDUSTRY_Construction', 'PREV_APP_NAME_SELLER_INDUSTRY_Consumer electronics', 'PREV_APP_NAME_SELLER_INDUSTRY_Furniture', 'PREV_APP_NAME_SELLER_INDUSTRY_Industry', 'PREV_APP_NAME_SELLER_INDUSTRY_Jewelry', 'PREV_APP_NAME_SELLER_INDUSTRY_MLM partners', 'PREV_APP_NAME_SELLER_INDUSTRY_Tourism', 'PREV_APP_NAME_SELLER_INDUSTRY_XNA', 'PREV_APP_NAME_YIELD_GROUP_XNA', 'PREV_APP_NAME_YIELD_GROUP_high', 'PREV_APP_NAME_YIELD_GROUP_low_action', 'PREV_APP_NAME_YIELD_GROUP_low_normal', 'PREV_APP_NAME_YIELD_GROUP_middle', 'PREV_APP_PRODUCT_COMBINATION_Card Street', 'PREV_APP_PRODUCT_COMBINATION_Card X-Sell', 'PREV_APP_PRODUCT_COMBINATION_Cash', 'PREV_APP_PRODUCT_COMBINATION_Cash Street: high', 'PREV_APP_PRODUCT_COMBINATION_Cash Street: low', 'PREV_APP_PRODUCT_COMBINATION_Cash Street: middle', 'PREV_APP_PRODUCT_COMBINATION_Cash X-Sell: high', 'PREV_APP_PRODUCT_COMBINATION_Cash X-Sell: low', 'PREV_APP_PRODUCT_COMBINATION_Cash X-Sell: middle', 'PREV_APP_PRODUCT_COMBINATION_POS household with interest', 'PREV_APP_PRODUCT_COMBINATION_POS household without interest', 'PREV_APP_PRODUCT_COMBINATION_POS industry with interest', 'PREV_APP_PRODUCT_COMBINATION_POS industry without interest', 'PREV_APP_PRODUCT_COMBINATION_POS mobile with interest', 'PREV_APP_PRODUCT_COMBINATION_POS mobile without interest', 'PREV_APP_PRODUCT_COMBINATION_POS other with interest', 'PREV_APP_PRODUCT_COMBINATION_POS others without interest']\n",
      "New Column names  - \n",
      "['SK_ID_CURR', 'PREV_APP_AMT_ANNUITY', 'PREV_APP_AMT_APPLICATION', 'PREV_APP_AMT_CREDIT', 'PREV_APP_AMT_DOWN_PAYMENT', 'PREV_APP_AMT_GOODS_PRICE', 'PREV_APP_HOUR_APPR_PROCESS_START', 'PREV_APP_NFLAG_LAST_APPL_IN_DAY', 'PREV_APP_RATE_DOWN_PAYMENT', 'PREV_APP_RATE_INTEREST_PRIMARY', 'PREV_APP_RATE_INTEREST_PRIVILEGED', 'PREV_APP_DAYS_DECISION', 'PREV_APP_SELLERPLACE_AREA', 'PREV_APP_CNT_PAYMENT', 'PREV_APP_DAYS_FIRST_DRAWING', 'PREV_APP_DAYS_FIRST_DUE', 'PREV_APP_DAYS_LAST_DUE_1ST_VERSION', 'PREV_APP_DAYS_LAST_DUE', 'PREV_APP_DAYS_TERMINATION', 'PREV_APP_NFLAG_INSURED_ON_APPROVAL', 'PREV_APP_AMT_INTEREST', 'PREV_APP_INTEREST_SHARE', 'PREV_APP_INTEREST_RATE', 'PREV_APP_AMT_DECLINED', 'PREV_APP_AMT_CREDIT_GOODS_RATIO', 'PREV_APP_AMT_CREDIT_GOODS_DIFF', 'PREV_APP_ANNUITY', 'PREV_APP_ANNUITY_GOODS']\n",
      "Shape after merge Application, Bureau, Bureau_Balance and Previous_Application  (48744, 476)\n"
     ]
    }
   ],
   "source": [
    "# Join application, bureau , Bureau_balance and previous application\n",
    "df_main = merge_application_prev_app(df_main=df_main, df_prev_app=df_prev_app)  \n",
    "\n",
    "df_main_test = merge_application_prev_app(df_main=df_main_test, df_prev_app=df_prev_app)  \n"
   ]
  },
  {
   "cell_type": "code",
   "execution_count": 38,
   "metadata": {
    "colab": {
     "base_uri": "https://localhost:8080/"
    },
    "executionInfo": {
     "elapsed": 1153,
     "status": "ok",
     "timestamp": 1611652770669,
     "user": {
      "displayName": "sathish anantha",
      "photoUrl": "https://lh3.googleusercontent.com/a-/AOh14Ghdw5Sh92a17sXj4ePDAB2diHt3YItsnu17FEdHoBI=s64",
      "userId": "06917965946637727718"
     },
     "user_tz": -330
    },
    "id": "-Zrsbo8o7x4f",
    "outputId": "ede7f194-3af4-4fdf-93dc-57799df7e4e9"
   },
   "outputs": [
    {
     "name": "stdout",
     "output_type": "stream",
     "text": [
      "Shape of POS after feature engineering (10001358, 10)\n"
     ]
    }
   ],
   "source": [
    "# create new feature based on existing column in POS table\n",
    "df_pos = create_custom_pos_feature(pos_cash=df_pos)"
   ]
  },
  {
   "cell_type": "code",
   "execution_count": 39,
   "metadata": {
    "colab": {
     "base_uri": "https://localhost:8080/"
    },
    "executionInfo": {
     "elapsed": 29917,
     "status": "ok",
     "timestamp": 1611652808343,
     "user": {
      "displayName": "sathish anantha",
      "photoUrl": "https://lh3.googleusercontent.com/a-/AOh14Ghdw5Sh92a17sXj4ePDAB2diHt3YItsnu17FEdHoBI=s64",
      "userId": "06917965946637727718"
     },
     "user_tz": -330
    },
    "id": "ARqimBKnysTw",
    "outputId": "57b3af6a-0197-429b-9d74-206fbdb0d67c"
   },
   "outputs": [
    {
     "name": "stdout",
     "output_type": "stream",
     "text": [
      "New Column names  - \n",
      "['SK_ID_CURR', 'POS_NAME_CONTRACT_STATUS_Active', 'POS_NAME_CONTRACT_STATUS_Amortized debt', 'POS_NAME_CONTRACT_STATUS_Approved', 'POS_NAME_CONTRACT_STATUS_Canceled', 'POS_NAME_CONTRACT_STATUS_Completed', 'POS_NAME_CONTRACT_STATUS_Demand', 'POS_NAME_CONTRACT_STATUS_Returned to the store', 'POS_NAME_CONTRACT_STATUS_Signed', 'POS_NAME_CONTRACT_STATUS_XNA']\n",
      "New Column names  - \n",
      "['SK_ID_CURR', 'POS_MONTHS_BALANCE', 'POS_CNT_INSTALMENT', 'POS_CNT_INSTALMENT_FUTURE', 'POS_SK_DPD', 'POS_SK_DPD_DEF', 'POS_SK_DPD_RATIO', 'POS_TOTAL_TERM']\n",
      "Shape after merge Application, Bureau, Bureau_Balance , Previous_Application and POS  (307507, 493)\n",
      "New Column names  - \n",
      "['SK_ID_CURR', 'POS_NAME_CONTRACT_STATUS_Active', 'POS_NAME_CONTRACT_STATUS_Amortized debt', 'POS_NAME_CONTRACT_STATUS_Approved', 'POS_NAME_CONTRACT_STATUS_Canceled', 'POS_NAME_CONTRACT_STATUS_Completed', 'POS_NAME_CONTRACT_STATUS_Demand', 'POS_NAME_CONTRACT_STATUS_Returned to the store', 'POS_NAME_CONTRACT_STATUS_Signed', 'POS_NAME_CONTRACT_STATUS_XNA']\n",
      "New Column names  - \n",
      "['SK_ID_CURR', 'POS_MONTHS_BALANCE', 'POS_CNT_INSTALMENT', 'POS_CNT_INSTALMENT_FUTURE', 'POS_SK_DPD', 'POS_SK_DPD_DEF', 'POS_SK_DPD_RATIO', 'POS_TOTAL_TERM']\n",
      "Shape after merge Application, Bureau, Bureau_Balance , Previous_Application and POS  (48744, 492)\n"
     ]
    }
   ],
   "source": [
    "# Join application, bureau , Bureau_balance , previous application and pos\n",
    "df_main = merge_application_pos(df_main=df_main, df_pos=df_pos)  \n",
    "\n",
    "df_main_test = merge_application_pos(df_main=df_main_test, df_pos=df_pos)  \n"
   ]
  },
  {
   "cell_type": "code",
   "execution_count": 40,
   "metadata": {
    "colab": {
     "base_uri": "https://localhost:8080/"
    },
    "executionInfo": {
     "elapsed": 1714,
     "status": "ok",
     "timestamp": 1611652843437,
     "user": {
      "displayName": "sathish anantha",
      "photoUrl": "https://lh3.googleusercontent.com/a-/AOh14Ghdw5Sh92a17sXj4ePDAB2diHt3YItsnu17FEdHoBI=s64",
      "userId": "06917965946637727718"
     },
     "user_tz": -330
    },
    "id": "FUUV_hwz6lxc",
    "outputId": "82fdfc15-9e85-423c-e7d9-5a9fd1a77599"
   },
   "outputs": [
    {
     "name": "stdout",
     "output_type": "stream",
     "text": [
      "Shape of InstallPayment after feature engineering (13605401, 12)\n"
     ]
    }
   ],
   "source": [
    "#Creating custom features - Install payment features\n",
    "df_inst_pay  = create_custom_Inspay_feature(installments_payments=df_inst_pay)"
   ]
  },
  {
   "cell_type": "code",
   "execution_count": 41,
   "metadata": {
    "colab": {
     "base_uri": "https://localhost:8080/"
    },
    "executionInfo": {
     "elapsed": 16060,
     "status": "ok",
     "timestamp": 1611652861215,
     "user": {
      "displayName": "sathish anantha",
      "photoUrl": "https://lh3.googleusercontent.com/a-/AOh14Ghdw5Sh92a17sXj4ePDAB2diHt3YItsnu17FEdHoBI=s64",
      "userId": "06917965946637727718"
     },
     "user_tz": -330
    },
    "id": "l59eCZzBysTw",
    "outputId": "a6b9630f-36f4-48f6-d164-dc9e0af3876c"
   },
   "outputs": [
    {
     "name": "stdout",
     "output_type": "stream",
     "text": [
      "New Column names  - \n",
      "['SK_ID_CURR', 'INSTPAY_NUM_INSTALMENT_VERSION', 'INSTPAY_NUM_INSTALMENT_NUMBER', 'INSTPAY_DAYS_INSTALMENT', 'INSTPAY_DAYS_ENTRY_PAYMENT', 'INSTPAY_AMT_INSTALMENT', 'INSTPAY_AMT_PAYMENT', 'INSTPAY_AMT_PAYMENT_DIFF', 'INSTPAY_AMT_PAYMENT_RATIO', 'INSTPAY_DAYS_PAYMENT_RATIO', 'INSTPAY_DAYS_PAYMENT_DIFF']\n",
      "Shape after merge Application, Bureau, Bureau_Balance , Previous_Application, POS and InstantPay  (307507, 503)\n",
      "New Column names  - \n",
      "['SK_ID_CURR', 'INSTPAY_NUM_INSTALMENT_VERSION', 'INSTPAY_NUM_INSTALMENT_NUMBER', 'INSTPAY_DAYS_INSTALMENT', 'INSTPAY_DAYS_ENTRY_PAYMENT', 'INSTPAY_AMT_INSTALMENT', 'INSTPAY_AMT_PAYMENT', 'INSTPAY_AMT_PAYMENT_DIFF', 'INSTPAY_AMT_PAYMENT_RATIO', 'INSTPAY_DAYS_PAYMENT_RATIO', 'INSTPAY_DAYS_PAYMENT_DIFF']\n",
      "Shape after merge Application, Bureau, Bureau_Balance , Previous_Application, POS and InstantPay  (48744, 502)\n"
     ]
    }
   ],
   "source": [
    "# Join application, bureau , Bureau_balance , previous application , pos and Installment payment\n",
    "df_main = merge_application_Inspay(df_main=df_main, df_inst_pay=df_inst_pay) \n",
    "\n",
    "df_main_test = merge_application_Inspay(df_main=df_main_test, df_inst_pay=df_inst_pay)  "
   ]
  },
  {
   "cell_type": "code",
   "execution_count": 42,
   "metadata": {
    "colab": {
     "base_uri": "https://localhost:8080/"
    },
    "executionInfo": {
     "elapsed": 1446,
     "status": "ok",
     "timestamp": 1611652864546,
     "user": {
      "displayName": "sathish anantha",
      "photoUrl": "https://lh3.googleusercontent.com/a-/AOh14Ghdw5Sh92a17sXj4ePDAB2diHt3YItsnu17FEdHoBI=s64",
      "userId": "06917965946637727718"
     },
     "user_tz": -330
    },
    "id": "oAqx-7li9VlR",
    "outputId": "1a8a1c73-00a1-47dd-a5be-ed0916b8297f"
   },
   "outputs": [
    {
     "name": "stdout",
     "output_type": "stream",
     "text": [
      "Shape of Credit Card balance after feature engineering (3840312, 31)\n"
     ]
    }
   ],
   "source": [
    "# Create new feature Creditcard balance\n",
    "df_credit_bal = create_custom_Credit_bal_feature(cc_balance=df_credit_bal)"
   ]
  },
  {
   "cell_type": "code",
   "execution_count": 43,
   "metadata": {
    "colab": {
     "base_uri": "https://localhost:8080/"
    },
    "executionInfo": {
     "elapsed": 27406,
     "status": "ok",
     "timestamp": 1611652893163,
     "user": {
      "displayName": "sathish anantha",
      "photoUrl": "https://lh3.googleusercontent.com/a-/AOh14Ghdw5Sh92a17sXj4ePDAB2diHt3YItsnu17FEdHoBI=s64",
      "userId": "06917965946637727718"
     },
     "user_tz": -330
    },
    "id": "8bA7gi74ysTw",
    "outputId": "d9eec813-f47f-419f-ee44-d0badf3fe0a4"
   },
   "outputs": [
    {
     "name": "stdout",
     "output_type": "stream",
     "text": [
      "New Column names  - \n",
      "['SK_ID_CURR', 'CREDITBAL_NAME_CONTRACT_STATUS_Active', 'CREDITBAL_NAME_CONTRACT_STATUS_Approved', 'CREDITBAL_NAME_CONTRACT_STATUS_Completed', 'CREDITBAL_NAME_CONTRACT_STATUS_Demand', 'CREDITBAL_NAME_CONTRACT_STATUS_Refused', 'CREDITBAL_NAME_CONTRACT_STATUS_Sent proposal', 'CREDITBAL_NAME_CONTRACT_STATUS_Signed']\n",
      "New Column names  - \n",
      "['SK_ID_CURR', 'CREDITBAL_MONTHS_BALANCE', 'CREDITBAL_AMT_BALANCE', 'CREDITBAL_AMT_CREDIT_LIMIT_ACTUAL', 'CREDITBAL_AMT_DRAWINGS_ATM_CURRENT', 'CREDITBAL_AMT_DRAWINGS_CURRENT', 'CREDITBAL_AMT_DRAWINGS_OTHER_CURRENT', 'CREDITBAL_AMT_DRAWINGS_POS_CURRENT', 'CREDITBAL_AMT_INST_MIN_REGULARITY', 'CREDITBAL_AMT_PAYMENT_CURRENT', 'CREDITBAL_AMT_PAYMENT_TOTAL_CURRENT', 'CREDITBAL_AMT_RECEIVABLE_PRINCIPAL', 'CREDITBAL_AMT_RECIVABLE', 'CREDITBAL_AMT_TOTAL_RECEIVABLE', 'CREDITBAL_CNT_DRAWINGS_ATM_CURRENT', 'CREDITBAL_CNT_DRAWINGS_CURRENT', 'CREDITBAL_CNT_DRAWINGS_OTHER_CURRENT', 'CREDITBAL_CNT_DRAWINGS_POS_CURRENT', 'CREDITBAL_CNT_INSTALMENT_MATURE_CUM', 'CREDITBAL_SK_DPD', 'CREDITBAL_SK_DPD_DEF', 'CREDITBAL_AMT_DRAWING_SUM', 'CREDITBAL_BALANCE_LIMIT_RATIO', 'CREDITBAL_CNT_DRAWING_SUM', 'CREDITBAL_MIN_PAYMENT_RATIO', 'CREDITBAL_PAYMENT_MIN_DIFF', 'CREDITBAL_MIN_PAYMENT_TOTAL_RATIO', 'CREDITBAL_AMT_INTEREST_RECEIVABLE', 'CREDITBAL_SK_DPD_RATIO']\n",
      "Shape after merge Application, Bureau, Bureau_Balance , Previous_Application, POS, INSTALLMENT PAYMENT and CREDIt BAL  (307507, 538)\n",
      "New Column names  - \n",
      "['SK_ID_CURR', 'CREDITBAL_NAME_CONTRACT_STATUS_Active', 'CREDITBAL_NAME_CONTRACT_STATUS_Approved', 'CREDITBAL_NAME_CONTRACT_STATUS_Completed', 'CREDITBAL_NAME_CONTRACT_STATUS_Demand', 'CREDITBAL_NAME_CONTRACT_STATUS_Refused', 'CREDITBAL_NAME_CONTRACT_STATUS_Sent proposal', 'CREDITBAL_NAME_CONTRACT_STATUS_Signed']\n",
      "New Column names  - \n",
      "['SK_ID_CURR', 'CREDITBAL_MONTHS_BALANCE', 'CREDITBAL_AMT_BALANCE', 'CREDITBAL_AMT_CREDIT_LIMIT_ACTUAL', 'CREDITBAL_AMT_DRAWINGS_ATM_CURRENT', 'CREDITBAL_AMT_DRAWINGS_CURRENT', 'CREDITBAL_AMT_DRAWINGS_OTHER_CURRENT', 'CREDITBAL_AMT_DRAWINGS_POS_CURRENT', 'CREDITBAL_AMT_INST_MIN_REGULARITY', 'CREDITBAL_AMT_PAYMENT_CURRENT', 'CREDITBAL_AMT_PAYMENT_TOTAL_CURRENT', 'CREDITBAL_AMT_RECEIVABLE_PRINCIPAL', 'CREDITBAL_AMT_RECIVABLE', 'CREDITBAL_AMT_TOTAL_RECEIVABLE', 'CREDITBAL_CNT_DRAWINGS_ATM_CURRENT', 'CREDITBAL_CNT_DRAWINGS_CURRENT', 'CREDITBAL_CNT_DRAWINGS_OTHER_CURRENT', 'CREDITBAL_CNT_DRAWINGS_POS_CURRENT', 'CREDITBAL_CNT_INSTALMENT_MATURE_CUM', 'CREDITBAL_SK_DPD', 'CREDITBAL_SK_DPD_DEF', 'CREDITBAL_AMT_DRAWING_SUM', 'CREDITBAL_BALANCE_LIMIT_RATIO', 'CREDITBAL_CNT_DRAWING_SUM', 'CREDITBAL_MIN_PAYMENT_RATIO', 'CREDITBAL_PAYMENT_MIN_DIFF', 'CREDITBAL_MIN_PAYMENT_TOTAL_RATIO', 'CREDITBAL_AMT_INTEREST_RECEIVABLE', 'CREDITBAL_SK_DPD_RATIO']\n",
      "Shape after merge Application, Bureau, Bureau_Balance , Previous_Application, POS, INSTALLMENT PAYMENT and CREDIt BAL  (48744, 537)\n"
     ]
    }
   ],
   "source": [
    "# Join application, bureau , Bureau_balance , previous application , pos , Installment payment and Credit balance\n",
    "\n",
    "df_main = merge_application_credit_bal(df_main=df_main, df_credit_bal=df_credit_bal)  \n",
    "\n",
    "df_main_test = merge_application_credit_bal(df_main=df_main_test, df_credit_bal=df_credit_bal)  "
   ]
  },
  {
   "cell_type": "code",
   "execution_count": 44,
   "metadata": {
    "colab": {
     "base_uri": "https://localhost:8080/"
    },
    "executionInfo": {
     "elapsed": 21469,
     "status": "ok",
     "timestamp": 1611652893173,
     "user": {
      "displayName": "sathish anantha",
      "photoUrl": "https://lh3.googleusercontent.com/a-/AOh14Ghdw5Sh92a17sXj4ePDAB2diHt3YItsnu17FEdHoBI=s64",
      "userId": "06917965946637727718"
     },
     "user_tz": -330
    },
    "id": "dTf3lmGAysTx",
    "outputId": "5219b014-1182-4938-d11d-0ecd5f99601c"
   },
   "outputs": [
    {
     "data": {
      "text/plain": [
       "(307507, 538)"
      ]
     },
     "execution_count": 44,
     "metadata": {
      "tags": []
     },
     "output_type": "execute_result"
    }
   ],
   "source": [
    "df_main.shape"
   ]
  },
  {
   "cell_type": "code",
   "execution_count": 45,
   "metadata": {
    "colab": {
     "base_uri": "https://localhost:8080/",
     "height": 208
    },
    "executionInfo": {
     "elapsed": 19355,
     "status": "ok",
     "timestamp": 1611652893178,
     "user": {
      "displayName": "sathish anantha",
      "photoUrl": "https://lh3.googleusercontent.com/a-/AOh14Ghdw5Sh92a17sXj4ePDAB2diHt3YItsnu17FEdHoBI=s64",
      "userId": "06917965946637727718"
     },
     "user_tz": -330
    },
    "id": "Tz9yM1EkysTx",
    "outputId": "6bb6c052-f80e-4e39-9036-35b4b92b7469"
   },
   "outputs": [
    {
     "data": {
      "text/html": [
       "<div>\n",
       "<style scoped>\n",
       "    .dataframe tbody tr th:only-of-type {\n",
       "        vertical-align: middle;\n",
       "    }\n",
       "\n",
       "    .dataframe tbody tr th {\n",
       "        vertical-align: top;\n",
       "    }\n",
       "\n",
       "    .dataframe thead th {\n",
       "        text-align: right;\n",
       "    }\n",
       "</style>\n",
       "<table border=\"1\" class=\"dataframe\">\n",
       "  <thead>\n",
       "    <tr style=\"text-align: right;\">\n",
       "      <th></th>\n",
       "      <th>SK_ID_CURR</th>\n",
       "      <th>CNT_CHILDREN</th>\n",
       "      <th>AMT_INCOME_TOTAL</th>\n",
       "      <th>AMT_CREDIT</th>\n",
       "      <th>AMT_ANNUITY</th>\n",
       "      <th>AMT_GOODS_PRICE</th>\n",
       "      <th>REGION_POPULATION_RELATIVE</th>\n",
       "      <th>DAYS_BIRTH</th>\n",
       "      <th>DAYS_EMPLOYED</th>\n",
       "      <th>DAYS_REGISTRATION</th>\n",
       "      <th>DAYS_ID_PUBLISH</th>\n",
       "      <th>OWN_CAR_AGE</th>\n",
       "      <th>FLAG_MOBIL</th>\n",
       "      <th>FLAG_EMP_PHONE</th>\n",
       "      <th>FLAG_WORK_PHONE</th>\n",
       "      <th>FLAG_CONT_MOBILE</th>\n",
       "      <th>FLAG_PHONE</th>\n",
       "      <th>FLAG_EMAIL</th>\n",
       "      <th>CNT_FAM_MEMBERS</th>\n",
       "      <th>HOUR_APPR_PROCESS_START</th>\n",
       "      <th>REG_REGION_NOT_LIVE_REGION</th>\n",
       "      <th>REG_REGION_NOT_WORK_REGION</th>\n",
       "      <th>LIVE_REGION_NOT_WORK_REGION</th>\n",
       "      <th>REG_CITY_NOT_LIVE_CITY</th>\n",
       "      <th>REG_CITY_NOT_WORK_CITY</th>\n",
       "      <th>LIVE_CITY_NOT_WORK_CITY</th>\n",
       "      <th>EXT_SOURCE_1</th>\n",
       "      <th>EXT_SOURCE_2</th>\n",
       "      <th>EXT_SOURCE_3</th>\n",
       "      <th>APARTMENTS_AVG</th>\n",
       "      <th>BASEMENTAREA_AVG</th>\n",
       "      <th>YEARS_BEGINEXPLUATATION_AVG</th>\n",
       "      <th>YEARS_BUILD_AVG</th>\n",
       "      <th>COMMONAREA_AVG</th>\n",
       "      <th>ELEVATORS_AVG</th>\n",
       "      <th>ENTRANCES_AVG</th>\n",
       "      <th>FLOORSMAX_AVG</th>\n",
       "      <th>FLOORSMIN_AVG</th>\n",
       "      <th>LANDAREA_AVG</th>\n",
       "      <th>LIVINGAPARTMENTS_AVG</th>\n",
       "      <th>...</th>\n",
       "      <th>INSTPAY_AMT_PAYMENT</th>\n",
       "      <th>INSTPAY_AMT_PAYMENT_DIFF</th>\n",
       "      <th>INSTPAY_AMT_PAYMENT_RATIO</th>\n",
       "      <th>INSTPAY_DAYS_PAYMENT_RATIO</th>\n",
       "      <th>INSTPAY_DAYS_PAYMENT_DIFF</th>\n",
       "      <th>CREDITBAL_NAME_CONTRACT_STATUS_Active</th>\n",
       "      <th>CREDITBAL_NAME_CONTRACT_STATUS_Approved</th>\n",
       "      <th>CREDITBAL_NAME_CONTRACT_STATUS_Completed</th>\n",
       "      <th>CREDITBAL_NAME_CONTRACT_STATUS_Demand</th>\n",
       "      <th>CREDITBAL_NAME_CONTRACT_STATUS_Refused</th>\n",
       "      <th>CREDITBAL_NAME_CONTRACT_STATUS_Sent proposal</th>\n",
       "      <th>CREDITBAL_NAME_CONTRACT_STATUS_Signed</th>\n",
       "      <th>CREDITBAL_MONTHS_BALANCE</th>\n",
       "      <th>CREDITBAL_AMT_BALANCE</th>\n",
       "      <th>CREDITBAL_AMT_CREDIT_LIMIT_ACTUAL</th>\n",
       "      <th>CREDITBAL_AMT_DRAWINGS_ATM_CURRENT</th>\n",
       "      <th>CREDITBAL_AMT_DRAWINGS_CURRENT</th>\n",
       "      <th>CREDITBAL_AMT_DRAWINGS_OTHER_CURRENT</th>\n",
       "      <th>CREDITBAL_AMT_DRAWINGS_POS_CURRENT</th>\n",
       "      <th>CREDITBAL_AMT_INST_MIN_REGULARITY</th>\n",
       "      <th>CREDITBAL_AMT_PAYMENT_CURRENT</th>\n",
       "      <th>CREDITBAL_AMT_PAYMENT_TOTAL_CURRENT</th>\n",
       "      <th>CREDITBAL_AMT_RECEIVABLE_PRINCIPAL</th>\n",
       "      <th>CREDITBAL_AMT_RECIVABLE</th>\n",
       "      <th>CREDITBAL_AMT_TOTAL_RECEIVABLE</th>\n",
       "      <th>CREDITBAL_CNT_DRAWINGS_ATM_CURRENT</th>\n",
       "      <th>CREDITBAL_CNT_DRAWINGS_CURRENT</th>\n",
       "      <th>CREDITBAL_CNT_DRAWINGS_OTHER_CURRENT</th>\n",
       "      <th>CREDITBAL_CNT_DRAWINGS_POS_CURRENT</th>\n",
       "      <th>CREDITBAL_CNT_INSTALMENT_MATURE_CUM</th>\n",
       "      <th>CREDITBAL_SK_DPD</th>\n",
       "      <th>CREDITBAL_SK_DPD_DEF</th>\n",
       "      <th>CREDITBAL_AMT_DRAWING_SUM</th>\n",
       "      <th>CREDITBAL_BALANCE_LIMIT_RATIO</th>\n",
       "      <th>CREDITBAL_CNT_DRAWING_SUM</th>\n",
       "      <th>CREDITBAL_MIN_PAYMENT_RATIO</th>\n",
       "      <th>CREDITBAL_PAYMENT_MIN_DIFF</th>\n",
       "      <th>CREDITBAL_MIN_PAYMENT_TOTAL_RATIO</th>\n",
       "      <th>CREDITBAL_AMT_INTEREST_RECEIVABLE</th>\n",
       "      <th>CREDITBAL_SK_DPD_RATIO</th>\n",
       "    </tr>\n",
       "  </thead>\n",
       "  <tbody>\n",
       "    <tr>\n",
       "      <th>0</th>\n",
       "      <td>100002</td>\n",
       "      <td>0.0</td>\n",
       "      <td>0.001512</td>\n",
       "      <td>0.090287</td>\n",
       "      <td>0.090032</td>\n",
       "      <td>0.077441</td>\n",
       "      <td>0.256286</td>\n",
       "      <td>0.104167</td>\n",
       "      <td>0.035563</td>\n",
       "      <td>0.852140</td>\n",
       "      <td>0.705433</td>\n",
       "      <td>0.098901</td>\n",
       "      <td>1.0</td>\n",
       "      <td>1.0</td>\n",
       "      <td>0.0</td>\n",
       "      <td>1.0</td>\n",
       "      <td>1.0</td>\n",
       "      <td>0.0</td>\n",
       "      <td>0.000000</td>\n",
       "      <td>0.434783</td>\n",
       "      <td>0.0</td>\n",
       "      <td>0.0</td>\n",
       "      <td>0.0</td>\n",
       "      <td>0.0</td>\n",
       "      <td>0.0</td>\n",
       "      <td>0.0</td>\n",
       "      <td>0.072173</td>\n",
       "      <td>0.307539</td>\n",
       "      <td>0.155089</td>\n",
       "      <td>0.024704</td>\n",
       "      <td>0.036896</td>\n",
       "      <td>0.972168</td>\n",
       "      <td>0.619141</td>\n",
       "      <td>0.014297</td>\n",
       "      <td>0.000000</td>\n",
       "      <td>0.068970</td>\n",
       "      <td>0.083313</td>\n",
       "      <td>0.125000</td>\n",
       "      <td>0.036896</td>\n",
       "      <td>0.020203</td>\n",
       "      <td>...</td>\n",
       "      <td>11559.247070</td>\n",
       "      <td>0.0</td>\n",
       "      <td>1.0</td>\n",
       "      <td>0.901367</td>\n",
       "      <td>20.421875</td>\n",
       "      <td>0.0</td>\n",
       "      <td>0.0</td>\n",
       "      <td>0.0</td>\n",
       "      <td>0.0</td>\n",
       "      <td>0.0</td>\n",
       "      <td>0.0</td>\n",
       "      <td>0.0</td>\n",
       "      <td>0.0</td>\n",
       "      <td>0.0</td>\n",
       "      <td>0.0</td>\n",
       "      <td>0.0</td>\n",
       "      <td>0.0</td>\n",
       "      <td>0.0</td>\n",
       "      <td>0.0</td>\n",
       "      <td>0.0</td>\n",
       "      <td>0.0</td>\n",
       "      <td>0.0</td>\n",
       "      <td>0.0</td>\n",
       "      <td>0.0</td>\n",
       "      <td>0.0</td>\n",
       "      <td>0.0</td>\n",
       "      <td>0.0</td>\n",
       "      <td>0.0</td>\n",
       "      <td>0.0</td>\n",
       "      <td>0.0</td>\n",
       "      <td>0.0</td>\n",
       "      <td>0.0</td>\n",
       "      <td>0.0</td>\n",
       "      <td>0.0</td>\n",
       "      <td>0.0</td>\n",
       "      <td>0.0</td>\n",
       "      <td>0.0</td>\n",
       "      <td>0.0</td>\n",
       "      <td>0.0</td>\n",
       "      <td>0.0</td>\n",
       "    </tr>\n",
       "    <tr>\n",
       "      <th>1</th>\n",
       "      <td>100003</td>\n",
       "      <td>0.0</td>\n",
       "      <td>0.002089</td>\n",
       "      <td>0.311736</td>\n",
       "      <td>0.132924</td>\n",
       "      <td>0.271605</td>\n",
       "      <td>0.045030</td>\n",
       "      <td>0.520833</td>\n",
       "      <td>0.066324</td>\n",
       "      <td>0.951929</td>\n",
       "      <td>0.959566</td>\n",
       "      <td>0.098901</td>\n",
       "      <td>1.0</td>\n",
       "      <td>1.0</td>\n",
       "      <td>0.0</td>\n",
       "      <td>1.0</td>\n",
       "      <td>1.0</td>\n",
       "      <td>0.0</td>\n",
       "      <td>0.052632</td>\n",
       "      <td>0.478261</td>\n",
       "      <td>0.0</td>\n",
       "      <td>0.0</td>\n",
       "      <td>0.0</td>\n",
       "      <td>0.0</td>\n",
       "      <td>0.0</td>\n",
       "      <td>0.0</td>\n",
       "      <td>0.312883</td>\n",
       "      <td>0.727584</td>\n",
       "      <td>0.597038</td>\n",
       "      <td>0.095886</td>\n",
       "      <td>0.052887</td>\n",
       "      <td>0.984863</td>\n",
       "      <td>0.795898</td>\n",
       "      <td>0.060486</td>\n",
       "      <td>0.080017</td>\n",
       "      <td>0.034485</td>\n",
       "      <td>0.291748</td>\n",
       "      <td>0.333252</td>\n",
       "      <td>0.013000</td>\n",
       "      <td>0.077271</td>\n",
       "      <td>...</td>\n",
       "      <td>64754.585938</td>\n",
       "      <td>0.0</td>\n",
       "      <td>1.0</td>\n",
       "      <td>0.992676</td>\n",
       "      <td>7.199219</td>\n",
       "      <td>0.0</td>\n",
       "      <td>0.0</td>\n",
       "      <td>0.0</td>\n",
       "      <td>0.0</td>\n",
       "      <td>0.0</td>\n",
       "      <td>0.0</td>\n",
       "      <td>0.0</td>\n",
       "      <td>0.0</td>\n",
       "      <td>0.0</td>\n",
       "      <td>0.0</td>\n",
       "      <td>0.0</td>\n",
       "      <td>0.0</td>\n",
       "      <td>0.0</td>\n",
       "      <td>0.0</td>\n",
       "      <td>0.0</td>\n",
       "      <td>0.0</td>\n",
       "      <td>0.0</td>\n",
       "      <td>0.0</td>\n",
       "      <td>0.0</td>\n",
       "      <td>0.0</td>\n",
       "      <td>0.0</td>\n",
       "      <td>0.0</td>\n",
       "      <td>0.0</td>\n",
       "      <td>0.0</td>\n",
       "      <td>0.0</td>\n",
       "      <td>0.0</td>\n",
       "      <td>0.0</td>\n",
       "      <td>0.0</td>\n",
       "      <td>0.0</td>\n",
       "      <td>0.0</td>\n",
       "      <td>0.0</td>\n",
       "      <td>0.0</td>\n",
       "      <td>0.0</td>\n",
       "      <td>0.0</td>\n",
       "      <td>0.0</td>\n",
       "    </tr>\n",
       "    <tr>\n",
       "      <th>2</th>\n",
       "      <td>100004</td>\n",
       "      <td>0.0</td>\n",
       "      <td>0.000358</td>\n",
       "      <td>0.022472</td>\n",
       "      <td>0.020025</td>\n",
       "      <td>0.023569</td>\n",
       "      <td>0.134904</td>\n",
       "      <td>0.645833</td>\n",
       "      <td>0.012561</td>\n",
       "      <td>0.827335</td>\n",
       "      <td>0.648326</td>\n",
       "      <td>0.285714</td>\n",
       "      <td>1.0</td>\n",
       "      <td>1.0</td>\n",
       "      <td>1.0</td>\n",
       "      <td>1.0</td>\n",
       "      <td>1.0</td>\n",
       "      <td>0.0</td>\n",
       "      <td>0.000000</td>\n",
       "      <td>0.391304</td>\n",
       "      <td>0.0</td>\n",
       "      <td>0.0</td>\n",
       "      <td>0.0</td>\n",
       "      <td>0.0</td>\n",
       "      <td>0.0</td>\n",
       "      <td>0.0</td>\n",
       "      <td>0.518065</td>\n",
       "      <td>0.650485</td>\n",
       "      <td>0.814059</td>\n",
       "      <td>0.087585</td>\n",
       "      <td>0.076294</td>\n",
       "      <td>0.981445</td>\n",
       "      <td>0.755371</td>\n",
       "      <td>0.021103</td>\n",
       "      <td>0.000000</td>\n",
       "      <td>0.137939</td>\n",
       "      <td>0.166748</td>\n",
       "      <td>0.208252</td>\n",
       "      <td>0.048096</td>\n",
       "      <td>0.075623</td>\n",
       "      <td>...</td>\n",
       "      <td>7096.154785</td>\n",
       "      <td>0.0</td>\n",
       "      <td>1.0</td>\n",
       "      <td>0.990234</td>\n",
       "      <td>7.667969</td>\n",
       "      <td>0.0</td>\n",
       "      <td>0.0</td>\n",
       "      <td>0.0</td>\n",
       "      <td>0.0</td>\n",
       "      <td>0.0</td>\n",
       "      <td>0.0</td>\n",
       "      <td>0.0</td>\n",
       "      <td>0.0</td>\n",
       "      <td>0.0</td>\n",
       "      <td>0.0</td>\n",
       "      <td>0.0</td>\n",
       "      <td>0.0</td>\n",
       "      <td>0.0</td>\n",
       "      <td>0.0</td>\n",
       "      <td>0.0</td>\n",
       "      <td>0.0</td>\n",
       "      <td>0.0</td>\n",
       "      <td>0.0</td>\n",
       "      <td>0.0</td>\n",
       "      <td>0.0</td>\n",
       "      <td>0.0</td>\n",
       "      <td>0.0</td>\n",
       "      <td>0.0</td>\n",
       "      <td>0.0</td>\n",
       "      <td>0.0</td>\n",
       "      <td>0.0</td>\n",
       "      <td>0.0</td>\n",
       "      <td>0.0</td>\n",
       "      <td>0.0</td>\n",
       "      <td>0.0</td>\n",
       "      <td>0.0</td>\n",
       "      <td>0.0</td>\n",
       "      <td>0.0</td>\n",
       "      <td>0.0</td>\n",
       "      <td>0.0</td>\n",
       "    </tr>\n",
       "  </tbody>\n",
       "</table>\n",
       "<p>3 rows × 538 columns</p>\n",
       "</div>"
      ],
      "text/plain": [
       "   SK_ID_CURR  ...  CREDITBAL_SK_DPD_RATIO\n",
       "0      100002  ...                     0.0\n",
       "1      100003  ...                     0.0\n",
       "2      100004  ...                     0.0\n",
       "\n",
       "[3 rows x 538 columns]"
      ]
     },
     "execution_count": 45,
     "metadata": {
      "tags": []
     },
     "output_type": "execute_result"
    }
   ],
   "source": [
    "df_main.head(3)"
   ]
  },
  {
   "cell_type": "markdown",
   "metadata": {
    "id": "5hiV4uh2ysTx"
   },
   "source": [
    "# Notes\n",
    "\n",
    "I have completed Data cleaning , feature engineering totally we have 515 features, but still we can create more features so please suggest some blog which related to this domain or any suggestion to create more features.\n",
    "\n",
    "kindly review the steps which i followed if any concrens please let me know."
   ]
  },
  {
   "cell_type": "code",
   "execution_count": null,
   "metadata": {
    "id": "HpNSEsaP_Ond"
   },
   "outputs": [],
   "source": [
    "df_main.to_csv('Home_credit_final.csv', index=False)"
   ]
  },
  {
   "cell_type": "code",
   "execution_count": 47,
   "metadata": {
    "executionInfo": {
     "elapsed": 201738,
     "status": "ok",
     "timestamp": 1611653239621,
     "user": {
      "displayName": "sathish anantha",
      "photoUrl": "https://lh3.googleusercontent.com/a-/AOh14Ghdw5Sh92a17sXj4ePDAB2diHt3YItsnu17FEdHoBI=s64",
      "userId": "06917965946637727718"
     },
     "user_tz": -330
    },
    "id": "BjbsxJv8CpWa"
   },
   "outputs": [],
   "source": [
    "df_main_test.to_csv('Home_credit_test_final.csv', index=False)"
   ]
  },
  {
   "cell_type": "markdown",
   "metadata": {
    "id": "TuioC1BMDe3l"
   },
   "source": [
    "## Dividing final data into train, valid and test datasets:"
   ]
  },
  {
   "cell_type": "code",
   "execution_count": 6,
   "metadata": {
    "executionInfo": {
     "elapsed": 35946,
     "status": "ok",
     "timestamp": 1611715789901,
     "user": {
      "displayName": "sathish anantha",
      "photoUrl": "https://lh3.googleusercontent.com/a-/AOh14Ghdw5Sh92a17sXj4ePDAB2diHt3YItsnu17FEdHoBI=s64",
      "userId": "06917965946637727718"
     },
     "user_tz": -330
    },
    "id": "PrzAEORoH0ie"
   },
   "outputs": [],
   "source": [
    "df_main = pd.read_csv('Home_credit_final.csv')\n",
    "df_main_test = pd.read_csv('Home_credit_test_final.csv')"
   ]
  },
  {
   "cell_type": "code",
   "execution_count": 7,
   "metadata": {
    "executionInfo": {
     "elapsed": 9830,
     "status": "ok",
     "timestamp": 1611715789905,
     "user": {
      "displayName": "sathish anantha",
      "photoUrl": "https://lh3.googleusercontent.com/a-/AOh14Ghdw5Sh92a17sXj4ePDAB2diHt3YItsnu17FEdHoBI=s64",
      "userId": "06917965946637727718"
     },
     "user_tz": -330
    },
    "id": "n67Yi_mnEub3"
   },
   "outputs": [],
   "source": [
    "from sklearn.model_selection import train_test_split"
   ]
  },
  {
   "cell_type": "code",
   "execution_count": 8,
   "metadata": {
    "colab": {
     "base_uri": "https://localhost:8080/"
    },
    "executionInfo": {
     "elapsed": 12622,
     "status": "ok",
     "timestamp": 1611715793206,
     "user": {
      "displayName": "sathish anantha",
      "photoUrl": "https://lh3.googleusercontent.com/a-/AOh14Ghdw5Sh92a17sXj4ePDAB2diHt3YItsnu17FEdHoBI=s64",
      "userId": "06917965946637727718"
     },
     "user_tz": -330
    },
    "id": "Egt7Zf15DdPA",
    "outputId": "4505fd47-065d-4324-f4cc-241b24d30745"
   },
   "outputs": [
    {
     "name": "stdout",
     "output_type": "stream",
     "text": [
      "Shape of X_train  (215254, 536)\n",
      "Shape of test  (92253, 536)\n",
      "Shape of y_train  (215254,)\n",
      "Shape of y_test  (92253,)\n"
     ]
    }
   ],
   "source": [
    "X =  df_main.drop('TARGET',axis=1)\n",
    "y =  df_main['TARGET']\n",
    "\n",
    "\n",
    "X_train, X_test,y_train,y_test  = train_test_split(X.drop('SK_ID_CURR',axis=1), y, test_size =0.3, random_state=123, stratify =y)  \n",
    "\n",
    "# Cross validation\n",
    "#X_val, X_test, y_val, y_test = train_test_split(X_test, y_test, stratify = y_test, test_size=0.5, random_state=123)\n",
    "\n",
    "print('Shape of X_train ', X_train.shape)\n",
    "#print('Shape validation CV',X_val.shape)\n",
    "print('Shape of test ',X_test.shape)\n",
    "print('Shape of y_train ', y_train.shape)\n",
    "#print('Shape of y_test_CV ', y_val.shape)\n",
    "print('Shape of y_test ', y_test.shape)"
   ]
  },
  {
   "cell_type": "code",
   "execution_count": null,
   "metadata": {
    "id": "7fGDBmJqFc14"
   },
   "outputs": [],
   "source": [
    "'''# Saving the Dataframes into CSV files for future use\n",
    "X_train.to_csv('X_train_final.csv')\n",
    "X_val.to_csv('X_val_final.csv')\n",
    "X_test.to_csv('X_test_final.csv')\n",
    "# Saving the numpy arrays into text files for future use\n",
    "np.savetxt('y.txt', y)\n",
    "np.savetxt('y_train.txt', y_train)\n",
    "np.savetxt('y_val.txt', y_val)\n",
    "np.savetxt('y_test.txt', y_test)'''"
   ]
  },
  {
   "cell_type": "code",
   "execution_count": 9,
   "metadata": {
    "colab": {
     "base_uri": "https://localhost:8080/",
     "height": 17
    },
    "executionInfo": {
     "elapsed": 1192,
     "status": "ok",
     "timestamp": 1611715805929,
     "user": {
      "displayName": "sathish anantha",
      "photoUrl": "https://lh3.googleusercontent.com/a-/AOh14Ghdw5Sh92a17sXj4ePDAB2diHt3YItsnu17FEdHoBI=s64",
      "userId": "06917965946637727718"
     },
     "user_tz": -330
    },
    "id": "oEwMqdmWRjNn",
    "outputId": "603ee95c-a1f5-4d20-9dd2-e86f26f6c16c"
   },
   "outputs": [
    {
     "data": {
      "text/html": [
       "        <script type=\"text/javascript\">\n",
       "        window.PlotlyConfig = {MathJaxConfig: 'local'};\n",
       "        if (window.MathJax) {MathJax.Hub.Config({SVG: {font: \"STIX-Web\"}});}\n",
       "        if (typeof require !== 'undefined') {\n",
       "        require.undef(\"plotly\");\n",
       "        requirejs.config({\n",
       "            paths: {\n",
       "                'plotly': ['https://cdn.plot.ly/plotly-latest.min']\n",
       "            }\n",
       "        });\n",
       "        require(['plotly'], function(Plotly) {\n",
       "            window._Plotly = Plotly;\n",
       "        });\n",
       "        }\n",
       "        </script>\n",
       "        "
      ]
     },
     "metadata": {
      "tags": []
     },
     "output_type": "display_data"
    }
   ],
   "source": [
    "import plotly.offline as py\n",
    "import plotly.graph_objs as go\n",
    "from sklearn.model_selection import train_test_split,RandomizedSearchCV\n",
    "import cufflinks as cf\n",
    "cf.go_offline()\n",
    "import pickle\n",
    "import gc\n",
    "import lightgbm as lgb\n",
    "from sklearn.linear_model import SGDClassifier\n",
    "from sklearn.svm import LinearSVC\n",
    "from sklearn.metrics import roc_auc_score\n",
    "from sklearn.linear_model import LogisticRegression\n",
    "from sklearn.metrics import roc_auc_score\n",
    "from sklearn.calibration import CalibratedClassifierCV\n",
    "from sklearn.ensemble import RandomForestClassifier\n",
    "from sklearn.metrics import accuracy_score,confusion_matrix,roc_auc_score,roc_curve,precision_score,recall_score,f1_score"
   ]
  },
  {
   "cell_type": "code",
   "execution_count": 10,
   "metadata": {
    "executionInfo": {
     "elapsed": 617,
     "status": "ok",
     "timestamp": 1611666812962,
     "user": {
      "displayName": "sathish anantha",
      "photoUrl": "https://lh3.googleusercontent.com/a-/AOh14Ghdw5Sh92a17sXj4ePDAB2diHt3YItsnu17FEdHoBI=s64",
      "userId": "06917965946637727718"
     },
     "user_tz": -330
    },
    "id": "ZW1BedQ0SJa1"
   },
   "outputs": [],
   "source": []
  },
  {
   "cell_type": "code",
   "execution_count": 11,
   "metadata": {
    "colab": {
     "base_uri": "https://localhost:8080/"
    },
    "executionInfo": {
     "elapsed": 404280,
     "status": "ok",
     "timestamp": 1611667220045,
     "user": {
      "displayName": "sathish anantha",
      "photoUrl": "https://lh3.googleusercontent.com/a-/AOh14Ghdw5Sh92a17sXj4ePDAB2diHt3YItsnu17FEdHoBI=s64",
      "userId": "06917965946637727718"
     },
     "user_tz": -330
    },
    "id": "kzWwBn61DdVc",
    "outputId": "50ec1657-a396-49c9-9b0c-c49a012ff257"
   },
   "outputs": [
    {
     "name": "stdout",
     "output_type": "stream",
     "text": [
      "Training until validation scores don't improve for 200 rounds.\n",
      "[200]\tvalid_0's binary_logloss: 0.591696\tvalid_0's auc: 0.751968\n",
      "[400]\tvalid_0's binary_logloss: 0.565448\tvalid_0's auc: 0.764086\n",
      "[600]\tvalid_0's binary_logloss: 0.551775\tvalid_0's auc: 0.768869\n",
      "[800]\tvalid_0's binary_logloss: 0.542276\tvalid_0's auc: 0.771371\n",
      "[1000]\tvalid_0's binary_logloss: 0.534844\tvalid_0's auc: 0.772763\n",
      "[1200]\tvalid_0's binary_logloss: 0.528458\tvalid_0's auc: 0.7734\n",
      "[1400]\tvalid_0's binary_logloss: 0.522501\tvalid_0's auc: 0.773786\n",
      "[1600]\tvalid_0's binary_logloss: 0.517107\tvalid_0's auc: 0.773824\n",
      "[1800]\tvalid_0's binary_logloss: 0.512041\tvalid_0's auc: 0.774014\n",
      "Early stopping, best iteration is:\n",
      "[1788]\tvalid_0's binary_logloss: 0.512319\tvalid_0's auc: 0.774058\n"
     ]
    },
    {
     "data": {
      "text/plain": [
       "LGBMClassifier(boosting_type='gbdt', class_weight='balanced',\n",
       "               colsample_bytree=0.8, importance_type='split',\n",
       "               learning_rate=0.01, max_depth=7, min_child_samples=20,\n",
       "               min_child_weight=0.001, min_split_gain=0.0, n_estimators=2000,\n",
       "               n_jobs=-1, num_leaves=31, objective=None, random_state=None,\n",
       "               reg_alpha=0.0, reg_lambda=0.0, silent=True, subsample=0.9,\n",
       "               subsample_for_bin=200000, subsample_freq=0)"
      ]
     },
     "execution_count": 11,
     "metadata": {
      "tags": []
     },
     "output_type": "execute_result"
    }
   ],
   "source": [
    "model_sk = lgb.LGBMClassifier(boosting_type='gbdt', max_depth=7, learning_rate=0.01, n_estimators= 2000, \n",
    "                 class_weight='balanced', subsample=0.9, colsample_bytree= 0.8, n_jobs=-1)\n",
    "train_features, valid_features, train_y, valid_y = train_test_split(X_train, y_train, test_size = 0.15, random_state = 33)\n",
    "model_sk.fit(train_features, train_y, early_stopping_rounds=200, eval_set = [(valid_features, valid_y)], eval_metric = 'auc', verbose = 200)"
   ]
  },
  {
   "cell_type": "code",
   "execution_count": 13,
   "metadata": {
    "colab": {
     "base_uri": "https://localhost:8080/"
    },
    "executionInfo": {
     "elapsed": 1385,
     "status": "ok",
     "timestamp": 1611667243565,
     "user": {
      "displayName": "sathish anantha",
      "photoUrl": "https://lh3.googleusercontent.com/a-/AOh14Ghdw5Sh92a17sXj4ePDAB2diHt3YItsnu17FEdHoBI=s64",
      "userId": "06917965946637727718"
     },
     "user_tz": -330
    },
    "id": "VeBmhhtoSXxt",
    "outputId": "1cb5dcb3-3613-4607-d5f3-e8f80b5995be"
   },
   "outputs": [
    {
     "name": "stdout",
     "output_type": "stream",
     "text": [
      "The no. of features selected: 215\n"
     ]
    }
   ],
   "source": [
    "feature_imp = pd.DataFrame(sorted(zip(model_sk.feature_importances_, X_train.columns)), columns=['Value','Feature'])\n",
    "features_df = feature_imp.sort_values(by=\"Value\", ascending=False)\n",
    "selected_features = list(features_df[features_df['Value']>=50]['Feature'])\n",
    "# Saving the selected features into pickle file\n",
    "with open('select_features.txt','wb') as fp:\n",
    "    pickle.dump(selected_features, fp)\n",
    "print('The no. of features selected:',len(selected_features))"
   ]
  },
  {
   "cell_type": "code",
   "execution_count": 21,
   "metadata": {
    "executionInfo": {
     "elapsed": 937,
     "status": "ok",
     "timestamp": 1611717241392,
     "user": {
      "displayName": "sathish anantha",
      "photoUrl": "https://lh3.googleusercontent.com/a-/AOh14Ghdw5Sh92a17sXj4ePDAB2diHt3YItsnu17FEdHoBI=s64",
      "userId": "06917965946637727718"
     },
     "user_tz": -330
    },
    "id": "Gttad2ICv8kk"
   },
   "outputs": [],
   "source": [
    "#Reading the best picture using pickle file\n",
    "import pickle\n",
    "\n",
    "infile = open('select_features.txt','rb')\n",
    "selected_features = pickle.load(infile)  "
   ]
  },
  {
   "cell_type": "code",
   "execution_count": 14,
   "metadata": {
    "colab": {
     "base_uri": "https://localhost:8080/",
     "height": 1000
    },
    "executionInfo": {
     "elapsed": 1825,
     "status": "ok",
     "timestamp": 1611667246397,
     "user": {
      "displayName": "sathish anantha",
      "photoUrl": "https://lh3.googleusercontent.com/a-/AOh14Ghdw5Sh92a17sXj4ePDAB2diHt3YItsnu17FEdHoBI=s64",
      "userId": "06917965946637727718"
     },
     "user_tz": -330
    },
    "id": "doL_N58rU6GN",
    "outputId": "7ac6ef09-8930-4c21-d4f0-387dcce5ed03"
   },
   "outputs": [
    {
     "data": {
      "text/plain": [
       "<matplotlib.axes._subplots.AxesSubplot at 0x7f29d1093780>"
      ]
     },
     "execution_count": 14,
     "metadata": {
      "tags": []
     },
     "output_type": "execute_result"
    },
    {
     "data": {
      "text/plain": [
       "<Figure size 360x144 with 0 Axes>"
      ]
     },
     "metadata": {
      "tags": []
     },
     "output_type": "display_data"
    },
    {
     "data": {
      "image/png": "[encoded data removed]",
      "text/plain": [
       "<Figure size 1800x1800 with 1 Axes>"
      ]
     },
     "metadata": {
      "tags": []
     },
     "output_type": "display_data"
    }
   ],
   "source": [
    "# Plotting Feature Importances \n",
    "plt.figure(figsize=(5,2))\n",
    "figure(figsize=(25,25), facecolor='w', edgecolor='r')\n",
    "plot_feature_importances = features_df[:20]\n",
    "sns.barplot(y= plot_feature_importances['Feature'], x= plot_feature_importances['Value'])"
   ]
  },
  {
   "cell_type": "markdown",
   "metadata": {
    "id": "fI2Xl8DeAgkx"
   },
   "source": [
    "##                                                          **MACHINE LEARNING MODEL**\n",
    "\n",
    "\n"
   ]
  },
  {
   "cell_type": "code",
   "execution_count": 22,
   "metadata": {
    "executionInfo": {
     "elapsed": 961,
     "status": "ok",
     "timestamp": 1611717258022,
     "user": {
      "displayName": "sathish anantha",
      "photoUrl": "https://lh3.googleusercontent.com/a-/AOh14Ghdw5Sh92a17sXj4ePDAB2diHt3YItsnu17FEdHoBI=s64",
      "userId": "06917965946637727718"
     },
     "user_tz": -330
    },
    "id": "-RoH0peKysTx"
   },
   "outputs": [],
   "source": [
    "def plot_confusion_matrix(test_y, predicted_y):\n",
    "    # Confusion matrix\n",
    "    C = confusion_matrix(test_y, predicted_y)\n",
    "    \n",
    "    # Recall matrix\n",
    "    A = (((C.T)/(C.sum(axis=1))).T)\n",
    "    \n",
    "    # Precision matrix\n",
    "    B = (C/C.sum(axis=0))\n",
    "    \n",
    "    plt.figure(figsize=(20,4))\n",
    "    \n",
    "    labels = ['Re-paid(0)','Not Re-paid(1)']\n",
    "    cmap=sns.light_palette(\"seagreen\")\n",
    "    plt.subplot(1,3,1)\n",
    "    sns.heatmap(C, annot=True, cmap=cmap,fmt=\"g\", xticklabels = labels, yticklabels=labels)\n",
    "    plt.xlabel('Predicted Class')\n",
    "    plt.ylabel('Orignal Class')\n",
    "    plt.title('Confusion matrix')\n",
    "    \n",
    "    plt.subplot(1,3,2)\n",
    "    sns.heatmap(A, annot=True, cmap=cmap, xticklabels = labels, yticklabels=labels)\n",
    "    plt.xlabel('Predicted Class')\n",
    "    plt.ylabel('Orignal Class')\n",
    "    plt.title('Recall matrix')\n",
    "    \n",
    "    plt.subplot(1,3,3)\n",
    "    sns.heatmap(B, annot=True, cmap=cmap, xticklabels = labels, yticklabels=labels)\n",
    "    plt.xlabel('Predicted Class')\n",
    "    plt.ylabel('Orignal Class')\n",
    "    plt.title('Precision matrix')\n",
    "    \n",
    "    plt.show()\n",
    "\n",
    "\n",
    "def cv_plot(alpha, cv_auc):\n",
    "    \n",
    "    fig, ax = plt.subplots()\n",
    "    ax.plot(np.log10(alpha), cv_auc,c='g')\n",
    "    for i, txt in enumerate(np.round(cv_auc,3)):\n",
    "        ax.annotate((alpha[i],str(txt)), (np.log10(alpha[i]),cv_auc[i]))\n",
    "    plt.grid()\n",
    "    plt.xticks(np.log10(alpha))\n",
    "    plt.title(\"Cross Validation Error for each alpha\")\n",
    "    plt.xlabel(\"Alpha i's\")\n",
    "    plt.ylabel(\"Error measure\")\n",
    "    plt.show()"
   ]
  },
  {
   "cell_type": "markdown",
   "metadata": {
    "id": "-ECgklhFCmfB"
   },
   "source": [
    "RANDOM MODEL\n",
    "\n",
    "This would be a baseline model, and that our any sensible model should not perform worse than this."
   ]
  },
  {
   "cell_type": "code",
   "execution_count": 35,
   "metadata": {
    "colab": {
     "base_uri": "https://localhost:8080/",
     "height": 760
    },
    "executionInfo": {
     "elapsed": 3580,
     "status": "ok",
     "timestamp": 1611673155851,
     "user": {
      "displayName": "sathish anantha",
      "photoUrl": "https://lh3.googleusercontent.com/a-/AOh14Ghdw5Sh92a17sXj4ePDAB2diHt3YItsnu17FEdHoBI=s64",
      "userId": "06917965946637727718"
     },
     "user_tz": -330
    },
    "id": "nKgVH70jCz3D",
    "outputId": "af6a5c37-b3e6-4f3d-b4fd-2f8b7197cad3"
   },
   "outputs": [
    {
     "name": "stdout",
     "output_type": "stream",
     "text": [
      "Training Dataset Results:\n",
      "\tROC-AUC Score = 0.499163529654763\n",
      "\tPrecision Score = 0.08032952846223147\n",
      "\tRecall Score = 0.49772688035909535\n",
      "\tF1_Score  = 0.13833309342162084\n"
     ]
    },
    {
     "data": {
      "image/png": "[encoded data removed]",
      "text/plain": [
       "<Figure size 1440x288 with 6 Axes>"
      ]
     },
     "metadata": {
      "needs_background": "light",
      "tags": []
     },
     "output_type": "display_data"
    },
    {
     "name": "stdout",
     "output_type": "stream",
     "text": [
      "==============================================================================================================\n",
      "Test Dataset Results:\n",
      "\tROC-AUC Score = 0.4970628406951919\n",
      "\tPrecision Score = 0.08003630156226366\n",
      "\tRecall Score = 0.49731471535982813\n",
      "\tF1_Score  = 0.13788225659351908\n"
     ]
    },
    {
     "data": {
      "image/png": "[encoded data removed]",
      "text/plain": [
       "<Figure size 1440x288 with 6 Axes>"
      ]
     },
     "metadata": {
      "needs_background": "light",
      "tags": []
     },
     "output_type": "display_data"
    }
   ],
   "source": [
    "#predicted proability for train and test datapoints\n",
    "predicted_proba_train = np.random.uniform(0, 1, len(X_train))\n",
    "predicted_proba_test = np.random.uniform(0, 1, len(X_test))\n",
    "\n",
    "print(\"Training Dataset Results:\")\n",
    "print(f\"\\tROC-AUC Score = {roc_auc_score(y_train, predicted_proba_train)}\")\n",
    "print(f\"\\tPrecision Score = {precision_score(y_train, np.round(predicted_proba_train))}\")\n",
    "print(f\"\\tRecall Score = {recall_score(y_train, np.round(predicted_proba_train))}\")\n",
    "print(f\"\\tF1_Score  = {f1_score(y_train, np.round(predicted_proba_train))}\")\n",
    "plot_confusion_matrix(y_train, np.round(predicted_proba_train))\n",
    "print('=' * 110)\n",
    "print(\"Test Dataset Results:\")\n",
    "print(f\"\\tROC-AUC Score = {roc_auc_score(y_test, predicted_proba_test)}\")\n",
    "print(f\"\\tPrecision Score = {precision_score(y_test, np.round(predicted_proba_test))}\")\n",
    "print(f\"\\tRecall Score = {recall_score(y_test, np.round(predicted_proba_test))}\")\n",
    "print(f\"\\tF1_Score  = {f1_score(y_test, np.round(predicted_proba_test))}\")\n",
    "plot_confusion_matrix(y_test, np.round(predicted_proba_test))"
   ]
  },
  {
   "cell_type": "markdown",
   "metadata": {
    "id": "QPEWqR0V_XwJ"
   },
   "source": [
    "\n",
    "**OBSERVATION**\n",
    "\n",
    "\n",
    "The AUC for the random model on training dataset comes out to be close to 0.5, and the F1-Score is 0.14, similary for test score is around 0.14 so we going to set this baseline metrics for our future models*"
   ]
  },
  {
   "cell_type": "markdown",
   "metadata": {
    "id": "P2G4V7846E1U"
   },
   "source": [
    "# <pre> <font color ='green'> **DOMINANT MODEL** </font>\n",
    "\n",
    "we will predict everything as the dominant Class, which is Class Label 0 in our case here. We will see the metrics for this model too, and again our sensible models need to perform better than this.\n",
    "<pre>"
   ]
  },
  {
   "cell_type": "code",
   "execution_count": 36,
   "metadata": {
    "colab": {
     "base_uri": "https://localhost:8080/",
     "height": 760
    },
    "executionInfo": {
     "elapsed": 3903,
     "status": "ok",
     "timestamp": 1611673179064,
     "user": {
      "displayName": "sathish anantha",
      "photoUrl": "https://lh3.googleusercontent.com/a-/AOh14Ghdw5Sh92a17sXj4ePDAB2diHt3YItsnu17FEdHoBI=s64",
      "userId": "06917965946637727718"
     },
     "user_tz": -330
    },
    "id": "3xiPU4kG6OXo",
    "outputId": "b548675c-3157-4151-e74f-ce057227734b"
   },
   "outputs": [
    {
     "name": "stdout",
     "output_type": "stream",
     "text": [
      "Training Dataset Results:\n",
      "\tROC-AUC Score = 0.5015341268756781\n",
      "\tPrecision Score = 0.0\n",
      "\tRecall Score = 0.0\n",
      "\tF1_Score  = 0.0\n"
     ]
    },
    {
     "data": {
      "image/png": "[encoded data removed]",
      "text/plain": [
       "<Figure size 1440x288 with 6 Axes>"
      ]
     },
     "metadata": {
      "needs_background": "light",
      "tags": []
     },
     "output_type": "display_data"
    },
    {
     "name": "stdout",
     "output_type": "stream",
     "text": [
      "==============================================================================================================\n",
      "Test Dataset Results:\n",
      "\tROC-AUC Score = 0.5014119838074218\n",
      "\tPrecision Score = 0.0\n",
      "\tRecall Score = 0.0\n",
      "\tF1_Score  = 0.0\n"
     ]
    },
    {
     "data": {
      "image/png": "[encoded data removed]",
      "text/plain": [
       "<Figure size 1440x288 with 6 Axes>"
      ]
     },
     "metadata": {
      "needs_background": "light",
      "tags": []
     },
     "output_type": "display_data"
    }
   ],
   "source": [
    "#predicted proability for train and test datapoints\n",
    "predicted_proba_train = np.random.uniform(0, 0.5, len(X_train))\n",
    "predicted_proba_test = np.random.uniform(0, 0.5, len(X_test))\n",
    "\n",
    "print(\"Training Dataset Results:\")\n",
    "print(f\"\\tROC-AUC Score = {roc_auc_score(y_train, predicted_proba_train)}\")\n",
    "print(f\"\\tPrecision Score = {precision_score(y_train, np.round(predicted_proba_train))}\")\n",
    "print(f\"\\tRecall Score = {recall_score(y_train, np.round(predicted_proba_train))}\")\n",
    "print(f\"\\tF1_Score  = {f1_score(y_train, np.round(predicted_proba_train))}\")\n",
    "plot_confusion_matrix(y_train, np.round(predicted_proba_train))\n",
    "print('=' * 110)\n",
    "print(\"Test Dataset Results:\")\n",
    "print(f\"\\tROC-AUC Score = {roc_auc_score(y_test, predicted_proba_test)}\")\n",
    "print(f\"\\tPrecision Score = {precision_score(y_test, np.round(predicted_proba_test))}\")\n",
    "print(f\"\\tRecall Score = {recall_score(y_test, np.round(predicted_proba_test))}\")\n",
    "print(f\"\\tF1_Score  = {f1_score(y_test, np.round(predicted_proba_test))}\")\n",
    "plot_confusion_matrix(y_test, np.round(predicted_proba_test))"
   ]
  },
  {
   "cell_type": "markdown",
   "metadata": {
    "id": "eV8q2FaLNeX2"
   },
   "source": [
    "**OBSERVATION**\n",
    "\n",
    "The F1-Score is now 0, because we are not predicting anything as a positive class.\n",
    "we have high number of false negtives, but zero false positives.\n",
    "\n",
    "But ROC_AUC remains somewhat the same, which is 0.5."
   ]
  },
  {
   "cell_type": "markdown",
   "metadata": {
    "id": "5rCSre6wALqs"
   },
   "source": [
    "## <font color ='red'> **Logistic regression** </font>"
   ]
  },
  {
   "cell_type": "code",
   "execution_count": 41,
   "metadata": {
    "colab": {
     "base_uri": "https://localhost:8080/"
    },
    "executionInfo": {
     "elapsed": 470936,
     "status": "ok",
     "timestamp": 1611676311191,
     "user": {
      "displayName": "sathish anantha",
      "photoUrl": "https://lh3.googleusercontent.com/a-/AOh14Ghdw5Sh92a17sXj4ePDAB2diHt3YItsnu17FEdHoBI=s64",
      "userId": "06917965946637727718"
     },
     "user_tz": -330
    },
    "id": "MieNEtAjUZ1I",
    "outputId": "60162f0f-6532-462d-d4d5-023f2f586511"
   },
   "outputs": [
    {
     "name": "stdout",
     "output_type": "stream",
     "text": [
      "Fitting 5 folds for each of 9 candidates, totalling 45 fits\n"
     ]
    },
    {
     "name": "stderr",
     "output_type": "stream",
     "text": [
      "[Parallel(n_jobs=-1)]: Using backend LokyBackend with 2 concurrent workers.\n",
      "[Parallel(n_jobs=-1)]: Done  37 tasks      | elapsed:  6.2min\n",
      "[Parallel(n_jobs=-1)]: Done  45 out of  45 | elapsed:  7.4min finished\n"
     ]
    },
    {
     "name": "stdout",
     "output_type": "stream",
     "text": [
      "{'alpha': 1.0}\n"
     ]
    }
   ],
   "source": [
    "\n",
    "params = {\n",
    "    'loss' : 'log',\n",
    "    'penalty' : 'l2',\n",
    "    'random_state' : 123,\n",
    "    'class_weight' : 'balanced',\n",
    "    'n_jobs' : -1\n",
    "}\n",
    "clf = SGDClassifier(**params)\n",
    "hyperparams = {'alpha' : np.logspace(-4,4,9)}\n",
    "\n",
    "rscv = RandomizedSearchCV(estimator = clf, param_distributions = hyperparams, n_iter = 10, scoring = 'roc_auc', \n",
    "                          cv = None, return_train_score = True, verbose = 2,\n",
    "                          n_jobs = -1, random_state = 123)\n",
    "\n",
    "rscv.fit(X_train[selected_features], y_train)\n",
    "\n",
    "# to see Best Parameter selection\n",
    "print(rscv.best_params_ )"
   ]
  },
  {
   "cell_type": "code",
   "execution_count": 45,
   "metadata": {
    "colab": {
     "base_uri": "https://localhost:8080/",
     "height": 397
    },
    "executionInfo": {
     "elapsed": 112808,
     "status": "ok",
     "timestamp": 1611677917029,
     "user": {
      "displayName": "sathish anantha",
      "photoUrl": "https://lh3.googleusercontent.com/a-/AOh14Ghdw5Sh92a17sXj4ePDAB2diHt3YItsnu17FEdHoBI=s64",
      "userId": "06917965946637727718"
     },
     "user_tz": -330
    },
    "id": "MvqqtkubXXTq",
    "outputId": "704f6419-6097-4401-f9d8-57ea617c4e9e"
   },
   "outputs": [
    {
     "name": "stdout",
     "output_type": "stream",
     "text": [
      "==============================================================================================================\n",
      "Test Dataset Results:\n",
      "\tROC-AUC Score = 0.5\n",
      "\tPrecision Score = 0.0\n",
      "\tRecall Score = 0.0\n",
      "\tF1_Score  = 0.0\n"
     ]
    },
    {
     "data": {
      "image/png": "[encoded data removed]",
      "text/plain": [
       "<Figure size 1440x288 with 6 Axes>"
      ]
     },
     "metadata": {
      "needs_background": "light",
      "tags": []
     },
     "output_type": "display_data"
    }
   ],
   "source": [
    "params = {\n",
    "    'alpha' : 1.0,\n",
    "    'loss' : 'log',\n",
    "    'penalty' : 'l2',\n",
    "    'random_state' : 123,\n",
    "    'class_weight' : 'balanced',\n",
    "    'n_jobs' : -1\n",
    "}\n",
    "clf = SGDClassifier(**params)\n",
    "clf.fit(X_train[selected_features], y_train)\n",
    "sig_clf = CalibratedClassifierCV(clf, method='sigmoid')\n",
    "sig_clf.fit(X_train[selected_features], y_train)\n",
    "predicted_proba_test = sig_clf.predict_proba(X_test[selected_features])[:,1]\n",
    "predict_test = sig_clf.predict(X_test[selected_features])\n",
    "\n",
    "\n",
    "print('=' * 110)\n",
    "print(\"Test Dataset Results:\")\n",
    "print(f\"\\tROC-AUC Score = {roc_auc_score(y_test, predicted_proba_test)}\")\n",
    "print(f\"\\tPrecision Score = {precision_score(y_test, predict_test)}\")\n",
    "print(f\"\\tRecall Score = {recall_score(y_test, predict_test)}\")\n",
    "print(f\"\\tF1_Score  = {f1_score(y_test, predict_test)}\")\n",
    "plot_confusion_matrix(y_test, predict_test)\n",
    "\n"
   ]
  },
  {
   "cell_type": "markdown",
   "metadata": {
    "id": "1tOpbAPHrxX7"
   },
   "source": [
    "<strong> <font color ='red'> RANDOM FOREST CLASSIFIER </font> </strong>\n",
    "\n",
    "<pre>\n",
    "https://williamkoehrsen.medium.com/random-forest-simple-explanation-377895a60d2d\n",
    "\n",
    "Bagging = Bootstrap Aggregation.\n",
    "Bootstrap means generating random samples from the dataset with the replacement.\n",
    "Bagging reduces variance in individual models of ensemble.\n",
    "\n",
    "</pre>\n",
    "\n",
    "| Voting Classifier                                                                         | Bagging |\n",
    "| :---                                                                           |    :----:   |\n",
    "| Many algorithms (Ex. Decision Tree, LOGIT, KNN)                                | Only one algorithm (Ex. Decison Tree with                                                                                      one set of parameter)       |\n",
    "| Same training datset used by all algorithm for training their respective models| Different subsets of data used by same                                                                                           algorithm        |\n",
    "\n",
    "\n",
    "\n",
    "| Bagging                                                                         | RANDOM_FOREST |\n",
    "| :---                                                                           |    :----:   |\n",
    "| All features are trained                               | A limited number of features are sampled in each node without                                                                   replacement       |\n",
    "| Base Estimator can be anything (Ex. Decision Tree, LOGIT, KNN)| Base Estimator is only Decision Tree+        |"
   ]
  },
  {
   "cell_type": "code",
   "execution_count": 51,
   "metadata": {
    "colab": {
     "base_uri": "https://localhost:8080/"
    },
    "executionInfo": {
     "elapsed": 22564438,
     "status": "ok",
     "timestamp": 1611704355125,
     "user": {
      "displayName": "sathish anantha",
      "photoUrl": "https://lh3.googleusercontent.com/a-/AOh14Ghdw5Sh92a17sXj4ePDAB2diHt3YItsnu17FEdHoBI=s64",
      "userId": "06917965946637727718"
     },
     "user_tz": -330
    },
    "id": "ygY_mmPLr0IO",
    "outputId": "61f3f4fb-c2ab-47f0-a997-8a6bac567d82"
   },
   "outputs": [
    {
     "name": "stdout",
     "output_type": "stream",
     "text": [
      "Fitting 5 folds for each of 8 candidates, totalling 40 fits\n"
     ]
    },
    {
     "name": "stderr",
     "output_type": "stream",
     "text": [
      "[Parallel(n_jobs=-1)]: Using backend LokyBackend with 2 concurrent workers.\n",
      "[Parallel(n_jobs=-1)]: Done  37 tasks      | elapsed: 295.8min\n",
      "[Parallel(n_jobs=-1)]: Done  40 out of  40 | elapsed: 361.4min finished\n"
     ]
    },
    {
     "name": "stdout",
     "output_type": "stream",
     "text": [
      "{'n_estimators': 1000, 'max_depth': 10}\n"
     ]
    }
   ],
   "source": [
    "\n",
    "params = {\n",
    "'criterion' : 'gini',\n",
    " 'class_weight': 'balanced',\n",
    " 'random_state': 123, \n",
    " 'n_jobs' :-1\n",
    "}\n",
    "clf = RandomForestClassifier(**params)\n",
    "hyperparams = {\n",
    "      'n_estimators' : [200,500,1000,2000],\n",
    "      'max_depth' : [7, 10]\n",
    "      }\n",
    "\n",
    "rscv = RandomizedSearchCV(estimator = clf, param_distributions = hyperparams, n_iter = 10, scoring = 'roc_auc', \n",
    "                          cv = None, return_train_score = True, verbose = 2,\n",
    "                          n_jobs = -1, random_state = 123)\n",
    "\n",
    "rscv.fit(X_train[selected_features], y_train)\n",
    "\n",
    "# to see Best Parameter selection\n",
    "print(rscv.best_params_ )"
   ]
  },
  {
   "cell_type": "code",
   "execution_count": 24,
   "metadata": {
    "colab": {
     "base_uri": "https://localhost:8080/",
     "height": 397
    },
    "executionInfo": {
     "elapsed": 4623229,
     "status": "ok",
     "timestamp": 1611721938135,
     "user": {
      "displayName": "sathish anantha",
      "photoUrl": "https://lh3.googleusercontent.com/a-/AOh14Ghdw5Sh92a17sXj4ePDAB2diHt3YItsnu17FEdHoBI=s64",
      "userId": "06917965946637727718"
     },
     "user_tz": -330
    },
    "id": "e3A8bZplUZ8X",
    "outputId": "f46dd1b7-f5ba-41c2-aabf-4e5d727ee6ca"
   },
   "outputs": [
    {
     "name": "stdout",
     "output_type": "stream",
     "text": [
      "==============================================================================================================\n",
      "Test Dataset Results:\n",
      "\tROC-AUC Score = 0.7502946356179093\n",
      "\tPrecision Score = 0.5384615384615384\n",
      "\tRecall Score = 0.002819548872180451\n",
      "\tF1_Score  = 0.005609723520769333\n"
     ]
    },
    {
     "data": {
      "image/png": "[encoded data removed]",
      "text/plain": [
       "<Figure size 1440x288 with 6 Axes>"
      ]
     },
     "metadata": {
      "needs_background": "light",
      "tags": []
     },
     "output_type": "display_data"
    }
   ],
   "source": [
    "params = {\n",
    "'n_estimators' : 1000,\n",
    "'max_depth' : 10,\n",
    "'criterion' : 'gini',\n",
    " 'class_weight': 'balanced',\n",
    " 'random_state': 123, \n",
    " 'n_jobs' :-1\n",
    "}\n",
    "clf = RandomForestClassifier(**params)\n",
    "clf.fit(X_train[selected_features], y_train)\n",
    "sig_clf = CalibratedClassifierCV(clf, method='sigmoid')\n",
    "sig_clf.fit(X_train[selected_features], y_train)\n",
    "predicted_proba_test = sig_clf.predict_proba(X_test[selected_features])[:,1]\n",
    "predict_test = sig_clf.predict(X_test[selected_features])\n",
    "\n",
    "\n",
    "print('=' * 110)\n",
    "print(\"Test Dataset Results:\")\n",
    "print(f\"\\tROC-AUC Score = {roc_auc_score(y_test, predicted_proba_test)}\")\n",
    "print(f\"\\tPrecision Score = {precision_score(y_test, predict_test)}\")\n",
    "print(f\"\\tRecall Score = {recall_score(y_test, predict_test)}\")\n",
    "print(f\"\\tF1_Score  = {f1_score(y_test, predict_test)}\")\n",
    "plot_confusion_matrix(y_test, predict_test)"
   ]
  },
  {
   "cell_type": "code",
   "execution_count": 27,
   "metadata": {
    "colab": {
     "base_uri": "https://localhost:8080/",
     "height": 414
    },
    "executionInfo": {
     "elapsed": 1681,
     "status": "ok",
     "timestamp": 1611725718079,
     "user": {
      "displayName": "sathish anantha",
      "photoUrl": "https://lh3.googleusercontent.com/a-/AOh14Ghdw5Sh92a17sXj4ePDAB2diHt3YItsnu17FEdHoBI=s64",
      "userId": "06917965946637727718"
     },
     "user_tz": -330
    },
    "id": "KcqmteAu1dmU",
    "outputId": "20012154-35fb-4b86-9984-0a5f2f4f4583"
   },
   "outputs": [
    {
     "data": {
      "image/png": "[encoded data removed]",
      "text/plain": [
       "<Figure size 576x432 with 1 Axes>"
      ]
     },
     "metadata": {
      "needs_background": "light",
      "tags": []
     },
     "output_type": "display_data"
    }
   ],
   "source": [
    "fpr, tpr, thresholds = roc_curve(y_test, predicted_proba_test)\n",
    "auc = roc_auc_score(y_test, predicted_proba_test)\n",
    "plt.figure(figsize=(8,6))\n",
    "plt.plot(fpr, tpr, marker='.')\n",
    "plt.plot([0, 1], [0, 1], linestyle='--')\n",
    "plt.title('ROC curve', fontsize = 20)\n",
    "plt.xlabel('FPR', fontsize=15)\n",
    "plt.ylabel('TPR', fontsize=15)\n",
    "plt.grid()\n",
    "plt.legend([\"AUC=%.3f\"%auc])\n",
    "plt.show()"
   ]
  },
  {
   "cell_type": "code",
   "execution_count": 28,
   "metadata": {
    "executionInfo": {
     "elapsed": 36854,
     "status": "ok",
     "timestamp": 1611727161325,
     "user": {
      "displayName": "sathish anantha",
      "photoUrl": "https://lh3.googleusercontent.com/a-/AOh14Ghdw5Sh92a17sXj4ePDAB2diHt3YItsnu17FEdHoBI=s64",
      "userId": "06917965946637727718"
     },
     "user_tz": -330
    },
    "id": "Yrn6RTylvcTz"
   },
   "outputs": [],
   "source": [
    "# Actual test score\n",
    "predict_test_actual = sig_clf.predict(df_main_test[selected_features])"
   ]
  },
  {
   "cell_type": "code",
   "execution_count": 43,
   "metadata": {
    "executionInfo": {
     "elapsed": 1187,
     "status": "ok",
     "timestamp": 1611727898596,
     "user": {
      "displayName": "sathish anantha",
      "photoUrl": "https://lh3.googleusercontent.com/a-/AOh14Ghdw5Sh92a17sXj4ePDAB2diHt3YItsnu17FEdHoBI=s64",
      "userId": "06917965946637727718"
     },
     "user_tz": -330
    },
    "id": "1iaPuFbLbDeH"
   },
   "outputs": [],
   "source": [
    "test_result_submit  = pd.DataFrame(data = {'SK_ID_CURR' :df_main_test['SK_ID_CURR'].values, \n",
    "                     'TARGET' : predict_test_actual})\n",
    "test_result_submit.to_csv('test_result_submit.csv',index=False)"
   ]
  },
  {
   "cell_type": "markdown",
   "metadata": {
    "id": "mA8WbIsz2q0g"
   },
   "source": [
    "## <font color='red'> LightGBM </font> \n",
    "\n",
    "\n",
    "Light GBM is a fast, distributed, high-performance gradient boosting framework based on decision tree algorithm, used for ranking, classification and many other machine learning tasks.\n",
    "\n",
    "Since it is based on decision tree algorithms, it splits the tree leaf wise with the best fit whereas other boosting algorithms split the tree depth wise or level wise rather than leaf-wise. So when growing on the same leaf in Light GBM, the leaf-wise algorithm can reduce more loss than the level-wise algorithm and hence results in much better accuracy which can rarely be achieved by any of the existing boosting algorithms. Also, it is surprisingly very fast, hence the word ‘Light’."
   ]
  },
  {
   "cell_type": "code",
   "execution_count": 49,
   "metadata": {
    "colab": {
     "base_uri": "https://localhost:8080/"
    },
    "executionInfo": {
     "elapsed": 312134,
     "status": "ok",
     "timestamp": 1611738806496,
     "user": {
      "displayName": "sathish anantha",
      "photoUrl": "https://lh3.googleusercontent.com/a-/AOh14Ghdw5Sh92a17sXj4ePDAB2diHt3YItsnu17FEdHoBI=s64",
      "userId": "06917965946637727718"
     },
     "user_tz": -330
    },
    "id": "Q6GHzNA4vcOR",
    "outputId": "fbc2cce5-03a0-47e2-a1de-0b3e5f6fad76"
   },
   "outputs": [
    {
     "name": "stdout",
     "output_type": "stream",
     "text": [
      "Training until validation scores don't improve for 100 rounds.\n",
      "[10]\tvalid_0's auc: 0.733703\n",
      "[20]\tvalid_0's auc: 0.741449\n",
      "[30]\tvalid_0's auc: 0.748672\n",
      "[40]\tvalid_0's auc: 0.754955\n",
      "[50]\tvalid_0's auc: 0.760394\n",
      "[60]\tvalid_0's auc: 0.764794\n",
      "[70]\tvalid_0's auc: 0.767564\n",
      "[80]\tvalid_0's auc: 0.769911\n",
      "[90]\tvalid_0's auc: 0.771828\n",
      "[100]\tvalid_0's auc: 0.77314\n",
      "[110]\tvalid_0's auc: 0.774397\n",
      "[120]\tvalid_0's auc: 0.775598\n",
      "[130]\tvalid_0's auc: 0.776523\n",
      "[140]\tvalid_0's auc: 0.777198\n",
      "[150]\tvalid_0's auc: 0.777744\n",
      "[160]\tvalid_0's auc: 0.778299\n",
      "[170]\tvalid_0's auc: 0.778935\n",
      "[180]\tvalid_0's auc: 0.779481\n",
      "[190]\tvalid_0's auc: 0.779889\n",
      "[200]\tvalid_0's auc: 0.780359\n",
      "[210]\tvalid_0's auc: 0.7805\n",
      "[220]\tvalid_0's auc: 0.78091\n",
      "[230]\tvalid_0's auc: 0.781122\n",
      "[240]\tvalid_0's auc: 0.781097\n",
      "[250]\tvalid_0's auc: 0.781219\n",
      "[260]\tvalid_0's auc: 0.781345\n",
      "[270]\tvalid_0's auc: 0.78138\n",
      "[280]\tvalid_0's auc: 0.781445\n",
      "[290]\tvalid_0's auc: 0.781478\n",
      "[300]\tvalid_0's auc: 0.781686\n",
      "[310]\tvalid_0's auc: 0.781806\n",
      "[320]\tvalid_0's auc: 0.781901\n",
      "[330]\tvalid_0's auc: 0.782071\n",
      "[340]\tvalid_0's auc: 0.782118\n",
      "[350]\tvalid_0's auc: 0.782185\n",
      "[360]\tvalid_0's auc: 0.78232\n",
      "[370]\tvalid_0's auc: 0.782266\n",
      "[380]\tvalid_0's auc: 0.782227\n",
      "[390]\tvalid_0's auc: 0.782319\n",
      "[400]\tvalid_0's auc: 0.782338\n",
      "[410]\tvalid_0's auc: 0.782389\n",
      "[420]\tvalid_0's auc: 0.782437\n",
      "[430]\tvalid_0's auc: 0.782547\n",
      "[440]\tvalid_0's auc: 0.78255\n",
      "[450]\tvalid_0's auc: 0.782534\n",
      "[460]\tvalid_0's auc: 0.782676\n",
      "[470]\tvalid_0's auc: 0.782708\n",
      "[480]\tvalid_0's auc: 0.782769\n",
      "[490]\tvalid_0's auc: 0.782754\n",
      "[500]\tvalid_0's auc: 0.782586\n",
      "[510]\tvalid_0's auc: 0.782632\n",
      "[520]\tvalid_0's auc: 0.782623\n",
      "[530]\tvalid_0's auc: 0.782703\n",
      "[540]\tvalid_0's auc: 0.782668\n",
      "[550]\tvalid_0's auc: 0.782655\n",
      "[560]\tvalid_0's auc: 0.782786\n",
      "[570]\tvalid_0's auc: 0.782919\n",
      "[580]\tvalid_0's auc: 0.782829\n",
      "[590]\tvalid_0's auc: 0.782765\n",
      "[600]\tvalid_0's auc: 0.782744\n",
      "[610]\tvalid_0's auc: 0.782745\n",
      "[620]\tvalid_0's auc: 0.782681\n",
      "[630]\tvalid_0's auc: 0.782611\n",
      "[640]\tvalid_0's auc: 0.782646\n",
      "[650]\tvalid_0's auc: 0.782568\n",
      "[660]\tvalid_0's auc: 0.782583\n",
      "[670]\tvalid_0's auc: 0.782393\n",
      "Early stopping, best iteration is:\n",
      "[570]\tvalid_0's auc: 0.782919\n",
      "For  max_depth 10 and some other parameters, cross validation AUC score 0.7829193035314287\n",
      "The optimal  max_depth:  3\n",
      "Training until validation scores don't improve for 100 rounds.\n",
      "[10]\tvalid_0's auc: 0.710243\n",
      "[20]\tvalid_0's auc: 0.718679\n",
      "[30]\tvalid_0's auc: 0.727778\n",
      "[40]\tvalid_0's auc: 0.733322\n",
      "[50]\tvalid_0's auc: 0.739185\n",
      "[60]\tvalid_0's auc: 0.744917\n",
      "[70]\tvalid_0's auc: 0.748864\n",
      "[80]\tvalid_0's auc: 0.752192\n",
      "[90]\tvalid_0's auc: 0.754791\n",
      "[100]\tvalid_0's auc: 0.757363\n",
      "[110]\tvalid_0's auc: 0.759375\n",
      "[120]\tvalid_0's auc: 0.761006\n",
      "[130]\tvalid_0's auc: 0.762475\n",
      "[140]\tvalid_0's auc: 0.763605\n",
      "[150]\tvalid_0's auc: 0.764823\n",
      "[160]\tvalid_0's auc: 0.765936\n",
      "[170]\tvalid_0's auc: 0.766915\n",
      "[180]\tvalid_0's auc: 0.767749\n",
      "[190]\tvalid_0's auc: 0.768415\n",
      "[200]\tvalid_0's auc: 0.769078\n",
      "[210]\tvalid_0's auc: 0.769829\n",
      "[220]\tvalid_0's auc: 0.770491\n",
      "[230]\tvalid_0's auc: 0.771142\n",
      "[240]\tvalid_0's auc: 0.771653\n",
      "[250]\tvalid_0's auc: 0.77216\n",
      "[260]\tvalid_0's auc: 0.772564\n",
      "[270]\tvalid_0's auc: 0.773026\n",
      "[280]\tvalid_0's auc: 0.773646\n",
      "[290]\tvalid_0's auc: 0.774038\n",
      "[300]\tvalid_0's auc: 0.774366\n",
      "[310]\tvalid_0's auc: 0.774579\n",
      "[320]\tvalid_0's auc: 0.774906\n",
      "[330]\tvalid_0's auc: 0.775299\n",
      "[340]\tvalid_0's auc: 0.775599\n",
      "[350]\tvalid_0's auc: 0.775878\n",
      "[360]\tvalid_0's auc: 0.77613\n",
      "[370]\tvalid_0's auc: 0.776375\n",
      "[380]\tvalid_0's auc: 0.776525\n",
      "[390]\tvalid_0's auc: 0.77678\n",
      "[400]\tvalid_0's auc: 0.777004\n",
      "[410]\tvalid_0's auc: 0.77714\n",
      "[420]\tvalid_0's auc: 0.77745\n",
      "[430]\tvalid_0's auc: 0.777791\n",
      "[440]\tvalid_0's auc: 0.778063\n",
      "[450]\tvalid_0's auc: 0.778198\n",
      "[460]\tvalid_0's auc: 0.778465\n",
      "[470]\tvalid_0's auc: 0.778608\n",
      "[480]\tvalid_0's auc: 0.778947\n",
      "[490]\tvalid_0's auc: 0.779166\n",
      "[500]\tvalid_0's auc: 0.779315\n",
      "[510]\tvalid_0's auc: 0.779531\n",
      "[520]\tvalid_0's auc: 0.779765\n",
      "[530]\tvalid_0's auc: 0.779821\n",
      "[540]\tvalid_0's auc: 0.780033\n",
      "[550]\tvalid_0's auc: 0.780041\n",
      "[560]\tvalid_0's auc: 0.780184\n",
      "[570]\tvalid_0's auc: 0.780334\n",
      "[580]\tvalid_0's auc: 0.780403\n",
      "[590]\tvalid_0's auc: 0.780508\n",
      "[600]\tvalid_0's auc: 0.780637\n",
      "[610]\tvalid_0's auc: 0.780731\n",
      "[620]\tvalid_0's auc: 0.780841\n",
      "[630]\tvalid_0's auc: 0.780997\n",
      "[640]\tvalid_0's auc: 0.781157\n",
      "[650]\tvalid_0's auc: 0.781228\n",
      "[660]\tvalid_0's auc: 0.781351\n",
      "[670]\tvalid_0's auc: 0.781414\n",
      "[680]\tvalid_0's auc: 0.781501\n",
      "[690]\tvalid_0's auc: 0.781541\n",
      "[700]\tvalid_0's auc: 0.781556\n",
      "[710]\tvalid_0's auc: 0.78161\n",
      "[720]\tvalid_0's auc: 0.781735\n",
      "[730]\tvalid_0's auc: 0.781787\n",
      "[740]\tvalid_0's auc: 0.781881\n",
      "[750]\tvalid_0's auc: 0.781965\n",
      "[760]\tvalid_0's auc: 0.782032\n",
      "[770]\tvalid_0's auc: 0.782004\n",
      "[780]\tvalid_0's auc: 0.782079\n",
      "[790]\tvalid_0's auc: 0.782149\n",
      "[800]\tvalid_0's auc: 0.782208\n",
      "[810]\tvalid_0's auc: 0.782238\n",
      "[820]\tvalid_0's auc: 0.782361\n",
      "[830]\tvalid_0's auc: 0.78236\n",
      "[840]\tvalid_0's auc: 0.78248\n",
      "[850]\tvalid_0's auc: 0.782583\n",
      "[860]\tvalid_0's auc: 0.782604\n",
      "[870]\tvalid_0's auc: 0.782616\n",
      "[880]\tvalid_0's auc: 0.78267\n",
      "[890]\tvalid_0's auc: 0.782736\n",
      "[900]\tvalid_0's auc: 0.782763\n",
      "[910]\tvalid_0's auc: 0.782826\n",
      "[920]\tvalid_0's auc: 0.782785\n",
      "[930]\tvalid_0's auc: 0.782914\n",
      "[940]\tvalid_0's auc: 0.782981\n",
      "[950]\tvalid_0's auc: 0.783053\n",
      "[960]\tvalid_0's auc: 0.78313\n",
      "[970]\tvalid_0's auc: 0.783156\n",
      "[980]\tvalid_0's auc: 0.783111\n",
      "[990]\tvalid_0's auc: 0.783152\n",
      "[1000]\tvalid_0's auc: 0.783122\n",
      "[1010]\tvalid_0's auc: 0.783125\n",
      "[1020]\tvalid_0's auc: 0.783123\n",
      "[1030]\tvalid_0's auc: 0.783152\n",
      "[1040]\tvalid_0's auc: 0.783181\n",
      "[1050]\tvalid_0's auc: 0.783255\n",
      "[1060]\tvalid_0's auc: 0.783251\n",
      "[1070]\tvalid_0's auc: 0.783235\n",
      "[1080]\tvalid_0's auc: 0.783241\n",
      "[1090]\tvalid_0's auc: 0.783276\n",
      "[1100]\tvalid_0's auc: 0.783354\n",
      "[1110]\tvalid_0's auc: 0.783413\n",
      "[1120]\tvalid_0's auc: 0.783389\n",
      "[1130]\tvalid_0's auc: 0.783415\n",
      "[1140]\tvalid_0's auc: 0.783453\n",
      "[1150]\tvalid_0's auc: 0.783473\n",
      "[1160]\tvalid_0's auc: 0.783541\n",
      "[1170]\tvalid_0's auc: 0.783514\n",
      "[1180]\tvalid_0's auc: 0.783517\n",
      "[1190]\tvalid_0's auc: 0.783537\n",
      "[1200]\tvalid_0's auc: 0.783578\n",
      "[1210]\tvalid_0's auc: 0.783585\n",
      "[1220]\tvalid_0's auc: 0.783555\n",
      "[1230]\tvalid_0's auc: 0.783571\n",
      "[1240]\tvalid_0's auc: 0.783615\n",
      "[1250]\tvalid_0's auc: 0.783615\n",
      "[1260]\tvalid_0's auc: 0.783624\n",
      "[1270]\tvalid_0's auc: 0.783647\n",
      "[1280]\tvalid_0's auc: 0.783665\n",
      "[1290]\tvalid_0's auc: 0.783598\n",
      "[1300]\tvalid_0's auc: 0.783667\n",
      "[1310]\tvalid_0's auc: 0.783672\n",
      "[1320]\tvalid_0's auc: 0.783619\n",
      "[1330]\tvalid_0's auc: 0.783656\n",
      "[1340]\tvalid_0's auc: 0.78361\n",
      "[1350]\tvalid_0's auc: 0.78362\n",
      "[1360]\tvalid_0's auc: 0.783622\n",
      "[1370]\tvalid_0's auc: 0.783649\n",
      "[1380]\tvalid_0's auc: 0.783618\n",
      "[1390]\tvalid_0's auc: 0.783637\n",
      "[1400]\tvalid_0's auc: 0.783682\n",
      "Early stopping, best iteration is:\n",
      "[1307]\tvalid_0's auc: 0.783699\n",
      "For best max_depth 3, The Train AUC score is 0.8239353195469326\n",
      "For best max_depth 3, The Test AUC score is 0.7836992314015897\n"
     ]
    }
   ],
   "source": [
    "weight = np.ones((len(X_train),), dtype=int)\n",
    "for i in range(len(X_train)):\n",
    "    if int(y_train.iloc[i])== 0:\n",
    "        weight[i]=1\n",
    "    else:\n",
    "        weight[i]=11\n",
    "\n",
    "train_data=lgb.Dataset(X_train[selected_features], label = y_train, weight= weight )\n",
    "valid_data=lgb.Dataset(X_test[selected_features], label = y_test)\n",
    "cv_auc_score = []\n",
    "max_depth = [3, 5, 7, 10]\n",
    "for i in max_depth:\n",
    "    \n",
    "    params = {'boosting_type': 'gbdt',\n",
    "          'max_depth' : i,\n",
    "          'objective': 'binary',\n",
    "          'nthread': 5,\n",
    "          'num_leaves': 32,\n",
    "          'learning_rate': 0.05,\n",
    "          'max_bin': 512,\n",
    "          'subsample_for_bin': 200,\n",
    "          'subsample': 0.7,\n",
    "          'subsample_freq': 1,\n",
    "          'colsample_bytree': 0.8,\n",
    "          'reg_alpha': 20,\n",
    "          'reg_lambda': 20,\n",
    "          'min_split_gain': 0.5,\n",
    "          'min_child_weight': 1,\n",
    "          'min_child_samples': 10,\n",
    "          'scale_pos_weight': 1,\n",
    "          'num_class' : 1,\n",
    "          'metric' : 'auc'\n",
    "          }\n",
    "lgbm = lgb.train(params,\n",
    "                 train_data,\n",
    "                 2500,\n",
    "                 valid_sets=valid_data,\n",
    "                 early_stopping_rounds= 100,\n",
    "                 verbose_eval= 10\n",
    "                 )\n",
    "y_pred_prob = lgbm.predict(X_test[selected_features])\n",
    "cv_auc_score.append(roc_auc_score(y_test,y_pred_prob))\n",
    "print('For  max_depth {0} and some other parameters, cross validation AUC score {1}'.format(i,roc_auc_score(y_test,y_pred_prob)))\n",
    "print('The optimal  max_depth: ', max_depth[np.argmax(cv_auc_score)])\n",
    "params = {'boosting_type': 'gbdt',\n",
    "          'max_depth' : max_depth[np.argmax(cv_auc_score)],\n",
    "          'objective': 'binary',\n",
    "          'nthread': 5,\n",
    "          'num_leaves': 32,\n",
    "          'learning_rate': 0.05,\n",
    "          'max_bin': 512,\n",
    "          'subsample_for_bin': 200,\n",
    "          'subsample': 0.7,\n",
    "          'subsample_freq': 1,\n",
    "          'colsample_bytree': 0.8,\n",
    "          'reg_alpha': 20,\n",
    "          'reg_lambda': 20,\n",
    "          'min_split_gain': 0.5,\n",
    "          'min_child_weight': 1,\n",
    "          'min_child_samples': 10,\n",
    "          'scale_pos_weight': 1,\n",
    "          'num_class' : 1,\n",
    "          'metric' : 'auc'\n",
    "          }\n",
    "lgbm = lgb.train(params,\n",
    "                 train_data,\n",
    "                 2500,\n",
    "                 valid_sets=valid_data,\n",
    "                 early_stopping_rounds= 100,\n",
    "                 verbose_eval= 10\n",
    "                 )\n",
    "y_pred_prob = lgbm.predict(X_train[selected_features])\n",
    "print('For best max_depth {0}, The Train AUC score is {1}'.format(max_depth[np.argmax(cv_auc_score)], \n",
    "                                                                  roc_auc_score(y_train,y_pred_prob) ))    \n",
    "\n",
    "y_pred_prob = lgbm.predict(X_test[selected_features])\n",
    "print('For best max_depth {0}, The Test AUC score is {1}'.format(max_depth[np.argmax(cv_auc_score)], \n",
    "                                                                 roc_auc_score(y_test,y_pred_prob) ))\n",
    "y_pred = np.ones((len(X_test),), dtype=int)\n",
    "for i in range(len(y_pred_prob)):\n",
    "    if y_pred_prob[i]<=0.5:\n",
    "        y_pred[i]=0\n",
    "    else:\n",
    "        y_pred[i]=1"
   ]
  },
  {
   "cell_type": "code",
   "execution_count": 55,
   "metadata": {
    "colab": {
     "base_uri": "https://localhost:8080/",
     "height": 397
    },
    "executionInfo": {
     "elapsed": 1894,
     "status": "ok",
     "timestamp": 1611749522011,
     "user": {
      "displayName": "sathish anantha",
      "photoUrl": "https://lh3.googleusercontent.com/a-/AOh14Ghdw5Sh92a17sXj4ePDAB2diHt3YItsnu17FEdHoBI=s64",
      "userId": "06917965946637727718"
     },
     "user_tz": -330
    },
    "id": "Qu-ban1vwU1d",
    "outputId": "7724c34b-f311-4636-b1f2-b542e80c086f"
   },
   "outputs": [
    {
     "name": "stdout",
     "output_type": "stream",
     "text": [
      "==============================================================================================================\n",
      "Test Dataset Results:\n",
      "\tROC-AUC Score = 0.7836992314015897\n",
      "\tPrecision Score = 0.19008015654988145\n",
      "\tRecall Score = 0.6781686358754028\n",
      "\tF1_Score  = 0.296934246494812\n"
     ]
    },
    {
     "data": {
      "image/png": "[encoded data removed]",
      "text/plain": [
       "<Figure size 1440x288 with 6 Axes>"
      ]
     },
     "metadata": {
      "needs_background": "light",
      "tags": []
     },
     "output_type": "display_data"
    }
   ],
   "source": [
    "print('=' * 110)\n",
    "print(\"Test Dataset Results:\")\n",
    "print(f\"\\tROC-AUC Score = {roc_auc_score(y_test, y_pred_prob)}\")\n",
    "print(f\"\\tPrecision Score = {precision_score(y_test, y_pred)}\")\n",
    "print(f\"\\tRecall Score = {recall_score(y_test, y_pred)}\")\n",
    "print(f\"\\tF1_Score  = {f1_score(y_test, y_pred)}\")\n",
    "plot_confusion_matrix(y_test, y_pred)"
   ]
  },
  {
   "cell_type": "code",
   "execution_count": null,
   "metadata": {
    "id": "QA3QjUFVwcCc"
   },
   "outputs": [],
   "source": []
  },
  {
   "cell_type": "code",
   "execution_count": 51,
   "metadata": {
    "colab": {
     "base_uri": "https://localhost:8080/",
     "height": 414
    },
    "executionInfo": {
     "elapsed": 7007,
     "status": "ok",
     "timestamp": 1611739767850,
     "user": {
      "displayName": "sathish anantha",
      "photoUrl": "https://lh3.googleusercontent.com/a-/AOh14Ghdw5Sh92a17sXj4ePDAB2diHt3YItsnu17FEdHoBI=s64",
      "userId": "06917965946637727718"
     },
     "user_tz": -330
    },
    "id": "EEeRyAzBvcIn",
    "outputId": "2e83d004-d49b-4eac-917d-61e647616776"
   },
   "outputs": [
    {
     "data": {
      "image/png": "[encoded data removed]",
      "text/plain": [
       "<Figure size 576x432 with 1 Axes>"
      ]
     },
     "metadata": {
      "needs_background": "light",
      "tags": []
     },
     "output_type": "display_data"
    }
   ],
   "source": [
    "fpr, tpr, thresholds = roc_curve(y_test, y_pred_prob)\n",
    "auc = roc_auc_score(y_test,y_pred_prob)\n",
    "\n",
    "plt.figure(figsize=(8,6))\n",
    "plt.plot(fpr, tpr, marker='.')\n",
    "plt.plot([0, 1], [0, 1], linestyle='--')\n",
    "plt.title('ROC curve', fontsize = 20)\n",
    "plt.xlabel('FPR', fontsize=15)\n",
    "plt.ylabel('TPR', fontsize=15)\n",
    "plt.grid()\n",
    "plt.legend([\"AUC=%.3f\"%auc])\n",
    "plt.show()"
   ]
  },
  {
   "cell_type": "code",
   "execution_count": 52,
   "metadata": {
    "executionInfo": {
     "elapsed": 4797,
     "status": "ok",
     "timestamp": 1611742296109,
     "user": {
      "displayName": "sathish anantha",
      "photoUrl": "https://lh3.googleusercontent.com/a-/AOh14Ghdw5Sh92a17sXj4ePDAB2diHt3YItsnu17FEdHoBI=s64",
      "userId": "06917965946637727718"
     },
     "user_tz": -330
    },
    "id": "jMqmVG3fvcFJ"
   },
   "outputs": [],
   "source": [
    "# Actual test score\n",
    "predict_test_actual = lgbm.predict(df_main_test[selected_features])\n",
    "test_result_submit  = pd.DataFrame(data = {'SK_ID_CURR' :df_main_test['SK_ID_CURR'].values, \n",
    "                     'TARGET' : predict_test_actual})\n",
    "test_result_submit.to_csv('test_result_submit_lgm.csv',index=False)"
   ]
  },
  {
   "cell_type": "code",
   "execution_count": 60,
   "metadata": {
    "colab": {
     "base_uri": "https://localhost:8080/"
    },
    "executionInfo": {
     "elapsed": 1027,
     "status": "ok",
     "timestamp": 1611751045583,
     "user": {
      "displayName": "sathish anantha",
      "photoUrl": "https://lh3.googleusercontent.com/a-/AOh14Ghdw5Sh92a17sXj4ePDAB2diHt3YItsnu17FEdHoBI=s64",
      "userId": "06917965946637727718"
     },
     "user_tz": -330
    },
    "id": "p50-FJI6vcCc",
    "outputId": "25a773bb-6e36-4bb4-a403-e50f62b5097d"
   },
   "outputs": [
    {
     "name": "stdout",
     "output_type": "stream",
     "text": [
      "+---------------------------+------+--------+-----------+----------+---------------------+----------------------+\n",
      "|           Model           | AUC  | Recall | Precision | F1_score | Kaggle_score_public | Kaggle_score_private |\n",
      "+---------------------------+------+--------+-----------+----------+---------------------+----------------------+\n",
      "|        Random_model       | 0.49 |  0.49  |    0.08   |   0.13   |         Null        |         Null         |\n",
      "|       Domaiant_Class      | 0.5  |   0    |     0     |    0     |         Null        |         Null         |\n",
      "|       SGD_Classifier      | 0.5  |   0    |     0     |    0     |         Null        |         Null         |\n",
      "| Random_Forest_Classifier  | 0.75 |  0.5   |    0.02   |  0.005   |         0.5         |         0.5          |\n",
      "|         LightGBM          | 0.78 |  0.6   |    0.1    |   0.19   |        0.771        |        0.774         |\n",
      "+---------------------------+------+--------+-----------+----------+---------------------+----------------------+\n"
     ]
    }
   ],
   "source": [
    "# http://zetcode.com/python/prettytable/\n",
    "from prettytable import PrettyTable\n",
    "\n",
    "x = PrettyTable()\n",
    "x.field_names = [\"Model\",'AUC','Recall','Precision','F1_score', 'Kaggle_score_public', 'Kaggle_score_private']\n",
    "x.add_row(['Random_model','0.49','0.49','0.08','0.13','Null','Null'])\n",
    "x.add_row(['Domaiant_Class','0.5','0','0','0','Null','Null'])\n",
    "x.add_row(['SGD_Classifier','0.5','0','0','0','Null','Null'])\n",
    "x.add_row(['Random_Forest_Classifier ','0.75','0.5','0.02','0.005','0.5','0.5'])\n",
    "x.add_row(['LightGBM ','0.78','0.6','0.1','0.19','0.771','0.774'])\n",
    "\n",
    "print(x)"
   ]
  },
  {
   "cell_type": "markdown",
   "metadata": {
    "id": "zBsv4YtC2-BZ"
   },
   "source": [
    "LightGBM gives the best performance"
   ]
  },
  {
   "cell_type": "code",
   "execution_count": null,
   "metadata": {
    "id": "mep8zfAwv-jU"
   },
   "outputs": [],
   "source": [
    "# Saving the final model LightGBM as pickle file for the future use in productionizing the model\n",
    "with open('final_model.pkl','wb') as fp:\n",
    "    pickle.dump(lgbm, fp)"
   ]
  },
  {
   "cell_type": "markdown",
   "metadata": {},
   "source": [
    "# KAGGLE RESULTS"
   ]
  },
  {
   "attachments": {
    "image.png": {
     "image/png": "[encoded data removed]"
    }
   },
   "cell_type": "markdown",
   "metadata": {
    "id": "0gCO17aKwTc9"
   },
   "source": [
    "![image.png](attachment:image.png)"
   ]
  },
  {
   "cell_type": "code",
   "execution_count": null,
   "metadata": {
    "id": "i_wD9vuOkRGn"
   },
   "outputs": [],
   "source": []
  }
 ],
 "metadata": {
  "colab": {
   "collapsed_sections": [],
   "name": "Copy of Home_Credit.ipynb",
   "provenance": [
    {
     "file_id": "1YMc2sM0MVNyzZcukEiSdGee-I2hV_ikh",
     "timestamp": 1611649076786
    }
   ]
  },
  "kernelspec": {
   "display_name": "Python 3",
   "language": "python",
   "name": "python3"
  },
  "language_info": {
   "codemirror_mode": {
    "name": "ipython",
    "version": 3
   },
   "file_extension": ".py",
   "mimetype": "text/x-python",
   "name": "python",
   "nbconvert_exporter": "python",
   "pygments_lexer": "ipython3",
   "version": "3.9.2"
  }
 },
 "nbformat": 4,
 "nbformat_minor": 1
}
