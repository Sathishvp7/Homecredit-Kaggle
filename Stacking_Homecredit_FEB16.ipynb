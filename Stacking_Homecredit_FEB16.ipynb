{
 "cells": [
  {
   "cell_type": "markdown",
   "metadata": {
    "id": "bQt6KdrzysRw"
   },
   "source": [
    "## Overview"
   ]
  },
  {
   "cell_type": "code",
   "execution_count": 1,
   "metadata": {
    "colab": {
     "base_uri": "https://localhost:8080/"
    },
    "executionInfo": {
     "elapsed": 36234,
     "status": "ok",
     "timestamp": 1613452699874,
     "user": {
      "displayName": "sathish anantha",
      "photoUrl": "https://lh3.googleusercontent.com/a-/AOh14Ghdw5Sh92a17sXj4ePDAB2diHt3YItsnu17FEdHoBI=s64",
      "userId": "06917965946637727718"
     },
     "user_tz": -330
    },
    "id": "Hr7A6HA4y0J_",
    "outputId": "992ca093-fbed-493e-f76c-bc2c2d010cc0"
   },
   "outputs": [
    {
     "name": "stdout",
     "output_type": "stream",
     "text": [
      "Mounted at /gdrive\n",
      "/gdrive\n"
     ]
    }
   ],
   "source": [
    "from google.colab import drive\n",
    "drive.mount('/gdrive')\n",
    "%cd /gdrive"
   ]
  },
  {
   "cell_type": "code",
   "execution_count": null,
   "metadata": {
    "id": "CvxoeRgYzKY1"
   },
   "outputs": [],
   "source": [
    "#!unzip  \"/gdrive/MyDrive/CaseStudy_HomeCredit/home-credit-default-risk.zip\"  -d \"/gdrive/MyDrive/CaseStudy_HomeCredit/\""
   ]
  },
  {
   "cell_type": "markdown",
   "metadata": {
    "id": "p7_xWQwpysR6"
   },
   "source": [
    "<pre>\n",
    "Serious complication for loan providers(Banking) is to find out the Loan applicants who are very likely to repay the loan.If the loan provider predicted the faithful customer, they will gain more profit and  more imporatanly they will avoid losses.\n",
    "In kaggle, Home Credit Default Risk is currently using various statistical and machine learning methods to make these predictions, they're challenging. Kagglers to help them unlock the full potential of their data. Doing so will ensure that clients capable of repayment are not rejected and that loans are given with a principal, maturity, and repayment calendar that will empower their clients to be successful.\n",
    "\n",
    "Here we have two classes in the target label, we will conclude this problem as a <strong> Binary classification </strong> problem.\n",
    "\n",
    "<strong>Problem Statement</strong>\n",
    "We need to Build the model,which will say by giving the customer information whether this applicant will repay a loan or not\n",
    " \n",
    "<strong>Data Description</strong>\n",
    "They are 7 different source of table for this problem, combining all the tables is 221 features.\n",
    "two main tables are <strong>application_train.csv</strong> and <strong>application_test.csv</strong>, which contain the current applications of the clients who have applied for loan. All the other tables are referenced with this table using the unique ID, i.e. SK_ID_CURR.\n",
    "For more information, visit - https://www.kaggle.com/c/home-credit-default-risk/data\n",
    "\n",
    "</pre>"
   ]
  },
  {
   "cell_type": "code",
   "execution_count": 2,
   "metadata": {
    "colab": {
     "base_uri": "https://localhost:8080/",
     "height": 17
    },
    "executionInfo": {
     "elapsed": 3782,
     "status": "ok",
     "timestamp": 1613452743588,
     "user": {
      "displayName": "sathish anantha",
      "photoUrl": "https://lh3.googleusercontent.com/a-/AOh14Ghdw5Sh92a17sXj4ePDAB2diHt3YItsnu17FEdHoBI=s64",
      "userId": "06917965946637727718"
     },
     "user_tz": -330
    },
    "id": "iW4qRadPysR8",
    "outputId": "4916de8b-7c12-4f16-941d-53946a94683d"
   },
   "outputs": [
    {
     "data": {
      "text/html": [
       "        <script type=\"text/javascript\">\n",
       "        window.PlotlyConfig = {MathJaxConfig: 'local'};\n",
       "        if (window.MathJax) {MathJax.Hub.Config({SVG: {font: \"STIX-Web\"}});}\n",
       "        if (typeof require !== 'undefined') {\n",
       "        require.undef(\"plotly\");\n",
       "        requirejs.config({\n",
       "            paths: {\n",
       "                'plotly': ['https://cdn.plot.ly/plotly-latest.min']\n",
       "            }\n",
       "        });\n",
       "        require(['plotly'], function(Plotly) {\n",
       "            window._Plotly = Plotly;\n",
       "        });\n",
       "        }\n",
       "        </script>\n",
       "        "
      ]
     },
     "metadata": {
      "tags": []
     },
     "output_type": "display_data"
    }
   ],
   "source": [
    "# Import all required package for this problem\n",
    "import pandas as pd\n",
    "import numpy as np\n",
    "import matplotlib.pyplot as plt\n",
    "import seaborn as sns\n",
    "import os\n",
    "from plotly.offline import iplot\n",
    "from matplotlib.pyplot import figure\n",
    "import warnings\n",
    "warnings.filterwarnings('ignore') \n",
    "from sklearn.preprocessing import MinMaxScaler, OrdinalEncoder, LabelEncoder,OneHotEncoder\n",
    "from sklearn.impute import SimpleImputer as Imputer\n",
    "from tqdm import tqdm\n",
    "\n",
    "import plotly.offline as py\n",
    "import plotly.graph_objs as go\n",
    "from sklearn.model_selection import train_test_split\n",
    "import cufflinks as cf\n",
    "cf.go_offline()\n",
    "import pickle\n",
    "import gc\n",
    "import lightgbm as lgb\n",
    "from sklearn.linear_model import SGDClassifier\n",
    "from sklearn.svm import LinearSVC\n",
    "from sklearn.metrics import roc_auc_score\n",
    "from sklearn.linear_model import LogisticRegression\n",
    "from sklearn.metrics import roc_auc_score\n",
    "from sklearn.calibration import CalibratedClassifierCV\n",
    "from sklearn.ensemble import RandomForestClassifier\n",
    "from sklearn.metrics import accuracy_score,confusion_matrix,roc_auc_score,roc_curve\n"
   ]
  },
  {
   "cell_type": "markdown",
   "metadata": {
    "id": "t8nAFpmZysR9"
   },
   "source": [
    "### Exploratory Data Analysis\n",
    "\n",
    "Exploratory Data Analysis refers to the critical process of performing initial investigations on data"
   ]
  },
  {
   "cell_type": "markdown",
   "metadata": {
    "id": "3VXtwr5lysR9"
   },
   "source": [
    "#### Load Data from given CSV"
   ]
  },
  {
   "cell_type": "code",
   "execution_count": 3,
   "metadata": {
    "executionInfo": {
     "elapsed": 735,
     "status": "ok",
     "timestamp": 1613452745205,
     "user": {
      "displayName": "sathish anantha",
      "photoUrl": "https://lh3.googleusercontent.com/a-/AOh14Ghdw5Sh92a17sXj4ePDAB2diHt3YItsnu17FEdHoBI=s64",
      "userId": "06917965946637727718"
     },
     "user_tz": -330
    },
    "id": "PcSL6EYnysR-"
   },
   "outputs": [],
   "source": [
    "# Select the directory \n",
    "os.chdir('/gdrive/My Drive/CaseStudy_HomeCredit')"
   ]
  },
  {
   "cell_type": "markdown",
   "metadata": {
    "id": "OMkrt__MysSJ"
   },
   "source": [
    "### Missing values\n",
    "\n",
    "<pre>\n",
    "Missing values in a Dataset will affect model performances, to avoid that need to handle this problem for that we have various method , important method is <strong>Imputer</strong> for that first we need to check missing values deatils in all tables.\n",
    "\n",
    "</pre>"
   ]
  },
  {
   "cell_type": "code",
   "execution_count": null,
   "metadata": {
    "id": "O_gFXWqTysSJ"
   },
   "outputs": [],
   "source": [
    "def missing_value(dataframe = 'df', df_name ='TRAIN', visualizse = True, head_count = 5):\n",
    "    '''\n",
    "    dataframe - Pass the dataframe to the find missing value of each row.\n",
    "    df_name  -  Dataframe name\n",
    "    Visualizse - Boolean, True- Visalizse or False - skip the visualizse part\n",
    "    head_count - print top five missing column in descending column.\n",
    "    '''\n",
    "    total = dataframe.isnull().sum().sort_values(ascending=False)\n",
    "    percent = (dataframe.isnull().sum()/dataframe.isnull().count()).sort_values(ascending=False)\n",
    "    missing_data = pd.concat([total, percent], axis=1, keys=['Total', 'Percent'])\n",
    "    print(missing_data.head(head_count))\n",
    "    \n",
    "    if visualizse:\n",
    "        # visualizse\n",
    "        figure(figsize=(50,50), facecolor='w', edgecolor='r')\n",
    "        '''\n",
    "        edge color - Border color\n",
    "        dpi - dots-per-inch\n",
    "        '''\n",
    "        if len(missing_data.index) >20 :\n",
    "            sns.set(font_scale = 3)\n",
    "            sns.barplot(y= missing_data.index, x= missing_data['Percent'])\n",
    "        else: \n",
    "            sns.set(font_scale = 6)\n",
    "            sns.barplot(y= missing_data.index, x= missing_data['Percent'])\n",
    "        plt.tight_layout()\n",
    "        plt.title(str(df_name))\n",
    "        plt.show()"
   ]
  },
  {
   "cell_type": "markdown",
   "metadata": {
    "id": "og9eiunwysTb"
   },
   "source": [
    "\n",
    "# <font color='green'> FEATURE ENGINEERING </font>"
   ]
  },
  {
   "cell_type": "markdown",
   "metadata": {
    "id": "j6SGqtvFysTc"
   },
   "source": [
    "![image.png](attachment:image.png)"
   ]
  },
  {
   "cell_type": "markdown",
   "metadata": {
    "id": "Dik4iwzjysTc"
   },
   "source": [
    "<pre>\n",
    "From the Exploratory Data Analysis(EDA) we understand the Insight of all tables, major role of feature engineering is selecting best column , best feature selection gives better model. suppose if we have noisy data, model wont give better result. if feature is having missing value either we remove or feature engineering, feature engineering is best because removing noisy features which leads to lack of data.\n",
    "\n",
    "</pre>"
   ]
  },
  {
   "cell_type": "markdown",
   "metadata": {
    "id": "MMwMRicZysTc"
   },
   "source": [
    "# Reduce memory usage\n",
    "\n",
    "<pre>\n",
    "\n",
    "We handling 7 tables, System required a lot of memory intensive computation or data-set size that was large enough to hang my system. so to avoid memory usage problem we going to change the datatype eg - Object to Category, int64 to int32,16,8 deponds on limit of numeric column\n",
    "\n",
    "</pre>"
   ]
  },
  {
   "cell_type": "code",
   "execution_count": null,
   "metadata": {
    "id": "QdBgDEtrysTj"
   },
   "outputs": [],
   "source": [
    "def reduce_mem_usage(data, verbose = True):\n",
    "    # refer - https://medium.com/@aakashgoel12/avoid-memory-error-techniques-to-reduce-dataframe-memory-usage-fcf53b2318a2\n",
    "    #refer: https://www.kaggle.com/gemartin/load-data-reduce-memory-usage\n",
    "    '''\n",
    "    This function is used to reduce the memory usage by converting the datatypes of a pandas\n",
    "    DataFrame withing required limits.\n",
    "    '''\n",
    "    \n",
    "    start_mem = data.memory_usage().sum() / 1024**2\n",
    "    if verbose:\n",
    "        print('-'*100)\n",
    "        print('Memory usage of dataframe: {:.2f} MB'.format(start_mem))\n",
    "    \n",
    "    for col in data.columns:\n",
    "        col_type = data[col].dtype\n",
    "        \n",
    "        if col_type != object:\n",
    "            c_min = data[col].min()\n",
    "            c_max = data[col].max()\n",
    "            if str(col_type)[:3] == 'int':\n",
    "                if c_min > np.iinfo(np.int8).min and c_max < np.iinfo(np.int8).max:\n",
    "                    data[col] = data[col].astype(np.int8)\n",
    "                elif c_min > np.iinfo(np.int16).min and c_max < np.iinfo(np.int16).max:\n",
    "                    data[col] = data[col].astype(np.int16)\n",
    "                elif c_min > np.iinfo(np.int32).min and c_max < np.iinfo(np.int32).max:\n",
    "                    data[col] = data[col].astype(np.int32)\n",
    "                elif c_min > np.iinfo(np.int64).min and c_max < np.iinfo(np.int64).max:\n",
    "                    data[col] = data[col].astype(np.int64)  \n",
    "            else:\n",
    "                if c_min > np.finfo(np.float16).min and c_max < np.finfo(np.float16).max:\n",
    "                    data[col] = data[col].astype(np.float16)\n",
    "                elif c_min > np.finfo(np.float32).min and c_max < np.finfo(np.float32).max:\n",
    "                    data[col] = data[col].astype(np.float32)\n",
    "                else:\n",
    "                    data[col] = data[col].astype(np.float64)\n",
    "\n",
    "    end_mem = data.memory_usage().sum() / 1024**2\n",
    "    if verbose:\n",
    "        print('Memory usage after optimization: {:.2f} MB'.format(end_mem))\n",
    "        print('Decreased by {:.1f}%'.format(100 * (start_mem - end_mem) / start_mem))\n",
    "        print('-'*100)\n",
    "    \n",
    "    return data"
   ]
  },
  {
   "cell_type": "markdown",
   "metadata": {
    "id": "0PCwPTbIysTj"
   },
   "source": [
    "# Read all the tables "
   ]
  },
  {
   "cell_type": "code",
   "execution_count": null,
   "metadata": {
    "id": "Wjl2gl5BysTk"
   },
   "outputs": [],
   "source": [
    "# Read all madatory files for this task\n",
    "def read_mandatory_files():\n",
    "    df = pd.read_csv('application_train.csv')\n",
    "    df = reduce_mem_usage(df)\n",
    "    df_test = pd.read_csv('application_test.csv')\n",
    "    df_test = reduce_mem_usage(df_test)\n",
    "    df_bureau = pd.read_csv('bureau.csv')\n",
    "    df_bureau = reduce_mem_usage(df_bureau)\n",
    "    df_bureau_bal = pd.read_csv('bureau_balance.csv')\n",
    "    df_bureau_bal = reduce_mem_usage(df_bureau_bal)\n",
    "    df_prev_app = pd.read_csv('previous_application.csv')\n",
    "    df_prev_app = reduce_mem_usage(df_prev_app)\n",
    "    df_pos = pd.read_csv('POS_CASH_balance.csv')\n",
    "    df_pos = reduce_mem_usage(df_pos)\n",
    "    df_credit_bal = pd.read_csv('credit_card_balance.csv')\n",
    "    df_credit_bal = reduce_mem_usage(df_credit_bal)\n",
    "    df_inst_pay = pd.read_csv('installments_payments.csv')\n",
    "    df_inst_pay = reduce_mem_usage(df_inst_pay)\n",
    "    \n",
    "    return df, df_test, df_bureau,df_bureau_bal,df_prev_app,df_pos, df_credit_bal,df_inst_pay"
   ]
  },
  {
   "cell_type": "markdown",
   "metadata": {
    "id": "rw_RZe0lysTk"
   },
   "source": [
    "# Data Cleaning\n",
    "<pre>\n",
    "Erroness value in application train and application test tables, to handling we using below function\n",
    "\n",
    "</pre>"
   ]
  },
  {
   "cell_type": "code",
   "execution_count": null,
   "metadata": {
    "id": "qVRdS1yVysTk"
   },
   "outputs": [],
   "source": [
    "# Data Cleaning and preprocessing for train and test\n",
    "def data_cleaning(df='dataframe'):\n",
    "    df['DAYS_BIRTH'] = round(df['DAYS_BIRTH'] *-1/ 365)\n",
    "\n",
    "    # abs - convert all value in to postive\n",
    "    df['DAYS_EMPLOYED']  = abs(df['DAYS_EMPLOYED'])\n",
    "    df['DAYS_EMPLOYED'].head(2)\n",
    "\n",
    "    # Replace the anomalous values(Errorness value) with nan\n",
    "    df['DAYS_EMPLOYED'] = df['DAYS_EMPLOYED'].replace({365243: np.nan})\n",
    "\n",
    "    # Convert days in to years\n",
    "    df['DAYS_EMPLOYED'] = df['DAYS_EMPLOYED'] /365\n",
    "    \n",
    "    # Create an anomalous flag column\n",
    "    df['Year_Empolyed_ANOM'] = df[\"DAYS_EMPLOYED\"] == 365243\n",
    "\n",
    "    #Invalid Gender code, we have limited entry so we removing\n",
    "    df = df[df['CODE_GENDER'] != 'XNA']\n",
    "\n",
    "    df.loc[df['OBS_30_CNT_SOCIAL_CIRCLE'] > 30, 'OBS_30_CNT_SOCIAL_CIRCLE'] = np.nan\n",
    "    df.loc[df['OBS_60_CNT_SOCIAL_CIRCLE'] > 30, 'OBS_60_CNT_SOCIAL_CIRCLE'] = np.nan\n",
    "    \n",
    "    return df"
   ]
  },
  {
   "cell_type": "markdown",
   "metadata": {
    "id": "RCM8YIrRysTk"
   },
   "source": [
    "# Replcaing missing value category with XNS (Unknow)"
   ]
  },
  {
   "cell_type": "code",
   "execution_count": null,
   "metadata": {
    "id": "fJqtzKKBysTl"
   },
   "outputs": [],
   "source": [
    "# replacing Null with XNS -  Unknow category\n",
    "def replacing_missing_category(df = 'dataframe'):\n",
    "    # replacing Null with XNS -  Unknow category\n",
    "    categorical_columns_train = df.dtypes[df.dtypes == 'object'].index.tolist()\n",
    "    df[categorical_columns_train] = df[categorical_columns_train].fillna('XNA')\n",
    "    \n",
    "    # From EDA REGION_RATING_CLIENT and REGION_RATING_CLIENT_W_CITY have discret value, \n",
    "    #so we changing this column data type from Int to Object\n",
    "    \n",
    "    df['REGION_RATING_CLIENT'] = df['REGION_RATING_CLIENT'].astype('object')\n",
    "    df['REGION_RATING_CLIENT_W_CITY'] = df['REGION_RATING_CLIENT_W_CITY'].astype('object')\n",
    "    \n",
    "    return df"
   ]
  },
  {
   "cell_type": "markdown",
   "metadata": {
    "id": "MAuf3lzzysTl"
   },
   "source": [
    "# OneHotEncoding and Label encoder"
   ]
  },
  {
   "cell_type": "code",
   "execution_count": null,
   "metadata": {
    "id": "QnwrSIWkysTl"
   },
   "outputs": [],
   "source": [
    "## Converting Category in to Numerical representation using Onehot encoder and label encoder\n",
    "'''\n",
    "OneHotEncoder -  handle_unknown='ignore'\n",
    "    unknown category is encountered during\n",
    "    transform, the resulting one-hot encoded columns for this feature\n",
    "    will be all zeros.\n",
    "'''\n",
    "def category_to_numeric(df = 'dataframe',df_test = 'dataframe2'):\n",
    "    print('Shape of application train before Encoding ', df.shape)\n",
    "    print('Shape of application test before Encoding ', df_test.shape)\n",
    "    cat_df = df.dtypes[df.dtypes == 'object'].index.tolist()\n",
    "    enc = OneHotEncoder(handle_unknown='ignore')\n",
    "    for i in tqdm(cat_df):\n",
    "\n",
    "        enc_df = pd.DataFrame(enc.fit_transform(df[[i]]).toarray().astype('int'),columns=enc.get_feature_names([i]))\n",
    "        enc_df_test = pd.DataFrame(enc.transform(df_test[[i]]).toarray().astype('int'),columns=enc.get_feature_names([i]))\n",
    "        df = df.drop(i,axis=1).join(enc_df)\n",
    "        df_test = df_test.drop(i,axis=1).join(enc_df_test)\n",
    "\n",
    "    print('Shape of application train after Encoding ', df.shape)\n",
    "    print('Shape of application test after Encoding ', df_test.shape)  \n",
    "    \n",
    "    return df, df_test"
   ]
  },
  {
   "cell_type": "markdown",
   "metadata": {
    "id": "xl-S7OdcysTl"
   },
   "source": [
    "# Replacing missing value - dtype Numeric"
   ]
  },
  {
   "cell_type": "code",
   "execution_count": null,
   "metadata": {
    "id": "6nLEFcBhysTm"
   },
   "outputs": [],
   "source": [
    "# replacing ,missing value with Median\n",
    "def replacing_missing_numeric(df = 'dataframe', df_test='dataframe2'):\n",
    "    # Train missing values\n",
    "    missing_value(df,df_name='TRAIN',visualizse=False,head_count=5)\n",
    "    # Test missing values\n",
    "    missing_value(df_test,df_name='TEST',visualizse=False,head_count=10)\n",
    "    \n",
    "    ## Fill in missing values\n",
    "\n",
    "    #Strategy = Median, variances is high so better to use Median\n",
    "    imputer = Imputer(strategy = 'median')\n",
    "    scaler = MinMaxScaler(feature_range = [0,1])\n",
    "    train = df  \n",
    "    train_col = train.columns\n",
    "\n",
    "    imputer.fit(train)\n",
    "    train = imputer.transform(train)\n",
    "    test = imputer.transform(df_test)\n",
    "    scaler.fit(train)\n",
    "    train = scaler.transform(train)\n",
    "    test = scaler.transform(test)\n",
    "    print('Training data shape: ', train.shape)\n",
    "    print('Testing data shape: ', test.shape)\n",
    "    new_df_train = pd.DataFrame(train,columns=train_col)\n",
    "    new_df_train['SK_ID_CURR'] = df['SK_ID_CURR'].values\n",
    "    #new_df_train['TARGET'] = df['TARGET'].values\n",
    "    \n",
    "    new_df_test = pd.DataFrame(test,columns=train_col)\n",
    "    new_df_test['SK_ID_CURR'] = df_test['SK_ID_CURR'].values\n",
    "    \n",
    "    print('Missing value_count after Imputation \\n')\n",
    "    missing_value(new_df_train,df_name='TRAIN',visualizse=False,head_count=5)\n",
    "    # Test missing values\n",
    "    missing_value(new_df_test,df_name='TEST',visualizse=False,head_count=5)\n",
    "\n",
    "    print(' Observation : \\n 1.Now there is no missing value in Train and test')\n",
    "    \n",
    "    \n",
    "    return new_df_train, new_df_test"
   ]
  },
  {
   "cell_type": "markdown",
   "metadata": {
    "id": "N_6cs3RyysTm"
   },
   "source": [
    "# Create new Custom features - application train and test"
   ]
  },
  {
   "cell_type": "markdown",
   "metadata": {
    "id": "slpmJctUysTm"
   },
   "source": [
    "<pre>\n",
    "\n",
    "refer - https://www.wellsfargo.com/financial-education/credit-management/five-c/\n",
    "\n",
    "<strong> <font color = 'blue'>Capacity</font> </strong> : Lenders need to determine whether you can comfortably afford your payments. Your income and employment history are good indicators of your ability to repay outstanding debt. Income amount, stability, and type of income may all be considered. The ratio of your current and any new debt as compared to your before-tax income, known as debt-to-income ratio (DTI), may be evaluated.\n",
    "\n",
    "<strong> <font color = 'blue'>Collateral</font> </strong>  (when applying for secured loans): Loans, lines of credit, or credit cards you apply for may be secured or unsecured. With a secured product, such as an auto or home equity loan, you pledge something you own as collateral. The value of your collateral will be evaluated, and any existing debt secured by that collateral will be subtracted from the value. The remaining equity will play a factor in the lending decision.\n",
    "\n",
    "<strong> <font color = 'blue'>Capital</font> </strong>: While your household income is expected to be the primary source of repayment, capital represents the savings, investments, and other assets that can help repay the loan. This can be helpful if you lose your job or experience other setbacks.\n",
    "\n",
    "<strong> <font color = 'blue'>Conditions</font> </strong>: Lenders may want to know how you plan to use the money and will consider the loan’s purpose, such as whether the loan will be used to purchase a vehicle or other property. Other factors, such as environmental and economic conditions, may also be considered.\n",
    "</pre>"
   ]
  },
  {
   "cell_type": "code",
   "execution_count": null,
   "metadata": {
    "id": "opy9VmUmysTm"
   },
   "outputs": [],
   "source": [
    "def create_custom_features_main_table(df='dataframe1', df_test='dataframe2'):\n",
    "    ################ Application_ train.csv ###########\n",
    "    # Flag to represent when Total income is greater than Credit\n",
    "    df['INCOME_GT_CREDIT_FLAG'] = df['AMT_INCOME_TOTAL'] > df['AMT_CREDIT']\n",
    "\n",
    "    # Column to represent Credit Income Percent\n",
    "    df['DIR'] = df['AMT_CREDIT']/(df['AMT_INCOME_TOTAL']+1)\n",
    "\n",
    "    # Column to represent Annuity Income percent\n",
    "    df['AIR'] = df['AMT_ANNUITY']/(df['AMT_INCOME_TOTAL']+1)\n",
    "\n",
    "    # Column to represent Credit Term\n",
    "    df['ACR'] = (df['AMT_CREDIT']/(df['AMT_ANNUITY']+1))\n",
    "    \n",
    "\n",
    "    # Column to represent Days Employed percent in his life\n",
    "    df['DAR'] = df['DAYS_EMPLOYED']/df['DAYS_BIRTH']\n",
    "\n",
    "    ################ Application_ test.csv ###########\n",
    "\n",
    "    df_test['INCOME_GT_CREDIT_FLAG'] = df_test['AMT_INCOME_TOTAL'] > df_test['AMT_CREDIT']\n",
    "    df_test['DIR'] = df_test['AMT_CREDIT']/(df_test['AMT_INCOME_TOTAL']+ 1)\n",
    "    df_test['AIR'] = df_test['AMT_ANNUITY']/(df_test['AMT_INCOME_TOTAL'] +1)\n",
    "    df_test['ACR'] = df_test['AMT_CREDIT']/(df_test['AMT_CREDIT']+1)\n",
    "    df_test['DAR'] = df_test['DAYS_EMPLOYED']/df_test['DAYS_BIRTH']\n",
    "    \n",
    "    return df, df_test\n"
   ]
  },
  {
   "cell_type": "markdown",
   "metadata": {
    "id": "SEdqDQxdysTn"
   },
   "source": [
    "# Create unique Column"
   ]
  },
  {
   "cell_type": "code",
   "execution_count": null,
   "metadata": {
    "id": "Fvg4SGOtysTn"
   },
   "outputs": [],
   "source": [
    "# when merging two table, chance o having same column name in both table, to avoid we settiing new feature name\n",
    "# Note , pd.Dummies we have prefix attribute, but for numerical field better to use this function\n",
    "def create_unique_col(table= 'Bureau',data='df', ID ='SK_ID_CURR' ):\n",
    "    '''\n",
    "    table - Dataframe name\n",
    "    data  = Dataframe\n",
    "    ID    = Foreign key\n",
    "    return Column name wit prefix table name\n",
    "    '''\n",
    "    \n",
    "    unique_col_bureau = [] \n",
    "    for i in data.columns:\n",
    "        if i != ID:\n",
    "            col_name = table+str('_')+str(i)\n",
    "            unique_col_bureau.append(col_name)\n",
    "        else:\n",
    "            unique_col_bureau.append(i)\n",
    "    #print('New Column names  - \\n'+str(unique_col_bureau))   \n",
    "    return unique_col_bureau  "
   ]
  },
  {
   "cell_type": "markdown",
   "metadata": {
    "id": "tF6zmaWMysTn"
   },
   "source": [
    "# Create Custom feature - Bureau.csv"
   ]
  },
  {
   "cell_type": "code",
   "execution_count": null,
   "metadata": {
    "id": "ZvZNN8iQysTn"
   },
   "outputs": [],
   "source": []
  },
  {
   "cell_type": "code",
   "execution_count": null,
   "metadata": {
    "id": "ShDcUmblysTo"
   },
   "outputs": [],
   "source": [
    "def create_custom_bureau_feature(df_bureau='bureau_table'):\n",
    "    # Create a new column , using existing information from Bureau\n",
    "    # Number of past loans per customer\n",
    "    past_loan = df_bureau.groupby(by = ['SK_ID_CURR'])['SK_ID_BUREAU'].count().reset_index().rename(columns = {'SK_ID_BUREAU': 'LOAN_COUNT_BUREAU'})\n",
    "    print('Past loan details',past_loan.shape )\n",
    "\n",
    "\n",
    "    # Number of type of credit loan type per customer\n",
    "    credit_type = df_bureau[['SK_ID_CURR', 'CREDIT_TYPE']].groupby('SK_ID_CURR')['CREDIT_TYPE'].nunique().reset_index().rename(columns={'CREDIT_TYPE': 'LOAN_TYPES_BUREAU'})\n",
    "    print('credit_type details',credit_type.shape)\n",
    "\n",
    "\n",
    "    # total_loan amount still date\n",
    "    sum_total_count = df_bureau[['SK_ID_CURR', 'AMT_CREDIT_SUM']].groupby('SK_ID_CURR')['AMT_CREDIT_SUM'].sum().reset_index().rename(columns={'AMT_CREDIT_SUM': 'TOTAL_LOAN_AMT_SUM'})\n",
    "    print('sum_total_count details',sum_total_count.shape )\n",
    "\n",
    "\n",
    "    # total_loan amount debt still date\n",
    "    sum_total_count_debt = df_bureau[['SK_ID_CURR', 'AMT_CREDIT_SUM_DEBT']].groupby('SK_ID_CURR')['AMT_CREDIT_SUM_DEBT'].sum().reset_index().rename(columns={'AMT_CREDIT_SUM_DEBT': 'TOTAL_LOAN_AMT_SUM_DEBT'})\n",
    "    print('sum_total_count_debt details',sum_total_count_debt.shape)\n",
    "\n",
    "\n",
    "    #merge sum_total_count and sum_total_count_debt\n",
    "    debt_credit_df  =  sum_total_count.merge(sum_total_count_debt,on='SK_ID_CURR')\n",
    "    debt_credit_df['debt_credit_ratio'] = debt_credit_df['TOTAL_LOAN_AMT_SUM_DEBT'] / (debt_credit_df['TOTAL_LOAN_AMT_SUM'] +1)\n",
    "    print('Merge of sum_total_count and sum_total_count_debt',debt_credit_df.shape)\n",
    "\n",
    "\n",
    "    # Sum of AMT_CREDIT_SUM_OVERDUE\n",
    "    Total_customer_overdue  = df_bureau[['SK_ID_CURR', 'AMT_CREDIT_SUM_OVERDUE']].groupby('SK_ID_CURR')['AMT_CREDIT_SUM_OVERDUE'].sum().reset_index().rename(columns={'AMT_CREDIT_SUM_OVERDUE': 'SUM_AMT_CREDIT_SUM_OVERDUE'})\n",
    "    print('Sum of over due amount',Total_customer_overdue.shape)\n",
    "    # sum AMT_CREDIT_SUM_DEBT\n",
    "    Total_customer_debt =  df_bureau[['SK_ID_CURR','AMT_CREDIT_SUM_DEBT']].groupby(by=['SK_ID_CURR'])['AMT_CREDIT_SUM_DEBT'].sum().reset_index().rename(columns={'AMT_CREDIT_SUM_DEBT':'TOTAL_CUSTOMER_DEBT'})\n",
    "    print('Sum of total debt amount ',Total_customer_debt.shape)\n",
    "\n",
    "\n",
    "    sum_overdue_credit_sum  = Total_customer_overdue.merge(Total_customer_debt,on='SK_ID_CURR')\n",
    "    sum_overdue_credit_sum['overdue_debt_ratio'] = sum_overdue_credit_sum['SUM_AMT_CREDIT_SUM_OVERDUE'] / (sum_overdue_credit_sum['TOTAL_CUSTOMER_DEBT']+1)\n",
    "    sum_overdue_credit_sum['overdue_debt_ratio'] = sum_overdue_credit_sum['overdue_debt_ratio'].fillna(0)\n",
    "    sum_overdue_credit_sum['overdue_debt_ratio'] = sum_overdue_credit_sum.replace([np.inf,-np.inf],0)\n",
    "    sum_overdue_credit_sum['overdue_debt_ratio'] = pd.to_numeric(sum_overdue_credit_sum['overdue_debt_ratio'],downcast='float')\n",
    "    print('Ratio of Overdue and credit debt amount',sum_overdue_credit_sum.shape)\n",
    "    \n",
    "    df_bureau = df_bureau.merge(past_loan,on='SK_ID_CURR',how='left')\n",
    "    df_bureau =df_bureau.merge(credit_type,on='SK_ID_CURR',how='left')\n",
    "    df_bureau =df_bureau.merge(debt_credit_df,on='SK_ID_CURR',how='left')\n",
    "    df_bureau =df_bureau.merge(sum_overdue_credit_sum,on='SK_ID_CURR',how='left')\n",
    "    \n",
    "    return df_bureau\n",
    "\n"
   ]
  },
  {
   "cell_type": "markdown",
   "metadata": {
    "id": "QnE8rWAMysTo"
   },
   "source": [
    "# Join application train and bureau.csv"
   ]
  },
  {
   "cell_type": "code",
   "execution_count": null,
   "metadata": {
    "id": "yW-8ff4kysTo"
   },
   "outputs": [],
   "source": [
    "# Joining application_train and BUREAU.csv\n",
    "def join_application_bureau(df ='table1', df_bureau = 'table2'):\n",
    "    # Categorical feature - merging\n",
    "    # Converting all categorical in to onehot encoding\n",
    "    categorical_bureau = pd.get_dummies(df_bureau.select_dtypes('object'), prefix='Bureau')\n",
    "    categorical_bureau['SK_ID_CURR'] = df_bureau['SK_ID_CURR']\n",
    "\n",
    "    grp_bureau = categorical_bureau.groupby(by = ['SK_ID_CURR']).mean().reset_index()\n",
    "    print('Column_names_Categorical', grp_bureau.columns)\n",
    "    \n",
    "    # Merge train and bureau_categorical\n",
    "    df_main = df.merge(grp_bureau, on='SK_ID_CURR',how='left')\n",
    "    df_main.update(df_main[grp_bureau.columns].fillna(0))\n",
    "    \n",
    "    # Combining Numerical features\n",
    "\n",
    "    Numerical_bureau_col = df_bureau.select_dtypes(include=[np.number]).columns\n",
    "    Numerical_bureau = df_bureau[Numerical_bureau_col]\n",
    "\n",
    "\n",
    "    grp_bureau_num = Numerical_bureau.drop(['SK_ID_BUREAU'], axis = 1).groupby(by=['SK_ID_CURR']).mean().reset_index()\n",
    "    print('Column_names_Numeric', grp_bureau_num.columns)\n",
    "\n",
    "    #There may be some column name for both application and bureau.csv, inorder to avoid we giving unique column name\n",
    "    grp_bureau_num.columns = create_unique_col(table='Bureau',data=grp_bureau_num,ID='SK_ID_CURR')\n",
    "\n",
    "    # Merge train and bureau_categorical\n",
    "    df_main = df_main.merge(grp_bureau_num, on='SK_ID_CURR',how='left')\n",
    "    df_main.update(df_main[grp_bureau_num.columns].fillna(0))\n",
    "    \n",
    "    return df_main\n",
    "\n",
    "\n"
   ]
  },
  {
   "cell_type": "markdown",
   "metadata": {
    "id": "Fz7MVr6cysTo"
   },
   "source": [
    "# Join application, bureau and bureau_balance"
   ]
  },
  {
   "cell_type": "code",
   "execution_count": null,
   "metadata": {
    "id": "L-_nhtoVysTp"
   },
   "outputs": [],
   "source": [
    "# Joining Bureau_Balance data to merge of Application and Bureau(df_main)\n",
    "\n",
    "def data_cleaning_bureau_bal(df_bureau_bal= 'dataframe'):\n",
    "    # C - Close , so we giving weight to 0, remaining incremental, thing is X - Unknow so benefit of doubt we giving middle value(4) \n",
    "    status_label_encoding = { 'C': 0, '0': 1, '1': 2, '2': 3, 'X': 4, '3': 5, '4': 6, '5': 7}\n",
    "    df_bureau_bal['STATUS'] = df_bureau_bal['STATUS'].map(status_label_encoding)\n",
    "\n",
    "    # Monthly Balance is in Negative , easy interpreatation we changing to postive\n",
    "    df_bureau_bal['MONTHS_BALANCE'] = abs(df_bureau_bal['MONTHS_BALANCE'])\n",
    "\n",
    "    # Creating new features 'Weightage_balance' = divide Status by Months_balance \n",
    "    df_bureau_bal['WEIGHT_status'] = df_bureau_bal['STATUS'] / (df_bureau_bal['MONTHS_BALANCE'] +1)\n",
    "    \n",
    "    return df_bureau_bal\n",
    "\n",
    "def merge_application_BureauBal(df_main='dataframe1', df_bureau='dataframe2', df_bureau_bal='dataframe3'):\n",
    "    df_bureau_bal = data_cleaning_bureau_bal(df_bureau_bal= df_bureau_bal)\n",
    "    Bureau_merge_Bureau_bal =  df_bureau.merge(df_bureau_bal, on='SK_ID_BUREAU')\n",
    "    Bureau_merge_Bureau_bal = Bureau_merge_Bureau_bal[['SK_ID_CURR', 'MONTHS_BALANCE','STATUS','WEIGHT_status']].groupby('SK_ID_CURR')['MONTHS_BALANCE','STATUS','WEIGHT_status'].sum().reset_index()\n",
    "    Bureau_merge_Bureau_bal.columns = create_unique_col(table='Bureau_bal',data=Bureau_merge_Bureau_bal,ID='SK_ID_CURR')\n",
    "    df_main = df_main.merge(Bureau_merge_Bureau_bal, on='SK_ID_CURR',how='left')\n",
    "    df_main.update(df_main[['Bureau_bal_MONTHS_BALANCE','Bureau_bal_STATUS','Bureau_bal_WEIGHT_status']].fillna(0))\n",
    "    print('Shape of main table after merge Application, Bureau and Bureau_balance', df_main.shape)\n",
    "    \n",
    "    return df_main"
   ]
  },
  {
   "cell_type": "markdown",
   "metadata": {
    "id": "PNM61svfysTp"
   },
   "source": [
    "# Join application, bureau ,bureau_balance and previous application"
   ]
  },
  {
   "cell_type": "code",
   "execution_count": null,
   "metadata": {
    "id": "Dh0MI-ju4ws1"
   },
   "outputs": [],
   "source": [
    "def create_custom_prevapp_feature(previous_application='bureau_table'):\n",
    "    # Create a new column , using existing information from Previous applications\n",
    "    #https://www.kaggle.com/c/home-credit-default-risk/discussion/64598\n",
    "    previous_application['AMT_INTEREST'] = previous_application['CNT_PAYMENT'] * previous_application[\n",
    "                                            'AMT_ANNUITY'] - previous_application['AMT_CREDIT'] \n",
    "    previous_application['INTEREST_SHARE'] = previous_application['AMT_INTEREST'] / (previous_application[\n",
    "                                                                                            'AMT_CREDIT'] + 0.00001)\n",
    "    previous_application['INTEREST_RATE'] = 2 * 12 * previous_application['AMT_INTEREST'] / (previous_application[\n",
    "                                        'AMT_CREDIT'] * (previous_application['CNT_PAYMENT'] + 1))\n",
    "    \n",
    "\n",
    "    previous_application['AMT_DECLINED'] = previous_application['AMT_APPLICATION'] - previous_application['AMT_CREDIT']\n",
    "\n",
    "    previous_application['AMT_CREDIT_GOODS_RATIO'] = previous_application['AMT_CREDIT'] / (previous_application['AMT_GOODS_PRICE'] + 0.00001)\n",
    "    previous_application['AMT_CREDIT_GOODS_DIFF'] = previous_application['AMT_CREDIT'] - previous_application['AMT_GOODS_PRICE']\n",
    "\n",
    "    previous_application['ANNUITY'] = previous_application['AMT_CREDIT'] / (previous_application['CNT_PAYMENT'] + 0.00001)\n",
    "    previous_application['ANNUITY_GOODS'] = previous_application['AMT_GOODS_PRICE'] / (previous_application['CNT_PAYMENT'] + 0.00001)\n",
    "   \n",
    "    print('After creating custom feature ', previous_application.shape)\n",
    "    return previous_application\n",
    "\n"
   ]
  },
  {
   "cell_type": "code",
   "execution_count": null,
   "metadata": {
    "id": "m8Rv3LHfysTq"
   },
   "outputs": [],
   "source": [
    "def merge_application_prev_app(df_main = 'dataframe1',df_prev_app ='dataframe2'):\n",
    "    Pre_app_count= df_prev_app[['SK_ID_CURR','SK_ID_PREV']].groupby(by=['SK_ID_CURR'])['SK_ID_PREV'].count().reset_index().rename(columns={'SK_ID_PREV':'PREV_APP_COUNT'}).fillna(0)\n",
    "\n",
    "    # Combining categorical features\n",
    "    pre_app_categorical = pd.get_dummies(df_prev_app.select_dtypes('object'))\n",
    "    pre_app_categorical['SK_ID_CURR'] = df_prev_app['SK_ID_CURR']\n",
    "\n",
    "    grp_PrevApp = pre_app_categorical.groupby('SK_ID_CURR').mean().reset_index()\n",
    "    grp_PrevApp.columns = create_unique_col(table='PREV_APP',data=grp_PrevApp,ID='SK_ID_CURR')\n",
    "\n",
    "    # Combine final Previous_Application to df_main\n",
    "    df_main = df_main.merge(grp_PrevApp,on='SK_ID_CURR',how='left')\n",
    "    df_main.update(df_main[grp_PrevApp.columns].fillna(0))\n",
    "\n",
    "    # Combining numerical features\n",
    "    grp_PrevApp_numeric = df_prev_app.drop('SK_ID_PREV', axis =1).groupby(by=['SK_ID_CURR']).mean().reset_index()\n",
    "    grp_PrevApp_numeric.columns = create_unique_col(table='PREV_APP',data=grp_PrevApp_numeric,ID='SK_ID_CURR')\n",
    "    df_main = df_main.merge(grp_PrevApp_numeric, on =['SK_ID_CURR'], how = 'left')\n",
    "    df_main.update(df_main[grp_PrevApp_numeric.columns].fillna(0))\n",
    "\n",
    "    print('Shape after merge Application, Bureau, Bureau_Balance and Previous_Application ', df_main.shape)\n",
    "    return df_main\n",
    "    \n",
    "    "
   ]
  },
  {
   "cell_type": "markdown",
   "metadata": {
    "id": "gCL3CfOSysTq"
   },
   "source": [
    "## Join application, bureau ,bureau_balance , previous application and point of sale"
   ]
  },
  {
   "cell_type": "code",
   "execution_count": null,
   "metadata": {
    "id": "bkb3sxF_7Jr3"
   },
   "outputs": [],
   "source": [
    "def create_custom_pos_feature(pos_cash='dataframe1'):\n",
    "\n",
    "  #creating new features based on Domain Knowledge\n",
    "  pos_cash['SK_DPD_RATIO'] = pos_cash['SK_DPD'] / (pos_cash['SK_DPD_DEF'] + 0.00001)\n",
    "  pos_cash['TOTAL_TERM'] = pos_cash['CNT_INSTALMENT'] + pos_cash['CNT_INSTALMENT_FUTURE']\n",
    "\n",
    "  print('Shape of POS after feature engineering', pos_cash.shape)\n",
    "\n",
    "  return pos_cash\n"
   ]
  },
  {
   "cell_type": "code",
   "execution_count": null,
   "metadata": {
    "id": "1EsUFXBMysTq"
   },
   "outputs": [],
   "source": [
    "def merge_application_pos(df_main = 'dataframe1',df_pos ='dataframe2'):\n",
    "    Pre_app_count= df_prev_app[['SK_ID_CURR','SK_ID_PREV']].groupby(by=['SK_ID_CURR'])['SK_ID_PREV'].count().reset_index().rename(columns={'SK_ID_PREV':'PREV_APP_COUNT'}).fillna(0)\n",
    "\n",
    "    POS_count= df_pos[['SK_ID_CURR','SK_ID_PREV']].groupby(by=['SK_ID_CURR'])['SK_ID_PREV'].count().reset_index().rename(columns={'SK_ID_PREV':'POS_COUNT'}).fillna(0)\n",
    "\n",
    "    # Combining categorical features\n",
    "    POS_categorical = pd.get_dummies(df_pos.select_dtypes('object'))\n",
    "    POS_categorical['SK_ID_CURR'] = df_pos['SK_ID_CURR']\n",
    "\n",
    "    grp_POS = POS_categorical.groupby('SK_ID_CURR').mean().reset_index()\n",
    "    grp_POS.columns = create_unique_col(table='POS',data=grp_POS,ID='SK_ID_CURR')\n",
    "\n",
    "    # Combine final Previous_Application to df_main\n",
    "    df_main = df_main.merge(grp_POS,on='SK_ID_CURR',how='left')\n",
    "    df_main.update(df_main[grp_POS.columns].fillna(0))\n",
    "\n",
    "    # Combining numerical features\n",
    "    POS_numeric = df_pos.drop('SK_ID_PREV', axis =1).groupby(by=['SK_ID_CURR']).mean().reset_index()\n",
    "    POS_numeric.columns = create_unique_col(table='POS',data=POS_numeric,ID='SK_ID_CURR')\n",
    "    df_main = df_main.merge(POS_numeric, on =['SK_ID_CURR'], how = 'left')\n",
    "    df_main.update(df_main[POS_numeric.columns].fillna(0))\n",
    "\n",
    "    print('Shape after merge Application, Bureau, Bureau_Balance , Previous_Application and POS ', df_main.shape)\n",
    "    \n",
    "    return df_main\n",
    "    \n",
    "    "
   ]
  },
  {
   "cell_type": "markdown",
   "metadata": {
    "id": "ksi41oymysTr"
   },
   "source": [
    "### Join application, bureau ,bureau_balance , previous application,POS and Installment payment"
   ]
  },
  {
   "cell_type": "code",
   "execution_count": null,
   "metadata": {
    "id": "A0sVrDW95o78"
   },
   "outputs": [],
   "source": [
    "def create_custom_Inspay_feature(installments_payments='bureau_table'):\n",
    "    # Create a new column , using existing information from Install payment applications\n",
    "    installments_payments['AMT_PAYMENT_DIFF'] = installments_payments['AMT_INSTALMENT'] - installments_payments['AMT_PAYMENT']\n",
    "    installments_payments['AMT_PAYMENT_RATIO'] = installments_payments['AMT_PAYMENT'] / (installments_payments['AMT_INSTALMENT'] + 0.00001)\n",
    "    installments_payments['DAYS_PAYMENT_RATIO'] = installments_payments['DAYS_INSTALMENT'] / (installments_payments['DAYS_ENTRY_PAYMENT'] + 0.00001)\n",
    "    installments_payments['DAYS_PAYMENT_DIFF'] = installments_payments['DAYS_INSTALMENT'] - installments_payments['DAYS_ENTRY_PAYMENT']\n",
    "\n",
    "    print('Shape of InstallPayment after feature engineering', installments_payments.shape)\n",
    "\n",
    "    return installments_payments\n",
    "   \n",
    "\n"
   ]
  },
  {
   "cell_type": "code",
   "execution_count": null,
   "metadata": {
    "id": "klwvM6fYysTr"
   },
   "outputs": [],
   "source": [
    "def merge_application_Inspay(df_main = 'dataframe1',df_inst_pay ='dataframe2'):\n",
    "    INSPAY_numeric = df_inst_pay.drop('SK_ID_PREV', axis =1).groupby(by=['SK_ID_CURR']).mean().reset_index()\n",
    "    INSPAY_numeric.columns = create_unique_col(table='INSTPAY',data=INSPAY_numeric,ID='SK_ID_CURR')\n",
    "    df_main = df_main.merge(INSPAY_numeric, on =['SK_ID_CURR'], how = 'left')\n",
    "    df_main.update(df_main[INSPAY_numeric.columns].fillna(0))\n",
    "\n",
    "    print('Shape after merge Application, Bureau, Bureau_Balance , Previous_Application, POS and InstantPay ', df_main.shape)\n",
    "    return df_main"
   ]
  },
  {
   "cell_type": "markdown",
   "metadata": {
    "id": "SM17EUQhysTr"
   },
   "source": [
    "### Join application, bureau ,bureau_balance , previous application,POS , Installment payment and credit balance"
   ]
  },
  {
   "cell_type": "code",
   "execution_count": null,
   "metadata": {
    "id": "8uXGFTk18vD8"
   },
   "outputs": [],
   "source": [
    "def create_custom_Credit_bal_feature(cc_balance='CCB_table'):\n",
    "\n",
    "     #Creating new features\n",
    "        cc_balance['AMT_DRAWING_SUM'] = cc_balance['AMT_DRAWINGS_ATM_CURRENT'] + cc_balance['AMT_DRAWINGS_CURRENT'] + cc_balance[\n",
    "                                    'AMT_DRAWINGS_OTHER_CURRENT'] + cc_balance['AMT_DRAWINGS_POS_CURRENT']\n",
    "        cc_balance['BALANCE_LIMIT_RATIO'] = cc_balance['AMT_BALANCE'] / (cc_balance['AMT_CREDIT_LIMIT_ACTUAL'] + 0.00001)\n",
    "        cc_balance['CNT_DRAWING_SUM'] = cc_balance['CNT_DRAWINGS_ATM_CURRENT'] + cc_balance['CNT_DRAWINGS_CURRENT'] + cc_balance[\n",
    "                                            'CNT_DRAWINGS_OTHER_CURRENT'] + cc_balance['CNT_DRAWINGS_POS_CURRENT'] + cc_balance['CNT_INSTALMENT_MATURE_CUM']\n",
    "        cc_balance['MIN_PAYMENT_RATIO'] = cc_balance['AMT_PAYMENT_CURRENT'] / (cc_balance['AMT_INST_MIN_REGULARITY'] + 0.0001)\n",
    "        cc_balance['PAYMENT_MIN_DIFF'] = cc_balance['AMT_PAYMENT_CURRENT'] - cc_balance['AMT_INST_MIN_REGULARITY']\n",
    "        cc_balance['MIN_PAYMENT_TOTAL_RATIO'] = cc_balance['AMT_PAYMENT_TOTAL_CURRENT'] / (cc_balance['AMT_INST_MIN_REGULARITY'] +0.00001)\n",
    "        cc_balance['PAYMENT_MIN_DIFF'] = cc_balance['AMT_PAYMENT_TOTAL_CURRENT'] - cc_balance['AMT_INST_MIN_REGULARITY']\n",
    "        cc_balance['AMT_INTEREST_RECEIVABLE'] = cc_balance['AMT_TOTAL_RECEIVABLE'] - cc_balance['AMT_RECEIVABLE_PRINCIPAL']\n",
    "        cc_balance['SK_DPD_RATIO'] = cc_balance['SK_DPD'] / (cc_balance['SK_DPD_DEF'] + 0.00001)\n",
    "\n",
    "        print('Shape of Credit Card balance after feature engineering', cc_balance.shape)\n",
    "\n",
    "        return cc_balance"
   ]
  },
  {
   "cell_type": "code",
   "execution_count": null,
   "metadata": {
    "id": "NtNwpmBpysTs"
   },
   "outputs": [],
   "source": [
    "def merge_application_credit_bal(df_main = 'dataframe1',df_credit_bal ='dataframe2'):\n",
    "    # Combining categorical features\n",
    "    CREBAL_categorical = pd.get_dummies(df_credit_bal.select_dtypes('object'))\n",
    "    CREBAL_categorical['SK_ID_CURR'] = df_credit_bal['SK_ID_CURR']\n",
    "\n",
    "    grp_CREDBAL = CREBAL_categorical.groupby('SK_ID_CURR').mean().reset_index()\n",
    "    grp_CREDBAL.columns = create_unique_col(table='CREDITBAL',data=grp_CREDBAL,ID='SK_ID_CURR')\n",
    "\n",
    "    # Combine final Previous_Application to df_main\n",
    "    df_main = df_main.merge(grp_CREDBAL,on='SK_ID_CURR',how='left')\n",
    "    df_main.update(df_main[grp_CREDBAL.columns].fillna(0))\n",
    "\n",
    "    # Combining numerical features\n",
    "    CREDBAL_numeric = df_credit_bal.drop('SK_ID_PREV', axis =1).groupby(by=['SK_ID_CURR']).mean().reset_index()\n",
    "    CREDBAL_numeric.columns = create_unique_col(table='CREDITBAL',data=CREDBAL_numeric,ID='SK_ID_CURR')\n",
    "    df_main = df_main.merge(CREDBAL_numeric, on =['SK_ID_CURR'], how = 'left')\n",
    "    df_main.update(df_main[CREDBAL_numeric.columns].fillna(0))\n",
    "\n",
    "    print('Shape after merge Application, Bureau, Bureau_Balance , Previous_Application, POS, INSTALLMENT PAYMENT and CREDIt BAL ', df_main.shape)\n",
    "    \n",
    "    return df_main\n"
   ]
  },
  {
   "cell_type": "markdown",
   "metadata": {
    "id": "yKx31b46ysTs"
   },
   "source": []
  },
  {
   "cell_type": "code",
   "execution_count": null,
   "metadata": {
    "colab": {
     "base_uri": "https://localhost:8080/"
    },
    "executionInfo": {
     "elapsed": 59897,
     "status": "ok",
     "timestamp": 1612323628555,
     "user": {
      "displayName": "sathish anantha",
      "photoUrl": "https://lh3.googleusercontent.com/a-/AOh14Ghdw5Sh92a17sXj4ePDAB2diHt3YItsnu17FEdHoBI=s64",
      "userId": "06917965946637727718"
     },
     "user_tz": -330
    },
    "id": "YLje08f9ysTs",
    "outputId": "51d73ac1-98b8-453d-9f78-afb3ce1a2182"
   },
   "outputs": [
    {
     "name": "stdout",
     "output_type": "stream",
     "text": [
      "----------------------------------------------------------------------------------------------------\n",
      "Memory usage of dataframe: 286.23 MB\n",
      "Memory usage after optimization: 92.38 MB\n",
      "Decreased by 67.7%\n",
      "----------------------------------------------------------------------------------------------------\n",
      "----------------------------------------------------------------------------------------------------\n",
      "Memory usage of dataframe: 45.00 MB\n",
      "Memory usage after optimization: 14.60 MB\n",
      "Decreased by 67.6%\n",
      "----------------------------------------------------------------------------------------------------\n",
      "----------------------------------------------------------------------------------------------------\n",
      "Memory usage of dataframe: 222.62 MB\n",
      "Memory usage after optimization: 112.95 MB\n",
      "Decreased by 49.3%\n",
      "----------------------------------------------------------------------------------------------------\n",
      "----------------------------------------------------------------------------------------------------\n",
      "Memory usage of dataframe: 624.85 MB\n",
      "Memory usage after optimization: 338.46 MB\n",
      "Decreased by 45.8%\n",
      "----------------------------------------------------------------------------------------------------\n",
      "----------------------------------------------------------------------------------------------------\n",
      "Memory usage of dataframe: 471.48 MB\n",
      "Memory usage after optimization: 309.01 MB\n",
      "Decreased by 34.5%\n",
      "----------------------------------------------------------------------------------------------------\n",
      "----------------------------------------------------------------------------------------------------\n",
      "Memory usage of dataframe: 610.43 MB\n",
      "Memory usage after optimization: 238.45 MB\n",
      "Decreased by 60.9%\n",
      "----------------------------------------------------------------------------------------------------\n",
      "----------------------------------------------------------------------------------------------------\n",
      "Memory usage of dataframe: 673.88 MB\n",
      "Memory usage after optimization: 289.33 MB\n",
      "Decreased by 57.1%\n",
      "----------------------------------------------------------------------------------------------------\n",
      "----------------------------------------------------------------------------------------------------\n",
      "Memory usage of dataframe: 830.41 MB\n",
      "Memory usage after optimization: 311.40 MB\n",
      "Decreased by 62.5%\n",
      "----------------------------------------------------------------------------------------------------\n"
     ]
    }
   ],
   "source": [
    "df, df_test, df_bureau,df_bureau_bal,df_prev_app,df_pos, df_credit_bal,df_inst_pay = read_mandatory_files()\n",
    "\n",
    "df_copy, df_test_new_copy, df_bureau_copy,df_bureau_bal_copy,df_prev_app_copy,df_pos_copy, df_credit_bal_copy,df_inst_pay_copy  = df.copy(), df_test.copy(), df_bureau.copy(),df_bureau_bal.copy(),df_prev_app.copy(),df_pos.copy(), df_credit_bal.copy(),df_inst_pay.copy()"
   ]
  },
  {
   "cell_type": "code",
   "execution_count": null,
   "metadata": {
    "id": "4XK-KP4YysTt"
   },
   "outputs": [],
   "source": [
    "# Data Cleaning\n",
    "df =  data_cleaning(df = df)\n",
    "#df_cv =  data_cleaning(df = df_CV)\n",
    "df_test =  data_cleaning(df = df_test)\n"
   ]
  },
  {
   "cell_type": "code",
   "execution_count": null,
   "metadata": {
    "id": "2SCa1nRmysTt"
   },
   "outputs": [],
   "source": [
    "# Handling missing value-  Category\n",
    "df =  replacing_missing_category(df = df)\n",
    "#df_cv =  replacing_missing_category(df = df_CV)\n",
    "df_test =  replacing_missing_category(df = df_test)\n",
    "\n",
    "df_test_F = df_test.copy()"
   ]
  },
  {
   "cell_type": "code",
   "execution_count": null,
   "metadata": {
    "colab": {
     "base_uri": "https://localhost:8080/"
    },
    "executionInfo": {
     "elapsed": 1851,
     "status": "ok",
     "timestamp": 1612323675620,
     "user": {
      "displayName": "sathish anantha",
      "photoUrl": "https://lh3.googleusercontent.com/a-/AOh14Ghdw5Sh92a17sXj4ePDAB2diHt3YItsnu17FEdHoBI=s64",
      "userId": "06917965946637727718"
     },
     "user_tz": -330
    },
    "id": "DYEnG1x2kFBr",
    "outputId": "86c1eba6-27ec-492d-89b3-53cab4261538"
   },
   "outputs": [
    {
     "name": "stdout",
     "output_type": "stream",
     "text": [
      "Shape of X_train  (123002, 122)\n",
      "Shape validation CV (123003, 122)\n",
      "Shape of test  (61502, 122)\n",
      "Shape of y_train  (123002,)\n",
      "Shape of y_test_CV  (123003,)\n",
      "Shape of y_test  (61502,)\n"
     ]
    }
   ],
   "source": [
    "X =  df.drop('TARGET',axis=1)\n",
    "y =  df['TARGET']\n",
    "\n",
    "\n",
    "# Split train in to (80% - 20%) as train and test \n",
    "X_train, X_test,y_train,y_test  = train_test_split(X, y, test_size =0.2, random_state=123, stratify =y)  \n",
    "\n",
    "\n",
    "#Split Train 80% into 50% - 50% as train and CV\n",
    "X_train, X_val,y_train,y_val  = train_test_split(X_train, y_train, test_size =0.5, random_state=123)  \n",
    "\n",
    "X_train_new = X_train.copy()\n",
    "\n",
    "print('Shape of X_train ', X_train.shape)\n",
    "print('Shape validation CV',X_val.shape)\n",
    "print('Shape of test ',X_test.shape)\n",
    "print('Shape of y_train ', y_train.shape)\n",
    "print('Shape of y_test_CV ', y_val.shape)\n",
    "print('Shape of y_test ', y_test.shape)\n",
    "\n",
    "df = X_train\n",
    "df_test = X_val"
   ]
  },
  {
   "cell_type": "code",
   "execution_count": null,
   "metadata": {
    "colab": {
     "base_uri": "https://localhost:8080/"
    },
    "executionInfo": {
     "elapsed": 6818,
     "status": "ok",
     "timestamp": 1612322855939,
     "user": {
      "displayName": "sathish anantha",
      "photoUrl": "https://lh3.googleusercontent.com/a-/AOh14Ghdw5Sh92a17sXj4ePDAB2diHt3YItsnu17FEdHoBI=s64",
      "userId": "06917965946637727718"
     },
     "user_tz": -330
    },
    "id": "Qs_qtnEPysTt",
    "outputId": "dac2b077-029f-4a86-cd6d-f5aecc92196c"
   },
   "outputs": [
    {
     "name": "stderr",
     "output_type": "stream",
     "text": [
      "\r",
      "  0%|          | 0/18 [00:00<?, ?it/s]"
     ]
    },
    {
     "name": "stdout",
     "output_type": "stream",
     "text": [
      "Shape of application train before Encoding  (123002, 122)\n",
      "Shape of application test before Encoding  (123003, 122)\n"
     ]
    },
    {
     "name": "stderr",
     "output_type": "stream",
     "text": [
      "100%|██████████| 18/18 [00:05<00:00,  3.36it/s]"
     ]
    },
    {
     "name": "stdout",
     "output_type": "stream",
     "text": [
      "Shape of application train after Encoding  (123002, 255)\n",
      "Shape of application test after Encoding  (123003, 255)\n"
     ]
    },
    {
     "name": "stderr",
     "output_type": "stream",
     "text": [
      "\n"
     ]
    }
   ],
   "source": [
    "# OneHot encoding and Label encoding\n",
    "df, df_test =  category_to_numeric(df = df, df_test=df_test) "
   ]
  },
  {
   "cell_type": "code",
   "execution_count": null,
   "metadata": {
    "id": "yi1_cmigysTu"
   },
   "outputs": [],
   "source": [
    "# Handling missing value - Numeric\n",
    "#df, df_test =  replacing_missing_numeric(df = df, df_test=df_test)\n"
   ]
  },
  {
   "cell_type": "code",
   "execution_count": null,
   "metadata": {
    "colab": {
     "base_uri": "https://localhost:8080/"
    },
    "executionInfo": {
     "elapsed": 5980,
     "status": "ok",
     "timestamp": 1612322855943,
     "user": {
      "displayName": "sathish anantha",
      "photoUrl": "https://lh3.googleusercontent.com/a-/AOh14Ghdw5Sh92a17sXj4ePDAB2diHt3YItsnu17FEdHoBI=s64",
      "userId": "06917965946637727718"
     },
     "user_tz": -330
    },
    "id": "pDKLRqHlysTu",
    "outputId": "0e74ca14-d90f-4ca4-857e-4692ed68b703"
   },
   "outputs": [
    {
     "name": "stdout",
     "output_type": "stream",
     "text": [
      "Shape of application train  (123002, 260)\n",
      "Shape of application test  (123003, 260)\n"
     ]
    }
   ],
   "source": [
    "# create custome features for train and test application\n",
    "df, df_test = create_custom_features_main_table(df=df, df_test=df_test)\n",
    "print('Shape of application train ', df.shape)\n",
    "print('Shape of application test ', df_test.shape)"
   ]
  },
  {
   "cell_type": "code",
   "execution_count": null,
   "metadata": {
    "colab": {
     "base_uri": "https://localhost:8080/"
    },
    "executionInfo": {
     "elapsed": 15588,
     "status": "ok",
     "timestamp": 1612322869949,
     "user": {
      "displayName": "sathish anantha",
      "photoUrl": "https://lh3.googleusercontent.com/a-/AOh14Ghdw5Sh92a17sXj4ePDAB2diHt3YItsnu17FEdHoBI=s64",
      "userId": "06917965946637727718"
     },
     "user_tz": -330
    },
    "id": "sJoXpM5-s3E2",
    "outputId": "ff83b693-e9f4-4fdd-9c70-198840d54616"
   },
   "outputs": [
    {
     "name": "stdout",
     "output_type": "stream",
     "text": [
      "                          Total   Percent\n",
      "COMMONAREA_MEDI           85943  0.698712\n",
      "COMMONAREA_AVG            85943  0.698712\n",
      "COMMONAREA_MODE           85943  0.698712\n",
      "NONLIVINGAPARTMENTS_MEDI  85405  0.694338\n",
      "NONLIVINGAPARTMENTS_MODE  85405  0.694338\n",
      "                          Total   Percent\n",
      "COMMONAREA_MEDI           85789  0.697455\n",
      "COMMONAREA_AVG            85789  0.697455\n",
      "COMMONAREA_MODE           85789  0.697455\n",
      "NONLIVINGAPARTMENTS_MEDI  85230  0.692910\n",
      "NONLIVINGAPARTMENTS_MODE  85230  0.692910\n",
      "NONLIVINGAPARTMENTS_AVG   85230  0.692910\n",
      "LIVINGAPARTMENTS_AVG      83903  0.682122\n",
      "LIVINGAPARTMENTS_MEDI     83903  0.682122\n",
      "LIVINGAPARTMENTS_MODE     83903  0.682122\n",
      "FLOORSMIN_MEDI            83203  0.676431\n",
      "Training data shape:  (123002, 260)\n",
      "Testing data shape:  (123003, 260)\n",
      "Missing value_count after Imputation \n",
      "\n",
      "                  Total  Percent\n",
      "DAR                   0      0.0\n",
      "FLAG_DOCUMENT_21      0      0.0\n",
      "FLAG_DOCUMENT_19      0      0.0\n",
      "FLAG_DOCUMENT_18      0      0.0\n",
      "FLAG_DOCUMENT_17      0      0.0\n",
      "                  Total  Percent\n",
      "DAR                   0      0.0\n",
      "FLAG_DOCUMENT_21      0      0.0\n",
      "FLAG_DOCUMENT_19      0      0.0\n",
      "FLAG_DOCUMENT_18      0      0.0\n",
      "FLAG_DOCUMENT_17      0      0.0\n",
      " Observation : \n",
      " 1.Now there is no missing value in Train and test\n"
     ]
    }
   ],
   "source": [
    "# Handling missing value-  Category\n",
    "df ,df_test=  replacing_missing_numeric(df = df,df_test = df_test)\n"
   ]
  },
  {
   "cell_type": "code",
   "execution_count": null,
   "metadata": {
    "colab": {
     "base_uri": "https://localhost:8080/"
    },
    "executionInfo": {
     "elapsed": 18542,
     "status": "ok",
     "timestamp": 1612322873376,
     "user": {
      "displayName": "sathish anantha",
      "photoUrl": "https://lh3.googleusercontent.com/a-/AOh14Ghdw5Sh92a17sXj4ePDAB2diHt3YItsnu17FEdHoBI=s64",
      "userId": "06917965946637727718"
     },
     "user_tz": -330
    },
    "id": "LIhV0vgNysTu",
    "outputId": "9b7d719a-4479-47eb-9a8e-1f0bf19f8182"
   },
   "outputs": [
    {
     "name": "stdout",
     "output_type": "stream",
     "text": [
      "Past loan details (305811, 2)\n",
      "credit_type details (305811, 2)\n",
      "sum_total_count details (305811, 2)\n",
      "sum_total_count_debt details (305811, 2)\n",
      "Merge of sum_total_count and sum_total_count_debt (305811, 4)\n",
      "Sum of over due amount (305811, 2)\n",
      "Sum of total debt amount  (305811, 2)\n",
      "Ratio of Overdue and credit debt amount (305811, 4)\n"
     ]
    }
   ],
   "source": [
    "# Bureau table custom features\n",
    "df_bureau = create_custom_bureau_feature(df_bureau=df_bureau)"
   ]
  },
  {
   "cell_type": "code",
   "execution_count": null,
   "metadata": {
    "colab": {
     "base_uri": "https://localhost:8080/"
    },
    "executionInfo": {
     "elapsed": 22937,
     "status": "ok",
     "timestamp": 1612322878686,
     "user": {
      "displayName": "sathish anantha",
      "photoUrl": "https://lh3.googleusercontent.com/a-/AOh14Ghdw5Sh92a17sXj4ePDAB2diHt3YItsnu17FEdHoBI=s64",
      "userId": "06917965946637727718"
     },
     "user_tz": -330
    },
    "id": "CAqB4y44ysTv",
    "outputId": "06d1bd90-d1ed-470b-9b39-61e7047b05f4"
   },
   "outputs": [
    {
     "name": "stdout",
     "output_type": "stream",
     "text": [
      "Column_names_Categorical Index(['SK_ID_CURR', 'Bureau_Active', 'Bureau_Bad debt', 'Bureau_Closed',\n",
      "       'Bureau_Sold', 'Bureau_currency 1', 'Bureau_currency 2',\n",
      "       'Bureau_currency 3', 'Bureau_currency 4', 'Bureau_Another type of loan',\n",
      "       'Bureau_Car loan', 'Bureau_Cash loan (non-earmarked)',\n",
      "       'Bureau_Consumer credit', 'Bureau_Credit card',\n",
      "       'Bureau_Interbank credit', 'Bureau_Loan for business development',\n",
      "       'Bureau_Loan for purchase of shares (margin lending)',\n",
      "       'Bureau_Loan for the purchase of equipment',\n",
      "       'Bureau_Loan for working capital replenishment', 'Bureau_Microloan',\n",
      "       'Bureau_Mobile operator loan', 'Bureau_Mortgage',\n",
      "       'Bureau_Real estate loan', 'Bureau_Unknown type of loan'],\n",
      "      dtype='object')\n",
      "Column_names_Numeric Index(['SK_ID_CURR', 'DAYS_CREDIT', 'CREDIT_DAY_OVERDUE',\n",
      "       'DAYS_CREDIT_ENDDATE', 'DAYS_ENDDATE_FACT', 'AMT_CREDIT_MAX_OVERDUE',\n",
      "       'CNT_CREDIT_PROLONG', 'AMT_CREDIT_SUM', 'AMT_CREDIT_SUM_DEBT',\n",
      "       'AMT_CREDIT_SUM_LIMIT', 'AMT_CREDIT_SUM_OVERDUE', 'DAYS_CREDIT_UPDATE',\n",
      "       'AMT_ANNUITY', 'LOAN_COUNT_BUREAU', 'LOAN_TYPES_BUREAU',\n",
      "       'TOTAL_LOAN_AMT_SUM', 'TOTAL_LOAN_AMT_SUM_DEBT', 'debt_credit_ratio',\n",
      "       'SUM_AMT_CREDIT_SUM_OVERDUE', 'TOTAL_CUSTOMER_DEBT',\n",
      "       'overdue_debt_ratio'],\n",
      "      dtype='object')\n",
      "Column_names_Categorical Index(['SK_ID_CURR', 'Bureau_Active', 'Bureau_Bad debt', 'Bureau_Closed',\n",
      "       'Bureau_Sold', 'Bureau_currency 1', 'Bureau_currency 2',\n",
      "       'Bureau_currency 3', 'Bureau_currency 4', 'Bureau_Another type of loan',\n",
      "       'Bureau_Car loan', 'Bureau_Cash loan (non-earmarked)',\n",
      "       'Bureau_Consumer credit', 'Bureau_Credit card',\n",
      "       'Bureau_Interbank credit', 'Bureau_Loan for business development',\n",
      "       'Bureau_Loan for purchase of shares (margin lending)',\n",
      "       'Bureau_Loan for the purchase of equipment',\n",
      "       'Bureau_Loan for working capital replenishment', 'Bureau_Microloan',\n",
      "       'Bureau_Mobile operator loan', 'Bureau_Mortgage',\n",
      "       'Bureau_Real estate loan', 'Bureau_Unknown type of loan'],\n",
      "      dtype='object')\n",
      "Column_names_Numeric Index(['SK_ID_CURR', 'DAYS_CREDIT', 'CREDIT_DAY_OVERDUE',\n",
      "       'DAYS_CREDIT_ENDDATE', 'DAYS_ENDDATE_FACT', 'AMT_CREDIT_MAX_OVERDUE',\n",
      "       'CNT_CREDIT_PROLONG', 'AMT_CREDIT_SUM', 'AMT_CREDIT_SUM_DEBT',\n",
      "       'AMT_CREDIT_SUM_LIMIT', 'AMT_CREDIT_SUM_OVERDUE', 'DAYS_CREDIT_UPDATE',\n",
      "       'AMT_ANNUITY', 'LOAN_COUNT_BUREAU', 'LOAN_TYPES_BUREAU',\n",
      "       'TOTAL_LOAN_AMT_SUM', 'TOTAL_LOAN_AMT_SUM_DEBT', 'debt_credit_ratio',\n",
      "       'SUM_AMT_CREDIT_SUM_OVERDUE', 'TOTAL_CUSTOMER_DEBT',\n",
      "       'overdue_debt_ratio'],\n",
      "      dtype='object')\n"
     ]
    }
   ],
   "source": [
    "# Join application and bureau table\n",
    "df_main = join_application_bureau(df = df, df_bureau=df_bureau)\n",
    "\n",
    "df_main_test = join_application_bureau(df = df_test, df_bureau=df_bureau)"
   ]
  },
  {
   "cell_type": "code",
   "execution_count": null,
   "metadata": {
    "colab": {
     "base_uri": "https://localhost:8080/"
    },
    "executionInfo": {
     "elapsed": 55496,
     "status": "ok",
     "timestamp": 1612322911728,
     "user": {
      "displayName": "sathish anantha",
      "photoUrl": "https://lh3.googleusercontent.com/a-/AOh14Ghdw5Sh92a17sXj4ePDAB2diHt3YItsnu17FEdHoBI=s64",
      "userId": "06917965946637727718"
     },
     "user_tz": -330
    },
    "id": "pdyE27UmysTv",
    "outputId": "89970100-ca42-48c0-93b0-b3af5da4be92"
   },
   "outputs": [
    {
     "name": "stdout",
     "output_type": "stream",
     "text": [
      "Shape of main table after merge Application, Bureau and Bureau_balance (123002, 306)\n",
      "Shape of main table after merge Application, Bureau and Bureau_balance (123003, 306)\n"
     ]
    }
   ],
   "source": [
    "# Join application, bureau and Bureau_balance\n",
    "df_main = merge_application_BureauBal(df_main=df_main, df_bureau=df_bureau, df_bureau_bal=df_bureau_bal)\n",
    "\n",
    "df_main_test = merge_application_BureauBal(df_main=df_main_test, df_bureau=df_bureau, df_bureau_bal=df_bureau_bal)\n"
   ]
  },
  {
   "cell_type": "code",
   "execution_count": null,
   "metadata": {
    "colab": {
     "base_uri": "https://localhost:8080/"
    },
    "executionInfo": {
     "elapsed": 55003,
     "status": "ok",
     "timestamp": 1612322911733,
     "user": {
      "displayName": "sathish anantha",
      "photoUrl": "https://lh3.googleusercontent.com/a-/AOh14Ghdw5Sh92a17sXj4ePDAB2diHt3YItsnu17FEdHoBI=s64",
      "userId": "06917965946637727718"
     },
     "user_tz": -330
    },
    "id": "OO2iuFpV4eJJ",
    "outputId": "a355cbb4-a4f3-4755-bbc1-ba1fa7a479db"
   },
   "outputs": [
    {
     "name": "stdout",
     "output_type": "stream",
     "text": [
      "After creating custom feature  (1670214, 45)\n"
     ]
    }
   ],
   "source": [
    "#Creating custom features for previous applications\n",
    "df_prev_app = create_custom_prevapp_feature(previous_application=df_prev_app)"
   ]
  },
  {
   "cell_type": "code",
   "execution_count": null,
   "metadata": {
    "colab": {
     "base_uri": "https://localhost:8080/"
    },
    "executionInfo": {
     "elapsed": 78004,
     "status": "ok",
     "timestamp": 1612322935184,
     "user": {
      "displayName": "sathish anantha",
      "photoUrl": "https://lh3.googleusercontent.com/a-/AOh14Ghdw5Sh92a17sXj4ePDAB2diHt3YItsnu17FEdHoBI=s64",
      "userId": "06917965946637727718"
     },
     "user_tz": -330
    },
    "id": "7bQVRJyJysTv",
    "outputId": "19799a89-4f11-4b7b-db68-32a533c73b3e"
   },
   "outputs": [
    {
     "name": "stdout",
     "output_type": "stream",
     "text": [
      "Shape after merge Application, Bureau, Bureau_Balance and Previous_Application  (123002, 476)\n",
      "Shape after merge Application, Bureau, Bureau_Balance and Previous_Application  (123003, 476)\n"
     ]
    }
   ],
   "source": [
    "# Join application, bureau , Bureau_balance and previous application\n",
    "df_main = merge_application_prev_app(df_main=df_main, df_prev_app=df_prev_app)  \n",
    "\n",
    "df_main_test = merge_application_prev_app(df_main=df_main_test, df_prev_app=df_prev_app)  \n"
   ]
  },
  {
   "cell_type": "code",
   "execution_count": null,
   "metadata": {
    "colab": {
     "base_uri": "https://localhost:8080/"
    },
    "executionInfo": {
     "elapsed": 77506,
     "status": "ok",
     "timestamp": 1612322935186,
     "user": {
      "displayName": "sathish anantha",
      "photoUrl": "https://lh3.googleusercontent.com/a-/AOh14Ghdw5Sh92a17sXj4ePDAB2diHt3YItsnu17FEdHoBI=s64",
      "userId": "06917965946637727718"
     },
     "user_tz": -330
    },
    "id": "-Zrsbo8o7x4f",
    "outputId": "3d78a467-2951-48ef-ae6b-9e7c9d87e971"
   },
   "outputs": [
    {
     "name": "stdout",
     "output_type": "stream",
     "text": [
      "Shape of POS after feature engineering (10001358, 10)\n"
     ]
    }
   ],
   "source": [
    "# create new feature based on existing column in POS table\n",
    "df_pos = create_custom_pos_feature(pos_cash=df_pos)"
   ]
  },
  {
   "cell_type": "code",
   "execution_count": null,
   "metadata": {
    "colab": {
     "base_uri": "https://localhost:8080/"
    },
    "executionInfo": {
     "elapsed": 95917,
     "status": "ok",
     "timestamp": 1612322954061,
     "user": {
      "displayName": "sathish anantha",
      "photoUrl": "https://lh3.googleusercontent.com/a-/AOh14Ghdw5Sh92a17sXj4ePDAB2diHt3YItsnu17FEdHoBI=s64",
      "userId": "06917965946637727718"
     },
     "user_tz": -330
    },
    "id": "ARqimBKnysTw",
    "outputId": "942741e7-3dec-4857-d8d9-a5dabc306dd4"
   },
   "outputs": [
    {
     "name": "stdout",
     "output_type": "stream",
     "text": [
      "Shape after merge Application, Bureau, Bureau_Balance , Previous_Application and POS  (123002, 492)\n",
      "Shape after merge Application, Bureau, Bureau_Balance , Previous_Application and POS  (123003, 492)\n"
     ]
    }
   ],
   "source": [
    "# Join application, bureau , Bureau_balance , previous application and pos\n",
    "df_main = merge_application_pos(df_main=df_main, df_pos=df_pos)  \n",
    "\n",
    "df_main_test = merge_application_pos(df_main=df_main_test, df_pos=df_pos)  \n"
   ]
  },
  {
   "cell_type": "code",
   "execution_count": null,
   "metadata": {
    "colab": {
     "base_uri": "https://localhost:8080/"
    },
    "executionInfo": {
     "elapsed": 95911,
     "status": "ok",
     "timestamp": 1612322954564,
     "user": {
      "displayName": "sathish anantha",
      "photoUrl": "https://lh3.googleusercontent.com/a-/AOh14Ghdw5Sh92a17sXj4ePDAB2diHt3YItsnu17FEdHoBI=s64",
      "userId": "06917965946637727718"
     },
     "user_tz": -330
    },
    "id": "FUUV_hwz6lxc",
    "outputId": "f0b1e79e-d2cf-4f79-d1af-ab68d26ce938"
   },
   "outputs": [
    {
     "name": "stdout",
     "output_type": "stream",
     "text": [
      "Shape of InstallPayment after feature engineering (13605401, 12)\n"
     ]
    }
   ],
   "source": [
    "#Creating custom features - Install payment features\n",
    "df_inst_pay  = create_custom_Inspay_feature(installments_payments=df_inst_pay)"
   ]
  },
  {
   "cell_type": "code",
   "execution_count": null,
   "metadata": {
    "colab": {
     "base_uri": "https://localhost:8080/"
    },
    "executionInfo": {
     "elapsed": 104388,
     "status": "ok",
     "timestamp": 1612322963486,
     "user": {
      "displayName": "sathish anantha",
      "photoUrl": "https://lh3.googleusercontent.com/a-/AOh14Ghdw5Sh92a17sXj4ePDAB2diHt3YItsnu17FEdHoBI=s64",
      "userId": "06917965946637727718"
     },
     "user_tz": -330
    },
    "id": "l59eCZzBysTw",
    "outputId": "27466fc4-1745-4ae8-c6f2-d031d1d8c745"
   },
   "outputs": [
    {
     "name": "stdout",
     "output_type": "stream",
     "text": [
      "Shape after merge Application, Bureau, Bureau_Balance , Previous_Application, POS and InstantPay  (123002, 502)\n",
      "Shape after merge Application, Bureau, Bureau_Balance , Previous_Application, POS and InstantPay  (123003, 502)\n"
     ]
    }
   ],
   "source": [
    "# Join application, bureau , Bureau_balance , previous application , pos and Installment payment\n",
    "df_main = merge_application_Inspay(df_main=df_main, df_inst_pay=df_inst_pay) \n",
    "\n",
    "df_main_test = merge_application_Inspay(df_main=df_main_test, df_inst_pay=df_inst_pay)  "
   ]
  },
  {
   "cell_type": "code",
   "execution_count": null,
   "metadata": {
    "colab": {
     "base_uri": "https://localhost:8080/"
    },
    "executionInfo": {
     "elapsed": 103925,
     "status": "ok",
     "timestamp": 1612322963488,
     "user": {
      "displayName": "sathish anantha",
      "photoUrl": "https://lh3.googleusercontent.com/a-/AOh14Ghdw5Sh92a17sXj4ePDAB2diHt3YItsnu17FEdHoBI=s64",
      "userId": "06917965946637727718"
     },
     "user_tz": -330
    },
    "id": "oAqx-7li9VlR",
    "outputId": "f3addf18-249f-49d5-a70d-39d8695089ce"
   },
   "outputs": [
    {
     "name": "stdout",
     "output_type": "stream",
     "text": [
      "Shape of Credit Card balance after feature engineering (3840312, 31)\n"
     ]
    }
   ],
   "source": [
    "# Create new feature Creditcard balance\n",
    "df_credit_bal = create_custom_Credit_bal_feature(cc_balance=df_credit_bal)"
   ]
  },
  {
   "cell_type": "code",
   "execution_count": null,
   "metadata": {
    "colab": {
     "base_uri": "https://localhost:8080/"
    },
    "executionInfo": {
     "elapsed": 116941,
     "status": "ok",
     "timestamp": 1612322976966,
     "user": {
      "displayName": "sathish anantha",
      "photoUrl": "https://lh3.googleusercontent.com/a-/AOh14Ghdw5Sh92a17sXj4ePDAB2diHt3YItsnu17FEdHoBI=s64",
      "userId": "06917965946637727718"
     },
     "user_tz": -330
    },
    "id": "8bA7gi74ysTw",
    "outputId": "be3a8f74-9283-46c4-d46a-eaed554369d5"
   },
   "outputs": [
    {
     "name": "stdout",
     "output_type": "stream",
     "text": [
      "Shape after merge Application, Bureau, Bureau_Balance , Previous_Application, POS, INSTALLMENT PAYMENT and CREDIt BAL  (123002, 537)\n",
      "Shape after merge Application, Bureau, Bureau_Balance , Previous_Application, POS, INSTALLMENT PAYMENT and CREDIt BAL  (123003, 537)\n"
     ]
    }
   ],
   "source": [
    "# Join application, bureau , Bureau_balance , previous application , pos , Installment payment and Credit balance\n",
    "\n",
    "df_main = merge_application_credit_bal(df_main=df_main, df_credit_bal=df_credit_bal)  \n",
    "\n",
    "df_main_test = merge_application_credit_bal(df_main=df_main_test, df_credit_bal=df_credit_bal)  "
   ]
  },
  {
   "cell_type": "code",
   "execution_count": null,
   "metadata": {
    "colab": {
     "base_uri": "https://localhost:8080/"
    },
    "executionInfo": {
     "elapsed": 116466,
     "status": "ok",
     "timestamp": 1612322976980,
     "user": {
      "displayName": "sathish anantha",
      "photoUrl": "https://lh3.googleusercontent.com/a-/AOh14Ghdw5Sh92a17sXj4ePDAB2diHt3YItsnu17FEdHoBI=s64",
      "userId": "06917965946637727718"
     },
     "user_tz": -330
    },
    "id": "dTf3lmGAysTx",
    "outputId": "54f6620d-159d-4c72-a766-127e3056428a"
   },
   "outputs": [
    {
     "data": {
      "text/plain": [
       "(123002, 537)"
      ]
     },
     "execution_count": 51,
     "metadata": {
      "tags": []
     },
     "output_type": "execute_result"
    }
   ],
   "source": [
    "df_main.shape"
   ]
  },
  {
   "cell_type": "code",
   "execution_count": null,
   "metadata": {
    "colab": {
     "base_uri": "https://localhost:8080/",
     "height": 208
    },
    "executionInfo": {
     "elapsed": 115262,
     "status": "ok",
     "timestamp": 1612322976982,
     "user": {
      "displayName": "sathish anantha",
      "photoUrl": "https://lh3.googleusercontent.com/a-/AOh14Ghdw5Sh92a17sXj4ePDAB2diHt3YItsnu17FEdHoBI=s64",
      "userId": "06917965946637727718"
     },
     "user_tz": -330
    },
    "id": "Tz9yM1EkysTx",
    "outputId": "236f3022-9675-4200-9f7e-a9ac8d465379"
   },
   "outputs": [
    {
     "data": {
      "text/html": [
       "<div>\n",
       "<style scoped>\n",
       "    .dataframe tbody tr th:only-of-type {\n",
       "        vertical-align: middle;\n",
       "    }\n",
       "\n",
       "    .dataframe tbody tr th {\n",
       "        vertical-align: top;\n",
       "    }\n",
       "\n",
       "    .dataframe thead th {\n",
       "        text-align: right;\n",
       "    }\n",
       "</style>\n",
       "<table border=\"1\" class=\"dataframe\">\n",
       "  <thead>\n",
       "    <tr style=\"text-align: right;\">\n",
       "      <th></th>\n",
       "      <th>SK_ID_CURR</th>\n",
       "      <th>CNT_CHILDREN</th>\n",
       "      <th>AMT_INCOME_TOTAL</th>\n",
       "      <th>AMT_CREDIT</th>\n",
       "      <th>AMT_ANNUITY</th>\n",
       "      <th>AMT_GOODS_PRICE</th>\n",
       "      <th>REGION_POPULATION_RELATIVE</th>\n",
       "      <th>DAYS_BIRTH</th>\n",
       "      <th>DAYS_EMPLOYED</th>\n",
       "      <th>DAYS_REGISTRATION</th>\n",
       "      <th>DAYS_ID_PUBLISH</th>\n",
       "      <th>OWN_CAR_AGE</th>\n",
       "      <th>FLAG_MOBIL</th>\n",
       "      <th>FLAG_EMP_PHONE</th>\n",
       "      <th>FLAG_WORK_PHONE</th>\n",
       "      <th>FLAG_CONT_MOBILE</th>\n",
       "      <th>FLAG_PHONE</th>\n",
       "      <th>FLAG_EMAIL</th>\n",
       "      <th>CNT_FAM_MEMBERS</th>\n",
       "      <th>HOUR_APPR_PROCESS_START</th>\n",
       "      <th>REG_REGION_NOT_LIVE_REGION</th>\n",
       "      <th>REG_REGION_NOT_WORK_REGION</th>\n",
       "      <th>LIVE_REGION_NOT_WORK_REGION</th>\n",
       "      <th>REG_CITY_NOT_LIVE_CITY</th>\n",
       "      <th>REG_CITY_NOT_WORK_CITY</th>\n",
       "      <th>LIVE_CITY_NOT_WORK_CITY</th>\n",
       "      <th>EXT_SOURCE_1</th>\n",
       "      <th>EXT_SOURCE_2</th>\n",
       "      <th>EXT_SOURCE_3</th>\n",
       "      <th>APARTMENTS_AVG</th>\n",
       "      <th>BASEMENTAREA_AVG</th>\n",
       "      <th>YEARS_BEGINEXPLUATATION_AVG</th>\n",
       "      <th>YEARS_BUILD_AVG</th>\n",
       "      <th>COMMONAREA_AVG</th>\n",
       "      <th>ELEVATORS_AVG</th>\n",
       "      <th>ENTRANCES_AVG</th>\n",
       "      <th>FLOORSMAX_AVG</th>\n",
       "      <th>FLOORSMIN_AVG</th>\n",
       "      <th>LANDAREA_AVG</th>\n",
       "      <th>LIVINGAPARTMENTS_AVG</th>\n",
       "      <th>...</th>\n",
       "      <th>INSTPAY_AMT_PAYMENT</th>\n",
       "      <th>INSTPAY_AMT_PAYMENT_DIFF</th>\n",
       "      <th>INSTPAY_AMT_PAYMENT_RATIO</th>\n",
       "      <th>INSTPAY_DAYS_PAYMENT_RATIO</th>\n",
       "      <th>INSTPAY_DAYS_PAYMENT_DIFF</th>\n",
       "      <th>CREDITBAL_NAME_CONTRACT_STATUS_Active</th>\n",
       "      <th>CREDITBAL_NAME_CONTRACT_STATUS_Approved</th>\n",
       "      <th>CREDITBAL_NAME_CONTRACT_STATUS_Completed</th>\n",
       "      <th>CREDITBAL_NAME_CONTRACT_STATUS_Demand</th>\n",
       "      <th>CREDITBAL_NAME_CONTRACT_STATUS_Refused</th>\n",
       "      <th>CREDITBAL_NAME_CONTRACT_STATUS_Sent proposal</th>\n",
       "      <th>CREDITBAL_NAME_CONTRACT_STATUS_Signed</th>\n",
       "      <th>CREDITBAL_MONTHS_BALANCE</th>\n",
       "      <th>CREDITBAL_AMT_BALANCE</th>\n",
       "      <th>CREDITBAL_AMT_CREDIT_LIMIT_ACTUAL</th>\n",
       "      <th>CREDITBAL_AMT_DRAWINGS_ATM_CURRENT</th>\n",
       "      <th>CREDITBAL_AMT_DRAWINGS_CURRENT</th>\n",
       "      <th>CREDITBAL_AMT_DRAWINGS_OTHER_CURRENT</th>\n",
       "      <th>CREDITBAL_AMT_DRAWINGS_POS_CURRENT</th>\n",
       "      <th>CREDITBAL_AMT_INST_MIN_REGULARITY</th>\n",
       "      <th>CREDITBAL_AMT_PAYMENT_CURRENT</th>\n",
       "      <th>CREDITBAL_AMT_PAYMENT_TOTAL_CURRENT</th>\n",
       "      <th>CREDITBAL_AMT_RECEIVABLE_PRINCIPAL</th>\n",
       "      <th>CREDITBAL_AMT_RECIVABLE</th>\n",
       "      <th>CREDITBAL_AMT_TOTAL_RECEIVABLE</th>\n",
       "      <th>CREDITBAL_CNT_DRAWINGS_ATM_CURRENT</th>\n",
       "      <th>CREDITBAL_CNT_DRAWINGS_CURRENT</th>\n",
       "      <th>CREDITBAL_CNT_DRAWINGS_OTHER_CURRENT</th>\n",
       "      <th>CREDITBAL_CNT_DRAWINGS_POS_CURRENT</th>\n",
       "      <th>CREDITBAL_CNT_INSTALMENT_MATURE_CUM</th>\n",
       "      <th>CREDITBAL_SK_DPD</th>\n",
       "      <th>CREDITBAL_SK_DPD_DEF</th>\n",
       "      <th>CREDITBAL_AMT_DRAWING_SUM</th>\n",
       "      <th>CREDITBAL_BALANCE_LIMIT_RATIO</th>\n",
       "      <th>CREDITBAL_CNT_DRAWING_SUM</th>\n",
       "      <th>CREDITBAL_MIN_PAYMENT_RATIO</th>\n",
       "      <th>CREDITBAL_PAYMENT_MIN_DIFF</th>\n",
       "      <th>CREDITBAL_MIN_PAYMENT_TOTAL_RATIO</th>\n",
       "      <th>CREDITBAL_AMT_INTEREST_RECEIVABLE</th>\n",
       "      <th>CREDITBAL_SK_DPD_RATIO</th>\n",
       "    </tr>\n",
       "  </thead>\n",
       "  <tbody>\n",
       "    <tr>\n",
       "      <th>0</th>\n",
       "      <td>306015</td>\n",
       "      <td>0.0</td>\n",
       "      <td>0.094750</td>\n",
       "      <td>0.033708</td>\n",
       "      <td>0.027417</td>\n",
       "      <td>0.033708</td>\n",
       "      <td>1.000000</td>\n",
       "      <td>0.604167</td>\n",
       "      <td>0.128085</td>\n",
       "      <td>0.940902</td>\n",
       "      <td>0.715244</td>\n",
       "      <td>0.032967</td>\n",
       "      <td>0.0</td>\n",
       "      <td>1.0</td>\n",
       "      <td>0.0</td>\n",
       "      <td>1.0</td>\n",
       "      <td>0.0</td>\n",
       "      <td>0.0</td>\n",
       "      <td>0.066667</td>\n",
       "      <td>0.652174</td>\n",
       "      <td>0.0</td>\n",
       "      <td>0.0</td>\n",
       "      <td>0.0</td>\n",
       "      <td>0.0</td>\n",
       "      <td>0.0</td>\n",
       "      <td>0.0</td>\n",
       "      <td>0.546875</td>\n",
       "      <td>0.860080</td>\n",
       "      <td>0.719181</td>\n",
       "      <td>0.124695</td>\n",
       "      <td>0.156372</td>\n",
       "      <td>0.972168</td>\n",
       "      <td>0.619141</td>\n",
       "      <td>0.000000</td>\n",
       "      <td>0.160034</td>\n",
       "      <td>0.137939</td>\n",
       "      <td>0.291748</td>\n",
       "      <td>0.333252</td>\n",
       "      <td>0.000000</td>\n",
       "      <td>0.101685</td>\n",
       "      <td>...</td>\n",
       "      <td>0.000000</td>\n",
       "      <td>0.0</td>\n",
       "      <td>0.0</td>\n",
       "      <td>0.000000</td>\n",
       "      <td>0.000000</td>\n",
       "      <td>0.0</td>\n",
       "      <td>0.0</td>\n",
       "      <td>0.0</td>\n",
       "      <td>0.0</td>\n",
       "      <td>0.0</td>\n",
       "      <td>0.0</td>\n",
       "      <td>0.0</td>\n",
       "      <td>0.0</td>\n",
       "      <td>0.0</td>\n",
       "      <td>0.0</td>\n",
       "      <td>0.0</td>\n",
       "      <td>0.0</td>\n",
       "      <td>0.0</td>\n",
       "      <td>0.0</td>\n",
       "      <td>0.0</td>\n",
       "      <td>0.0</td>\n",
       "      <td>0.0</td>\n",
       "      <td>0.0</td>\n",
       "      <td>0.0</td>\n",
       "      <td>0.0</td>\n",
       "      <td>0.0</td>\n",
       "      <td>0.0</td>\n",
       "      <td>0.0</td>\n",
       "      <td>0.0</td>\n",
       "      <td>0.0</td>\n",
       "      <td>0.0</td>\n",
       "      <td>0.0</td>\n",
       "      <td>0.0</td>\n",
       "      <td>0.0</td>\n",
       "      <td>0.0</td>\n",
       "      <td>0.0</td>\n",
       "      <td>0.0</td>\n",
       "      <td>0.0</td>\n",
       "      <td>0.0</td>\n",
       "      <td>0.0</td>\n",
       "    </tr>\n",
       "    <tr>\n",
       "      <th>1</th>\n",
       "      <td>437259</td>\n",
       "      <td>0.0</td>\n",
       "      <td>0.019312</td>\n",
       "      <td>0.039640</td>\n",
       "      <td>0.043111</td>\n",
       "      <td>0.033708</td>\n",
       "      <td>0.134904</td>\n",
       "      <td>0.291667</td>\n",
       "      <td>0.021552</td>\n",
       "      <td>0.702547</td>\n",
       "      <td>0.469159</td>\n",
       "      <td>0.098901</td>\n",
       "      <td>0.0</td>\n",
       "      <td>1.0</td>\n",
       "      <td>1.0</td>\n",
       "      <td>1.0</td>\n",
       "      <td>1.0</td>\n",
       "      <td>0.0</td>\n",
       "      <td>0.000000</td>\n",
       "      <td>0.434783</td>\n",
       "      <td>0.0</td>\n",
       "      <td>0.0</td>\n",
       "      <td>0.0</td>\n",
       "      <td>0.0</td>\n",
       "      <td>0.0</td>\n",
       "      <td>0.0</td>\n",
       "      <td>0.291534</td>\n",
       "      <td>0.458594</td>\n",
       "      <td>0.597038</td>\n",
       "      <td>0.738281</td>\n",
       "      <td>1.000000</td>\n",
       "      <td>0.983887</td>\n",
       "      <td>0.769043</td>\n",
       "      <td>0.297119</td>\n",
       "      <td>0.919922</td>\n",
       "      <td>0.792969</td>\n",
       "      <td>0.333252</td>\n",
       "      <td>0.375000</td>\n",
       "      <td>0.317139</td>\n",
       "      <td>0.582520</td>\n",
       "      <td>...</td>\n",
       "      <td>9032.610352</td>\n",
       "      <td>0.0</td>\n",
       "      <td>1.0</td>\n",
       "      <td>0.957520</td>\n",
       "      <td>27.078125</td>\n",
       "      <td>0.0</td>\n",
       "      <td>0.0</td>\n",
       "      <td>0.0</td>\n",
       "      <td>0.0</td>\n",
       "      <td>0.0</td>\n",
       "      <td>0.0</td>\n",
       "      <td>0.0</td>\n",
       "      <td>0.0</td>\n",
       "      <td>0.0</td>\n",
       "      <td>0.0</td>\n",
       "      <td>0.0</td>\n",
       "      <td>0.0</td>\n",
       "      <td>0.0</td>\n",
       "      <td>0.0</td>\n",
       "      <td>0.0</td>\n",
       "      <td>0.0</td>\n",
       "      <td>0.0</td>\n",
       "      <td>0.0</td>\n",
       "      <td>0.0</td>\n",
       "      <td>0.0</td>\n",
       "      <td>0.0</td>\n",
       "      <td>0.0</td>\n",
       "      <td>0.0</td>\n",
       "      <td>0.0</td>\n",
       "      <td>0.0</td>\n",
       "      <td>0.0</td>\n",
       "      <td>0.0</td>\n",
       "      <td>0.0</td>\n",
       "      <td>0.0</td>\n",
       "      <td>0.0</td>\n",
       "      <td>0.0</td>\n",
       "      <td>0.0</td>\n",
       "      <td>0.0</td>\n",
       "      <td>0.0</td>\n",
       "      <td>0.0</td>\n",
       "    </tr>\n",
       "    <tr>\n",
       "      <th>2</th>\n",
       "      <td>258232</td>\n",
       "      <td>0.0</td>\n",
       "      <td>0.014283</td>\n",
       "      <td>0.122826</td>\n",
       "      <td>0.062075</td>\n",
       "      <td>0.104494</td>\n",
       "      <td>0.088369</td>\n",
       "      <td>0.895833</td>\n",
       "      <td>0.091457</td>\n",
       "      <td>0.803559</td>\n",
       "      <td>0.280441</td>\n",
       "      <td>0.098901</td>\n",
       "      <td>0.0</td>\n",
       "      <td>0.0</td>\n",
       "      <td>0.0</td>\n",
       "      <td>1.0</td>\n",
       "      <td>0.0</td>\n",
       "      <td>0.0</td>\n",
       "      <td>0.066667</td>\n",
       "      <td>0.652174</td>\n",
       "      <td>0.0</td>\n",
       "      <td>0.0</td>\n",
       "      <td>0.0</td>\n",
       "      <td>0.0</td>\n",
       "      <td>0.0</td>\n",
       "      <td>0.0</td>\n",
       "      <td>0.875469</td>\n",
       "      <td>0.456310</td>\n",
       "      <td>0.739356</td>\n",
       "      <td>0.087585</td>\n",
       "      <td>0.076477</td>\n",
       "      <td>0.981934</td>\n",
       "      <td>0.755371</td>\n",
       "      <td>0.021194</td>\n",
       "      <td>0.000000</td>\n",
       "      <td>0.137939</td>\n",
       "      <td>0.166748</td>\n",
       "      <td>0.208252</td>\n",
       "      <td>0.048187</td>\n",
       "      <td>0.075623</td>\n",
       "      <td>...</td>\n",
       "      <td>11886.930664</td>\n",
       "      <td>0.0</td>\n",
       "      <td>1.0</td>\n",
       "      <td>0.976074</td>\n",
       "      <td>23.281250</td>\n",
       "      <td>0.0</td>\n",
       "      <td>0.0</td>\n",
       "      <td>0.0</td>\n",
       "      <td>0.0</td>\n",
       "      <td>0.0</td>\n",
       "      <td>0.0</td>\n",
       "      <td>0.0</td>\n",
       "      <td>0.0</td>\n",
       "      <td>0.0</td>\n",
       "      <td>0.0</td>\n",
       "      <td>0.0</td>\n",
       "      <td>0.0</td>\n",
       "      <td>0.0</td>\n",
       "      <td>0.0</td>\n",
       "      <td>0.0</td>\n",
       "      <td>0.0</td>\n",
       "      <td>0.0</td>\n",
       "      <td>0.0</td>\n",
       "      <td>0.0</td>\n",
       "      <td>0.0</td>\n",
       "      <td>0.0</td>\n",
       "      <td>0.0</td>\n",
       "      <td>0.0</td>\n",
       "      <td>0.0</td>\n",
       "      <td>0.0</td>\n",
       "      <td>0.0</td>\n",
       "      <td>0.0</td>\n",
       "      <td>0.0</td>\n",
       "      <td>0.0</td>\n",
       "      <td>0.0</td>\n",
       "      <td>0.0</td>\n",
       "      <td>0.0</td>\n",
       "      <td>0.0</td>\n",
       "      <td>0.0</td>\n",
       "      <td>0.0</td>\n",
       "    </tr>\n",
       "  </tbody>\n",
       "</table>\n",
       "<p>3 rows × 537 columns</p>\n",
       "</div>"
      ],
      "text/plain": [
       "   SK_ID_CURR  ...  CREDITBAL_SK_DPD_RATIO\n",
       "0      306015  ...                     0.0\n",
       "1      437259  ...                     0.0\n",
       "2      258232  ...                     0.0\n",
       "\n",
       "[3 rows x 537 columns]"
      ]
     },
     "execution_count": 52,
     "metadata": {
      "tags": []
     },
     "output_type": "execute_result"
    }
   ],
   "source": [
    "df_main.head(3)"
   ]
  },
  {
   "cell_type": "markdown",
   "metadata": {
    "id": "5hiV4uh2ysTx"
   },
   "source": [
    "# Notes\n",
    "\n",
    "I have completed Data cleaning , feature engineering totally we have 515 features, but still we can create more features so please suggest some blog which related to this domain or any suggestion to create more features.\n",
    "\n",
    "kindly review the steps which i followed if any concrens please let me know."
   ]
  },
  {
   "cell_type": "code",
   "execution_count": null,
   "metadata": {
    "id": "HpNSEsaP_Ond"
   },
   "outputs": [],
   "source": [
    "df_main.to_csv('Stack_Home_credit_final.csv', index=False)"
   ]
  },
  {
   "cell_type": "code",
   "execution_count": null,
   "metadata": {
    "id": "BjbsxJv8CpWa"
   },
   "outputs": [],
   "source": [
    "df_main_test.to_csv('Stack_Home_credit_test_final.csv', index=False)"
   ]
  },
  {
   "cell_type": "markdown",
   "metadata": {
    "id": "TuioC1BMDe3l"
   },
   "source": [
    "## Dividing final data into train, valid and test datasets:"
   ]
  },
  {
   "cell_type": "code",
   "execution_count": null,
   "metadata": {
    "id": "E5WxxRcndajl"
   },
   "outputs": [],
   "source": [
    "# Unseen Data prepartion \n",
    "def unseen_data(df='Main_data', df_test='test_data',df_bureau ='df_bureau',df_bureau_bal='df_bureau_bal',df_prev_app ='df_prev_app',df_pos='df_pos',\n",
    "                df_credit_bal ='df_credit_bal',df_inst_pay='df_inst_pay'):\n",
    "\n",
    "\n",
    "  # OneHot encoding and Label encoding\n",
    "  df, df_test =  category_to_numeric(df = df, df_test=df_test)   \n",
    "\n",
    "  # create custome features for train and test application\n",
    "  df, df_test = create_custom_features_main_table(df=df, df_test=df_test)\n",
    "  print('Shape of application train ', df.shape)\n",
    "  print('Shape of application test ', df_test.shape)\n",
    "\n",
    "    # Handling missing value-  Category\n",
    "  df ,df_test=  replacing_missing_numeric(df = df,df_test = df_test)\n",
    "\n",
    "  # Bureau table custom features\n",
    "  df_bureau = create_custom_bureau_feature(df_bureau=df_bureau)\n",
    "\n",
    "  # Join application and bureau table\n",
    "  df_main_test = join_application_bureau(df = df_test, df_bureau=df_bureau)\n",
    "\n",
    "  # Join application, bureau and Bureau_balance\n",
    "  df_main_test = merge_application_BureauBal(df_main=df_main_test, df_bureau=df_bureau, df_bureau_bal=df_bureau_bal)\n",
    "\n",
    "  #Creating custom features for previous applications\n",
    "  df_prev_app = create_custom_prevapp_feature(previous_application=df_prev_app)\n",
    "\n",
    "\n",
    "  # Join application, bureau , Bureau_balance and previous application\n",
    "  df_main_test = merge_application_prev_app(df_main=df_main_test, df_prev_app=df_prev_app)  \n",
    "\n",
    "  # create new feature based on existing column in POS table\n",
    "  df_pos = create_custom_pos_feature(pos_cash=df_pos)\n",
    "\n",
    "  # Join application, bureau , Bureau_balance , previous application and pos\n",
    "  df_main_test = merge_application_pos(df_main=df_main_test, df_pos=df_pos)  \n",
    "\n",
    "  #Creating custom features - Install payment features\n",
    "  df_inst_pay  = create_custom_Inspay_feature(installments_payments=df_inst_pay)\n",
    "\n",
    "  # Join application, bureau , Bureau_balance , previous application , pos and Installment payment\n",
    "  df_main_test = merge_application_Inspay(df_main=df_main_test, df_inst_pay=df_inst_pay)  \n",
    "\n",
    "  # Create new feature Creditcard balance\n",
    "  df_credit_bal = create_custom_Credit_bal_feature(cc_balance=df_credit_bal)\n",
    "\n",
    "  # Join application, bureau , Bureau_balance , previous application , pos , Installment payment and Credit balance\n",
    "  df_main_test = merge_application_credit_bal(df_main=df_main_test, df_credit_bal=df_credit_bal)  \n",
    "\n",
    "  print('Shape of unseen test after preprocessing')\n",
    "\n",
    "  return df_main_test\n",
    "\n",
    "\n",
    "\n"
   ]
  },
  {
   "cell_type": "code",
   "execution_count": null,
   "metadata": {
    "id": "PrzAEORoH0ie"
   },
   "outputs": [],
   "source": [
    "X_train = pd.read_csv('Home_credit_final.csv')\n",
    "X_test = pd.read_csv('Home_credit_test_final.csv')"
   ]
  },
  {
   "cell_type": "code",
   "execution_count": null,
   "metadata": {
    "colab": {
     "base_uri": "https://localhost:8080/"
    },
    "executionInfo": {
     "elapsed": 102253,
     "status": "ok",
     "timestamp": 1612323927333,
     "user": {
      "displayName": "sathish anantha",
      "photoUrl": "https://lh3.googleusercontent.com/a-/AOh14Ghdw5Sh92a17sXj4ePDAB2diHt3YItsnu17FEdHoBI=s64",
      "userId": "06917965946637727718"
     },
     "user_tz": -330
    },
    "id": "6SBIMoSU9OJR",
    "outputId": "c8f81b20-52d1-472e-ce2c-f2b21955ae8d"
   },
   "outputs": [
    {
     "name": "stderr",
     "output_type": "stream",
     "text": [
      "  6%|▌         | 1/18 [00:00<00:03,  5.24it/s]"
     ]
    },
    {
     "name": "stdout",
     "output_type": "stream",
     "text": [
      "Shape of application train before Encoding  (123002, 122)\n",
      "Shape of application test before Encoding  (61502, 122)\n"
     ]
    },
    {
     "name": "stderr",
     "output_type": "stream",
     "text": [
      "100%|██████████| 18/18 [00:04<00:00,  4.21it/s]\n"
     ]
    },
    {
     "name": "stdout",
     "output_type": "stream",
     "text": [
      "Shape of application train after Encoding  (123002, 255)\n",
      "Shape of application test after Encoding  (61502, 255)\n",
      "Shape of application train  (123002, 260)\n",
      "Shape of application test  (61502, 260)\n",
      "                          Total   Percent\n",
      "COMMONAREA_MEDI           85943  0.698712\n",
      "COMMONAREA_AVG            85943  0.698712\n",
      "COMMONAREA_MODE           85943  0.698712\n",
      "NONLIVINGAPARTMENTS_MEDI  85405  0.694338\n",
      "NONLIVINGAPARTMENTS_MODE  85405  0.694338\n",
      "                                       Total   Percent\n",
      "NAME_EDUCATION_TYPE_Higher education   49339  0.802234\n",
      "OCCUPATION_TYPE_IT staff               49339  0.802234\n",
      "OCCUPATION_TYPE_Sales staff            49339  0.802234\n",
      "OCCUPATION_TYPE_Realty agents          49339  0.802234\n",
      "OCCUPATION_TYPE_Private service staff  49339  0.802234\n",
      "OCCUPATION_TYPE_Medicine staff         49339  0.802234\n",
      "OCCUPATION_TYPE_Managers               49339  0.802234\n",
      "OCCUPATION_TYPE_Low-skill Laborers     49339  0.802234\n",
      "OCCUPATION_TYPE_Laborers               49339  0.802234\n",
      "OCCUPATION_TYPE_High skill tech staff  49339  0.802234\n",
      "Training data shape:  (123002, 260)\n",
      "Testing data shape:  (61502, 260)\n",
      "Missing value_count after Imputation \n",
      "\n",
      "                  Total  Percent\n",
      "DAR                   0      0.0\n",
      "FLAG_DOCUMENT_21      0      0.0\n",
      "FLAG_DOCUMENT_19      0      0.0\n",
      "FLAG_DOCUMENT_18      0      0.0\n",
      "FLAG_DOCUMENT_17      0      0.0\n",
      "                  Total  Percent\n",
      "DAR                   0      0.0\n",
      "FLAG_DOCUMENT_21      0      0.0\n",
      "FLAG_DOCUMENT_19      0      0.0\n",
      "FLAG_DOCUMENT_18      0      0.0\n",
      "FLAG_DOCUMENT_17      0      0.0\n",
      " Observation : \n",
      " 1.Now there is no missing value in Train and test\n",
      "Past loan details (305811, 2)\n",
      "credit_type details (305811, 2)\n",
      "sum_total_count details (305811, 2)\n",
      "sum_total_count_debt details (305811, 2)\n",
      "Merge of sum_total_count and sum_total_count_debt (305811, 4)\n",
      "Sum of over due amount (305811, 2)\n",
      "Sum of total debt amount  (305811, 2)\n",
      "Ratio of Overdue and credit debt amount (305811, 4)\n",
      "Column_names_Categorical Index(['SK_ID_CURR', 'Bureau_Active', 'Bureau_Bad debt', 'Bureau_Closed',\n",
      "       'Bureau_Sold', 'Bureau_currency 1', 'Bureau_currency 2',\n",
      "       'Bureau_currency 3', 'Bureau_currency 4', 'Bureau_Another type of loan',\n",
      "       'Bureau_Car loan', 'Bureau_Cash loan (non-earmarked)',\n",
      "       'Bureau_Consumer credit', 'Bureau_Credit card',\n",
      "       'Bureau_Interbank credit', 'Bureau_Loan for business development',\n",
      "       'Bureau_Loan for purchase of shares (margin lending)',\n",
      "       'Bureau_Loan for the purchase of equipment',\n",
      "       'Bureau_Loan for working capital replenishment', 'Bureau_Microloan',\n",
      "       'Bureau_Mobile operator loan', 'Bureau_Mortgage',\n",
      "       'Bureau_Real estate loan', 'Bureau_Unknown type of loan'],\n",
      "      dtype='object')\n",
      "Column_names_Numeric Index(['SK_ID_CURR', 'DAYS_CREDIT', 'CREDIT_DAY_OVERDUE',\n",
      "       'DAYS_CREDIT_ENDDATE', 'DAYS_ENDDATE_FACT', 'AMT_CREDIT_MAX_OVERDUE',\n",
      "       'CNT_CREDIT_PROLONG', 'AMT_CREDIT_SUM', 'AMT_CREDIT_SUM_DEBT',\n",
      "       'AMT_CREDIT_SUM_LIMIT', 'AMT_CREDIT_SUM_OVERDUE', 'DAYS_CREDIT_UPDATE',\n",
      "       'AMT_ANNUITY', 'LOAN_COUNT_BUREAU', 'LOAN_TYPES_BUREAU',\n",
      "       'TOTAL_LOAN_AMT_SUM', 'TOTAL_LOAN_AMT_SUM_DEBT', 'debt_credit_ratio',\n",
      "       'SUM_AMT_CREDIT_SUM_OVERDUE', 'TOTAL_CUSTOMER_DEBT',\n",
      "       'overdue_debt_ratio'],\n",
      "      dtype='object')\n",
      "Shape of main table after merge Application, Bureau and Bureau_balance (61502, 306)\n",
      "After creating custom feature  (1670214, 45)\n",
      "Shape after merge Application, Bureau, Bureau_Balance and Previous_Application  (61502, 476)\n",
      "Shape of POS after feature engineering (10001358, 10)\n",
      "Shape after merge Application, Bureau, Bureau_Balance , Previous_Application and POS  (61502, 492)\n",
      "Shape of InstallPayment after feature engineering (13605401, 12)\n",
      "Shape after merge Application, Bureau, Bureau_Balance , Previous_Application, POS and InstantPay  (61502, 502)\n",
      "Shape of Credit Card balance after feature engineering (3840312, 31)\n",
      "Shape after merge Application, Bureau, Bureau_Balance , Previous_Application, POS, INSTALLMENT PAYMENT and CREDIt BAL  (61502, 537)\n",
      "Shape of unseen test after preprocessing\n"
     ]
    }
   ],
   "source": [
    "\n",
    "unseen_X_test = unseen_data(df=X_train_new, df_test=X_test,df_bureau =df_bureau_copy,df_bureau_bal=df_bureau_bal_copy,df_prev_app =df_prev_app_copy,df_pos=df_pos_copy,\n",
    "                df_credit_bal =df_credit_bal_copy,df_inst_pay=df_inst_pay_copy)\n",
    "\n",
    "unseen_X_test.to_csv('Stack_Home_credit_X_test.csv', index=False)"
   ]
  },
  {
   "cell_type": "code",
   "execution_count": null,
   "metadata": {
    "colab": {
     "base_uri": "https://localhost:8080/"
    },
    "executionInfo": {
     "elapsed": 95632,
     "status": "ok",
     "timestamp": 1612323795795,
     "user": {
      "displayName": "sathish anantha",
      "photoUrl": "https://lh3.googleusercontent.com/a-/AOh14Ghdw5Sh92a17sXj4ePDAB2diHt3YItsnu17FEdHoBI=s64",
      "userId": "06917965946637727718"
     },
     "user_tz": -330
    },
    "id": "a8sMlgGDdmat",
    "outputId": "25dac0b1-853c-43aa-898c-5a7aca5599a5"
   },
   "outputs": [
    {
     "name": "stderr",
     "output_type": "stream",
     "text": [
      "\r",
      "  0%|          | 0/18 [00:00<?, ?it/s]"
     ]
    },
    {
     "name": "stdout",
     "output_type": "stream",
     "text": [
      "Shape of application train before Encoding  (123002, 122)\n",
      "Shape of application test before Encoding  (48744, 122)\n"
     ]
    },
    {
     "name": "stderr",
     "output_type": "stream",
     "text": [
      "100%|██████████| 18/18 [00:04<00:00,  4.27it/s]\n"
     ]
    },
    {
     "name": "stdout",
     "output_type": "stream",
     "text": [
      "Shape of application train after Encoding  (123002, 255)\n",
      "Shape of application test after Encoding  (48744, 255)\n",
      "Shape of application train  (123002, 260)\n",
      "Shape of application test  (48744, 260)\n",
      "                          Total   Percent\n",
      "COMMONAREA_MEDI           85943  0.698712\n",
      "COMMONAREA_AVG            85943  0.698712\n",
      "COMMONAREA_MODE           85943  0.698712\n",
      "NONLIVINGAPARTMENTS_MEDI  85405  0.694338\n",
      "NONLIVINGAPARTMENTS_MODE  85405  0.694338\n",
      "                          Total   Percent\n",
      "COMMONAREA_MEDI           33495  0.687161\n",
      "COMMONAREA_AVG            33495  0.687161\n",
      "COMMONAREA_MODE           33495  0.687161\n",
      "NONLIVINGAPARTMENTS_AVG   33347  0.684125\n",
      "NONLIVINGAPARTMENTS_MEDI  33347  0.684125\n",
      "NONLIVINGAPARTMENTS_MODE  33347  0.684125\n",
      "LIVINGAPARTMENTS_AVG      32780  0.672493\n",
      "LIVINGAPARTMENTS_MODE     32780  0.672493\n",
      "LIVINGAPARTMENTS_MEDI     32780  0.672493\n",
      "FLOORSMIN_MODE            32466  0.666051\n",
      "Training data shape:  (123002, 260)\n",
      "Testing data shape:  (48744, 260)\n",
      "Missing value_count after Imputation \n",
      "\n",
      "                  Total  Percent\n",
      "DAR                   0      0.0\n",
      "FLAG_DOCUMENT_21      0      0.0\n",
      "FLAG_DOCUMENT_19      0      0.0\n",
      "FLAG_DOCUMENT_18      0      0.0\n",
      "FLAG_DOCUMENT_17      0      0.0\n",
      "                  Total  Percent\n",
      "DAR                   0      0.0\n",
      "FLAG_DOCUMENT_21      0      0.0\n",
      "FLAG_DOCUMENT_19      0      0.0\n",
      "FLAG_DOCUMENT_18      0      0.0\n",
      "FLAG_DOCUMENT_17      0      0.0\n",
      " Observation : \n",
      " 1.Now there is no missing value in Train and test\n",
      "Past loan details (305811, 2)\n",
      "credit_type details (305811, 2)\n",
      "sum_total_count details (305811, 2)\n",
      "sum_total_count_debt details (305811, 2)\n",
      "Merge of sum_total_count and sum_total_count_debt (305811, 4)\n",
      "Sum of over due amount (305811, 2)\n",
      "Sum of total debt amount  (305811, 2)\n",
      "Ratio of Overdue and credit debt amount (305811, 4)\n",
      "Column_names_Categorical Index(['SK_ID_CURR', 'Bureau_Active', 'Bureau_Bad debt', 'Bureau_Closed',\n",
      "       'Bureau_Sold', 'Bureau_currency 1', 'Bureau_currency 2',\n",
      "       'Bureau_currency 3', 'Bureau_currency 4', 'Bureau_Another type of loan',\n",
      "       'Bureau_Car loan', 'Bureau_Cash loan (non-earmarked)',\n",
      "       'Bureau_Consumer credit', 'Bureau_Credit card',\n",
      "       'Bureau_Interbank credit', 'Bureau_Loan for business development',\n",
      "       'Bureau_Loan for purchase of shares (margin lending)',\n",
      "       'Bureau_Loan for the purchase of equipment',\n",
      "       'Bureau_Loan for working capital replenishment', 'Bureau_Microloan',\n",
      "       'Bureau_Mobile operator loan', 'Bureau_Mortgage',\n",
      "       'Bureau_Real estate loan', 'Bureau_Unknown type of loan'],\n",
      "      dtype='object')\n",
      "Column_names_Numeric Index(['SK_ID_CURR', 'DAYS_CREDIT', 'CREDIT_DAY_OVERDUE',\n",
      "       'DAYS_CREDIT_ENDDATE', 'DAYS_ENDDATE_FACT', 'AMT_CREDIT_MAX_OVERDUE',\n",
      "       'CNT_CREDIT_PROLONG', 'AMT_CREDIT_SUM', 'AMT_CREDIT_SUM_DEBT',\n",
      "       'AMT_CREDIT_SUM_LIMIT', 'AMT_CREDIT_SUM_OVERDUE', 'DAYS_CREDIT_UPDATE',\n",
      "       'AMT_ANNUITY', 'LOAN_COUNT_BUREAU', 'LOAN_TYPES_BUREAU',\n",
      "       'TOTAL_LOAN_AMT_SUM', 'TOTAL_LOAN_AMT_SUM_DEBT', 'debt_credit_ratio',\n",
      "       'SUM_AMT_CREDIT_SUM_OVERDUE', 'TOTAL_CUSTOMER_DEBT',\n",
      "       'overdue_debt_ratio'],\n",
      "      dtype='object')\n",
      "Shape of main table after merge Application, Bureau and Bureau_balance (48744, 306)\n",
      "After creating custom feature  (1670214, 45)\n",
      "Shape after merge Application, Bureau, Bureau_Balance and Previous_Application  (48744, 476)\n",
      "Shape of POS after feature engineering (10001358, 10)\n",
      "Shape after merge Application, Bureau, Bureau_Balance , Previous_Application and POS  (48744, 492)\n",
      "Shape of InstallPayment after feature engineering (13605401, 12)\n",
      "Shape after merge Application, Bureau, Bureau_Balance , Previous_Application, POS and InstantPay  (48744, 502)\n",
      "Shape of Credit Card balance after feature engineering (3840312, 31)\n",
      "Shape after merge Application, Bureau, Bureau_Balance , Previous_Application, POS, INSTALLMENT PAYMENT and CREDIt BAL  (48744, 537)\n",
      "Shape of unseen test after preprocessing\n"
     ]
    }
   ],
   "source": [
    "#test_kaggle = pd.read_csv('application_test.csv')\n",
    "unseen_test = unseen_data(df=X_train_new, df_test=df_test_F,df_bureau =df_bureau_copy,df_bureau_bal=df_bureau_bal_copy,df_prev_app =df_prev_app_copy,df_pos=df_pos_copy,\n",
    "                df_credit_bal =df_credit_bal_copy,df_inst_pay=df_inst_pay_copy)\n",
    "\n",
    "unseen_test.to_csv('Stack_Home_credit_Actual_test.csv', index=False)"
   ]
  },
  {
   "cell_type": "code",
   "execution_count": null,
   "metadata": {
    "id": "7JVkUpDBdn8Y"
   },
   "outputs": [],
   "source": []
  },
  {
   "cell_type": "code",
   "execution_count": null,
   "metadata": {
    "id": "7fGDBmJqFc14"
   },
   "outputs": [],
   "source": [
    "\n",
    "# Saving the numpy arrays into text files for future use\n",
    "np.savetxt('y.txt', y,fmt='%10.0f')\n",
    "np.savetxt('y_train.txt', y_train,fmt='%10.0f')\n",
    "np.savetxt('y_val.txt', y_val,fmt='%10.0f')\n",
    "np.savetxt('y_test.txt', y_test,fmt='%10.0f')"
   ]
  },
  {
   "cell_type": "markdown",
   "metadata": {
    "id": "guX0C5DqAqOJ"
   },
   "source": [
    "# **<font color = 'orange'> STACK_MODELING </font>**"
   ]
  },
  {
   "cell_type": "markdown",
   "metadata": {
    "id": "FG69ULkQud9V"
   },
   "source": [
    "**What is Stacking?**\n",
    "The simplest form of stacking can be described as an ensemble learning technique where the predictions of multiple classifiers (referred as level-one classifiers) are used as new features to train a meta-classifier. The meta-classifier can be any classifier of your choice. Figure 1 shows how three different classifiers get trained. Their predictions get stacked and are used as features to train the meta-classifier which makes the final prediction."
   ]
  },
  {
   "cell_type": "code",
   "execution_count": 4,
   "metadata": {
    "executionInfo": {
     "elapsed": 1382,
     "status": "ok",
     "timestamp": 1613452765363,
     "user": {
      "displayName": "sathish anantha",
      "photoUrl": "https://lh3.googleusercontent.com/a-/AOh14Ghdw5Sh92a17sXj4ePDAB2diHt3YItsnu17FEdHoBI=s64",
      "userId": "06917965946637727718"
     },
     "user_tz": -330
    },
    "id": "wfgMllmqudWg"
   },
   "outputs": [],
   "source": [
    "###############################################################################\n",
    "#                          1. Importing Libraries                             #\n",
    "###############################################################################\n",
    "# For reading, visualizing, and preprocessing data\n",
    "import numpy as np\n",
    "import pandas as pd\n",
    "import seaborn as sns\n",
    "import itertools\n",
    "import matplotlib.pyplot as plt\n",
    "from sklearn.datasets import make_classification\n",
    "from sklearn import model_selection\n",
    "from sklearn.model_selection import train_test_split, GridSearchCV, RandomizedSearchCV\n",
    "from sklearn.preprocessing import StandardScaler\n",
    "from sklearn.pipeline import Pipeline\n",
    "from sklearn import metrics\n",
    "from sklearn.metrics import accuracy_score,confusion_matrix,roc_auc_score,roc_curve,precision_score,recall_score,f1_score\n",
    "import gc\n",
    "from sklearn.linear_model import SGDClassifier\n",
    "from sklearn.ensemble import ExtraTreesClassifier\n",
    "from pprint import pprint\n",
    "from scipy.stats import uniform\n",
    "\n",
    "# Classifiers\n",
    "from sklearn.svm import NuSVC, SVC\n",
    "from sklearn.neural_network import MLPClassifier\n",
    "from sklearn.ensemble import RandomForestClassifier\n",
    "from mlxtend.classifier import StackingCVClassifier # --> This libraries we going to explore\n",
    "from xgboost import XGBClassifier\n",
    "# Used to ignore warnings generated from StackingCVClassifier\n",
    "import warnings\n",
    "warnings.simplefilter('ignore')"
   ]
  },
  {
   "cell_type": "code",
   "execution_count": 5,
   "metadata": {
    "executionInfo": {
     "elapsed": 40793,
     "status": "ok",
     "timestamp": 1613452805772,
     "user": {
      "displayName": "sathish anantha",
      "photoUrl": "https://lh3.googleusercontent.com/a-/AOh14Ghdw5Sh92a17sXj4ePDAB2diHt3YItsnu17FEdHoBI=s64",
      "userId": "06917965946637727718"
     },
     "user_tz": -330
    },
    "id": "JneqtQbNXTjZ"
   },
   "outputs": [],
   "source": [
    "# Read all required Data\n",
    "X_train = pd.read_csv('Stack_Home_credit_final.csv')\n",
    "X_val = pd.read_csv('Stack_Home_credit_test_final.csv')\n",
    "X_test = pd.read_csv('Stack_Home_credit_X_test.csv')\n",
    "\n",
    "Actual_test = pd.read_csv('Stack_Home_credit_Actual_test.csv')\n",
    "\n",
    "y_train = pd.read_csv('y_train.txt',names=['TARGETS'])\n",
    "y_val = pd.read_csv('y_val.txt',names=['TARGETS'])\n",
    "y_test = pd.read_csv('y_test.txt',names=['TARGETS'])\n",
    "\n",
    "\n"
   ]
  },
  {
   "cell_type": "code",
   "execution_count": 6,
   "metadata": {
    "colab": {
     "base_uri": "https://localhost:8080/"
    },
    "executionInfo": {
     "elapsed": 36652,
     "status": "ok",
     "timestamp": 1613452805776,
     "user": {
      "displayName": "sathish anantha",
      "photoUrl": "https://lh3.googleusercontent.com/a-/AOh14Ghdw5Sh92a17sXj4ePDAB2diHt3YItsnu17FEdHoBI=s64",
      "userId": "06917965946637727718"
     },
     "user_tz": -330
    },
    "id": "q2a6otMBjums",
    "outputId": "74127915-b457-4379-8494-d35c1377d1dd"
   },
   "outputs": [
    {
     "name": "stdout",
     "output_type": "stream",
     "text": [
      "Shape of X_train  (123002, 537)\n",
      "Shape validation CV (123003, 537)\n",
      "Shape of test  (61502, 537)\n",
      "Shape of y_train  (123002, 1)\n",
      "Shape of y_test_CV  (123003, 1)\n",
      "Shape of y_test  (61502, 1)\n"
     ]
    }
   ],
   "source": [
    "print('Shape of X_train ', X_train.shape)\n",
    "print('Shape validation CV',X_val.shape)\n",
    "print('Shape of test ',X_test.shape)\n",
    "print('Shape of y_train ', y_train.shape)\n",
    "print('Shape of y_test_CV ', y_val.shape)\n",
    "print('Shape of y_test ', y_test.shape)"
   ]
  },
  {
   "cell_type": "code",
   "execution_count": 7,
   "metadata": {
    "executionInfo": {
     "elapsed": 34834,
     "status": "ok",
     "timestamp": 1613452805777,
     "user": {
      "displayName": "sathish anantha",
      "photoUrl": "https://lh3.googleusercontent.com/a-/AOh14Ghdw5Sh92a17sXj4ePDAB2diHt3YItsnu17FEdHoBI=s64",
      "userId": "06917965946637727718"
     },
     "user_tz": -330
    },
    "id": "DHOjxdEhXTxr"
   },
   "outputs": [],
   "source": [
    "#Reading the best picture using pickle file\n",
    "import pickle\n",
    "\n",
    "# Selecting best features for our probelm statement\n",
    "infile = open('select_features.txt','rb')\n",
    "selected_features = pickle.load(infile)  "
   ]
  },
  {
   "cell_type": "code",
   "execution_count": null,
   "metadata": {},
   "outputs": [],
   "source": [
    "def plot_confusion_matrix(test_y, predicted_y):\n",
    "    # Confusion matrix\n",
    "    C = confusion_matrix(test_y, predicted_y)\n",
    "    \n",
    "    # Recall matrix\n",
    "    A = (((C.T)/(C.sum(axis=1))).T)\n",
    "    \n",
    "    # Precision matrix\n",
    "    B = (C/C.sum(axis=0))\n",
    "    \n",
    "    plt.figure(figsize=(20,4))\n",
    "    \n",
    "    labels = ['Re-paid(0)','Not Re-paid(1)']\n",
    "    cmap=sns.light_palette(\"seagreen\")\n",
    "    plt.subplot(1,3,1)\n",
    "    sns.heatmap(C, annot=True, cmap=cmap,fmt=\"g\", xticklabels = labels, yticklabels=labels)\n",
    "    plt.xlabel('Predicted Class')\n",
    "    plt.ylabel('Orignal Class')\n",
    "    plt.title('Confusion matrix')\n",
    "    \n",
    "    plt.subplot(1,3,2)\n",
    "    sns.heatmap(A, annot=True, cmap=cmap, xticklabels = labels, yticklabels=labels)\n",
    "    plt.xlabel('Predicted Class')\n",
    "    plt.ylabel('Orignal Class')\n",
    "    plt.title('Recall matrix')\n",
    "    \n",
    "    plt.subplot(1,3,3)\n",
    "    sns.heatmap(B, annot=True, cmap=cmap, xticklabels = labels, yticklabels=labels)\n",
    "    plt.xlabel('Predicted Class')\n",
    "    plt.ylabel('Orignal Class')\n",
    "    plt.title('Precision matrix')\n",
    "    \n",
    "    plt.show()\n",
    "\n",
    "\n",
    "def cv_plot(alpha, cv_auc):\n",
    "    \n",
    "    fig, ax = plt.subplots()\n",
    "    ax.plot(np.log10(alpha), cv_auc,c='g')\n",
    "    for i, txt in enumerate(np.round(cv_auc,3)):\n",
    "        ax.annotate((alpha[i],str(txt)), (np.log10(alpha[i]),cv_auc[i]))\n",
    "    plt.grid()\n",
    "    plt.xticks(np.log10(alpha))\n",
    "    plt.title(\"Cross Validation Error for each alpha\")\n",
    "    plt.xlabel(\"Alpha i's\")\n",
    "    plt.ylabel(\"Error measure\")\n",
    "    plt.show()"
   ]
  },
  {
   "cell_type": "code",
   "execution_count": 8,
   "metadata": {
    "colab": {
     "base_uri": "https://localhost:8080/"
    },
    "executionInfo": {
     "elapsed": 35452,
     "status": "ok",
     "timestamp": 1613452811272,
     "user": {
      "displayName": "sathish anantha",
      "photoUrl": "https://lh3.googleusercontent.com/a-/AOh14Ghdw5Sh92a17sXj4ePDAB2diHt3YItsnu17FEdHoBI=s64",
      "userId": "06917965946637727718"
     },
     "user_tz": -330
    },
    "id": "cZdeAX17exTM",
    "outputId": "84f353e6-8e7c-43ab-ce0d-b4bcd4a020ec"
   },
   "outputs": [
    {
     "name": "stdout",
     "output_type": "stream",
     "text": [
      "Collecting bayesian-optimization\n",
      "  Downloading https://files.pythonhosted.org/packages/bb/7a/fd8059a3881d3ab37ac8f72f56b73937a14e8bb14a9733e68cc8b17dbe3c/bayesian-optimization-1.2.0.tar.gz\n",
      "Requirement already satisfied: numpy>=1.9.0 in /usr/local/lib/python3.6/dist-packages (from bayesian-optimization) (1.19.5)\n",
      "Requirement already satisfied: scipy>=0.14.0 in /usr/local/lib/python3.6/dist-packages (from bayesian-optimization) (1.4.1)\n",
      "Requirement already satisfied: scikit-learn>=0.18.0 in /usr/local/lib/python3.6/dist-packages (from bayesian-optimization) (0.22.2.post1)\n",
      "Requirement already satisfied: joblib>=0.11 in /usr/local/lib/python3.6/dist-packages (from scikit-learn>=0.18.0->bayesian-optimization) (1.0.0)\n",
      "Building wheels for collected packages: bayesian-optimization\n",
      "  Building wheel for bayesian-optimization (setup.py) ... \u001b[?25l\u001b[?25hdone\n",
      "  Created wheel for bayesian-optimization: filename=bayesian_optimization-1.2.0-cp36-none-any.whl size=11685 sha256=755881aacc519714bb86664b363fa9b2d531c4803e476a648ccc7671a8706d80\n",
      "  Stored in directory: /root/.cache/pip/wheels/5a/56/ae/e0e3c1fc1954dc3ec712e2df547235ed072b448094d8f94aec\n",
      "Successfully built bayesian-optimization\n",
      "Installing collected packages: bayesian-optimization\n",
      "Successfully installed bayesian-optimization-1.2.0\n"
     ]
    }
   ],
   "source": [
    "# For the latest nightly build:\n",
    "!pip install bayesian-optimization"
   ]
  },
  {
   "cell_type": "code",
   "execution_count": 9,
   "metadata": {
    "executionInfo": {
     "elapsed": 31989,
     "status": "ok",
     "timestamp": 1613452811274,
     "user": {
      "displayName": "sathish anantha",
      "photoUrl": "https://lh3.googleusercontent.com/a-/AOh14Ghdw5Sh92a17sXj4ePDAB2diHt3YItsnu17FEdHoBI=s64",
      "userId": "06917965946637727718"
     },
     "user_tz": -330
    },
    "id": "SoJ3wtO1iAHG"
   },
   "outputs": [],
   "source": [
    "from bayes_opt import BayesianOptimization\n"
   ]
  },
  {
   "cell_type": "code",
   "execution_count": null,
   "metadata": {
    "colab": {
     "base_uri": "https://localhost:8080/"
    },
    "executionInfo": {
     "elapsed": 892191,
     "status": "ok",
     "timestamp": 1613410537387,
     "user": {
      "displayName": "sathish anantha",
      "photoUrl": "https://lh3.googleusercontent.com/a-/AOh14Ghdw5Sh92a17sXj4ePDAB2diHt3YItsnu17FEdHoBI=s64",
      "userId": "06917965946637727718"
     },
     "user_tz": -330
    },
    "id": "VMZCR6SxexP5",
    "outputId": "bebdc66d-1814-4498-a772-28d10f70f782"
   },
   "outputs": [
    {
     "name": "stdout",
     "output_type": "stream",
     "text": [
      "|   iter    |  target   | colsam... | colsam... | colsam... |   gamma   | max_depth | min_ch... | reg_alpha | reg_la... | subsample |\n",
      "-------------------------------------------------------------------------------------------------------------------------------------\n",
      "| \u001b[0m 1       \u001b[0m | \u001b[0m 0.775   \u001b[0m | \u001b[0m 0.3652  \u001b[0m | \u001b[0m 0.9802  \u001b[0m | \u001b[0m 0.7419  \u001b[0m | \u001b[0m 0.394   \u001b[0m | \u001b[0m 10.31   \u001b[0m | \u001b[0m 26.42   \u001b[0m | \u001b[0m 0.2589  \u001b[0m | \u001b[0m 0.01329 \u001b[0m | \u001b[0m 0.5542  \u001b[0m |\n",
      "| \u001b[95m 2       \u001b[0m | \u001b[95m 0.7759  \u001b[0m | \u001b[95m 0.837   \u001b[0m | \u001b[95m 0.336   \u001b[0m | \u001b[95m 0.8879  \u001b[0m | \u001b[95m 0.2073  \u001b[0m | \u001b[95m 11.18   \u001b[0m | \u001b[95m 66.4    \u001b[0m | \u001b[95m 0.2697  \u001b[0m | \u001b[95m 0.2957  \u001b[0m | \u001b[95m 0.7484  \u001b[0m |\n",
      "| \u001b[0m 3       \u001b[0m | \u001b[0m 0.7756  \u001b[0m | \u001b[0m 0.5466  \u001b[0m | \u001b[0m 0.907   \u001b[0m | \u001b[0m 0.6984  \u001b[0m | \u001b[0m 0.7149  \u001b[0m | \u001b[0m 5.205   \u001b[0m | \u001b[0m 65.61   \u001b[0m | \u001b[0m 0.1295  \u001b[0m | \u001b[0m 0.168   \u001b[0m | \u001b[0m 0.8896  \u001b[0m |\n",
      "| \u001b[0m 4       \u001b[0m | \u001b[0m 0.7749  \u001b[0m | \u001b[0m 0.5818  \u001b[0m | \u001b[0m 0.9356  \u001b[0m | \u001b[0m 0.825   \u001b[0m | \u001b[0m 0.7818  \u001b[0m | \u001b[0m 12.8    \u001b[0m | \u001b[0m 31.3    \u001b[0m | \u001b[0m 0.006878\u001b[0m | \u001b[0m 0.1082  \u001b[0m | \u001b[0m 0.6516  \u001b[0m |\n",
      "| \u001b[95m 5       \u001b[0m | \u001b[95m 0.7765  \u001b[0m | \u001b[95m 0.5329  \u001b[0m | \u001b[95m 0.9076  \u001b[0m | \u001b[95m 0.5274  \u001b[0m | \u001b[95m 0.8258  \u001b[0m | \u001b[95m 14.93   \u001b[0m | \u001b[95m 79.97   \u001b[0m | \u001b[95m 0.2289  \u001b[0m | \u001b[95m 0.1489  \u001b[0m | \u001b[95m 0.9107  \u001b[0m |\n",
      "| \u001b[0m 6       \u001b[0m | \u001b[0m 0.775   \u001b[0m | \u001b[0m 0.795   \u001b[0m | \u001b[0m 0.911   \u001b[0m | \u001b[0m 0.9591  \u001b[0m | \u001b[0m 0.2725  \u001b[0m | \u001b[0m 5.295   \u001b[0m | \u001b[0m 79.9    \u001b[0m | \u001b[0m 0.2045  \u001b[0m | \u001b[0m 0.1602  \u001b[0m | \u001b[0m 0.9097  \u001b[0m |\n",
      "| \u001b[0m 7       \u001b[0m | \u001b[0m 0.7666  \u001b[0m | \u001b[0m 0.5829  \u001b[0m | \u001b[0m 0.6016  \u001b[0m | \u001b[0m 0.8265  \u001b[0m | \u001b[0m 0.9077  \u001b[0m | \u001b[0m 14.74   \u001b[0m | \u001b[0m 5.179   \u001b[0m | \u001b[0m 0.05243 \u001b[0m | \u001b[0m 0.1282  \u001b[0m | \u001b[0m 0.9635  \u001b[0m |\n",
      "| \u001b[95m 8       \u001b[0m | \u001b[95m 0.7767  \u001b[0m | \u001b[95m 0.9917  \u001b[0m | \u001b[95m 0.317   \u001b[0m | \u001b[95m 0.5846  \u001b[0m | \u001b[95m 0.8345  \u001b[0m | \u001b[95m 14.8    \u001b[0m | \u001b[95m 79.94   \u001b[0m | \u001b[95m 0.03119 \u001b[0m | \u001b[95m 0.2982  \u001b[0m | \u001b[95m 0.5464  \u001b[0m |\n",
      "| \u001b[0m 9       \u001b[0m | \u001b[0m 0.7763  \u001b[0m | \u001b[0m 0.3515  \u001b[0m | \u001b[0m 0.9645  \u001b[0m | \u001b[0m 0.8459  \u001b[0m | \u001b[0m 0.2333  \u001b[0m | \u001b[0m 14.78   \u001b[0m | \u001b[0m 67.32   \u001b[0m | \u001b[0m 0.2369  \u001b[0m | \u001b[0m 0.04711 \u001b[0m | \u001b[0m 0.5517  \u001b[0m |\n",
      "| \u001b[0m 10      \u001b[0m | \u001b[0m 0.7747  \u001b[0m | \u001b[0m 0.9902  \u001b[0m | \u001b[0m 0.9101  \u001b[0m | \u001b[0m 0.6604  \u001b[0m | \u001b[0m 0.2857  \u001b[0m | \u001b[0m 14.88   \u001b[0m | \u001b[0m 53.51   \u001b[0m | \u001b[0m 0.2318  \u001b[0m | \u001b[0m 0.02686 \u001b[0m | \u001b[0m 0.9206  \u001b[0m |\n",
      "=====================================================================================================================================\n"
     ]
    }
   ],
   "source": [
    "\n",
    "def xgb_evaluation(max_depth, min_child_weight, gamma, subsample, colsample_bytree, colsample_bylevel,\n",
    "                   colsample_bynode, reg_alpha, reg_lambda):\n",
    "    '''\n",
    "    Objective function for Bayesian Optimization of XGBoost's Hyperparamters. Takes the hyperparameters as input, and\n",
    "    returns the Cross-Validation AUC as output.\n",
    "    \n",
    "    Inputs: Hyperparamters to be tuned.\n",
    "        max_depth, min_child_weight, gamma, subsample, colsample_bytree, colsample_bylevel,\n",
    "        colsample_bynode, reg_alpha, reg_lambda\n",
    "        \n",
    "    Returns:\n",
    "        CV ROC-AUC Score\n",
    "    '''\n",
    "    params = {\n",
    "        'learning_rate' : 0.01,\n",
    "        'n_estimators' : 10000,\n",
    "        'tree_method' : 'gpu_hist',\n",
    "        'gpu_id' : 0,\n",
    "        'max_depth' : int(round(max_depth)),\n",
    "        'min_child_weight' : int(round(min_child_weight)),\n",
    "        'subsample': subsample,\n",
    "        'gamma' : gamma,\n",
    "        'colsample_bytree' : colsample_bytree,\n",
    "        'colsample_bylevel' : colsample_bylevel,\n",
    "        'colsample_bynode' : colsample_bynode,\n",
    "        'reg_alpha' : reg_alpha,\n",
    "        'reg_lambda' : reg_lambda,\n",
    "        'random_state' : 51412\n",
    "    }    \n",
    "    \n",
    "\n",
    "    infile = open('select_features.txt','rb')\n",
    "    selected_features = pickle.load(infile)  \n",
    "\n",
    "    x_tr  = X_train[selected_features].drop('SK_ID_CURR',axis=1)\n",
    "    y_tr = y_train\n",
    "    x_cv = X_val[selected_features].drop('SK_ID_CURR',axis=1)\n",
    "    y_cv = y_val\n",
    "    \n",
    "    xgbc = XGBClassifier(**params)\n",
    "    xgbc.fit(x_tr, y_tr, eval_set= [(x_cv,y_cv)],\n",
    "                    eval_metric='auc', verbose = False, early_stopping_rounds=200)\n",
    "    \n",
    "    cv_preds = xgbc.predict_proba(x_cv, ntree_limit = xgbc.get_booster().best_ntree_limit)[:,1]\n",
    "    gc.collect()   \n",
    "        \n",
    "    return roc_auc_score(y_cv, cv_preds)\n",
    "\n",
    "\n",
    "\n",
    "#defining the optimizer and the hyperparameters along with ranges of values.\n",
    "bopt_xgb =  BayesianOptimization(xgb_evaluation, {'max_depth' : (5,15),\n",
    "                                                  'min_child_weight' : (5,80),\n",
    "                                                  'gamma' : (0.2,1),\n",
    "                                                  'subsample' : (0.5,1),\n",
    "                                                  'colsample_bytree' : (0.5,1),\n",
    "                                                  'colsample_bylevel' : (0.3,1),\n",
    "                                                  'colsample_bynode' : (0.3,1),\n",
    "                                                  'reg_alpha' : (0.001, 0.3),\n",
    "                                                  'reg_lambda' : (0.001, 0.3)}, \n",
    "                                 random_state = 55)\n",
    "\n",
    "bopt_xgb.maximize(n_iter = 6, init_points = 4)    "
   ]
  },
  {
   "cell_type": "code",
   "execution_count": null,
   "metadata": {
    "colab": {
     "base_uri": "https://localhost:8080/"
    },
    "executionInfo": {
     "elapsed": 942,
     "status": "ok",
     "timestamp": 1613410556158,
     "user": {
      "displayName": "sathish anantha",
      "photoUrl": "https://lh3.googleusercontent.com/a-/AOh14Ghdw5Sh92a17sXj4ePDAB2diHt3YItsnu17FEdHoBI=s64",
      "userId": "06917965946637727718"
     },
     "user_tz": -330
    },
    "id": "o6nrc8X-fQ_x",
    "outputId": "768f721b-a663-4989-b679-f984ba37d534"
   },
   "outputs": [
    {
     "name": "stdout",
     "output_type": "stream",
     "text": [
      "Best Hyperparameters for XGBoost are:\n",
      "\n",
      "{'colsample_bylevel': 0.9916557759356903, 'colsample_bynode': 0.3169533655589153, 'colsample_bytree': 0.5846482004341143, 'gamma': 0.8345255608407902, 'max_depth': 14.804799658733838, 'min_child_weight': 79.94486602836723, 'reg_alpha': 0.03118709395460912, 'reg_lambda': 0.29822101140883434, 'subsample': 0.546435163449364}\n"
     ]
    }
   ],
   "source": [
    "#extracting the best parameters\n",
    "target_values = []\n",
    "for result in bopt_xgb.res:\n",
    "    target_values.append(result['target'])\n",
    "    if result['target'] == max(target_values):\n",
    "        best_params = result['params']\n",
    "    \n",
    "print(\"Best Hyperparameters for XGBoost are:\\n\")\n",
    "print(best_params)"
   ]
  },
  {
   "cell_type": "code",
   "execution_count": null,
   "metadata": {
    "colab": {
     "base_uri": "https://localhost:8080/",
     "height": 397
    },
    "executionInfo": {
     "elapsed": 2149,
     "status": "ok",
     "timestamp": 1613445355748,
     "user": {
      "displayName": "sathish anantha",
      "photoUrl": "https://lh3.googleusercontent.com/a-/AOh14Ghdw5Sh92a17sXj4ePDAB2diHt3YItsnu17FEdHoBI=s64",
      "userId": "06917965946637727718"
     },
     "user_tz": -330
    },
    "id": "LQFlBW7Aur-q",
    "outputId": "821ea1d7-27f9-4c90-f8a7-86090d98e8e9"
   },
   "outputs": [
    {
     "name": "stdout",
     "output_type": "stream",
     "text": [
      "==============================================================================================================\n",
      "Test Dataset Results:\n",
      "\tROC-AUC Score = 0.7682024066315315\n",
      "\tPrecision Score = 0.5663082437275986\n",
      "\tRecall Score = 0.015964433666767707\n",
      "\tF1_Score  = 0.031053459119496855\n"
     ]
    },
    {
     "data": {
      "image/png": "[encoded data removed]",
      "text/plain": [
       "<Figure size 1440x288 with 6 Axes>"
      ]
     },
     "metadata": {
      "needs_background": "light",
      "tags": []
     },
     "output_type": "display_data"
    }
   ],
   "source": [
    "param_xg = {'colsample_bylevel': 0.9916557759356903, 'colsample_bynode': 0.3169533655589153, 'colsample_bytree': 0.5846482004341143, \n",
    "            'gamma': 0.8345255608407902, 'max_depth': 15, 'min_child_weight': 79.94486602836723, \n",
    "            'reg_alpha': 0.03118709395460912, 'reg_lambda': 0.29822101140883434, 'subsample': 0.546435163449364}\n",
    "xgbc = XGBClassifier(**param_xg,random_state=123)\n",
    "\n",
    "xgbc.fit(X_train[selected_features], y_train, eval_set= [(X_val[selected_features],y_val)],\n",
    "                eval_metric='auc', verbose = False, early_stopping_rounds=200)\n",
    "\n",
    "#cv_preds_xgboost = np.zeros(x_tr.shape[0])\n",
    "Xg_boost = xgbc.predict_proba(X_val[selected_features], ntree_limit = xgbc.get_booster().best_ntree_limit)[:,1]\n",
    "predict_test = xgbc.predict(X_val[selected_features])\n",
    "\n",
    "\n",
    "print('=' * 110)\n",
    "print(\"Test Dataset Results:\")\n",
    "print(f\"\\tROC-AUC Score = {roc_auc_score(y_val, Xg_boost)}\")\n",
    "print(f\"\\tPrecision Score = {precision_score(y_val, predict_test)}\")\n",
    "print(f\"\\tRecall Score = {recall_score(y_val, predict_test)}\")\n",
    "print(f\"\\tF1_Score  = {f1_score(y_val, predict_test)}\")\n",
    "plot_confusion_matrix(y_val, predict_test)"
   ]
  },
  {
   "cell_type": "code",
   "execution_count": null,
   "metadata": {
    "id": "EEVW6qVCurZb"
   },
   "outputs": [],
   "source": []
  },
  {
   "cell_type": "markdown",
   "metadata": {
    "id": "nFHwoPtms3sr"
   },
   "source": [
    "# <font color= 'blue'> RANDOM_FOREST STACK </font>"
   ]
  },
  {
   "cell_type": "code",
   "execution_count": 24,
   "metadata": {
    "colab": {
     "base_uri": "https://localhost:8080/"
    },
    "executionInfo": {
     "elapsed": 868,
     "status": "ok",
     "timestamp": 1613447633181,
     "user": {
      "displayName": "sathish anantha",
      "photoUrl": "https://lh3.googleusercontent.com/a-/AOh14Ghdw5Sh92a17sXj4ePDAB2diHt3YItsnu17FEdHoBI=s64",
      "userId": "06917965946637727718"
     },
     "user_tz": -330
    },
    "id": "Rt1tXcnA97-M",
    "outputId": "62a0f886-1886-4dd0-eb96-6714fddd741e"
   },
   "outputs": [
    {
     "name": "stdout",
     "output_type": "stream",
     "text": [
      "{'n_estimators': [200, 500, 1000], 'max_depth': [10, 11, 12, 13, 14, 15, 16, 17, 18, 19, 20, 21, 22, 23, 24, 25, 26, 27, 28, 29], 'min_samples_split': [5, 6, 7, 8, 9, 10, 11, 12, 13, 14, 15, 16, 17, 18, 19, 20, 21, 22, 23, 24, 25, 26, 27, 28, 29, 30, 31, 32, 33, 34, 35, 36, 37, 38, 39, 40, 41, 42, 43, 44, 45, 46, 47, 48, 49], 'min_samples_leaf': [2, 3, 4, 5, 6, 7, 8, 9, 10, 11, 12, 13, 14, 15, 16, 17, 18, 19, 20, 21, 22, 23, 24, 25, 26, 27, 28, 29, 30, 31, 32, 33, 34, 35, 36, 37, 38, 39, 40, 41, 42, 43, 44, 45, 46, 47, 48, 49], 'max_samples': <scipy.stats._distn_infrastructure.rv_frozen object at 0x7f2bdce6a630>}\n",
      "Fitting 5 folds for each of 10 candidates, totalling 50 fits\n",
      "[Parallel(n_jobs=-1)]: Using backend LokyBackend with 2 concurrent workers.\n",
      "[Parallel(n_jobs=-1)]: Done  37 tasks      | elapsed: 106.4min\n",
      "[Parallel(n_jobs=-1)]: Done  50 out of  50 | elapsed: 133.0min finished\n",
      "************************************************************************************************************************\n",
      "{'max_depth': 17, 'max_samples': 0.7123301813887625, 'min_samples_leaf': 49, 'min_samples_split': 12, 'n_estimators': 500}\n",
      "************************************************************************************************************************\n"
     ]
    }
   ],
   "source": [
    "\n",
    "\n",
    "clf = RandomForestClassifier(random_state = 123)\n",
    "hyperparams = {\n",
    "      'n_estimators' : [200,500,1000],   \n",
    "      'max_depth' : list(range(10,30)),\n",
    "      'min_samples_split' : list(range(5,50)),\n",
    "      'min_samples_leaf' : list(range(2,50)),\n",
    "      'max_samples' : uniform(0,1)\n",
    "      \n",
    "      }\n",
    "\n",
    "print(hyperparams)\n",
    "\n",
    "def evaluate(model, X_test, y_test):\n",
    "    predicted_proba_test = model.predict_proba(X_test[selected_features])[:,1]\n",
    "    predict_test = model.predict(X_test[selected_features])\n",
    "\n",
    "\n",
    "    print('=' * 110)\n",
    "    print(\"Test Dataset Results:\")\n",
    "    print(f\"\\tROC-AUC Score = {roc_auc_score(y_test, predicted_proba_test)}\")\n",
    "    print(f\"\\tPrecision Score = {precision_score(y_test, predict_test)}\")\n",
    "    print(f\"\\tRecall Score = {recall_score(y_test, predict_test)}\")\n",
    "    print(f\"\\tF1_Score  = {f1_score(y_test, predict_test)}\")\n",
    "    plot_confusion_matrix(y_test, predict_test)\n",
    "\n",
    "\n",
    "\n",
    "rscv = RandomizedSearchCV(estimator = clf, param_distributions = hyperparams, n_iter = 10, scoring = 'roc_auc', \n",
    "                           cv = None, return_train_score = True, verbose = 2,\n",
    "                          n_jobs = -1, random_state = 123)\n",
    "\n",
    "rscv.fit(X_train[selected_features], y_train)\n",
    "# to see Best Parameter selection\n",
    "print('**'*60)\n",
    "print(rscv.best_params_ )\n",
    "print('**'*60)"
   ]
  },
  {
   "cell_type": "code",
   "execution_count": null,
   "metadata": {
    "colab": {
     "base_uri": "https://localhost:8080/",
     "height": 397
    },
    "executionInfo": {
     "elapsed": 1166643,
     "status": "ok",
     "timestamp": 1613443496555,
     "user": {
      "displayName": "sathish anantha",
      "photoUrl": "https://lh3.googleusercontent.com/a-/AOh14Ghdw5Sh92a17sXj4ePDAB2diHt3YItsnu17FEdHoBI=s64",
      "userId": "06917965946637727718"
     },
     "user_tz": -330
    },
    "id": "jHHOsj-FexMx",
    "outputId": "323fddc1-6bc5-4ab8-d282-d60a0ff3f491"
   },
   "outputs": [
    {
     "name": "stdout",
     "output_type": "stream",
     "text": [
      "==============================================================================================================\n",
      "Test Dataset Results:\n",
      "\tROC-AUC Score = 0.7563971279293874\n",
      "\tPrecision Score = 0.472\n",
      "\tRecall Score = 0.04172981711629787\n",
      "\tF1_Score  = 0.0766802822131452\n"
     ]
    },
    {
     "data": {
      "image/png": "[encoded data removed]",
      "text/plain": [
       "<Figure size 1440x288 with 6 Axes>"
      ]
     },
     "metadata": {
      "needs_background": "light",
      "tags": []
     },
     "output_type": "display_data"
    }
   ],
   "source": [
    "param_RF = {'max_depth': 17, 'max_samples': 0.7123301813887625, 'min_samples_leaf': 49, 'min_samples_split': 12, 'n_estimators': 500}\n",
    "clf = RandomForestClassifier(**param_RF,random_state = 123)\n",
    "sig_clf = CalibratedClassifierCV(clf, method='sigmoid')\n",
    "sig_clf.fit(X_train[selected_features], y_train)\n",
    "base_RocAUC = evaluate(sig_clf, X_val, y_val)"
   ]
  },
  {
   "cell_type": "markdown",
   "metadata": {
    "id": "bO6uOBc92SvJ"
   },
   "source": [
    "# <font color= blue >STACK LIGHT GBM </font>"
   ]
  },
  {
   "cell_type": "code",
   "execution_count": null,
   "metadata": {
    "colab": {
     "base_uri": "https://localhost:8080/"
    },
    "executionInfo": {
     "elapsed": 199021,
     "status": "ok",
     "timestamp": 1613446851386,
     "user": {
      "displayName": "sathish anantha",
      "photoUrl": "https://lh3.googleusercontent.com/a-/AOh14Ghdw5Sh92a17sXj4ePDAB2diHt3YItsnu17FEdHoBI=s64",
      "userId": "06917965946637727718"
     },
     "user_tz": -330
    },
    "id": "Q6GHzNA4vcOR",
    "outputId": "03b04600-4e16-4803-fc84-82feed92dd89"
   },
   "outputs": [
    {
     "name": "stdout",
     "output_type": "stream",
     "text": [
      "Training until validation scores don't improve for 100 rounds.\n",
      "[10]\tvalid_0's auc: 0.718062\n",
      "[20]\tvalid_0's auc: 0.722674\n",
      "[30]\tvalid_0's auc: 0.727686\n",
      "[40]\tvalid_0's auc: 0.732828\n",
      "[50]\tvalid_0's auc: 0.737873\n",
      "[60]\tvalid_0's auc: 0.741624\n",
      "[70]\tvalid_0's auc: 0.744317\n",
      "[80]\tvalid_0's auc: 0.74675\n",
      "[90]\tvalid_0's auc: 0.749168\n",
      "[100]\tvalid_0's auc: 0.75106\n",
      "[110]\tvalid_0's auc: 0.753163\n",
      "[120]\tvalid_0's auc: 0.754345\n",
      "[130]\tvalid_0's auc: 0.755751\n",
      "[140]\tvalid_0's auc: 0.757038\n",
      "[150]\tvalid_0's auc: 0.758224\n",
      "[160]\tvalid_0's auc: 0.759076\n",
      "[170]\tvalid_0's auc: 0.759895\n",
      "[180]\tvalid_0's auc: 0.760584\n",
      "[190]\tvalid_0's auc: 0.761394\n",
      "[200]\tvalid_0's auc: 0.762111\n",
      "[210]\tvalid_0's auc: 0.762787\n",
      "[220]\tvalid_0's auc: 0.763417\n",
      "[230]\tvalid_0's auc: 0.76391\n",
      "[240]\tvalid_0's auc: 0.764402\n",
      "[250]\tvalid_0's auc: 0.76499\n",
      "[260]\tvalid_0's auc: 0.765485\n",
      "[270]\tvalid_0's auc: 0.765959\n",
      "[280]\tvalid_0's auc: 0.766319\n",
      "[290]\tvalid_0's auc: 0.766365\n",
      "[300]\tvalid_0's auc: 0.766798\n",
      "[310]\tvalid_0's auc: 0.767075\n",
      "[320]\tvalid_0's auc: 0.767333\n",
      "[330]\tvalid_0's auc: 0.767809\n",
      "[340]\tvalid_0's auc: 0.767949\n",
      "[350]\tvalid_0's auc: 0.768167\n",
      "[360]\tvalid_0's auc: 0.768546\n",
      "[370]\tvalid_0's auc: 0.768823\n",
      "[380]\tvalid_0's auc: 0.769026\n",
      "[390]\tvalid_0's auc: 0.769318\n",
      "[400]\tvalid_0's auc: 0.769615\n",
      "[410]\tvalid_0's auc: 0.769819\n",
      "[420]\tvalid_0's auc: 0.769911\n",
      "[430]\tvalid_0's auc: 0.769999\n",
      "[440]\tvalid_0's auc: 0.770041\n",
      "[450]\tvalid_0's auc: 0.770167\n",
      "[460]\tvalid_0's auc: 0.770246\n",
      "[470]\tvalid_0's auc: 0.770479\n",
      "[480]\tvalid_0's auc: 0.770503\n",
      "[490]\tvalid_0's auc: 0.770664\n",
      "[500]\tvalid_0's auc: 0.770845\n",
      "[510]\tvalid_0's auc: 0.770943\n",
      "[520]\tvalid_0's auc: 0.771075\n",
      "[530]\tvalid_0's auc: 0.77116\n",
      "[540]\tvalid_0's auc: 0.771174\n",
      "[550]\tvalid_0's auc: 0.771391\n",
      "[560]\tvalid_0's auc: 0.771406\n",
      "[570]\tvalid_0's auc: 0.771294\n",
      "[580]\tvalid_0's auc: 0.7715\n",
      "[590]\tvalid_0's auc: 0.771594\n",
      "[600]\tvalid_0's auc: 0.771594\n",
      "[610]\tvalid_0's auc: 0.771616\n",
      "[620]\tvalid_0's auc: 0.771786\n",
      "[630]\tvalid_0's auc: 0.771761\n",
      "[640]\tvalid_0's auc: 0.771728\n",
      "[650]\tvalid_0's auc: 0.7719\n",
      "[660]\tvalid_0's auc: 0.772052\n",
      "[670]\tvalid_0's auc: 0.772152\n",
      "[680]\tvalid_0's auc: 0.772147\n",
      "[690]\tvalid_0's auc: 0.772232\n",
      "[700]\tvalid_0's auc: 0.772294\n",
      "[710]\tvalid_0's auc: 0.772345\n",
      "[720]\tvalid_0's auc: 0.772498\n",
      "[730]\tvalid_0's auc: 0.772589\n",
      "[740]\tvalid_0's auc: 0.772624\n",
      "[750]\tvalid_0's auc: 0.772726\n",
      "[760]\tvalid_0's auc: 0.772755\n",
      "[770]\tvalid_0's auc: 0.772761\n",
      "[780]\tvalid_0's auc: 0.772774\n",
      "[790]\tvalid_0's auc: 0.7729\n",
      "[800]\tvalid_0's auc: 0.772818\n",
      "[810]\tvalid_0's auc: 0.772879\n",
      "[820]\tvalid_0's auc: 0.772835\n",
      "[830]\tvalid_0's auc: 0.772866\n",
      "[840]\tvalid_0's auc: 0.772665\n",
      "[850]\tvalid_0's auc: 0.772798\n",
      "[860]\tvalid_0's auc: 0.772777\n",
      "[870]\tvalid_0's auc: 0.772602\n",
      "[880]\tvalid_0's auc: 0.77273\n",
      "Early stopping, best iteration is:\n",
      "[789]\tvalid_0's auc: 0.772918\n",
      "For  max_depth 3 and some other parameters, cross validation AUC score 0.7729181100943487\n",
      "Training until validation scores don't improve for 100 rounds.\n",
      "[10]\tvalid_0's auc: 0.732545\n",
      "[20]\tvalid_0's auc: 0.737604\n",
      "[30]\tvalid_0's auc: 0.741609\n",
      "[40]\tvalid_0's auc: 0.745295\n",
      "[50]\tvalid_0's auc: 0.749857\n",
      "[60]\tvalid_0's auc: 0.753087\n",
      "[70]\tvalid_0's auc: 0.755757\n",
      "[80]\tvalid_0's auc: 0.757815\n",
      "[90]\tvalid_0's auc: 0.759571\n",
      "[100]\tvalid_0's auc: 0.761502\n",
      "[110]\tvalid_0's auc: 0.762498\n",
      "[120]\tvalid_0's auc: 0.763037\n",
      "[130]\tvalid_0's auc: 0.764061\n",
      "[140]\tvalid_0's auc: 0.764938\n",
      "[150]\tvalid_0's auc: 0.765597\n",
      "[160]\tvalid_0's auc: 0.766159\n",
      "[170]\tvalid_0's auc: 0.766512\n",
      "[180]\tvalid_0's auc: 0.767171\n",
      "[190]\tvalid_0's auc: 0.767661\n",
      "[200]\tvalid_0's auc: 0.768148\n",
      "[210]\tvalid_0's auc: 0.768557\n",
      "[220]\tvalid_0's auc: 0.768998\n",
      "[230]\tvalid_0's auc: 0.769429\n",
      "[240]\tvalid_0's auc: 0.769712\n",
      "[250]\tvalid_0's auc: 0.769979\n",
      "[260]\tvalid_0's auc: 0.770256\n",
      "[270]\tvalid_0's auc: 0.770595\n",
      "[280]\tvalid_0's auc: 0.770746\n",
      "[290]\tvalid_0's auc: 0.77055\n",
      "[300]\tvalid_0's auc: 0.770771\n",
      "[310]\tvalid_0's auc: 0.770946\n",
      "[320]\tvalid_0's auc: 0.770987\n",
      "[330]\tvalid_0's auc: 0.771032\n",
      "[340]\tvalid_0's auc: 0.771091\n",
      "[350]\tvalid_0's auc: 0.771013\n",
      "[360]\tvalid_0's auc: 0.771133\n",
      "[370]\tvalid_0's auc: 0.77116\n",
      "[380]\tvalid_0's auc: 0.771277\n",
      "[390]\tvalid_0's auc: 0.771436\n",
      "[400]\tvalid_0's auc: 0.771611\n",
      "[410]\tvalid_0's auc: 0.771625\n",
      "[420]\tvalid_0's auc: 0.771665\n",
      "[430]\tvalid_0's auc: 0.771583\n",
      "[440]\tvalid_0's auc: 0.771604\n",
      "[450]\tvalid_0's auc: 0.771673\n",
      "[460]\tvalid_0's auc: 0.771674\n",
      "[470]\tvalid_0's auc: 0.771604\n",
      "[480]\tvalid_0's auc: 0.771557\n",
      "[490]\tvalid_0's auc: 0.771493\n",
      "[500]\tvalid_0's auc: 0.771362\n",
      "[510]\tvalid_0's auc: 0.771305\n",
      "[520]\tvalid_0's auc: 0.771309\n",
      "[530]\tvalid_0's auc: 0.77114\n",
      "[540]\tvalid_0's auc: 0.77113\n",
      "Early stopping, best iteration is:\n",
      "[446]\tvalid_0's auc: 0.771701\n",
      "For  max_depth 5 and some other parameters, cross validation AUC score 0.7717010235039137\n",
      "Training until validation scores don't improve for 100 rounds.\n",
      "[10]\tvalid_0's auc: 0.736089\n",
      "[20]\tvalid_0's auc: 0.740419\n",
      "[30]\tvalid_0's auc: 0.745159\n",
      "[40]\tvalid_0's auc: 0.74793\n",
      "[50]\tvalid_0's auc: 0.752299\n",
      "[60]\tvalid_0's auc: 0.754969\n",
      "[70]\tvalid_0's auc: 0.757795\n",
      "[80]\tvalid_0's auc: 0.759739\n",
      "[90]\tvalid_0's auc: 0.761517\n",
      "[100]\tvalid_0's auc: 0.763326\n",
      "[110]\tvalid_0's auc: 0.764429\n",
      "[120]\tvalid_0's auc: 0.764874\n",
      "[130]\tvalid_0's auc: 0.765978\n",
      "[140]\tvalid_0's auc: 0.76682\n",
      "[150]\tvalid_0's auc: 0.767535\n",
      "[160]\tvalid_0's auc: 0.76806\n",
      "[170]\tvalid_0's auc: 0.768649\n",
      "[180]\tvalid_0's auc: 0.769139\n",
      "[190]\tvalid_0's auc: 0.769518\n",
      "[200]\tvalid_0's auc: 0.76984\n",
      "[210]\tvalid_0's auc: 0.770155\n",
      "[220]\tvalid_0's auc: 0.770451\n",
      "[230]\tvalid_0's auc: 0.770798\n",
      "[240]\tvalid_0's auc: 0.770838\n",
      "[250]\tvalid_0's auc: 0.770961\n",
      "[260]\tvalid_0's auc: 0.770973\n",
      "[270]\tvalid_0's auc: 0.771267\n",
      "[280]\tvalid_0's auc: 0.771251\n",
      "[290]\tvalid_0's auc: 0.770987\n",
      "[300]\tvalid_0's auc: 0.771158\n",
      "[310]\tvalid_0's auc: 0.771125\n",
      "[320]\tvalid_0's auc: 0.771166\n",
      "[330]\tvalid_0's auc: 0.771018\n",
      "[340]\tvalid_0's auc: 0.771089\n",
      "[350]\tvalid_0's auc: 0.771092\n",
      "[360]\tvalid_0's auc: 0.7711\n",
      "[370]\tvalid_0's auc: 0.771236\n",
      "Early stopping, best iteration is:\n",
      "[274]\tvalid_0's auc: 0.771317\n",
      "For  max_depth 7 and some other parameters, cross validation AUC score 0.771317481308874\n",
      "Training until validation scores don't improve for 100 rounds.\n",
      "[10]\tvalid_0's auc: 0.735758\n",
      "[20]\tvalid_0's auc: 0.740257\n",
      "[30]\tvalid_0's auc: 0.744811\n",
      "[40]\tvalid_0's auc: 0.748056\n",
      "[50]\tvalid_0's auc: 0.752381\n",
      "[60]\tvalid_0's auc: 0.754843\n",
      "[70]\tvalid_0's auc: 0.75826\n",
      "[80]\tvalid_0's auc: 0.760532\n",
      "[90]\tvalid_0's auc: 0.762446\n",
      "[100]\tvalid_0's auc: 0.764186\n",
      "[110]\tvalid_0's auc: 0.765425\n",
      "[120]\tvalid_0's auc: 0.766269\n",
      "[130]\tvalid_0's auc: 0.767076\n",
      "[140]\tvalid_0's auc: 0.767844\n",
      "[150]\tvalid_0's auc: 0.768477\n",
      "[160]\tvalid_0's auc: 0.769501\n",
      "[170]\tvalid_0's auc: 0.769916\n",
      "[180]\tvalid_0's auc: 0.770145\n",
      "[190]\tvalid_0's auc: 0.77047\n",
      "[200]\tvalid_0's auc: 0.770694\n",
      "[210]\tvalid_0's auc: 0.770693\n",
      "[220]\tvalid_0's auc: 0.770959\n",
      "[230]\tvalid_0's auc: 0.771127\n",
      "[240]\tvalid_0's auc: 0.771136\n",
      "[250]\tvalid_0's auc: 0.771294\n",
      "[260]\tvalid_0's auc: 0.771377\n",
      "[270]\tvalid_0's auc: 0.771665\n",
      "[280]\tvalid_0's auc: 0.771572\n",
      "[290]\tvalid_0's auc: 0.771519\n",
      "[300]\tvalid_0's auc: 0.771521\n",
      "[310]\tvalid_0's auc: 0.771514\n",
      "[320]\tvalid_0's auc: 0.771595\n",
      "[330]\tvalid_0's auc: 0.77151\n",
      "[340]\tvalid_0's auc: 0.771603\n",
      "[350]\tvalid_0's auc: 0.771283\n",
      "[360]\tvalid_0's auc: 0.771265\n",
      "[370]\tvalid_0's auc: 0.77111\n",
      "Early stopping, best iteration is:\n",
      "[271]\tvalid_0's auc: 0.771678\n",
      "For  max_depth 10 and some other parameters, cross validation AUC score 0.7716779961965716\n",
      "************************************************************************************************************************\n",
      "The optimal  max_depth:  3\n",
      "************************************************************************************************************************\n"
     ]
    }
   ],
   "source": [
    "weight = np.ones((len(X_train),), dtype=int)\n",
    "for i in range(len(X_train)):\n",
    "    if int(y_train.iloc[i])== 0:\n",
    "        weight[i]=1\n",
    "    else:\n",
    "        weight[i]=11\n",
    "\n",
    "train_data=lgb.Dataset(X_train[selected_features], label = y_train, weight= weight )\n",
    "valid_data=lgb.Dataset(X_val[selected_features], label = y_val)\n",
    "cv_auc_score = []\n",
    "max_depth = [3, 5, 7, 10]\n",
    "for i in max_depth:\n",
    "   \n",
    "  params = {'boosting_type': 'gbdt',\n",
    "      'max_depth' : i,\n",
    "      'objective': 'binary',\n",
    "      'nthread': 5,\n",
    "      'num_leaves': 32,\n",
    "      'learning_rate': 0.05,\n",
    "      'max_bin': 512,\n",
    "      'subsample_for_bin': 200,\n",
    "      'subsample': 0.7,\n",
    "      'subsample_freq': 1,\n",
    "      'colsample_bytree': 0.8,\n",
    "      'reg_alpha': 20,\n",
    "      'reg_lambda': 20,\n",
    "      'min_split_gain': 0.5,\n",
    "      'min_child_weight': 1,\n",
    "      'min_child_samples': 10,\n",
    "      'scale_pos_weight': 1,\n",
    "      'num_class' : 1,\n",
    "      'metric' : 'auc'\n",
    "      }\n",
    "  lgbm = lgb.train(params,\n",
    "              train_data,\n",
    "              1500,\n",
    "              valid_sets=valid_data,\n",
    "              early_stopping_rounds= 100,\n",
    "              verbose_eval= 10\n",
    "              )\n",
    "  y_pred_prob = lgbm.predict(X_val[selected_features])\n",
    "  cv_auc_score.append(roc_auc_score(y_val,y_pred_prob))\n",
    "  print('For  max_depth {0} and some other parameters, cross validation AUC score {1}'.format(i,roc_auc_score(y_val,y_pred_prob)))\n",
    "print('**'*60)  \n",
    "print('The optimal  max_depth: ', max_depth[np.argmax(cv_auc_score)])\n",
    "print('**'*60)  \n"
   ]
  },
  {
   "cell_type": "markdown",
   "metadata": {
    "id": "ya0hLMTG82f1"
   },
   "source": [
    "# <font color=blue > EXTRACLASSIFIER STACK </font>"
   ]
  },
  {
   "cell_type": "code",
   "execution_count": 10,
   "metadata": {
    "colab": {
     "base_uri": "https://localhost:8080/"
    },
    "executionInfo": {
     "elapsed": 5026385,
     "status": "ok",
     "timestamp": 1613458016737,
     "user": {
      "displayName": "sathish anantha",
      "photoUrl": "https://lh3.googleusercontent.com/a-/AOh14Ghdw5Sh92a17sXj4ePDAB2diHt3YItsnu17FEdHoBI=s64",
      "userId": "06917965946637727718"
     },
     "user_tz": -330
    },
    "id": "5a8-owT_86eD",
    "outputId": "bda9d972-f894-4441-fbb6-fd6dd6936de3"
   },
   "outputs": [
    {
     "name": "stdout",
     "output_type": "stream",
     "text": [
      "Fitting 5 folds for each of 10 candidates, totalling 50 fits\n"
     ]
    },
    {
     "name": "stderr",
     "output_type": "stream",
     "text": [
      "[Parallel(n_jobs=-1)]: Using backend LokyBackend with 2 concurrent workers.\n",
      "[Parallel(n_jobs=-1)]: Done  37 tasks      | elapsed: 59.4min\n",
      "[Parallel(n_jobs=-1)]: Done  50 out of  50 | elapsed: 81.9min finished\n"
     ]
    },
    {
     "name": "stdout",
     "output_type": "stream",
     "text": [
      "************************************************************************************************************************\n",
      "{'max_depth': 14, 'max_samples': 0.5018366758843366, 'min_samples_leaf': 18, 'min_samples_split': 11, 'n_estimators': 770}\n",
      "************************************************************************************************************************\n"
     ]
    }
   ],
   "source": [
    "\n",
    "params = {\n",
    "    'n_jobs' : -1,\n",
    "    'bootstrap' : True,\n",
    "    'random_state' : 210,\n",
    "    'class_weight' : 'balanced_subsample',\n",
    "    'verbose' : 0\n",
    "}\n",
    "clf = ExtraTreesClassifier(**params)\n",
    "hyperparams = {\n",
    "    'n_estimators' : list(range(500, 1000)),\n",
    "    'max_depth' : list(range(10,20)),\n",
    "    'min_samples_split' : list(range(5,20)),\n",
    "    'min_samples_leaf' : list(range(2,20)),\n",
    "    'max_samples' : uniform(0,1)   \n",
    "}\n",
    "\n",
    "rscv = RandomizedSearchCV(estimator = clf, param_distributions = hyperparams, n_iter = 10, scoring = 'roc_auc', \n",
    "                           cv = None, return_train_score = True, verbose = 2,\n",
    "                          n_jobs = -1, random_state = 123)\n",
    "\n",
    "rscv.fit(X_train[selected_features], y_train)\n",
    "# to see Best Parameter selection\n",
    "print('**'*60)\n",
    "print(rscv.best_params_ )\n",
    "print('**'*60)\n"
   ]
  },
  {
   "cell_type": "markdown",
   "metadata": {
    "id": "SiY8x9L4ydE3"
   },
   "source": [
    "# <font color=blue > SVM STACK </font>"
   ]
  },
  {
   "cell_type": "code",
   "execution_count": 11,
   "metadata": {
    "colab": {
     "base_uri": "https://localhost:8080/"
    },
    "executionInfo": {
     "elapsed": 428105,
     "status": "ok",
     "timestamp": 1613461792486,
     "user": {
      "displayName": "sathish anantha",
      "photoUrl": "https://lh3.googleusercontent.com/a-/AOh14Ghdw5Sh92a17sXj4ePDAB2diHt3YItsnu17FEdHoBI=s64",
      "userId": "06917965946637727718"
     },
     "user_tz": -330
    },
    "id": "u6kBVWiQyenR",
    "outputId": "13b37885-5384-4e84-f337-3e2338b1b2dc"
   },
   "outputs": [
    {
     "name": "stdout",
     "output_type": "stream",
     "text": [
      "Fitting 5 folds for each of 10 candidates, totalling 50 fits\n"
     ]
    },
    {
     "name": "stderr",
     "output_type": "stream",
     "text": [
      "[Parallel(n_jobs=-1)]: Using backend LokyBackend with 2 concurrent workers.\n",
      "[Parallel(n_jobs=-1)]: Done  37 tasks      | elapsed:  5.2min\n",
      "[Parallel(n_jobs=-1)]: Done  50 out of  50 | elapsed:  6.8min finished\n"
     ]
    },
    {
     "name": "stdout",
     "output_type": "stream",
     "text": [
      "Best Parameter for SGD-Classifier - SVM find below, \n",
      "{'alpha': 222.29964825261956}\n"
     ]
    }
   ],
   "source": [
    "params = {\n",
    "      'loss' : 'hinge',\n",
    "      'class_weight' : 'balanced',\n",
    "      'random_state' : 123,\n",
    "      'n_jobs' : -1\n",
    "  }\n",
    "hyperparams = {\n",
    "'alpha' : np.logspace(-5,4) \n",
    "  }\n",
    "\n",
    "  \n",
    "classifier4 = SGDClassifier(**params)\n",
    "rscv_SVM = RandomizedSearchCV(estimator = classifier4, param_distributions = hyperparams, n_iter = 10, scoring = 'roc_auc', \n",
    "                          cv = None, return_train_score = True, verbose = 2,\n",
    "                          n_jobs = -1, random_state = 123)\n",
    "\n",
    "rscv_SVM.fit(X_train, y_train)\n",
    "\n",
    "# to see Best Parameter selection\n",
    "print('Best Parameter for SGD-Classifier - SVM find below, ')\n",
    "print(rscv_SVM.best_params_ ) "
   ]
  },
  {
   "cell_type": "code",
   "execution_count": null,
   "metadata": {
    "id": "dp1nNCS-exB7"
   },
   "outputs": [],
   "source": []
  },
  {
   "cell_type": "markdown",
   "metadata": {
    "id": "HRqw6beAzE-5"
   },
   "source": [
    "\n",
    "# <font color=blue > Logistic regression L2 STACK </font>"
   ]
  },
  {
   "cell_type": "code",
   "execution_count": 12,
   "metadata": {
    "colab": {
     "base_uri": "https://localhost:8080/"
    },
    "executionInfo": {
     "elapsed": 521012,
     "status": "ok",
     "timestamp": 1613462315987,
     "user": {
      "displayName": "sathish anantha",
      "photoUrl": "https://lh3.googleusercontent.com/a-/AOh14Ghdw5Sh92a17sXj4ePDAB2diHt3YItsnu17FEdHoBI=s64",
      "userId": "06917965946637727718"
     },
     "user_tz": -330
    },
    "id": "PemLJf2yzHK9",
    "outputId": "aed38267-5bc6-4a8b-b88d-7c445e2d5e0a"
   },
   "outputs": [
    {
     "name": "stdout",
     "output_type": "stream",
     "text": [
      "Fitting 5 folds for each of 10 candidates, totalling 50 fits\n"
     ]
    },
    {
     "name": "stderr",
     "output_type": "stream",
     "text": [
      "[Parallel(n_jobs=-1)]: Using backend LokyBackend with 2 concurrent workers.\n",
      "[Parallel(n_jobs=-1)]: Done  37 tasks      | elapsed:  6.1min\n",
      "[Parallel(n_jobs=-1)]: Done  50 out of  50 | elapsed:  8.3min finished\n"
     ]
    },
    {
     "name": "stdout",
     "output_type": "stream",
     "text": [
      "Best Parameter for SGD-Classifier - Logistic Regression L2 find below, \n",
      "{'alpha': 7.9060432109077015}\n"
     ]
    }
   ],
   "source": [
    "params = {\n",
    "    'loss' : 'log',\n",
    "    'penalty' : 'l2',\n",
    "    'random_state' : 98,\n",
    "    'class_weight' : 'balanced',\n",
    "    'n_jobs' : -1\n",
    "}\n",
    "hyperparams = {\n",
    "'alpha' : np.logspace(-4,2)\n",
    "  }\n",
    "\n",
    "  \n",
    "classifier5 = SGDClassifier(**params)\n",
    "rscv_Log_L2 = RandomizedSearchCV(estimator = classifier5, param_distributions = hyperparams, n_iter = 10, scoring = 'roc_auc', \n",
    "                          cv = None, return_train_score = True, verbose = 2,\n",
    "                          n_jobs = -1, random_state = 123)\n",
    "\n",
    "rscv_Log_L2.fit(X_train, y_train)\n",
    "\n",
    "print('Best Parameter for SGD-Classifier - Logistic Regression L2 find below, ')\n",
    "print(rscv_Log_L2.best_params_ ) "
   ]
  },
  {
   "cell_type": "code",
   "execution_count": null,
   "metadata": {
    "id": "FEy4S3tNz15B"
   },
   "outputs": [],
   "source": []
  },
  {
   "cell_type": "markdown",
   "metadata": {
    "id": "aQ-DwFSRew4S"
   },
   "source": [
    "<pre>\n",
    "Here we using 6 models and used best hyperparameter for both base and Meta model\n",
    "\n",
    "</pre>"
   ]
  },
  {
   "cell_type": "code",
   "execution_count": 15,
   "metadata": {
    "executionInfo": {
     "elapsed": 1468,
     "status": "ok",
     "timestamp": 1613463775989,
     "user": {
      "displayName": "sathish anantha",
      "photoUrl": "https://lh3.googleusercontent.com/a-/AOh14Ghdw5Sh92a17sXj4ePDAB2diHt3YItsnu17FEdHoBI=s64",
      "userId": "06917965946637727718"
     },
     "user_tz": -330
    },
    "id": "am57mH08y38M"
   },
   "outputs": [],
   "source": [
    "\n",
    "def custom_stacking_classifier(x_tr='X_train', y_tr='y_train', x_cv='X_CV',y_cv ='Y_CV',train_model=True):\n",
    "  infile = open('select_features.txt','rb')\n",
    "  selected_features = pickle.load(infile)  \n",
    "  Sk_id_tr = x_tr['SK_ID_CURR']\n",
    "  Sk_id_cv = x_cv['SK_ID_CURR']\n",
    "\n",
    "  x_tr  = x_tr[selected_features].drop('SK_ID_CURR',axis=1)\n",
    "\n",
    "  x_cv = x_cv[selected_features].drop('SK_ID_CURR',axis=1)\n",
    "\n",
    "\n",
    "  ###########################################################################################################################################################\n",
    "  #                                                                         Base- Learner                                                                   #\n",
    "  ###########################################################################################################################################################\n",
    "\n",
    "\n",
    "  #######################################################################################################################################################\n",
    "\n",
    "                                                                              # XGBOOST #\n",
    "  ########################################################################################################################################################\n",
    "  print('XGboost started')\n",
    "  # Initializing Xgboost Classifier\n",
    "  filename_xg = 'XGB_finalized_model.sav' # Save model name\n",
    "  if train_model:\n",
    "    best_param_XG = {'colsample_bylevel': 0.9916557759356903, 'colsample_bynode': 0.3169533655589153, 'colsample_bytree': 0.5846482004341143, \n",
    "                      'gamma': 0.8345255608407902, 'max_depth': 15, 'min_child_weight': 79.94486602836723,\n",
    "                      'reg_alpha': 0.03118709395460912, 'reg_lambda': 0.29822101140883434, 'subsample': 0.546435163449364}\n",
    "    xgbc = XGBClassifier(**best_param_XG)\n",
    "\n",
    "    xgbc.fit(x_tr, y_tr, eval_set= [(x_cv,y_cv)],\n",
    "                    eval_metric='auc', verbose = False, early_stopping_rounds=200)\n",
    "    # save the model to disk -  to save time\n",
    "    pickle.dump(xgbc, open(filename_xg, 'wb'))\n",
    "\n",
    "    #cv_preds_xgboost = np.zeros(x_tr.shape[0])\n",
    "    Xg_boost = xgbc.predict_proba(x_cv, ntree_limit = xgbc.get_booster().best_ntree_limit)[:,1]\n",
    "\n",
    "  else:\n",
    "     # load the model from disk\n",
    "    xgbc = pickle.load(open(filename_xg, 'rb'))   \n",
    "    #cv_preds_xgboost = np.zeros(x_tr.shape[0])\n",
    "    Xg_boost = xgbc.predict_proba(x_cv, ntree_limit = xgbc.get_booster().best_ntree_limit)[:,1]      \n",
    "  gc.collect() \n",
    "\n",
    "  print('XGBOOST Completed')\n",
    "\n",
    "  #######################################################################################################################################################\n",
    "\n",
    "                                                                              # RANDOM_FOREST #\n",
    "  ########################################################################################################################################################\n",
    "  \n",
    "  print('RANDOM FOREST Started')\n",
    "  # Initializing Random Forest classifier\n",
    "  filename_RF = 'RF_finalized_model.sav' # Save model name\n",
    "\n",
    "  if train_model:\n",
    "    best_param_RF = {'max_depth': 17, 'max_samples': 0.7123301813887625, 'min_samples_leaf': 49, 'min_samples_split': 12, 'n_estimators': 500}\n",
    "    classifier2 = RandomForestClassifier(**best_param_RF)\n",
    "    classifier2.fit(x_tr, y_tr)\n",
    "    sig_clf = CalibratedClassifierCV(classifier2, method='sigmoid')\n",
    "    sig_clf.fit(x_tr, y_tr)\n",
    "\n",
    "    # save the model to disk -  to save time\n",
    "    pickle.dump(sig_clf, open(filename_RF, 'wb'))\n",
    "\n",
    "    # Storing Prob Score of Random_forest\n",
    "    #cv_preds_RF = np.zeros(x_tr.shape[0])\n",
    "    RF_prob  = sig_clf.predict_proba(x_cv)[:,1]\n",
    "\n",
    "  else:\n",
    "    # load the model from disk\n",
    "    sig_clf = pickle.load(open(filename_RF, 'rb'))  \n",
    "    RF_prob  = sig_clf.predict_proba(x_cv)[:,1]\n",
    "\n",
    "  gc.collect() \n",
    "  \n",
    "  print('RANDOM FOREST Completed')\n",
    "\n",
    "  #######################################################################################################################################################\n",
    "\n",
    "                                                                              # LIGHT GBM #\n",
    "  ########################################################################################################################################################\n",
    " \n",
    "  print('Light GBM Started')\n",
    "  filename_lgbm = 'lgbm_finalized_model.sav' # Save model name\n",
    "\n",
    "  if train_model:\n",
    "    # Initializing LGM classifier\n",
    "    best_param_LGBM =    params = {'boosting_type': 'gbdt', 'max_depth' : 3,'objective': 'binary','nthread': 5,'num_leaves': 32,'learning_rate': 0.05,'max_bin': 512,\n",
    "      'subsample_for_bin': 200,'subsample': 0.7,'subsample_freq': 1,'colsample_bytree': 0.8,'reg_alpha': 20,'reg_lambda': 20,'min_split_gain': 0.5,\n",
    "      'min_child_weight': 1, 'min_child_samples': 10,'scale_pos_weight': 1,'num_class' : 1,'metric' : 'auc'\n",
    "      }\n",
    "    classifier3 = lgb.LGBMClassifier(**best_param_LGBM)\n",
    "    classifier3.fit(x_tr, y_tr, eval_set= [(x_cv, y_cv)],\n",
    "            eval_metric='auc', verbose = False, early_stopping_rounds=200)\n",
    "    \n",
    "    # save the model to disk -  to save time\n",
    "    pickle.dump(classifier3, open(filename_lgbm, 'wb')) \n",
    "\n",
    "    lgb_prob = classifier3.predict_proba(x_cv, num_iteration = classifier3.best_iteration_)[:,1]\n",
    "\n",
    "  else:\n",
    "     # load the model from disk\n",
    "    classifier3 = pickle.load(open(filename_lgbm, 'rb'))  \n",
    "    lgb_prob = classifier3.predict_proba(x_cv, num_iteration = classifier3.best_iteration_)[:,1]    \n",
    "  gc.collect() \n",
    "\n",
    "  print('Light GBM Completed')\n",
    "\n",
    "  #######################################################################################################################################################\n",
    "\n",
    "                                                                              # SVM #\n",
    "  ########################################################################################################################################################\n",
    "\n",
    "  print('Linear_SVM Started')\n",
    "  filename = 'SVC_finalized_model.sav' # Save model name\n",
    "  if train_model:\n",
    "\n",
    "    params = {\n",
    "          'alpha' : 222.29964825261956,\n",
    "          'loss' : 'hinge',\n",
    "          'class_weight' : 'balanced',\n",
    "          'random_state' : 123,\n",
    "          'n_jobs' : -1\n",
    "      }\n",
    "      \n",
    "    classifier4 = SGDClassifier(**params)\n",
    "\n",
    "    classifier4.fit(x_tr, y_tr)\n",
    "\n",
    "\n",
    "    classifier4 = CalibratedClassifierCV(classifier4, method='sigmoid')\n",
    "    classifier4.fit(x_tr, y_tr)\n",
    "\n",
    "    # save the model to disk -  to save time\n",
    "    pickle.dump(classifier4, open(filename, 'wb'))\n",
    "\n",
    "\n",
    "    classifier4_predicted_prob = classifier4.predict_proba(x_cv)[:,1]\n",
    "\n",
    "  else:  \n",
    "    # load the model from disk\n",
    "    classifier4 = pickle.load(open(filename, 'rb'))\n",
    "    classifier4_predicted_prob = classifier4.predict_proba(x_cv)[:,1]\n",
    "\n",
    "\n",
    "  print('Linear_SVM Completed')\n",
    "\n",
    "  #######################################################################################################################################################\n",
    "\n",
    "                                                                              # Logistic Regression L2 Regularization #\n",
    "  ########################################################################################################################################################\n",
    "\n",
    "  print('Linear_SVM_Log Started') \n",
    "  filename_2 = 'SVM_log_finalized_model.sav' # Save model name\n",
    "  if train_model:\n",
    "  \n",
    "    params = {\n",
    "        'alpha' : 7.9060432109077015,\n",
    "        'loss' : 'log',\n",
    "        'penalty' : 'l2',\n",
    "        'random_state' : 98,\n",
    "        'class_weight' : 'balanced',\n",
    "        'n_jobs' : -1\n",
    "    }\n",
    "\n",
    "      \n",
    "    classifier5 = SGDClassifier(**params)\n",
    "\n",
    "    classifier5.fit(x_tr, y_tr)\n",
    "\n",
    "    classifier5 = CalibratedClassifierCV(classifier5, method='sigmoid')\n",
    "    classifier5.fit(x_tr, y_tr)\n",
    "\n",
    "    # save the model to disk -  to save time\n",
    "    pickle.dump(classifier5, open(filename_2, 'wb'))\n",
    "\n",
    "\n",
    "    classifier5_predicted_prob = classifier5.predict_proba(x_cv)[:,1]\n",
    "\n",
    "  else:  \n",
    "    # load the model from disk\n",
    "    classifier5 = pickle.load(open(filename_2, 'rb'))\n",
    "    classifier5_predicted_prob = classifier5.predict_proba(x_cv)[:,1]\n",
    "\n",
    "\n",
    "  print('Linear_SVM_Log Completed')\n",
    "\n",
    "\n",
    "  #######################################################################################################################################################\n",
    "\n",
    "                                                                              # ExtraTreesClassifier #\n",
    "  ########################################################################################################################################################\n",
    "\n",
    "\n",
    "  print('ExtraTreesClassifier Started')\n",
    "  filename_3 = 'ExtraTreesClassifier_finalized_model.sav' # Save model name\n",
    "  if train_model:\n",
    "    # Initialing ExtraTreesClassifier\n",
    "    best_param_ExtraClass = {'max_depth': 14, 'max_samples': 0.5018366758843366, 'min_samples_leaf': 18, 'min_samples_split': 11, 'n_estimators': 770}\n",
    "    classifier6 = ExtraTreesClassifier(**best_param_ExtraClass, bootstrap = True, class_weight = 'balanced_subsample',\n",
    "                                               n_jobs = -1, random_state = 123, verbose = 0)\n",
    "    # Fit classifier\n",
    "    classifier6.fit(x_tr, y_tr)\n",
    "    \n",
    "    # save the model to disk -  to save time\n",
    "    pickle.dump(classifier6, open(filename_3, 'wb'))\n",
    "\n",
    "    classifier6_predicted_prob = classifier6.predict_proba(x_cv)[:,1]\n",
    "\n",
    "  else:  \n",
    "    # load the model from disk\n",
    "    classifier6 = pickle.load(open(filename_3, 'rb'))\n",
    "    classifier6_predicted_prob = classifier6.predict_proba(x_cv)[:,1]\n",
    "\n",
    "  print('ExtraTreesClassifier Completed')\n",
    "\n",
    "  base_learner = pd.DataFrame({'XGboost_prob': Xg_boost, 'Random_forest_prob':RF_prob, 'lgb_prob':lgb_prob,\n",
    "                               'SVM': classifier4_predicted_prob, 'MLP': classifier5_predicted_prob, 'ExtraTreesClassifier': classifier6_predicted_prob})\n",
    "\n",
    "  return base_learner\n",
    "\n",
    "\n",
    "\n",
    "\n"
   ]
  },
  {
   "cell_type": "code",
   "execution_count": 16,
   "metadata": {
    "colab": {
     "base_uri": "https://localhost:8080/"
    },
    "executionInfo": {
     "elapsed": 2353678,
     "status": "ok",
     "timestamp": 1613466129209,
     "user": {
      "displayName": "sathish anantha",
      "photoUrl": "https://lh3.googleusercontent.com/a-/AOh14Ghdw5Sh92a17sXj4ePDAB2diHt3YItsnu17FEdHoBI=s64",
      "userId": "06917965946637727718"
     },
     "user_tz": -330
    },
    "id": "pUBJqDaCnMxY",
    "outputId": "dca39103-43c2-4c50-ce59-b088f134cbf5"
   },
   "outputs": [
    {
     "name": "stdout",
     "output_type": "stream",
     "text": [
      "XGboost started\n",
      "XGBOOST Completed\n",
      "RANDOM FOREST Started\n",
      "RANDOM FOREST Completed\n",
      "Light GBM Started\n",
      "Light GBM Completed\n",
      "Linear_SVM Started\n",
      "Linear_SVM Completed\n",
      "Linear_SVM_Log Started\n",
      "Linear_SVM_Log Completed\n",
      "ExtraTreesClassifier Started\n",
      "ExtraTreesClassifier Completed\n"
     ]
    }
   ],
   "source": [
    "base_learner_df = custom_stacking_classifier(x_tr=X_train, y_tr=y_train, x_cv=X_val,y_cv =y_val)"
   ]
  },
  {
   "cell_type": "code",
   "execution_count": 17,
   "metadata": {
    "colab": {
     "base_uri": "https://localhost:8080/",
     "height": 204
    },
    "executionInfo": {
     "elapsed": 2037914,
     "status": "ok",
     "timestamp": 1613466129214,
     "user": {
      "displayName": "sathish anantha",
      "photoUrl": "https://lh3.googleusercontent.com/a-/AOh14Ghdw5Sh92a17sXj4ePDAB2diHt3YItsnu17FEdHoBI=s64",
      "userId": "06917965946637727718"
     },
     "user_tz": -330
    },
    "id": "ueKadAY-yv4U",
    "outputId": "c7968f5a-da90-4f23-c7be-f0c8113f9238"
   },
   "outputs": [
    {
     "data": {
      "text/html": [
       "<div>\n",
       "<style scoped>\n",
       "    .dataframe tbody tr th:only-of-type {\n",
       "        vertical-align: middle;\n",
       "    }\n",
       "\n",
       "    .dataframe tbody tr th {\n",
       "        vertical-align: top;\n",
       "    }\n",
       "\n",
       "    .dataframe thead th {\n",
       "        text-align: right;\n",
       "    }\n",
       "</style>\n",
       "<table border=\"1\" class=\"dataframe\">\n",
       "  <thead>\n",
       "    <tr style=\"text-align: right;\">\n",
       "      <th></th>\n",
       "      <th>XGboost_prob</th>\n",
       "      <th>Random_forest_prob</th>\n",
       "      <th>lgb_prob</th>\n",
       "      <th>SVM</th>\n",
       "      <th>MLP</th>\n",
       "      <th>ExtraTreesClassifier</th>\n",
       "      <th>TARGET</th>\n",
       "    </tr>\n",
       "  </thead>\n",
       "  <tbody>\n",
       "    <tr>\n",
       "      <th>0</th>\n",
       "      <td>0.009578</td>\n",
       "      <td>0.023942</td>\n",
       "      <td>0.030757</td>\n",
       "      <td>0.081033</td>\n",
       "      <td>0.081033</td>\n",
       "      <td>0.309220</td>\n",
       "      <td>0</td>\n",
       "    </tr>\n",
       "    <tr>\n",
       "      <th>1</th>\n",
       "      <td>0.044652</td>\n",
       "      <td>0.060012</td>\n",
       "      <td>0.064789</td>\n",
       "      <td>0.081033</td>\n",
       "      <td>0.081033</td>\n",
       "      <td>0.492110</td>\n",
       "      <td>0</td>\n",
       "    </tr>\n",
       "    <tr>\n",
       "      <th>2</th>\n",
       "      <td>0.096358</td>\n",
       "      <td>0.075238</td>\n",
       "      <td>0.067854</td>\n",
       "      <td>0.081033</td>\n",
       "      <td>0.081033</td>\n",
       "      <td>0.501215</td>\n",
       "      <td>1</td>\n",
       "    </tr>\n",
       "    <tr>\n",
       "      <th>3</th>\n",
       "      <td>0.020857</td>\n",
       "      <td>0.037525</td>\n",
       "      <td>0.033224</td>\n",
       "      <td>0.081033</td>\n",
       "      <td>0.081033</td>\n",
       "      <td>0.346737</td>\n",
       "      <td>0</td>\n",
       "    </tr>\n",
       "    <tr>\n",
       "      <th>4</th>\n",
       "      <td>0.040102</td>\n",
       "      <td>0.065698</td>\n",
       "      <td>0.043240</td>\n",
       "      <td>0.081033</td>\n",
       "      <td>0.081033</td>\n",
       "      <td>0.403415</td>\n",
       "      <td>0</td>\n",
       "    </tr>\n",
       "  </tbody>\n",
       "</table>\n",
       "</div>"
      ],
      "text/plain": [
       "   XGboost_prob  Random_forest_prob  ...  ExtraTreesClassifier  TARGET\n",
       "0      0.009578            0.023942  ...              0.309220       0\n",
       "1      0.044652            0.060012  ...              0.492110       0\n",
       "2      0.096358            0.075238  ...              0.501215       1\n",
       "3      0.020857            0.037525  ...              0.346737       0\n",
       "4      0.040102            0.065698  ...              0.403415       0\n",
       "\n",
       "[5 rows x 7 columns]"
      ]
     },
     "execution_count": 17,
     "metadata": {
      "tags": []
     },
     "output_type": "execute_result"
    }
   ],
   "source": [
    "base_learner_df['TARGET'] = y_val\n",
    "base_learner_df.head(5)\n"
   ]
  },
  {
   "cell_type": "code",
   "execution_count": 18,
   "metadata": {
    "executionInfo": {
     "elapsed": 2039680,
     "status": "ok",
     "timestamp": 1613466131413,
     "user": {
      "displayName": "sathish anantha",
      "photoUrl": "https://lh3.googleusercontent.com/a-/AOh14Ghdw5Sh92a17sXj4ePDAB2diHt3YItsnu17FEdHoBI=s64",
      "userId": "06917965946637727718"
     },
     "user_tz": -330
    },
    "id": "XB4qjBmh5PL0"
   },
   "outputs": [],
   "source": [
    "base_learner_df.to_csv('baselearner_Home_credit_Actual_test.csv', index=False)"
   ]
  },
  {
   "cell_type": "code",
   "execution_count": 19,
   "metadata": {
    "colab": {
     "base_uri": "https://localhost:8080/"
    },
    "executionInfo": {
     "elapsed": 2039031,
     "status": "ok",
     "timestamp": 1613466131427,
     "user": {
      "displayName": "sathish anantha",
      "photoUrl": "https://lh3.googleusercontent.com/a-/AOh14Ghdw5Sh92a17sXj4ePDAB2diHt3YItsnu17FEdHoBI=s64",
      "userId": "06917965946637727718"
     },
     "user_tz": -330
    },
    "id": "NllSg0XxBFgr",
    "outputId": "f0a33608-99d0-4638-f284-a953fc877bea"
   },
   "outputs": [
    {
     "name": "stdout",
     "output_type": "stream",
     "text": [
      "Done\n"
     ]
    }
   ],
   "source": [
    "print('Done')"
   ]
  },
  {
   "cell_type": "code",
   "execution_count": 20,
   "metadata": {
    "colab": {
     "base_uri": "https://localhost:8080/",
     "height": 204
    },
    "executionInfo": {
     "elapsed": 2036519,
     "status": "ok",
     "timestamp": 1613466131437,
     "user": {
      "displayName": "sathish anantha",
      "photoUrl": "https://lh3.googleusercontent.com/a-/AOh14Ghdw5Sh92a17sXj4ePDAB2diHt3YItsnu17FEdHoBI=s64",
      "userId": "06917965946637727718"
     },
     "user_tz": -330
    },
    "id": "BGO1nh_0y34u",
    "outputId": "0eb020bc-d5ce-45c3-f584-1df3c55ef651"
   },
   "outputs": [
    {
     "data": {
      "text/html": [
       "<div>\n",
       "<style scoped>\n",
       "    .dataframe tbody tr th:only-of-type {\n",
       "        vertical-align: middle;\n",
       "    }\n",
       "\n",
       "    .dataframe tbody tr th {\n",
       "        vertical-align: top;\n",
       "    }\n",
       "\n",
       "    .dataframe thead th {\n",
       "        text-align: right;\n",
       "    }\n",
       "</style>\n",
       "<table border=\"1\" class=\"dataframe\">\n",
       "  <thead>\n",
       "    <tr style=\"text-align: right;\">\n",
       "      <th></th>\n",
       "      <th>XGboost_prob</th>\n",
       "      <th>Random_forest_prob</th>\n",
       "      <th>lgb_prob</th>\n",
       "      <th>SVM</th>\n",
       "      <th>MLP</th>\n",
       "      <th>ExtraTreesClassifier</th>\n",
       "      <th>TARGET</th>\n",
       "    </tr>\n",
       "  </thead>\n",
       "  <tbody>\n",
       "    <tr>\n",
       "      <th>0</th>\n",
       "      <td>0.009578</td>\n",
       "      <td>0.023942</td>\n",
       "      <td>0.030757</td>\n",
       "      <td>0.081033</td>\n",
       "      <td>0.081033</td>\n",
       "      <td>0.309220</td>\n",
       "      <td>0</td>\n",
       "    </tr>\n",
       "    <tr>\n",
       "      <th>1</th>\n",
       "      <td>0.044652</td>\n",
       "      <td>0.060012</td>\n",
       "      <td>0.064789</td>\n",
       "      <td>0.081033</td>\n",
       "      <td>0.081033</td>\n",
       "      <td>0.492110</td>\n",
       "      <td>0</td>\n",
       "    </tr>\n",
       "    <tr>\n",
       "      <th>2</th>\n",
       "      <td>0.096358</td>\n",
       "      <td>0.075238</td>\n",
       "      <td>0.067854</td>\n",
       "      <td>0.081033</td>\n",
       "      <td>0.081033</td>\n",
       "      <td>0.501215</td>\n",
       "      <td>1</td>\n",
       "    </tr>\n",
       "    <tr>\n",
       "      <th>3</th>\n",
       "      <td>0.020857</td>\n",
       "      <td>0.037525</td>\n",
       "      <td>0.033224</td>\n",
       "      <td>0.081033</td>\n",
       "      <td>0.081033</td>\n",
       "      <td>0.346737</td>\n",
       "      <td>0</td>\n",
       "    </tr>\n",
       "    <tr>\n",
       "      <th>4</th>\n",
       "      <td>0.040102</td>\n",
       "      <td>0.065698</td>\n",
       "      <td>0.043240</td>\n",
       "      <td>0.081033</td>\n",
       "      <td>0.081033</td>\n",
       "      <td>0.403415</td>\n",
       "      <td>0</td>\n",
       "    </tr>\n",
       "  </tbody>\n",
       "</table>\n",
       "</div>"
      ],
      "text/plain": [
       "   XGboost_prob  Random_forest_prob  ...  ExtraTreesClassifier  TARGET\n",
       "0      0.009578            0.023942  ...              0.309220       0\n",
       "1      0.044652            0.060012  ...              0.492110       0\n",
       "2      0.096358            0.075238  ...              0.501215       1\n",
       "3      0.020857            0.037525  ...              0.346737       0\n",
       "4      0.040102            0.065698  ...              0.403415       0\n",
       "\n",
       "[5 rows x 7 columns]"
      ]
     },
     "execution_count": 20,
     "metadata": {
      "tags": []
     },
     "output_type": "execute_result"
    }
   ],
   "source": [
    "base_learner_df.head(5)"
   ]
  },
  {
   "cell_type": "code",
   "execution_count": 22,
   "metadata": {
    "executionInfo": {
     "elapsed": 2024119,
     "status": "ok",
     "timestamp": 1613466131445,
     "user": {
      "displayName": "sathish anantha",
      "photoUrl": "https://lh3.googleusercontent.com/a-/AOh14Ghdw5Sh92a17sXj4ePDAB2diHt3YItsnu17FEdHoBI=s64",
      "userId": "06917965946637727718"
     },
     "user_tz": -330
    },
    "id": "GcT55V7Ty3m0"
   },
   "outputs": [],
   "source": [
    "def meta_model(base_learner_df ='base_learner_df', x_tr='X_train',y_tr='y_train',x_te='x_test',y_te ='y_test',actual_test_data = 'main_test', actual_test= False ):\n",
    "  X = base_learner_df.drop('TARGET',axis=1)\n",
    "  y = base_learner_df['TARGET']\n",
    "\n",
    "  actual_skidr = Actual_test['SK_ID_CURR']\n",
    "  #actual_test_data = Actual_test.drop('SK_ID_CURR',axis=1)\n",
    "\n",
    "  final_model = 'Meta_model.sav'\n",
    "  if not actual_test:\n",
    "    print('Custom_stacking started')\n",
    "    base_learner_df_X_te = custom_stacking_classifier(x_tr=x_tr, y_tr=y_tr, x_cv=x_te,y_cv =y_te,train_model=False)\n",
    "    print('Custom_stacking Done')\n",
    "\n",
    "\n",
    "    weight = np.ones((len(X),), dtype=int)\n",
    "    for i in range(len(X)):\n",
    "        if int(y.iloc[i])== 0:\n",
    "            weight[i]=1\n",
    "        else:\n",
    "            weight[i]=11\n",
    "\n",
    "    train_data=lgb.Dataset(X, label = y, weight= weight )\n",
    "    valid_data=lgb.Dataset(base_learner_df_X_te, label = y_te)\n",
    "    cv_auc_score = []\n",
    "    max_depth = [3, 5, 7, 10,12,15,17,19]\n",
    "    for i in max_depth:\n",
    "\n",
    "      params = {'boosting_type': 'gbdt',\n",
    "            'max_depth' : i,\n",
    "            'objective': 'binary',\n",
    "            'nthread': 5,\n",
    "            'num_leaves': 32,\n",
    "            'learning_rate': 0.05,\n",
    "            'max_bin': 512,\n",
    "            'subsample_for_bin': 200,\n",
    "            'subsample': 0.7,\n",
    "            'subsample_freq': 1,\n",
    "            'colsample_bytree': 0.8,\n",
    "            'reg_alpha': 20,\n",
    "            'reg_lambda': 20,\n",
    "            'min_split_gain': 0.5,\n",
    "            'min_child_weight': 1,\n",
    "            'min_child_samples': 10,\n",
    "            'scale_pos_weight': 1,\n",
    "            'num_class' : 1,\n",
    "            'metric' : 'auc'\n",
    "            }\n",
    "      lgbm = lgb.train(params,\n",
    "              train_data,\n",
    "              2500,\n",
    "              valid_sets=valid_data,\n",
    "              early_stopping_rounds= 1000,\n",
    "              verbose_eval= 10\n",
    "              )\n",
    "      y_pred_prob = lgbm.predict(base_learner_df_X_te)\n",
    "      cv_auc_score.append(roc_auc_score(y_te,y_pred_prob))\n",
    "    print('For  max_depth {0} and some other parameters, cross validation AUC score {1}'.format(i,roc_auc_score(y_test,y_pred_prob)))\n",
    "    print('The optimal  max_depth: ', max_depth[np.argmax(cv_auc_score)])\n",
    "\t\n",
    "\t\n",
    "    # best Model\n",
    "\n",
    "    params = {'boosting_type': 'gbdt',\n",
    "                'max_depth' : max_depth[np.argmax(cv_auc_score)],\n",
    "                'objective': 'binary',\n",
    "                'nthread': 5,\n",
    "                'num_leaves': 32,\n",
    "                'learning_rate': 0.05,\n",
    "                'max_bin': 512,\n",
    "                'subsample_for_bin': 200,\n",
    "                'subsample': 0.7,\n",
    "                'subsample_freq': 1,\n",
    "                'colsample_bytree': 0.8,\n",
    "                'reg_alpha': 20,\n",
    "                'reg_lambda': 20,\n",
    "                'min_split_gain': 0.5,\n",
    "                'min_child_weight': 1,\n",
    "                'min_child_samples': 10,\n",
    "                'scale_pos_weight': 1,\n",
    "                'num_class' : 1,\n",
    "                'metric' : 'auc'\n",
    "                }\n",
    "    lgbm = lgb.train(params,\n",
    "                      train_data,\n",
    "                      2500,\n",
    "                      valid_sets=valid_data,\n",
    "                      early_stopping_rounds= 1000,\n",
    "                      verbose_eval= 10\n",
    "                      )\n",
    "\n",
    "    # save the model to disk -  to save time\n",
    "    pickle.dump(lgbm, open(final_model, 'wb'))\n",
    "\n",
    "\n",
    "    meta_mode_prediction =  lgbm.predict(base_learner_df_X_te)\n",
    "    y_pred = np.ones((len(x_te),), dtype=int)\n",
    "    for i in range(len(meta_mode_prediction)):\n",
    "        if meta_mode_prediction[i]<=0.5:\n",
    "            y_pred[i]=0\n",
    "        else:\n",
    "            y_pred[i]=1\n",
    "    #predicted_proba_test = lgbm.predict_proba(base_learner_df_X_te)[:,1]\n",
    "    print('Prediction Done')\n",
    "\n",
    "\n",
    "    print('=' * 110)\n",
    "    print(\"Test Dataset Results:\")\n",
    "    print(f\"\\tROC-AUC Score = {roc_auc_score(y_te, meta_mode_prediction)}\")\n",
    "    print(f\"\\tPrecision Score = {precision_score(y_te, y_pred)}\")\n",
    "    print(f\"\\tRecall Score = {recall_score(y_te, y_pred)}\")\n",
    "    print(f\"\\tF1_Score  = {f1_score(y_te, y_pred)}\")\n",
    "    plot_confusion_matrix(y_te, y_pred)\n",
    "\n",
    "  else:\n",
    "    # load the model from disk\n",
    "    Final_meta_model = pickle.load(open(final_model, 'rb'))\n",
    "    print('Custom_stacking started')\n",
    "    base_learner_df_X_te = custom_stacking_classifier(x_tr=x_tr, y_tr=y_tr, x_cv=actual_test_data,y_cv =None,train_model=False)\n",
    "    print('Custom_stacking Done')\n",
    "    Final_results= Final_meta_model.predict(base_learner_df_X_te)\n",
    "    store_result  = pd.DataFrame(data = {'SK_ID_CURR' :actual_skidr.values, \n",
    "                      'TARGET' : Final_results})\n",
    "\n",
    "    store_result.to_csv('Stack_classifier_2.csv',index=False)\n",
    "    print('Execution completed')\n"
   ]
  },
  {
   "cell_type": "code",
   "execution_count": 23,
   "metadata": {
    "colab": {
     "base_uri": "https://localhost:8080/",
     "height": 1000
    },
    "executionInfo": {
     "elapsed": 312344,
     "status": "ok",
     "timestamp": 1613466443863,
     "user": {
      "displayName": "sathish anantha",
      "photoUrl": "https://lh3.googleusercontent.com/a-/AOh14Ghdw5Sh92a17sXj4ePDAB2diHt3YItsnu17FEdHoBI=s64",
      "userId": "06917965946637727718"
     },
     "user_tz": -330
    },
    "id": "AibiDNWv98K5",
    "outputId": "a23d896c-3278-47fb-fe88-08ab5e184720"
   },
   "outputs": [
    {
     "name": "stdout",
     "output_type": "stream",
     "text": [
      "Custom_stacking started\n",
      "XGboost started\n",
      "XGBOOST Completed\n",
      "RANDOM FOREST Started\n",
      "RANDOM FOREST Completed\n",
      "Light GBM Started\n",
      "Light GBM Completed\n",
      "Linear_SVM Started\n",
      "Linear_SVM Completed\n",
      "Linear_SVM_Log Started\n",
      "Linear_SVM_Log Completed\n",
      "ExtraTreesClassifier Started\n",
      "ExtraTreesClassifier Completed\n",
      "Custom_stacking Done\n",
      "Training until validation scores don't improve for 1000 rounds.\n",
      "[10]\tvalid_0's auc: 0.768022\n",
      "[20]\tvalid_0's auc: 0.767902\n",
      "[30]\tvalid_0's auc: 0.767877\n",
      "[40]\tvalid_0's auc: 0.767946\n",
      "[50]\tvalid_0's auc: 0.767903\n",
      "[60]\tvalid_0's auc: 0.767931\n",
      "[70]\tvalid_0's auc: 0.767917\n",
      "[80]\tvalid_0's auc: 0.767911\n",
      "[90]\tvalid_0's auc: 0.767912\n",
      "[100]\tvalid_0's auc: 0.767915\n",
      "[110]\tvalid_0's auc: 0.767896\n",
      "[120]\tvalid_0's auc: 0.767875\n",
      "[130]\tvalid_0's auc: 0.76781\n",
      "[140]\tvalid_0's auc: 0.767779\n",
      "[150]\tvalid_0's auc: 0.767759\n",
      "[160]\tvalid_0's auc: 0.767696\n",
      "[170]\tvalid_0's auc: 0.767687\n",
      "[180]\tvalid_0's auc: 0.767669\n",
      "[190]\tvalid_0's auc: 0.767634\n",
      "[200]\tvalid_0's auc: 0.767586\n",
      "[210]\tvalid_0's auc: 0.767551\n",
      "[220]\tvalid_0's auc: 0.767509\n",
      "[230]\tvalid_0's auc: 0.767498\n",
      "[240]\tvalid_0's auc: 0.767441\n",
      "[250]\tvalid_0's auc: 0.767413\n",
      "[260]\tvalid_0's auc: 0.767416\n",
      "[270]\tvalid_0's auc: 0.767379\n",
      "[280]\tvalid_0's auc: 0.767355\n",
      "[290]\tvalid_0's auc: 0.767327\n",
      "[300]\tvalid_0's auc: 0.767297\n",
      "[310]\tvalid_0's auc: 0.767249\n",
      "[320]\tvalid_0's auc: 0.767228\n",
      "[330]\tvalid_0's auc: 0.767173\n",
      "[340]\tvalid_0's auc: 0.767243\n",
      "[350]\tvalid_0's auc: 0.767231\n",
      "[360]\tvalid_0's auc: 0.767174\n",
      "[370]\tvalid_0's auc: 0.767154\n",
      "[380]\tvalid_0's auc: 0.7671\n",
      "[390]\tvalid_0's auc: 0.767097\n",
      "[400]\tvalid_0's auc: 0.767052\n",
      "[410]\tvalid_0's auc: 0.767025\n",
      "[420]\tvalid_0's auc: 0.767004\n",
      "[430]\tvalid_0's auc: 0.766964\n",
      "[440]\tvalid_0's auc: 0.766871\n",
      "[450]\tvalid_0's auc: 0.766851\n",
      "[460]\tvalid_0's auc: 0.766836\n",
      "[470]\tvalid_0's auc: 0.76677\n",
      "[480]\tvalid_0's auc: 0.766761\n",
      "[490]\tvalid_0's auc: 0.766714\n",
      "[500]\tvalid_0's auc: 0.766703\n",
      "[510]\tvalid_0's auc: 0.766639\n",
      "[520]\tvalid_0's auc: 0.766601\n",
      "[530]\tvalid_0's auc: 0.766563\n",
      "[540]\tvalid_0's auc: 0.766532\n",
      "[550]\tvalid_0's auc: 0.766489\n",
      "[560]\tvalid_0's auc: 0.766456\n",
      "[570]\tvalid_0's auc: 0.766497\n",
      "[580]\tvalid_0's auc: 0.76642\n",
      "[590]\tvalid_0's auc: 0.766328\n",
      "[600]\tvalid_0's auc: 0.766291\n",
      "[610]\tvalid_0's auc: 0.766262\n",
      "[620]\tvalid_0's auc: 0.766241\n",
      "[630]\tvalid_0's auc: 0.766268\n",
      "[640]\tvalid_0's auc: 0.766213\n",
      "[650]\tvalid_0's auc: 0.766148\n",
      "[660]\tvalid_0's auc: 0.766141\n",
      "[670]\tvalid_0's auc: 0.766116\n",
      "[680]\tvalid_0's auc: 0.766059\n",
      "[690]\tvalid_0's auc: 0.766044\n",
      "[700]\tvalid_0's auc: 0.766008\n",
      "[710]\tvalid_0's auc: 0.765984\n",
      "[720]\tvalid_0's auc: 0.765968\n",
      "[730]\tvalid_0's auc: 0.765971\n",
      "[740]\tvalid_0's auc: 0.765966\n",
      "[750]\tvalid_0's auc: 0.765881\n",
      "[760]\tvalid_0's auc: 0.765862\n",
      "[770]\tvalid_0's auc: 0.765841\n",
      "[780]\tvalid_0's auc: 0.765814\n",
      "[790]\tvalid_0's auc: 0.765761\n",
      "[800]\tvalid_0's auc: 0.765715\n",
      "[810]\tvalid_0's auc: 0.765687\n",
      "[820]\tvalid_0's auc: 0.765629\n",
      "[830]\tvalid_0's auc: 0.765642\n",
      "[840]\tvalid_0's auc: 0.765624\n",
      "[850]\tvalid_0's auc: 0.765588\n",
      "[860]\tvalid_0's auc: 0.765545\n",
      "[870]\tvalid_0's auc: 0.765554\n",
      "[880]\tvalid_0's auc: 0.765509\n",
      "[890]\tvalid_0's auc: 0.765474\n",
      "[900]\tvalid_0's auc: 0.765427\n",
      "[910]\tvalid_0's auc: 0.765439\n",
      "[920]\tvalid_0's auc: 0.765371\n",
      "[930]\tvalid_0's auc: 0.765336\n",
      "[940]\tvalid_0's auc: 0.765353\n",
      "[950]\tvalid_0's auc: 0.765302\n",
      "[960]\tvalid_0's auc: 0.765307\n",
      "[970]\tvalid_0's auc: 0.765258\n",
      "[980]\tvalid_0's auc: 0.765177\n",
      "[990]\tvalid_0's auc: 0.765216\n",
      "[1000]\tvalid_0's auc: 0.765202\n",
      "[1010]\tvalid_0's auc: 0.765149\n",
      "Early stopping, best iteration is:\n",
      "[10]\tvalid_0's auc: 0.768022\n",
      "Training until validation scores don't improve for 1000 rounds.\n",
      "[10]\tvalid_0's auc: 0.767634\n",
      "[20]\tvalid_0's auc: 0.767685\n",
      "[30]\tvalid_0's auc: 0.767592\n",
      "[40]\tvalid_0's auc: 0.767726\n",
      "[50]\tvalid_0's auc: 0.76763\n",
      "[60]\tvalid_0's auc: 0.767657\n",
      "[70]\tvalid_0's auc: 0.76757\n",
      "[80]\tvalid_0's auc: 0.767503\n",
      "[90]\tvalid_0's auc: 0.767485\n",
      "[100]\tvalid_0's auc: 0.767369\n",
      "[110]\tvalid_0's auc: 0.767344\n",
      "[120]\tvalid_0's auc: 0.767287\n",
      "[130]\tvalid_0's auc: 0.767177\n",
      "[140]\tvalid_0's auc: 0.767112\n",
      "[150]\tvalid_0's auc: 0.767028\n",
      "[160]\tvalid_0's auc: 0.76688\n",
      "[170]\tvalid_0's auc: 0.766849\n",
      "[180]\tvalid_0's auc: 0.76677\n",
      "[190]\tvalid_0's auc: 0.766676\n",
      "[200]\tvalid_0's auc: 0.766574\n",
      "[210]\tvalid_0's auc: 0.766511\n",
      "[220]\tvalid_0's auc: 0.766443\n",
      "[230]\tvalid_0's auc: 0.766329\n",
      "[240]\tvalid_0's auc: 0.766259\n",
      "[250]\tvalid_0's auc: 0.766108\n",
      "[260]\tvalid_0's auc: 0.766028\n",
      "[270]\tvalid_0's auc: 0.765946\n",
      "[280]\tvalid_0's auc: 0.765925\n",
      "[290]\tvalid_0's auc: 0.765828\n",
      "[300]\tvalid_0's auc: 0.765793\n",
      "[310]\tvalid_0's auc: 0.765698\n",
      "[320]\tvalid_0's auc: 0.765542\n",
      "[330]\tvalid_0's auc: 0.765402\n",
      "[340]\tvalid_0's auc: 0.765349\n",
      "[350]\tvalid_0's auc: 0.765291\n",
      "[360]\tvalid_0's auc: 0.765192\n",
      "[370]\tvalid_0's auc: 0.765212\n",
      "[380]\tvalid_0's auc: 0.765106\n",
      "[390]\tvalid_0's auc: 0.765006\n",
      "[400]\tvalid_0's auc: 0.764897\n",
      "[410]\tvalid_0's auc: 0.764897\n",
      "[420]\tvalid_0's auc: 0.764865\n",
      "[430]\tvalid_0's auc: 0.764791\n",
      "[440]\tvalid_0's auc: 0.764706\n",
      "[450]\tvalid_0's auc: 0.764611\n",
      "[460]\tvalid_0's auc: 0.764592\n",
      "[470]\tvalid_0's auc: 0.764519\n",
      "[480]\tvalid_0's auc: 0.764468\n",
      "[490]\tvalid_0's auc: 0.764396\n",
      "[500]\tvalid_0's auc: 0.764324\n",
      "[510]\tvalid_0's auc: 0.764197\n",
      "[520]\tvalid_0's auc: 0.764068\n",
      "[530]\tvalid_0's auc: 0.763998\n",
      "[540]\tvalid_0's auc: 0.763944\n",
      "[550]\tvalid_0's auc: 0.763847\n",
      "[560]\tvalid_0's auc: 0.763751\n",
      "[570]\tvalid_0's auc: 0.763699\n",
      "[580]\tvalid_0's auc: 0.763563\n",
      "[590]\tvalid_0's auc: 0.763452\n",
      "[600]\tvalid_0's auc: 0.763404\n",
      "[610]\tvalid_0's auc: 0.76329\n",
      "[620]\tvalid_0's auc: 0.763237\n",
      "[630]\tvalid_0's auc: 0.763162\n",
      "[640]\tvalid_0's auc: 0.763152\n",
      "[650]\tvalid_0's auc: 0.763043\n",
      "[660]\tvalid_0's auc: 0.762962\n",
      "[670]\tvalid_0's auc: 0.762934\n",
      "[680]\tvalid_0's auc: 0.762892\n",
      "[690]\tvalid_0's auc: 0.762749\n",
      "[700]\tvalid_0's auc: 0.762683\n",
      "[710]\tvalid_0's auc: 0.762562\n",
      "[720]\tvalid_0's auc: 0.762538\n",
      "[730]\tvalid_0's auc: 0.762471\n",
      "[740]\tvalid_0's auc: 0.762398\n",
      "[750]\tvalid_0's auc: 0.7623\n",
      "[760]\tvalid_0's auc: 0.762351\n",
      "[770]\tvalid_0's auc: 0.762258\n",
      "[780]\tvalid_0's auc: 0.7622\n",
      "[790]\tvalid_0's auc: 0.762199\n",
      "[800]\tvalid_0's auc: 0.762114\n",
      "[810]\tvalid_0's auc: 0.762046\n",
      "[820]\tvalid_0's auc: 0.761943\n",
      "[830]\tvalid_0's auc: 0.761913\n",
      "[840]\tvalid_0's auc: 0.761853\n",
      "[850]\tvalid_0's auc: 0.761726\n",
      "[860]\tvalid_0's auc: 0.761748\n",
      "[870]\tvalid_0's auc: 0.76174\n",
      "[880]\tvalid_0's auc: 0.761677\n",
      "[890]\tvalid_0's auc: 0.761694\n",
      "[900]\tvalid_0's auc: 0.761617\n",
      "[910]\tvalid_0's auc: 0.761645\n",
      "[920]\tvalid_0's auc: 0.761595\n",
      "[930]\tvalid_0's auc: 0.761449\n",
      "[940]\tvalid_0's auc: 0.76146\n",
      "[950]\tvalid_0's auc: 0.76136\n",
      "[960]\tvalid_0's auc: 0.761298\n",
      "[970]\tvalid_0's auc: 0.761249\n",
      "[980]\tvalid_0's auc: 0.761126\n",
      "[990]\tvalid_0's auc: 0.761134\n",
      "[1000]\tvalid_0's auc: 0.761093\n",
      "[1010]\tvalid_0's auc: 0.761057\n",
      "[1020]\tvalid_0's auc: 0.761057\n",
      "[1030]\tvalid_0's auc: 0.761012\n",
      "Early stopping, best iteration is:\n",
      "[39]\tvalid_0's auc: 0.767758\n",
      "Training until validation scores don't improve for 1000 rounds.\n",
      "[10]\tvalid_0's auc: 0.767652\n",
      "[20]\tvalid_0's auc: 0.767642\n",
      "[30]\tvalid_0's auc: 0.767582\n",
      "[40]\tvalid_0's auc: 0.767672\n",
      "[50]\tvalid_0's auc: 0.767545\n",
      "[60]\tvalid_0's auc: 0.767484\n",
      "[70]\tvalid_0's auc: 0.767355\n",
      "[80]\tvalid_0's auc: 0.767311\n",
      "[90]\tvalid_0's auc: 0.767247\n",
      "[100]\tvalid_0's auc: 0.767071\n",
      "[110]\tvalid_0's auc: 0.766946\n",
      "[120]\tvalid_0's auc: 0.766802\n",
      "[130]\tvalid_0's auc: 0.766674\n",
      "[140]\tvalid_0's auc: 0.766468\n",
      "[150]\tvalid_0's auc: 0.766303\n",
      "[160]\tvalid_0's auc: 0.766107\n",
      "[170]\tvalid_0's auc: 0.765958\n",
      "[180]\tvalid_0's auc: 0.765889\n",
      "[190]\tvalid_0's auc: 0.765824\n",
      "[200]\tvalid_0's auc: 0.765673\n",
      "[210]\tvalid_0's auc: 0.76558\n",
      "[220]\tvalid_0's auc: 0.765557\n",
      "[230]\tvalid_0's auc: 0.765394\n",
      "[240]\tvalid_0's auc: 0.765185\n",
      "[250]\tvalid_0's auc: 0.765009\n",
      "[260]\tvalid_0's auc: 0.764923\n",
      "[270]\tvalid_0's auc: 0.764834\n",
      "[280]\tvalid_0's auc: 0.764769\n",
      "[290]\tvalid_0's auc: 0.764634\n",
      "[300]\tvalid_0's auc: 0.764536\n",
      "[310]\tvalid_0's auc: 0.764518\n",
      "[320]\tvalid_0's auc: 0.764381\n",
      "[330]\tvalid_0's auc: 0.764207\n",
      "[340]\tvalid_0's auc: 0.764104\n",
      "[350]\tvalid_0's auc: 0.763959\n",
      "[360]\tvalid_0's auc: 0.763886\n",
      "[370]\tvalid_0's auc: 0.763824\n",
      "[380]\tvalid_0's auc: 0.763775\n",
      "[390]\tvalid_0's auc: 0.763707\n",
      "[400]\tvalid_0's auc: 0.763511\n",
      "[410]\tvalid_0's auc: 0.763515\n",
      "[420]\tvalid_0's auc: 0.763386\n",
      "[430]\tvalid_0's auc: 0.76323\n",
      "[440]\tvalid_0's auc: 0.76318\n",
      "[450]\tvalid_0's auc: 0.763057\n",
      "[460]\tvalid_0's auc: 0.762968\n",
      "[470]\tvalid_0's auc: 0.762908\n",
      "[480]\tvalid_0's auc: 0.762892\n",
      "[490]\tvalid_0's auc: 0.76279\n",
      "[500]\tvalid_0's auc: 0.762739\n",
      "[510]\tvalid_0's auc: 0.762628\n",
      "[520]\tvalid_0's auc: 0.762481\n",
      "[530]\tvalid_0's auc: 0.762348\n",
      "[540]\tvalid_0's auc: 0.762268\n",
      "[550]\tvalid_0's auc: 0.762205\n",
      "[560]\tvalid_0's auc: 0.762165\n",
      "[570]\tvalid_0's auc: 0.762169\n",
      "[580]\tvalid_0's auc: 0.762045\n",
      "[590]\tvalid_0's auc: 0.761904\n",
      "[600]\tvalid_0's auc: 0.761823\n",
      "[610]\tvalid_0's auc: 0.76166\n",
      "[620]\tvalid_0's auc: 0.761549\n",
      "[630]\tvalid_0's auc: 0.761443\n",
      "[640]\tvalid_0's auc: 0.761434\n",
      "[650]\tvalid_0's auc: 0.761313\n",
      "[660]\tvalid_0's auc: 0.761233\n",
      "[670]\tvalid_0's auc: 0.761183\n",
      "[680]\tvalid_0's auc: 0.76111\n",
      "[690]\tvalid_0's auc: 0.761038\n",
      "[700]\tvalid_0's auc: 0.760865\n",
      "[710]\tvalid_0's auc: 0.760813\n",
      "[720]\tvalid_0's auc: 0.760752\n",
      "[730]\tvalid_0's auc: 0.760666\n",
      "[740]\tvalid_0's auc: 0.760541\n",
      "[750]\tvalid_0's auc: 0.760441\n",
      "[760]\tvalid_0's auc: 0.760469\n",
      "[770]\tvalid_0's auc: 0.760422\n",
      "[780]\tvalid_0's auc: 0.760415\n",
      "[790]\tvalid_0's auc: 0.760438\n",
      "[800]\tvalid_0's auc: 0.760298\n",
      "[810]\tvalid_0's auc: 0.760215\n",
      "[820]\tvalid_0's auc: 0.760138\n",
      "[830]\tvalid_0's auc: 0.760069\n",
      "[840]\tvalid_0's auc: 0.759935\n",
      "[850]\tvalid_0's auc: 0.759836\n",
      "[860]\tvalid_0's auc: 0.759842\n",
      "[870]\tvalid_0's auc: 0.759837\n",
      "[880]\tvalid_0's auc: 0.759735\n",
      "[890]\tvalid_0's auc: 0.759679\n",
      "[900]\tvalid_0's auc: 0.759544\n",
      "[910]\tvalid_0's auc: 0.759569\n",
      "[920]\tvalid_0's auc: 0.75954\n",
      "[930]\tvalid_0's auc: 0.75936\n",
      "[940]\tvalid_0's auc: 0.759333\n",
      "[950]\tvalid_0's auc: 0.759214\n",
      "[960]\tvalid_0's auc: 0.759091\n",
      "[970]\tvalid_0's auc: 0.759047\n",
      "[980]\tvalid_0's auc: 0.758923\n",
      "[990]\tvalid_0's auc: 0.75895\n",
      "[1000]\tvalid_0's auc: 0.75888\n",
      "[1010]\tvalid_0's auc: 0.758863\n",
      "Early stopping, best iteration is:\n",
      "[11]\tvalid_0's auc: 0.767736\n",
      "Training until validation scores don't improve for 1000 rounds.\n",
      "[10]\tvalid_0's auc: 0.767622\n",
      "[20]\tvalid_0's auc: 0.767661\n",
      "[30]\tvalid_0's auc: 0.767583\n",
      "[40]\tvalid_0's auc: 0.767598\n",
      "[50]\tvalid_0's auc: 0.767457\n",
      "[60]\tvalid_0's auc: 0.767355\n",
      "[70]\tvalid_0's auc: 0.767227\n",
      "[80]\tvalid_0's auc: 0.767223\n",
      "[90]\tvalid_0's auc: 0.767118\n",
      "[100]\tvalid_0's auc: 0.767011\n",
      "[110]\tvalid_0's auc: 0.766934\n",
      "[120]\tvalid_0's auc: 0.766761\n",
      "[130]\tvalid_0's auc: 0.766615\n",
      "[140]\tvalid_0's auc: 0.766443\n",
      "[150]\tvalid_0's auc: 0.766315\n",
      "[160]\tvalid_0's auc: 0.766266\n",
      "[170]\tvalid_0's auc: 0.766109\n",
      "[180]\tvalid_0's auc: 0.766003\n",
      "[190]\tvalid_0's auc: 0.765839\n",
      "[200]\tvalid_0's auc: 0.765756\n",
      "[210]\tvalid_0's auc: 0.765621\n",
      "[220]\tvalid_0's auc: 0.76553\n",
      "[230]\tvalid_0's auc: 0.765316\n",
      "[240]\tvalid_0's auc: 0.765115\n",
      "[250]\tvalid_0's auc: 0.76496\n",
      "[260]\tvalid_0's auc: 0.764912\n",
      "[270]\tvalid_0's auc: 0.764854\n",
      "[280]\tvalid_0's auc: 0.764721\n",
      "[290]\tvalid_0's auc: 0.764555\n",
      "[300]\tvalid_0's auc: 0.764489\n",
      "[310]\tvalid_0's auc: 0.764379\n",
      "[320]\tvalid_0's auc: 0.764236\n",
      "[330]\tvalid_0's auc: 0.76408\n",
      "[340]\tvalid_0's auc: 0.763952\n",
      "[350]\tvalid_0's auc: 0.763852\n",
      "[360]\tvalid_0's auc: 0.763734\n",
      "[370]\tvalid_0's auc: 0.763649\n",
      "[380]\tvalid_0's auc: 0.76361\n",
      "[390]\tvalid_0's auc: 0.763536\n",
      "[400]\tvalid_0's auc: 0.763355\n",
      "[410]\tvalid_0's auc: 0.763345\n",
      "[420]\tvalid_0's auc: 0.763247\n",
      "[430]\tvalid_0's auc: 0.763132\n",
      "[440]\tvalid_0's auc: 0.763037\n",
      "[450]\tvalid_0's auc: 0.762935\n",
      "[460]\tvalid_0's auc: 0.762859\n",
      "[470]\tvalid_0's auc: 0.762751\n",
      "[480]\tvalid_0's auc: 0.762672\n",
      "[490]\tvalid_0's auc: 0.762592\n",
      "[500]\tvalid_0's auc: 0.762523\n",
      "[510]\tvalid_0's auc: 0.762404\n",
      "[520]\tvalid_0's auc: 0.762238\n",
      "[530]\tvalid_0's auc: 0.762002\n",
      "[540]\tvalid_0's auc: 0.761886\n",
      "[550]\tvalid_0's auc: 0.761814\n",
      "[560]\tvalid_0's auc: 0.761687\n",
      "[570]\tvalid_0's auc: 0.76169\n",
      "[580]\tvalid_0's auc: 0.761532\n",
      "[590]\tvalid_0's auc: 0.76143\n",
      "[600]\tvalid_0's auc: 0.761417\n",
      "[610]\tvalid_0's auc: 0.761297\n",
      "[620]\tvalid_0's auc: 0.761223\n",
      "[630]\tvalid_0's auc: 0.761137\n",
      "[640]\tvalid_0's auc: 0.761103\n",
      "[650]\tvalid_0's auc: 0.760923\n",
      "[660]\tvalid_0's auc: 0.760853\n",
      "[670]\tvalid_0's auc: 0.760818\n",
      "[680]\tvalid_0's auc: 0.760743\n",
      "[690]\tvalid_0's auc: 0.76066\n",
      "[700]\tvalid_0's auc: 0.760552\n",
      "[710]\tvalid_0's auc: 0.760509\n",
      "[720]\tvalid_0's auc: 0.760446\n",
      "[730]\tvalid_0's auc: 0.760324\n",
      "[740]\tvalid_0's auc: 0.760171\n",
      "[750]\tvalid_0's auc: 0.76007\n",
      "[760]\tvalid_0's auc: 0.760094\n",
      "[770]\tvalid_0's auc: 0.760007\n",
      "[780]\tvalid_0's auc: 0.759913\n",
      "[790]\tvalid_0's auc: 0.759956\n",
      "[800]\tvalid_0's auc: 0.759844\n",
      "[810]\tvalid_0's auc: 0.759762\n",
      "[820]\tvalid_0's auc: 0.759687\n",
      "[830]\tvalid_0's auc: 0.75963\n",
      "[840]\tvalid_0's auc: 0.759573\n",
      "[850]\tvalid_0's auc: 0.759425\n",
      "[860]\tvalid_0's auc: 0.759403\n",
      "[870]\tvalid_0's auc: 0.759379\n",
      "[880]\tvalid_0's auc: 0.759334\n",
      "[890]\tvalid_0's auc: 0.759298\n",
      "[900]\tvalid_0's auc: 0.759158\n",
      "[910]\tvalid_0's auc: 0.759141\n",
      "[920]\tvalid_0's auc: 0.759099\n",
      "[930]\tvalid_0's auc: 0.758905\n",
      "[940]\tvalid_0's auc: 0.758878\n",
      "[950]\tvalid_0's auc: 0.758768\n",
      "[960]\tvalid_0's auc: 0.758676\n",
      "[970]\tvalid_0's auc: 0.758558\n",
      "[980]\tvalid_0's auc: 0.758424\n",
      "[990]\tvalid_0's auc: 0.758433\n",
      "[1000]\tvalid_0's auc: 0.758423\n",
      "[1010]\tvalid_0's auc: 0.758358\n",
      "[1020]\tvalid_0's auc: 0.758329\n",
      "[1030]\tvalid_0's auc: 0.7583\n",
      "Early stopping, best iteration is:\n",
      "[35]\tvalid_0's auc: 0.767731\n",
      "Training until validation scores don't improve for 1000 rounds.\n",
      "[10]\tvalid_0's auc: 0.767653\n",
      "[20]\tvalid_0's auc: 0.767701\n",
      "[30]\tvalid_0's auc: 0.767654\n",
      "[40]\tvalid_0's auc: 0.767683\n",
      "[50]\tvalid_0's auc: 0.767479\n",
      "[60]\tvalid_0's auc: 0.767426\n",
      "[70]\tvalid_0's auc: 0.767196\n",
      "[80]\tvalid_0's auc: 0.767122\n",
      "[90]\tvalid_0's auc: 0.767074\n",
      "[100]\tvalid_0's auc: 0.766907\n",
      "[110]\tvalid_0's auc: 0.766833\n",
      "[120]\tvalid_0's auc: 0.766749\n",
      "[130]\tvalid_0's auc: 0.766593\n",
      "[140]\tvalid_0's auc: 0.766437\n",
      "[150]\tvalid_0's auc: 0.766366\n",
      "[160]\tvalid_0's auc: 0.76623\n",
      "[170]\tvalid_0's auc: 0.76613\n",
      "[180]\tvalid_0's auc: 0.765987\n",
      "[190]\tvalid_0's auc: 0.765865\n",
      "[200]\tvalid_0's auc: 0.76578\n",
      "[210]\tvalid_0's auc: 0.765644\n",
      "[220]\tvalid_0's auc: 0.765574\n",
      "[230]\tvalid_0's auc: 0.765456\n",
      "[240]\tvalid_0's auc: 0.765217\n",
      "[250]\tvalid_0's auc: 0.765085\n",
      "[260]\tvalid_0's auc: 0.764987\n",
      "[270]\tvalid_0's auc: 0.764925\n",
      "[280]\tvalid_0's auc: 0.764824\n",
      "[290]\tvalid_0's auc: 0.764697\n",
      "[300]\tvalid_0's auc: 0.764675\n",
      "[310]\tvalid_0's auc: 0.764561\n",
      "[320]\tvalid_0's auc: 0.764413\n",
      "[330]\tvalid_0's auc: 0.764157\n",
      "[340]\tvalid_0's auc: 0.764033\n",
      "[350]\tvalid_0's auc: 0.763915\n",
      "[360]\tvalid_0's auc: 0.763805\n",
      "[370]\tvalid_0's auc: 0.763736\n",
      "[380]\tvalid_0's auc: 0.763683\n",
      "[390]\tvalid_0's auc: 0.763626\n",
      "[400]\tvalid_0's auc: 0.763506\n",
      "[410]\tvalid_0's auc: 0.76352\n",
      "[420]\tvalid_0's auc: 0.763411\n",
      "[430]\tvalid_0's auc: 0.763279\n",
      "[440]\tvalid_0's auc: 0.763247\n",
      "[450]\tvalid_0's auc: 0.763129\n",
      "[460]\tvalid_0's auc: 0.763043\n",
      "[470]\tvalid_0's auc: 0.762951\n",
      "[480]\tvalid_0's auc: 0.762879\n",
      "[490]\tvalid_0's auc: 0.762787\n",
      "[500]\tvalid_0's auc: 0.762664\n",
      "[510]\tvalid_0's auc: 0.762533\n",
      "[520]\tvalid_0's auc: 0.762344\n",
      "[530]\tvalid_0's auc: 0.762126\n",
      "[540]\tvalid_0's auc: 0.762024\n",
      "[550]\tvalid_0's auc: 0.761906\n",
      "[560]\tvalid_0's auc: 0.761818\n",
      "[570]\tvalid_0's auc: 0.761836\n",
      "[580]\tvalid_0's auc: 0.761699\n",
      "[590]\tvalid_0's auc: 0.761625\n",
      "[600]\tvalid_0's auc: 0.761546\n",
      "[610]\tvalid_0's auc: 0.761421\n",
      "[620]\tvalid_0's auc: 0.761349\n",
      "[630]\tvalid_0's auc: 0.761201\n",
      "[640]\tvalid_0's auc: 0.761195\n",
      "[650]\tvalid_0's auc: 0.761044\n",
      "[660]\tvalid_0's auc: 0.76101\n",
      "[670]\tvalid_0's auc: 0.761007\n",
      "[680]\tvalid_0's auc: 0.761\n",
      "[690]\tvalid_0's auc: 0.760897\n",
      "[700]\tvalid_0's auc: 0.760786\n",
      "[710]\tvalid_0's auc: 0.760747\n",
      "[720]\tvalid_0's auc: 0.760678\n",
      "[730]\tvalid_0's auc: 0.760577\n",
      "[740]\tvalid_0's auc: 0.760449\n",
      "[750]\tvalid_0's auc: 0.760317\n",
      "[760]\tvalid_0's auc: 0.760362\n",
      "[770]\tvalid_0's auc: 0.760291\n",
      "[780]\tvalid_0's auc: 0.76025\n",
      "[790]\tvalid_0's auc: 0.760261\n",
      "[800]\tvalid_0's auc: 0.760133\n",
      "[810]\tvalid_0's auc: 0.760013\n",
      "[820]\tvalid_0's auc: 0.759878\n",
      "[830]\tvalid_0's auc: 0.759842\n",
      "[840]\tvalid_0's auc: 0.759753\n",
      "[850]\tvalid_0's auc: 0.759671\n",
      "[860]\tvalid_0's auc: 0.759661\n",
      "[870]\tvalid_0's auc: 0.759633\n",
      "[880]\tvalid_0's auc: 0.759542\n",
      "[890]\tvalid_0's auc: 0.75947\n",
      "[900]\tvalid_0's auc: 0.75938\n",
      "[910]\tvalid_0's auc: 0.759398\n",
      "[920]\tvalid_0's auc: 0.759315\n",
      "[930]\tvalid_0's auc: 0.75914\n",
      "[940]\tvalid_0's auc: 0.759148\n",
      "[950]\tvalid_0's auc: 0.759027\n",
      "[960]\tvalid_0's auc: 0.758943\n",
      "[970]\tvalid_0's auc: 0.758854\n",
      "[980]\tvalid_0's auc: 0.758731\n",
      "[990]\tvalid_0's auc: 0.758746\n",
      "[1000]\tvalid_0's auc: 0.758711\n",
      "[1010]\tvalid_0's auc: 0.75866\n",
      "[1020]\tvalid_0's auc: 0.7586\n",
      "[1030]\tvalid_0's auc: 0.758571\n",
      "Early stopping, best iteration is:\n",
      "[37]\tvalid_0's auc: 0.767796\n",
      "Training until validation scores don't improve for 1000 rounds.\n",
      "[10]\tvalid_0's auc: 0.767653\n",
      "[20]\tvalid_0's auc: 0.767701\n",
      "[30]\tvalid_0's auc: 0.767648\n",
      "[40]\tvalid_0's auc: 0.767667\n",
      "[50]\tvalid_0's auc: 0.767475\n",
      "[60]\tvalid_0's auc: 0.76738\n",
      "[70]\tvalid_0's auc: 0.76715\n",
      "[80]\tvalid_0's auc: 0.767153\n",
      "[90]\tvalid_0's auc: 0.767154\n",
      "[100]\tvalid_0's auc: 0.766883\n",
      "[110]\tvalid_0's auc: 0.766831\n",
      "[120]\tvalid_0's auc: 0.76672\n",
      "[130]\tvalid_0's auc: 0.766553\n",
      "[140]\tvalid_0's auc: 0.766374\n",
      "[150]\tvalid_0's auc: 0.766311\n",
      "[160]\tvalid_0's auc: 0.766176\n",
      "[170]\tvalid_0's auc: 0.766014\n",
      "[180]\tvalid_0's auc: 0.76589\n",
      "[190]\tvalid_0's auc: 0.765705\n",
      "[200]\tvalid_0's auc: 0.765531\n",
      "[210]\tvalid_0's auc: 0.765502\n",
      "[220]\tvalid_0's auc: 0.765315\n",
      "[230]\tvalid_0's auc: 0.765197\n",
      "[240]\tvalid_0's auc: 0.764985\n",
      "[250]\tvalid_0's auc: 0.764851\n",
      "[260]\tvalid_0's auc: 0.764809\n",
      "[270]\tvalid_0's auc: 0.764753\n",
      "[280]\tvalid_0's auc: 0.76463\n",
      "[290]\tvalid_0's auc: 0.764508\n",
      "[300]\tvalid_0's auc: 0.764435\n",
      "[310]\tvalid_0's auc: 0.764372\n",
      "[320]\tvalid_0's auc: 0.764226\n",
      "[330]\tvalid_0's auc: 0.764009\n",
      "[340]\tvalid_0's auc: 0.763838\n",
      "[350]\tvalid_0's auc: 0.763671\n",
      "[360]\tvalid_0's auc: 0.763589\n",
      "[370]\tvalid_0's auc: 0.763541\n",
      "[380]\tvalid_0's auc: 0.763401\n",
      "[390]\tvalid_0's auc: 0.763315\n",
      "[400]\tvalid_0's auc: 0.763177\n",
      "[410]\tvalid_0's auc: 0.763219\n",
      "[420]\tvalid_0's auc: 0.763117\n",
      "[430]\tvalid_0's auc: 0.762989\n",
      "[440]\tvalid_0's auc: 0.762897\n",
      "[450]\tvalid_0's auc: 0.762779\n",
      "[460]\tvalid_0's auc: 0.762685\n",
      "[470]\tvalid_0's auc: 0.762617\n",
      "[480]\tvalid_0's auc: 0.762569\n",
      "[490]\tvalid_0's auc: 0.7625\n",
      "[500]\tvalid_0's auc: 0.762468\n",
      "[510]\tvalid_0's auc: 0.76237\n",
      "[520]\tvalid_0's auc: 0.762277\n",
      "[530]\tvalid_0's auc: 0.76207\n",
      "[540]\tvalid_0's auc: 0.761949\n",
      "[550]\tvalid_0's auc: 0.761824\n",
      "[560]\tvalid_0's auc: 0.761741\n",
      "[570]\tvalid_0's auc: 0.761763\n",
      "[580]\tvalid_0's auc: 0.761592\n",
      "[590]\tvalid_0's auc: 0.761417\n",
      "[600]\tvalid_0's auc: 0.761412\n",
      "[610]\tvalid_0's auc: 0.761306\n",
      "[620]\tvalid_0's auc: 0.761196\n",
      "[630]\tvalid_0's auc: 0.761076\n",
      "[640]\tvalid_0's auc: 0.761017\n",
      "[650]\tvalid_0's auc: 0.760858\n",
      "[660]\tvalid_0's auc: 0.760784\n",
      "[670]\tvalid_0's auc: 0.760753\n",
      "[680]\tvalid_0's auc: 0.760737\n",
      "[690]\tvalid_0's auc: 0.76059\n",
      "[700]\tvalid_0's auc: 0.760483\n",
      "[710]\tvalid_0's auc: 0.760402\n",
      "[720]\tvalid_0's auc: 0.760304\n",
      "[730]\tvalid_0's auc: 0.760191\n",
      "[740]\tvalid_0's auc: 0.760049\n",
      "[750]\tvalid_0's auc: 0.759948\n",
      "[760]\tvalid_0's auc: 0.760034\n",
      "[770]\tvalid_0's auc: 0.759932\n",
      "[780]\tvalid_0's auc: 0.759896\n",
      "[790]\tvalid_0's auc: 0.759883\n",
      "[800]\tvalid_0's auc: 0.759825\n",
      "[810]\tvalid_0's auc: 0.759726\n",
      "[820]\tvalid_0's auc: 0.759623\n",
      "[830]\tvalid_0's auc: 0.759593\n",
      "[840]\tvalid_0's auc: 0.759529\n",
      "[850]\tvalid_0's auc: 0.759394\n",
      "[860]\tvalid_0's auc: 0.759383\n",
      "[870]\tvalid_0's auc: 0.759368\n",
      "[880]\tvalid_0's auc: 0.759293\n",
      "[890]\tvalid_0's auc: 0.759246\n",
      "[900]\tvalid_0's auc: 0.759112\n",
      "[910]\tvalid_0's auc: 0.759094\n",
      "[920]\tvalid_0's auc: 0.759042\n",
      "[930]\tvalid_0's auc: 0.758867\n",
      "[940]\tvalid_0's auc: 0.758839\n",
      "[950]\tvalid_0's auc: 0.758746\n",
      "[960]\tvalid_0's auc: 0.758674\n",
      "[970]\tvalid_0's auc: 0.758595\n",
      "[980]\tvalid_0's auc: 0.758463\n",
      "[990]\tvalid_0's auc: 0.758518\n",
      "[1000]\tvalid_0's auc: 0.758451\n",
      "[1010]\tvalid_0's auc: 0.758353\n",
      "[1020]\tvalid_0's auc: 0.758313\n",
      "[1030]\tvalid_0's auc: 0.758248\n",
      "Early stopping, best iteration is:\n",
      "[34]\tvalid_0's auc: 0.767789\n",
      "Training until validation scores don't improve for 1000 rounds.\n",
      "[10]\tvalid_0's auc: 0.767653\n",
      "[20]\tvalid_0's auc: 0.767701\n",
      "[30]\tvalid_0's auc: 0.767648\n",
      "[40]\tvalid_0's auc: 0.767667\n",
      "[50]\tvalid_0's auc: 0.767475\n",
      "[60]\tvalid_0's auc: 0.76738\n",
      "[70]\tvalid_0's auc: 0.76715\n",
      "[80]\tvalid_0's auc: 0.767153\n",
      "[90]\tvalid_0's auc: 0.767154\n",
      "[100]\tvalid_0's auc: 0.766885\n",
      "[110]\tvalid_0's auc: 0.76687\n",
      "[120]\tvalid_0's auc: 0.766791\n",
      "[130]\tvalid_0's auc: 0.766659\n",
      "[140]\tvalid_0's auc: 0.766522\n",
      "[150]\tvalid_0's auc: 0.76647\n",
      "[160]\tvalid_0's auc: 0.766371\n",
      "[170]\tvalid_0's auc: 0.766204\n",
      "[180]\tvalid_0's auc: 0.766035\n",
      "[190]\tvalid_0's auc: 0.765805\n",
      "[200]\tvalid_0's auc: 0.765723\n",
      "[210]\tvalid_0's auc: 0.765507\n",
      "[220]\tvalid_0's auc: 0.765331\n",
      "[230]\tvalid_0's auc: 0.765188\n",
      "[240]\tvalid_0's auc: 0.765028\n",
      "[250]\tvalid_0's auc: 0.764859\n",
      "[260]\tvalid_0's auc: 0.764798\n",
      "[270]\tvalid_0's auc: 0.764685\n",
      "[280]\tvalid_0's auc: 0.7646\n",
      "[290]\tvalid_0's auc: 0.764471\n",
      "[300]\tvalid_0's auc: 0.764387\n",
      "[310]\tvalid_0's auc: 0.764294\n",
      "[320]\tvalid_0's auc: 0.76413\n",
      "[330]\tvalid_0's auc: 0.763997\n",
      "[340]\tvalid_0's auc: 0.763862\n",
      "[350]\tvalid_0's auc: 0.763732\n",
      "[360]\tvalid_0's auc: 0.76361\n",
      "[370]\tvalid_0's auc: 0.763519\n",
      "[380]\tvalid_0's auc: 0.763444\n",
      "[390]\tvalid_0's auc: 0.763329\n",
      "[400]\tvalid_0's auc: 0.763146\n",
      "[410]\tvalid_0's auc: 0.763123\n",
      "[420]\tvalid_0's auc: 0.763063\n",
      "[430]\tvalid_0's auc: 0.76288\n",
      "[440]\tvalid_0's auc: 0.762785\n",
      "[450]\tvalid_0's auc: 0.762622\n",
      "[460]\tvalid_0's auc: 0.762556\n",
      "[470]\tvalid_0's auc: 0.762456\n",
      "[480]\tvalid_0's auc: 0.762413\n",
      "[490]\tvalid_0's auc: 0.762337\n",
      "[500]\tvalid_0's auc: 0.762278\n",
      "[510]\tvalid_0's auc: 0.762093\n",
      "[520]\tvalid_0's auc: 0.761951\n",
      "[530]\tvalid_0's auc: 0.761755\n",
      "[540]\tvalid_0's auc: 0.761611\n",
      "[550]\tvalid_0's auc: 0.761501\n",
      "[560]\tvalid_0's auc: 0.761469\n",
      "[570]\tvalid_0's auc: 0.761477\n",
      "[580]\tvalid_0's auc: 0.761337\n",
      "[590]\tvalid_0's auc: 0.761198\n",
      "[600]\tvalid_0's auc: 0.761179\n",
      "[610]\tvalid_0's auc: 0.76102\n",
      "[620]\tvalid_0's auc: 0.760962\n",
      "[630]\tvalid_0's auc: 0.760863\n",
      "[640]\tvalid_0's auc: 0.760829\n",
      "[650]\tvalid_0's auc: 0.760628\n",
      "[660]\tvalid_0's auc: 0.760575\n",
      "[670]\tvalid_0's auc: 0.76056\n",
      "[680]\tvalid_0's auc: 0.76057\n",
      "[690]\tvalid_0's auc: 0.760494\n",
      "[700]\tvalid_0's auc: 0.760386\n",
      "[710]\tvalid_0's auc: 0.760351\n",
      "[720]\tvalid_0's auc: 0.760269\n",
      "[730]\tvalid_0's auc: 0.760183\n",
      "[740]\tvalid_0's auc: 0.760086\n",
      "[750]\tvalid_0's auc: 0.760005\n",
      "[760]\tvalid_0's auc: 0.760076\n",
      "[770]\tvalid_0's auc: 0.760015\n",
      "[780]\tvalid_0's auc: 0.759861\n",
      "[790]\tvalid_0's auc: 0.759917\n",
      "[800]\tvalid_0's auc: 0.759688\n",
      "[810]\tvalid_0's auc: 0.759628\n",
      "[820]\tvalid_0's auc: 0.759535\n",
      "[830]\tvalid_0's auc: 0.75947\n",
      "[840]\tvalid_0's auc: 0.759368\n",
      "[850]\tvalid_0's auc: 0.759265\n",
      "[860]\tvalid_0's auc: 0.759235\n",
      "[870]\tvalid_0's auc: 0.759187\n",
      "[880]\tvalid_0's auc: 0.759103\n",
      "[890]\tvalid_0's auc: 0.759065\n",
      "[900]\tvalid_0's auc: 0.758933\n",
      "[910]\tvalid_0's auc: 0.758902\n",
      "[920]\tvalid_0's auc: 0.758822\n",
      "[930]\tvalid_0's auc: 0.758604\n",
      "[940]\tvalid_0's auc: 0.758603\n",
      "[950]\tvalid_0's auc: 0.758539\n",
      "[960]\tvalid_0's auc: 0.758477\n",
      "[970]\tvalid_0's auc: 0.758361\n",
      "[980]\tvalid_0's auc: 0.758228\n",
      "[990]\tvalid_0's auc: 0.75828\n",
      "[1000]\tvalid_0's auc: 0.758267\n",
      "[1010]\tvalid_0's auc: 0.758233\n",
      "[1020]\tvalid_0's auc: 0.758184\n",
      "[1030]\tvalid_0's auc: 0.758155\n",
      "Early stopping, best iteration is:\n",
      "[34]\tvalid_0's auc: 0.767789\n",
      "Training until validation scores don't improve for 1000 rounds.\n",
      "[10]\tvalid_0's auc: 0.767653\n",
      "[20]\tvalid_0's auc: 0.767701\n",
      "[30]\tvalid_0's auc: 0.767648\n",
      "[40]\tvalid_0's auc: 0.767667\n",
      "[50]\tvalid_0's auc: 0.767475\n",
      "[60]\tvalid_0's auc: 0.76738\n",
      "[70]\tvalid_0's auc: 0.76715\n",
      "[80]\tvalid_0's auc: 0.767153\n",
      "[90]\tvalid_0's auc: 0.767154\n",
      "[100]\tvalid_0's auc: 0.766885\n",
      "[110]\tvalid_0's auc: 0.76687\n",
      "[120]\tvalid_0's auc: 0.766791\n",
      "[130]\tvalid_0's auc: 0.766659\n",
      "[140]\tvalid_0's auc: 0.766522\n",
      "[150]\tvalid_0's auc: 0.76647\n",
      "[160]\tvalid_0's auc: 0.766371\n",
      "[170]\tvalid_0's auc: 0.766204\n",
      "[180]\tvalid_0's auc: 0.766035\n",
      "[190]\tvalid_0's auc: 0.765805\n",
      "[200]\tvalid_0's auc: 0.765723\n",
      "[210]\tvalid_0's auc: 0.765507\n",
      "[220]\tvalid_0's auc: 0.765331\n",
      "[230]\tvalid_0's auc: 0.765188\n",
      "[240]\tvalid_0's auc: 0.765028\n",
      "[250]\tvalid_0's auc: 0.764859\n",
      "[260]\tvalid_0's auc: 0.764798\n",
      "[270]\tvalid_0's auc: 0.764685\n",
      "[280]\tvalid_0's auc: 0.7646\n",
      "[290]\tvalid_0's auc: 0.764471\n",
      "[300]\tvalid_0's auc: 0.764387\n",
      "[310]\tvalid_0's auc: 0.764294\n",
      "[320]\tvalid_0's auc: 0.76413\n",
      "[330]\tvalid_0's auc: 0.763997\n",
      "[340]\tvalid_0's auc: 0.763862\n",
      "[350]\tvalid_0's auc: 0.763732\n",
      "[360]\tvalid_0's auc: 0.76361\n",
      "[370]\tvalid_0's auc: 0.763519\n",
      "[380]\tvalid_0's auc: 0.763444\n",
      "[390]\tvalid_0's auc: 0.763329\n",
      "[400]\tvalid_0's auc: 0.763146\n",
      "[410]\tvalid_0's auc: 0.763123\n",
      "[420]\tvalid_0's auc: 0.763063\n",
      "[430]\tvalid_0's auc: 0.76288\n",
      "[440]\tvalid_0's auc: 0.762785\n",
      "[450]\tvalid_0's auc: 0.762622\n",
      "[460]\tvalid_0's auc: 0.762556\n",
      "[470]\tvalid_0's auc: 0.762456\n",
      "[480]\tvalid_0's auc: 0.762413\n",
      "[490]\tvalid_0's auc: 0.762337\n",
      "[500]\tvalid_0's auc: 0.762278\n",
      "[510]\tvalid_0's auc: 0.762093\n",
      "[520]\tvalid_0's auc: 0.761951\n",
      "[530]\tvalid_0's auc: 0.761755\n",
      "[540]\tvalid_0's auc: 0.761611\n",
      "[550]\tvalid_0's auc: 0.761501\n",
      "[560]\tvalid_0's auc: 0.761469\n",
      "[570]\tvalid_0's auc: 0.761477\n",
      "[580]\tvalid_0's auc: 0.761337\n",
      "[590]\tvalid_0's auc: 0.761198\n",
      "[600]\tvalid_0's auc: 0.761179\n",
      "[610]\tvalid_0's auc: 0.76102\n",
      "[620]\tvalid_0's auc: 0.760962\n",
      "[630]\tvalid_0's auc: 0.760863\n",
      "[640]\tvalid_0's auc: 0.760829\n",
      "[650]\tvalid_0's auc: 0.760628\n",
      "[660]\tvalid_0's auc: 0.760575\n",
      "[670]\tvalid_0's auc: 0.76056\n",
      "[680]\tvalid_0's auc: 0.76057\n",
      "[690]\tvalid_0's auc: 0.760494\n",
      "[700]\tvalid_0's auc: 0.760386\n",
      "[710]\tvalid_0's auc: 0.760351\n",
      "[720]\tvalid_0's auc: 0.760269\n",
      "[730]\tvalid_0's auc: 0.760183\n",
      "[740]\tvalid_0's auc: 0.760086\n",
      "[750]\tvalid_0's auc: 0.760005\n",
      "[760]\tvalid_0's auc: 0.760076\n",
      "[770]\tvalid_0's auc: 0.760015\n",
      "[780]\tvalid_0's auc: 0.759861\n",
      "[790]\tvalid_0's auc: 0.759917\n",
      "[800]\tvalid_0's auc: 0.759688\n",
      "[810]\tvalid_0's auc: 0.759628\n",
      "[820]\tvalid_0's auc: 0.759535\n",
      "[830]\tvalid_0's auc: 0.75947\n",
      "[840]\tvalid_0's auc: 0.759368\n",
      "[850]\tvalid_0's auc: 0.759265\n",
      "[860]\tvalid_0's auc: 0.759235\n",
      "[870]\tvalid_0's auc: 0.759187\n",
      "[880]\tvalid_0's auc: 0.759103\n",
      "[890]\tvalid_0's auc: 0.759065\n",
      "[900]\tvalid_0's auc: 0.758933\n",
      "[910]\tvalid_0's auc: 0.758902\n",
      "[920]\tvalid_0's auc: 0.758822\n",
      "[930]\tvalid_0's auc: 0.758604\n",
      "[940]\tvalid_0's auc: 0.758603\n",
      "[950]\tvalid_0's auc: 0.758539\n",
      "[960]\tvalid_0's auc: 0.758477\n",
      "[970]\tvalid_0's auc: 0.758361\n",
      "[980]\tvalid_0's auc: 0.758228\n",
      "[990]\tvalid_0's auc: 0.75828\n",
      "[1000]\tvalid_0's auc: 0.758267\n",
      "[1010]\tvalid_0's auc: 0.758233\n",
      "[1020]\tvalid_0's auc: 0.758184\n",
      "[1030]\tvalid_0's auc: 0.758155\n",
      "Early stopping, best iteration is:\n",
      "[34]\tvalid_0's auc: 0.767789\n",
      "For  max_depth 19 and some other parameters, cross validation AUC score 0.7677889200917379\n",
      "The optimal  max_depth:  3\n",
      "Training until validation scores don't improve for 1000 rounds.\n",
      "[10]\tvalid_0's auc: 0.768022\n",
      "[20]\tvalid_0's auc: 0.767902\n",
      "[30]\tvalid_0's auc: 0.767877\n",
      "[40]\tvalid_0's auc: 0.767946\n",
      "[50]\tvalid_0's auc: 0.767903\n",
      "[60]\tvalid_0's auc: 0.767931\n",
      "[70]\tvalid_0's auc: 0.767917\n",
      "[80]\tvalid_0's auc: 0.767911\n",
      "[90]\tvalid_0's auc: 0.767912\n",
      "[100]\tvalid_0's auc: 0.767915\n",
      "[110]\tvalid_0's auc: 0.767896\n",
      "[120]\tvalid_0's auc: 0.767875\n",
      "[130]\tvalid_0's auc: 0.76781\n",
      "[140]\tvalid_0's auc: 0.767779\n",
      "[150]\tvalid_0's auc: 0.767759\n",
      "[160]\tvalid_0's auc: 0.767696\n",
      "[170]\tvalid_0's auc: 0.767687\n",
      "[180]\tvalid_0's auc: 0.767669\n",
      "[190]\tvalid_0's auc: 0.767634\n",
      "[200]\tvalid_0's auc: 0.767586\n",
      "[210]\tvalid_0's auc: 0.767551\n",
      "[220]\tvalid_0's auc: 0.767509\n",
      "[230]\tvalid_0's auc: 0.767498\n",
      "[240]\tvalid_0's auc: 0.767441\n",
      "[250]\tvalid_0's auc: 0.767413\n",
      "[260]\tvalid_0's auc: 0.767416\n",
      "[270]\tvalid_0's auc: 0.767379\n",
      "[280]\tvalid_0's auc: 0.767355\n",
      "[290]\tvalid_0's auc: 0.767327\n",
      "[300]\tvalid_0's auc: 0.767297\n",
      "[310]\tvalid_0's auc: 0.767249\n",
      "[320]\tvalid_0's auc: 0.767228\n",
      "[330]\tvalid_0's auc: 0.767173\n",
      "[340]\tvalid_0's auc: 0.767243\n",
      "[350]\tvalid_0's auc: 0.767231\n",
      "[360]\tvalid_0's auc: 0.767174\n",
      "[370]\tvalid_0's auc: 0.767154\n",
      "[380]\tvalid_0's auc: 0.7671\n",
      "[390]\tvalid_0's auc: 0.767097\n",
      "[400]\tvalid_0's auc: 0.767052\n",
      "[410]\tvalid_0's auc: 0.767025\n",
      "[420]\tvalid_0's auc: 0.767004\n",
      "[430]\tvalid_0's auc: 0.766964\n",
      "[440]\tvalid_0's auc: 0.766871\n",
      "[450]\tvalid_0's auc: 0.766851\n",
      "[460]\tvalid_0's auc: 0.766836\n",
      "[470]\tvalid_0's auc: 0.76677\n",
      "[480]\tvalid_0's auc: 0.766761\n",
      "[490]\tvalid_0's auc: 0.766714\n",
      "[500]\tvalid_0's auc: 0.766703\n",
      "[510]\tvalid_0's auc: 0.766639\n",
      "[520]\tvalid_0's auc: 0.766601\n",
      "[530]\tvalid_0's auc: 0.766563\n",
      "[540]\tvalid_0's auc: 0.766532\n",
      "[550]\tvalid_0's auc: 0.766489\n",
      "[560]\tvalid_0's auc: 0.766456\n",
      "[570]\tvalid_0's auc: 0.766497\n",
      "[580]\tvalid_0's auc: 0.76642\n",
      "[590]\tvalid_0's auc: 0.766328\n",
      "[600]\tvalid_0's auc: 0.766291\n",
      "[610]\tvalid_0's auc: 0.766262\n",
      "[620]\tvalid_0's auc: 0.766241\n",
      "[630]\tvalid_0's auc: 0.766268\n",
      "[640]\tvalid_0's auc: 0.766213\n",
      "[650]\tvalid_0's auc: 0.766148\n",
      "[660]\tvalid_0's auc: 0.766141\n",
      "[670]\tvalid_0's auc: 0.766116\n",
      "[680]\tvalid_0's auc: 0.766059\n",
      "[690]\tvalid_0's auc: 0.766044\n",
      "[700]\tvalid_0's auc: 0.766008\n",
      "[710]\tvalid_0's auc: 0.765984\n",
      "[720]\tvalid_0's auc: 0.765968\n",
      "[730]\tvalid_0's auc: 0.765971\n",
      "[740]\tvalid_0's auc: 0.765966\n",
      "[750]\tvalid_0's auc: 0.765881\n",
      "[760]\tvalid_0's auc: 0.765862\n",
      "[770]\tvalid_0's auc: 0.765841\n",
      "[780]\tvalid_0's auc: 0.765814\n",
      "[790]\tvalid_0's auc: 0.765761\n",
      "[800]\tvalid_0's auc: 0.765715\n",
      "[810]\tvalid_0's auc: 0.765687\n",
      "[820]\tvalid_0's auc: 0.765629\n",
      "[830]\tvalid_0's auc: 0.765642\n",
      "[840]\tvalid_0's auc: 0.765624\n",
      "[850]\tvalid_0's auc: 0.765588\n",
      "[860]\tvalid_0's auc: 0.765545\n",
      "[870]\tvalid_0's auc: 0.765554\n",
      "[880]\tvalid_0's auc: 0.765509\n",
      "[890]\tvalid_0's auc: 0.765474\n",
      "[900]\tvalid_0's auc: 0.765427\n",
      "[910]\tvalid_0's auc: 0.765439\n",
      "[920]\tvalid_0's auc: 0.765371\n",
      "[930]\tvalid_0's auc: 0.765336\n",
      "[940]\tvalid_0's auc: 0.765353\n",
      "[950]\tvalid_0's auc: 0.765302\n",
      "[960]\tvalid_0's auc: 0.765307\n",
      "[970]\tvalid_0's auc: 0.765258\n",
      "[980]\tvalid_0's auc: 0.765177\n",
      "[990]\tvalid_0's auc: 0.765216\n",
      "[1000]\tvalid_0's auc: 0.765202\n",
      "[1010]\tvalid_0's auc: 0.765149\n",
      "Early stopping, best iteration is:\n",
      "[10]\tvalid_0's auc: 0.768022\n",
      "Prediction Done\n",
      "==============================================================================================================\n",
      "Test Dataset Results:\n",
      "\tROC-AUC Score = 0.7680218486798323\n",
      "\tPrecision Score = 0.1837687098059302\n",
      "\tRecall Score = 0.6503524672708962\n",
      "\tF1_Score  = 0.28656372026979055\n"
     ]
    },
    {
     "data": {
      "image/png": "[encoded data removed]",
      "text/plain": [
       "<Figure size 1440x288 with 6 Axes>"
      ]
     },
     "metadata": {
      "needs_background": "light",
      "tags": []
     },
     "output_type": "display_data"
    }
   ],
   "source": [
    "Stack_classifer_result  = meta_model(base_learner_df = base_learner_df, x_tr=X_train,y_tr=y_train,x_te=X_test,y_te =y_test, \n",
    "                                     actual_test_data = Actual_test, actual_test= False)"
   ]
  },
  {
   "cell_type": "code",
   "execution_count": 24,
   "metadata": {
    "colab": {
     "base_uri": "https://localhost:8080/"
    },
    "executionInfo": {
     "elapsed": 54856,
     "status": "ok",
     "timestamp": 1613467490232,
     "user": {
      "displayName": "sathish anantha",
      "photoUrl": "https://lh3.googleusercontent.com/a-/AOh14Ghdw5Sh92a17sXj4ePDAB2diHt3YItsnu17FEdHoBI=s64",
      "userId": "06917965946637727718"
     },
     "user_tz": -330
    },
    "id": "Z4z55WtO98Cy",
    "outputId": "86f681c6-19ed-4095-abb5-9f874c195cdc"
   },
   "outputs": [
    {
     "name": "stdout",
     "output_type": "stream",
     "text": [
      "Custom_stacking started\n",
      "XGboost started\n",
      "XGBOOST Completed\n",
      "RANDOM FOREST Started\n",
      "RANDOM FOREST Completed\n",
      "Light GBM Started\n",
      "Light GBM Completed\n",
      "Linear_SVM Started\n",
      "Linear_SVM Completed\n",
      "Linear_SVM_Log Started\n",
      "Linear_SVM_Log Completed\n",
      "ExtraTreesClassifier Started\n",
      "ExtraTreesClassifier Completed\n",
      "Custom_stacking Done\n",
      "Execution completed\n"
     ]
    }
   ],
   "source": [
    "Stack_classifer_result  = meta_model(base_learner_df = base_learner_df, x_tr=X_train,y_tr=y_train,x_te=X_test,y_te =y_test, \n",
    "                                     actual_test_data = Actual_test, actual_test= True)"
   ]
  },
  {
   "cell_type": "code",
   "execution_count": 1,
   "metadata": {},
   "outputs": [],
   "source": [
    "######################################################################################################"
   ]
  },
  {
   "attachments": {
    "image.png": {
     "image/png": "[encoded data removed]"
    }
   },
   "cell_type": "markdown",
   "metadata": {},
   "source": [
    "![image.png](attachment:image.png)"
   ]
  },
  {
   "cell_type": "code",
   "execution_count": null,
   "metadata": {},
   "outputs": [],
   "source": []
  }
 ],
 "metadata": {
  "accelerator": "GPU",
  "colab": {
   "collapsed_sections": [],
   "name": "Stacking_Homecredit.ipynb",
   "provenance": [
    {
     "file_id": "1V9hhUlB4JOxa_VsZI9WjMnk0GVvwWIJD",
     "timestamp": 1611922324686
    },
    {
     "file_id": "1YMc2sM0MVNyzZcukEiSdGee-I2hV_ikh",
     "timestamp": 1611649076786
    }
   ]
  },
  "kernelspec": {
   "display_name": "Python 3",
   "language": "python",
   "name": "python3"
  },
  "language_info": {
   "codemirror_mode": {
    "name": "ipython",
    "version": 3
   },
   "file_extension": ".py",
   "mimetype": "text/x-python",
   "name": "python",
   "nbconvert_exporter": "python",
   "pygments_lexer": "ipython3",
   "version": "3.8.5"
  }
 },
 "nbformat": 4,
 "nbformat_minor": 1
}
